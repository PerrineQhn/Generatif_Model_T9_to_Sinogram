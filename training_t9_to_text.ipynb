{
 "cells": [
  {
   "cell_type": "markdown",
   "id": "420b0269",
   "metadata": {},
   "source": [
    "# Importation des bibliothèques"
   ]
  },
  {
   "cell_type": "code",
   "execution_count": 1,
   "id": "3de1c406",
   "metadata": {},
   "outputs": [
    {
     "name": "stdout",
     "output_type": "stream",
     "text": [
      "[PhysicalDevice(name='/physical_device:GPU:0', device_type='GPU')]\n",
      "\n",
      "Path to dataset files: /Users/petx/.cache/kagglehub/datasets/noxmoon/chinese-official-daily-news-since-2016/versions/1\n"
     ]
    }
   ],
   "source": [
    "import re\n",
    "import os\n",
    "import time\n",
    "import kagglehub\n",
    "import keras\n",
    "import matplotlib.pyplot as plt\n",
    "import numpy as np\n",
    "import keras_hub\n",
    "import keras_tuner\n",
    "import pandas as pd\n",
    "import pkuseg\n",
    "import tensorflow as tf\n",
    "from datasets import Dataset\n",
    "from pypinyin import lazy_pinyin\n",
    "from keras.layers import (\n",
    "    LSTM,\n",
    "    Dense,\n",
    "    Embedding,\n",
    "    Input,\n",
    "    Dropout,\n",
    "    Concatenate,\n",
    "    Attention,\n",
    "    StringLookup,\n",
    "    TextVectorization,\n",
    ")\n",
    "from keras.models import Model\n",
    "import pickle as pk\n",
    "\n",
    "# Vérifier GPU\n",
    "print(tf.config.list_physical_devices('GPU'))\n",
    "# tf.debugging.set_log_device_placement(True)\n",
    "\n",
    "seg = pkuseg.pkuseg()\n",
    "path = kagglehub.dataset_download(\"noxmoon/chinese-official-daily-news-since-2016\")\n",
    "\n",
    "print(\"\\nPath to dataset files:\", path)"
   ]
  },
  {
   "cell_type": "markdown",
   "id": "c0b3e85f",
   "metadata": {},
   "source": [
    "# Création du corpus"
   ]
  },
  {
   "cell_type": "code",
   "execution_count": 2,
   "id": "c1de02ac",
   "metadata": {},
   "outputs": [
    {
     "name": "stdout",
     "output_type": "stream",
     "text": [
      "Dataset information:\n",
      "<class 'pandas.core.frame.DataFrame'>\n",
      "RangeIndex: 20738 entries, 0 to 20737\n",
      "Data columns (total 4 columns):\n",
      " #   Column    Non-Null Count  Dtype \n",
      "---  ------    --------------  ----- \n",
      " 0   date      20738 non-null  object\n",
      " 1   tag       20738 non-null  object\n",
      " 2   headline  20738 non-null  object\n",
      " 3   content   20631 non-null  object\n",
      "dtypes: object(4)\n",
      "memory usage: 648.2+ KB\n",
      "None\n",
      "Dataset head:\n",
      "         date   tag                                           headline  \\\n",
      "0  2016-01-01  详细全文  陆军领导机构火箭军战略支援部队成立大会在京举行 习近平向中国人民解放军陆军火箭军战略支援部队...   \n",
      "1  2016-01-01  详细全文                             中央军委印发《关于深化国防和军队改革的意见》   \n",
      "2  2016-01-01  详细全文                           《习近平关于严明党的纪律和规矩论述摘编》出版发行   \n",
      "3  2016-01-01  详细全文                                 以实际行动向党中央看齐 向高标准努力   \n",
      "4  2016-01-01  详细全文                                 【年终特稿】关键之年 改革挺进深水区   \n",
      "\n",
      "                                             content  \n",
      "0  中国人民解放军陆军领导机构、中国人民解放军火箭军、中国人民解放军战略支援部队成立大会2015...  \n",
      "1  经中央军委主席习近平批准，中央军委近日印发了《关于深化国防和军队改革的意见》。\\n《意见》强...  \n",
      "2  由中共中央纪律检查委员会、中共中央文献研究室编辑的《习近平关于严明党的纪律和规矩论述摘编》一...  \n",
      "3  广大党员干部正在积极学习习近平总书记在中央政治局专题民主生活会上的重要讲话。大家纷纷表示要把...  \n",
      "4  刚刚过去的2015年，是全面深化改革的关键之年。改革集中发力在制约经济社会发展的深层次矛盾，...  \n"
     ]
    }
   ],
   "source": [
    "dataset = pd.read_csv(path+\"/chinese_news.csv\")\n",
    "# Print dataset information\n",
    "print(\"Dataset information:\")\n",
    "print(dataset.info())\n",
    "# Print dataset head\n",
    "print(\"Dataset head:\")\n",
    "print(dataset.head())"
   ]
  },
  {
   "cell_type": "code",
   "execution_count": 3,
   "id": "cef64267",
   "metadata": {},
   "outputs": [
    {
     "name": "stdout",
     "output_type": "stream",
     "text": [
      "Dataset after preprocessing:\n",
      "                                             content  \\\n",
      "0  中国人民解放军陆军领导机构、中国人民解放军火箭军、中国人民解放军战略支援部队成立大会2015...   \n",
      "1  经中央军委主席习近平批准，中央军委近日印发了《关于深化国防和军队改革的意见》。\\n《意见》强...   \n",
      "2  由中共中央纪律检查委员会、中共中央文献研究室编辑的《习近平关于严明党的纪律和规矩论述摘编》一...   \n",
      "3  广大党员干部正在积极学习习近平总书记在中央政治局专题民主生活会上的重要讲话。大家纷纷表示要把...   \n",
      "4  刚刚过去的2015年，是全面深化改革的关键之年。改革集中发力在制约经济社会发展的深层次矛盾，...   \n",
      "\n",
      "                                     cleaned_content  \n",
      "0  中国人民解放军陆军领导机构、中国人民解放军火箭军、中国人民解放军战略支援部队成立大会年月日在...  \n",
      "1  经中央军委主席习近平批准，中央军委近日印发了《关于深化国防和军队改革的意见》。《意见》强调，...  \n",
      "2  由中共中央纪律检查委员会、中共中央文献研究室编辑的《习近平关于严明党的纪律和规矩论述摘编》一...  \n",
      "3  广大党员干部正在积极学习习近平总书记在中央政治局专题民主生活会上的重要讲话。大家纷纷表示要把...  \n",
      "4  刚刚过去的年，是全面深化改革的关键之年。改革集中发力在制约经济社会发展的深层次矛盾，集中发力...  \n",
      "0    [中国, 人民, 解放军, 陆军, 领导, 机构, 、, 中国, 人民, 解放军, 火箭军,...\n",
      "1    [经, 中央军委, 主席, 习近平, 批准, ，, 中央军委, 近日, 印发, 了, 《, ...\n",
      "2    [由, 中共中央, 纪律, 检查, 委员会, 、, 中共中央, 文献, 研究室, 编辑, 的...\n",
      "3    [广大, 党员, 干部, 正在, 积极, 学习, 习近平, 总书记, 在, 中央, 政治局,...\n",
      "4    [刚刚, 过去, 的, 年, ，, 是, 全面, 深化, 改革, 的, 关键, 之, 年, ...\n",
      "Name: tokens, dtype: object\n"
     ]
    }
   ],
   "source": [
    "# Prétraitement de content (suppression des caractères non chinois, normalisation des espaces)\n",
    "def clean_content(text):\n",
    "    if not isinstance(text, str):\n",
    "        return \"\"\n",
    "    \n",
    "    # Garder les caractères chinois et ponctuation chinoise\n",
    "    text = re.sub(r\"[^\\u4e00-\\u9fff\\u3000-\\u303F\\uff00-\\uffef]\", \"\", text)\n",
    "    \n",
    "    # Normaliser les espaces (rare, mais au cas où)\n",
    "    text = text.replace(\" \", \"\").strip()\n",
    "\n",
    "    return text\n",
    "\n",
    "# Remplacer les valeurs manquantes par une chaîne vide\n",
    "dataset[\"content\"] = dataset[\"content\"].fillna(\"\")\n",
    "\n",
    "# Appliquer le prétraitement à la colonne 'content'\n",
    "dataset['cleaned_content'] = dataset['content'].apply(clean_content)\n",
    "\n",
    "# Filtrer les lignes où 'cleaned_content' est vide\n",
    "dataset = dataset[dataset[\"cleaned_content\"].str.strip() != \"\"].reset_index(drop=True)\n",
    "\n",
    "# Afficher les 5 premières lignes du DataFrame après le prétraitement\n",
    "print(\"Dataset after preprocessing:\")\n",
    "print(dataset[['content', 'cleaned_content']].head())\n",
    "\n",
    "\n",
    "dataset[\"tokens\"] = dataset[\"cleaned_content\"].apply(lambda x: seg.cut(x))\n",
    "\n",
    "# Aperçu\n",
    "print(dataset[\"tokens\"].head())"
   ]
  },
  {
   "cell_type": "markdown",
   "id": "8b65a7bd",
   "metadata": {},
   "source": [
    "Cette cellule convertit le texte segmenté en séquences combinant chaque caractère chinois, son pinyin (romanisation), et son code T9 correspondant (basé sur un mappage prédéfini). Une fonction `pinyin_to_t9` traduit le pinyin en codes T9, et `generer_sequence_contextuell` crée des triplets (caractère|pinyin|T9) pour chaque mot. Les séquences sont stockées dans une nouvelle colonne et sauvegardées dans un fichier CSV"
   ]
  },
  {
   "cell_type": "code",
   "execution_count": 4,
   "id": "add6bdee",
   "metadata": {},
   "outputs": [
    {
     "name": "stdout",
     "output_type": "stream",
     "text": [
      "Dataset after generating sequences:\n",
      "                                             content  \\\n",
      "0  中国人民解放军陆军领导机构、中国人民解放军火箭军、中国人民解放军战略支援部队成立大会2015...   \n",
      "1  经中央军委主席习近平批准，中央军委近日印发了《关于深化国防和军队改革的意见》。\\n《意见》强...   \n",
      "2  由中共中央纪律检查委员会、中共中央文献研究室编辑的《习近平关于严明党的纪律和规矩论述摘编》一...   \n",
      "3  广大党员干部正在积极学习习近平总书记在中央政治局专题民主生活会上的重要讲话。大家纷纷表示要把...   \n",
      "4  刚刚过去的2015年，是全面深化改革的关键之年。改革集中发力在制约经济社会发展的深层次矛盾，...   \n",
      "\n",
      "                             char_pinyin_t9_sequence  \n",
      "0  中|zhong|94664 国|guo|486 人|ren|736 民|min|646 解|...  \n",
      "1  经|jing|5464 中|zhong|94664 央|yang|9264 军|jun|58...  \n",
      "2  由|you|968 中|zhong|94664 共|gong|4664 中|zhong|94...  \n",
      "3  广|guang|48264 大|da|32 党|dang|3264 员|yuan|9826 ...  \n",
      "4  刚|gang|4264 刚|gang|4264 过|guo|486 去|qu|78 的|de...  \n"
     ]
    }
   ],
   "source": [
    "# convert the content column to pinyin\n",
    "t9_map = {\n",
    "    \"@\": \"1\", \".\": \"1\", \":\": \"1\",\n",
    "    \"a\": \"2\", \"b\": \"2\", \"c\": \"2\",\n",
    "    \"d\": \"3\", \"e\": \"3\", \"f\": \"3\",\n",
    "    \"g\": \"4\", \"h\": \"4\", \"i\": \"4\",\n",
    "    \"j\": \"5\", \"k\": \"5\", \"l\": \"5\",\n",
    "    \"m\": \"6\", \"n\": \"6\", \"o\": \"6\",\n",
    "    \"p\": \"7\", \"q\": \"7\", \"r\": \"7\", \"s\": \"7\",\n",
    "    \"t\": \"8\", \"u\": \"8\", \"v\": \"8\",\n",
    "    \"w\": \"9\", \"x\": \"9\", \"y\": \"9\", \"z\": \"9\",\n",
    "    \"1\": \"1\", \"2\": \"2\", \"3\": \"3\", \"4\": \"4\",\n",
    "    \"5\": \"5\", \"6\": \"6\", \"7\": \"7\", \"8\": \"8\",\n",
    "    \"9\": \"9\", \"0\": \"0\", \" \": \"0\",\n",
    "    \"。\":\"。\", \"，\":\"，\", \"？\":\"？\", \"！\":\"！\",\n",
    "}\n",
    "\n",
    "# Fonction pour convertir une chaîne de caractères en code T9\n",
    "def pinyin_to_t9(text):\n",
    "    t9_code = \"\"\n",
    "    if pd.isna(text):\n",
    "        return \"\"\n",
    "    for char in text.lower():\n",
    "        t9_code += t9_map.get(char, char)  # Conserver les caractères non mappés\n",
    "    return t9_code\n",
    "\n",
    "def validate_t9(t9_code):\n",
    "    # Vérifie que le code T9 est numérique (ou vide pour ponctuation)\n",
    "    return bool(re.match(r'^[0-9]+$', t9_code)) or t9_code in {\"。\", \"，\", \"？\", \"！\"}\n",
    "\n",
    "def generer_sequence_contextuelle(row):\n",
    "    tokens = row[\"tokens\"]\n",
    "    sequence = []\n",
    "    for token in tokens:\n",
    "        if not isinstance(token, str) or not re.search(r'[\\u4e00-\\u9fff]', token):\n",
    "            continue\n",
    "        for char, py in zip(token, lazy_pinyin(token)):\n",
    "            t9 = pinyin_to_t9(py)\n",
    "            if validate_t9(t9):  # Vérifier que le T9 est valide\n",
    "                sequence.append(f\"{char}|{py}|{t9}\")\n",
    "    return ' '.join(sequence)\n",
    "\n",
    "dataset[\"char_pinyin_t9_sequence\"] = dataset.apply(generer_sequence_contextuelle, axis=1)\n",
    "\n",
    "# Filtrer les lignes où 'char_pinyin_t9_sequence' est vide\n",
    "dataset = dataset[dataset[\"char_pinyin_t9_sequence\"].str.strip() != \"\"].reset_index(drop=True)\n",
    "\n",
    "# Sauvegarder le fichier\n",
    "if not os.path.exists(\"dataset\"):\n",
    "    os.makedirs(\"dataset\")\n",
    "dataset[[\"char_pinyin_t9_sequence\"]].to_csv(\"dataset/sequences_char_pinyin_t9.csv\", index=False)\n",
    "\n",
    "# Afficher les 5 premières lignes du DataFrame après le prétraitement\n",
    "print(\"Dataset after generating sequences:\")\n",
    "print(dataset[['content', 'char_pinyin_t9_sequence']].head())"
   ]
  },
  {
   "cell_type": "markdown",
   "id": "fc41c160",
   "metadata": {},
   "source": [
    "# Création du dataset pour le modèle"
   ]
  },
  {
   "cell_type": "markdown",
   "id": "862b3266",
   "metadata": {},
   "source": [
    "Cette section prépare les données pour l'entraînement du modèle en définissant des séquences de contexte, d'entrée T9 et de cibles (caractères chinois à prédire). Les données sont structurées dans un format adapté à TensorFlow."
   ]
  },
  {
   "cell_type": "code",
   "execution_count": 5,
   "id": "c0102186",
   "metadata": {},
   "outputs": [],
   "source": [
    "# Initialisation des constantes\n",
    "MAX_CONTEXT_LENGTH = 10  # Longueur max du contexte\n",
    "MAX_T9_LENGTH = 10      # Longueur max de la séquence T9\n",
    "MAX_TARGET_LENGTH = 10  # Longueur max de la séquence cible"
   ]
  },
  {
   "cell_type": "markdown",
   "id": "f98878c7",
   "metadata": {},
   "source": [
    "## Génération des séquences contextuelles\n",
    "Ici, les séquences sont générées à partir des triplets caractère|pinyin|T9. \n",
    "Pour chaque position dans une séquence, elle extrait :\n",
    "\n",
    "- Contexte : les caractères précédents,\n",
    "- Entrée T9 : les codes T9 suivants,\n",
    "- Cible : les caractères à prédire.\n",
    "\n",
    "Les résultats sont organisés dans un DataFrame pour une manipulation facile."
   ]
  },
  {
   "cell_type": "code",
   "execution_count": 6,
   "id": "9336abca",
   "metadata": {},
   "outputs": [],
   "source": [
    "dataset = dataset[[\"char_pinyin_t9_sequence\"]]\n",
    "\n",
    "# Modifier la génération des séquences pour inclure le contexte\n",
    "input_t9_sequences = []\n",
    "context_char_sequences = []\n",
    "target_char_sequences = []\n",
    "\n",
    "for seq in dataset[\"char_pinyin_t9_sequence\"]:\n",
    "    triplets = seq.strip().split(\" \")\n",
    "    t9_seq = []\n",
    "    char_seq = []\n",
    "    \n",
    "    for triplet in triplets:\n",
    "        parts = triplet.split(\"|\")\n",
    "        if len(parts) == 3:\n",
    "            char, _, t9 = parts\n",
    "            if validate_t9(t9):\n",
    "                char_seq.append(char)\n",
    "                t9_seq.append(t9)\n",
    "    \n",
    "    # Créer des paires contexte-T9-cible\n",
    "    for i in range(1, len(t9_seq)):\n",
    "        # Contexte : caractères avant la position i\n",
    "        context = char_seq[:i][-MAX_CONTEXT_LENGTH:]\n",
    "        # Entrée T9 : codes T9 à partir de i\n",
    "        t9_input = t9_seq[i:i+MAX_T9_LENGTH]\n",
    "        # Cible : caractères à partir de i\n",
    "        target = char_seq[i:i+MAX_TARGET_LENGTH]\n",
    "        \n",
    "        if context and t9_input and target:\n",
    "            context_char_sequences.append(\"\".join(context))\n",
    "            input_t9_sequences.append(\" \".join(t9_input))\n",
    "            target_char_sequences.append(\"\".join(target))\n",
    "\n",
    "# Créer un DataFrame\n",
    "df_sequences = pd.DataFrame({\n",
    "    \"context_char_sequence\": context_char_sequences,\n",
    "    \"input_t9_sequence\": input_t9_sequences,\n",
    "    \"target_char_sequence\": target_char_sequences\n",
    "})\n",
    "\n",
    "# Filtrer les séquences vides\n",
    "df_sequences = df_sequences[\n",
    "    (df_sequences[\"context_char_sequence\"].str.strip() != \"\") &\n",
    "    (df_sequences[\"input_t9_sequence\"].str.strip() != \"\") &\n",
    "    (df_sequences[\"target_char_sequence\"].str.strip() != \"\")\n",
    "]"
   ]
  },
  {
   "cell_type": "code",
   "execution_count": 7,
   "id": "f096bbf2",
   "metadata": {},
   "outputs": [
    {
     "name": "stdout",
     "output_type": "stream",
     "text": [
      "DataFrame sequences:\n",
      "  context_char_sequence                          input_t9_sequence  \\\n",
      "0                     中   486 736 646 543 3264 586 58 586 5464 326   \n",
      "1                    中国    736 646 543 3264 586 58 586 5464 326 54   \n",
      "2                   中国人    646 543 3264 586 58 586 5464 326 54 468   \n",
      "3                  中国人民  543 3264 586 58 586 5464 326 54 468 94664   \n",
      "4                 中国人民解  3264 586 58 586 5464 326 54 468 94664 486   \n",
      "\n",
      "  target_char_sequence  \n",
      "0           国人民解放军陆军领导  \n",
      "1           人民解放军陆军领导机  \n",
      "2           民解放军陆军领导机构  \n",
      "3           解放军陆军领导机构中  \n",
      "4           放军陆军领导机构中国  \n"
     ]
    }
   ],
   "source": [
    "print(\"DataFrame sequences:\")\n",
    "print(df_sequences.head())\n",
    "\n",
    "# Sauvegarder le DataFrame dans un fichier pickle\n",
    "df_sequences.to_pickle(\"dataset/sequences_char_pinyin_t9.pkl\")"
   ]
  },
  {
   "cell_type": "markdown",
   "id": "d6434642",
   "metadata": {},
   "source": [
    "## Encoder les données pour Keras"
   ]
  },
  {
   "cell_type": "markdown",
   "id": "7cb7639a",
   "metadata": {},
   "source": [
    "Cette sous-section prépare les données pour l'entraînement avec Keras en les chargeant depuis le fichier pickle et en les convertissant en un dataset TensorFlow optimisé."
   ]
  },
  {
   "cell_type": "code",
   "execution_count": 8,
   "id": "313248e0",
   "metadata": {},
   "outputs": [
    {
     "name": "stdout",
     "output_type": "stream",
     "text": [
      "DataFrame sequences:\n",
      "  context_char_sequence                          input_t9_sequence  \\\n",
      "0                     中   486 736 646 543 3264 586 58 586 5464 326   \n",
      "1                    中国    736 646 543 3264 586 58 586 5464 326 54   \n",
      "2                   中国人    646 543 3264 586 58 586 5464 326 54 468   \n",
      "3                  中国人民  543 3264 586 58 586 5464 326 54 468 94664   \n",
      "4                 中国人民解  3264 586 58 586 5464 326 54 468 94664 486   \n",
      "\n",
      "  target_char_sequence  \n",
      "0           国人民解放军陆军领导  \n",
      "1           人民解放军陆军领导机  \n",
      "2           民解放军陆军领导机构  \n",
      "3           解放军陆军领导机构中  \n",
      "4           放军陆军领导机构中国  \n"
     ]
    }
   ],
   "source": [
    "# Charger le fichier pickle\n",
    "df_sequences = pd.read_pickle(\"dataset/sequences_char_pinyin_t9.pkl\")\n",
    "\n",
    "# Afficher les 5 premières lignes du DataFrame\n",
    "print(\"DataFrame sequences:\")\n",
    "print(df_sequences.head())"
   ]
  },
  {
   "cell_type": "markdown",
   "id": "fe3f15d8",
   "metadata": {},
   "source": [
    "Cette cellule convertit les séquences en un dataset TensorFlow, les regroupe par lots de 256, et optimise les performances avec prefetch. Le dataset est ensuite sauvegardé pour une utilisation future."
   ]
  },
  {
   "cell_type": "code",
   "execution_count": 9,
   "id": "a17958d9",
   "metadata": {},
   "outputs": [
    {
     "name": "stderr",
     "output_type": "stream",
     "text": [
      "2025-04-13 13:43:40.262851: I metal_plugin/src/device/metal_device.cc:1154] Metal device set to: Apple M1\n",
      "2025-04-13 13:43:40.263316: I metal_plugin/src/device/metal_device.cc:296] systemMemory: 8.00 GB\n",
      "2025-04-13 13:43:40.263823: I metal_plugin/src/device/metal_device.cc:313] maxCacheSize: 2.67 GB\n",
      "WARNING: All log messages before absl::InitializeLog() is called are written to STDERR\n",
      "I0000 00:00:1744544620.264268  139425 pluggable_device_factory.cc:305] Could not identify NUMA node of platform GPU ID 0, defaulting to 0. Your kernel may not have been built with NUMA support.\n",
      "I0000 00:00:1744544620.265041  139425 pluggable_device_factory.cc:271] Created TensorFlow device (/job:localhost/replica:0/task:0/device:GPU:0 with 0 MB memory) -> physical PluggableDevice (device: 0, name: METAL, pci bus id: <undefined>)\n"
     ]
    }
   ],
   "source": [
    "tf_dataset = tf.data.Dataset.from_tensor_slices((\n",
    "    df_sequences[\"context_char_sequence\"].values,\n",
    "    df_sequences[\"input_t9_sequence\"].values,\n",
    "    df_sequences[\"target_char_sequence\"].values\n",
    ")).batch(256).prefetch(tf.data.AUTOTUNE)\n",
    "\n",
    "tf_dataset.take(1).get_single_element()\n",
    "\n",
    "# Sauvegarder le tensorflow dataset\n",
    "tf.data.Dataset.save(tf_dataset, \"dataset/tf_dataset\")"
   ]
  },
  {
   "cell_type": "code",
   "execution_count": 10,
   "id": "2fd95d6e",
   "metadata": {},
   "outputs": [
    {
     "name": "stdout",
     "output_type": "stream",
     "text": [
      "Context: [b'\\xe4\\xb8\\xad' b'\\xe4\\xb8\\xad\\xe5\\x9b\\xbd'\n",
      " b'\\xe4\\xb8\\xad\\xe5\\x9b\\xbd\\xe4\\xba\\xba'\n",
      " b'\\xe4\\xb8\\xad\\xe5\\x9b\\xbd\\xe4\\xba\\xba\\xe6\\xb0\\x91'\n",
      " b'\\xe4\\xb8\\xad\\xe5\\x9b\\xbd\\xe4\\xba\\xba\\xe6\\xb0\\x91\\xe8\\xa7\\xa3'\n",
      " b'\\xe4\\xb8\\xad\\xe5\\x9b\\xbd\\xe4\\xba\\xba\\xe6\\xb0\\x91\\xe8\\xa7\\xa3\\xe6\\x94\\xbe'\n",
      " b'\\xe4\\xb8\\xad\\xe5\\x9b\\xbd\\xe4\\xba\\xba\\xe6\\xb0\\x91\\xe8\\xa7\\xa3\\xe6\\x94\\xbe\\xe5\\x86\\x9b'\n",
      " b'\\xe4\\xb8\\xad\\xe5\\x9b\\xbd\\xe4\\xba\\xba\\xe6\\xb0\\x91\\xe8\\xa7\\xa3\\xe6\\x94\\xbe\\xe5\\x86\\x9b\\xe9\\x99\\x86'\n",
      " b'\\xe4\\xb8\\xad\\xe5\\x9b\\xbd\\xe4\\xba\\xba\\xe6\\xb0\\x91\\xe8\\xa7\\xa3\\xe6\\x94\\xbe\\xe5\\x86\\x9b\\xe9\\x99\\x86\\xe5\\x86\\x9b'\n",
      " b'\\xe4\\xb8\\xad\\xe5\\x9b\\xbd\\xe4\\xba\\xba\\xe6\\xb0\\x91\\xe8\\xa7\\xa3\\xe6\\x94\\xbe\\xe5\\x86\\x9b\\xe9\\x99\\x86\\xe5\\x86\\x9b\\xe9\\xa2\\x86'\n",
      " b'\\xe5\\x9b\\xbd\\xe4\\xba\\xba\\xe6\\xb0\\x91\\xe8\\xa7\\xa3\\xe6\\x94\\xbe\\xe5\\x86\\x9b\\xe9\\x99\\x86\\xe5\\x86\\x9b\\xe9\\xa2\\x86\\xe5\\xaf\\xbc'\n",
      " b'\\xe4\\xba\\xba\\xe6\\xb0\\x91\\xe8\\xa7\\xa3\\xe6\\x94\\xbe\\xe5\\x86\\x9b\\xe9\\x99\\x86\\xe5\\x86\\x9b\\xe9\\xa2\\x86\\xe5\\xaf\\xbc\\xe6\\x9c\\xba'\n",
      " b'\\xe6\\xb0\\x91\\xe8\\xa7\\xa3\\xe6\\x94\\xbe\\xe5\\x86\\x9b\\xe9\\x99\\x86\\xe5\\x86\\x9b\\xe9\\xa2\\x86\\xe5\\xaf\\xbc\\xe6\\x9c\\xba\\xe6\\x9e\\x84'\n",
      " b'\\xe8\\xa7\\xa3\\xe6\\x94\\xbe\\xe5\\x86\\x9b\\xe9\\x99\\x86\\xe5\\x86\\x9b\\xe9\\xa2\\x86\\xe5\\xaf\\xbc\\xe6\\x9c\\xba\\xe6\\x9e\\x84\\xe4\\xb8\\xad'\n",
      " b'\\xe6\\x94\\xbe\\xe5\\x86\\x9b\\xe9\\x99\\x86\\xe5\\x86\\x9b\\xe9\\xa2\\x86\\xe5\\xaf\\xbc\\xe6\\x9c\\xba\\xe6\\x9e\\x84\\xe4\\xb8\\xad\\xe5\\x9b\\xbd'\n",
      " b'\\xe5\\x86\\x9b\\xe9\\x99\\x86\\xe5\\x86\\x9b\\xe9\\xa2\\x86\\xe5\\xaf\\xbc\\xe6\\x9c\\xba\\xe6\\x9e\\x84\\xe4\\xb8\\xad\\xe5\\x9b\\xbd\\xe4\\xba\\xba'\n",
      " b'\\xe9\\x99\\x86\\xe5\\x86\\x9b\\xe9\\xa2\\x86\\xe5\\xaf\\xbc\\xe6\\x9c\\xba\\xe6\\x9e\\x84\\xe4\\xb8\\xad\\xe5\\x9b\\xbd\\xe4\\xba\\xba\\xe6\\xb0\\x91'\n",
      " b'\\xe5\\x86\\x9b\\xe9\\xa2\\x86\\xe5\\xaf\\xbc\\xe6\\x9c\\xba\\xe6\\x9e\\x84\\xe4\\xb8\\xad\\xe5\\x9b\\xbd\\xe4\\xba\\xba\\xe6\\xb0\\x91\\xe8\\xa7\\xa3'\n",
      " b'\\xe9\\xa2\\x86\\xe5\\xaf\\xbc\\xe6\\x9c\\xba\\xe6\\x9e\\x84\\xe4\\xb8\\xad\\xe5\\x9b\\xbd\\xe4\\xba\\xba\\xe6\\xb0\\x91\\xe8\\xa7\\xa3\\xe6\\x94\\xbe'\n",
      " b'\\xe5\\xaf\\xbc\\xe6\\x9c\\xba\\xe6\\x9e\\x84\\xe4\\xb8\\xad\\xe5\\x9b\\xbd\\xe4\\xba\\xba\\xe6\\xb0\\x91\\xe8\\xa7\\xa3\\xe6\\x94\\xbe\\xe5\\x86\\x9b'\n",
      " b'\\xe6\\x9c\\xba\\xe6\\x9e\\x84\\xe4\\xb8\\xad\\xe5\\x9b\\xbd\\xe4\\xba\\xba\\xe6\\xb0\\x91\\xe8\\xa7\\xa3\\xe6\\x94\\xbe\\xe5\\x86\\x9b\\xe7\\x81\\xab'\n",
      " b'\\xe6\\x9e\\x84\\xe4\\xb8\\xad\\xe5\\x9b\\xbd\\xe4\\xba\\xba\\xe6\\xb0\\x91\\xe8\\xa7\\xa3\\xe6\\x94\\xbe\\xe5\\x86\\x9b\\xe7\\x81\\xab\\xe7\\xae\\xad'\n",
      " b'\\xe4\\xb8\\xad\\xe5\\x9b\\xbd\\xe4\\xba\\xba\\xe6\\xb0\\x91\\xe8\\xa7\\xa3\\xe6\\x94\\xbe\\xe5\\x86\\x9b\\xe7\\x81\\xab\\xe7\\xae\\xad\\xe5\\x86\\x9b'\n",
      " b'\\xe5\\x9b\\xbd\\xe4\\xba\\xba\\xe6\\xb0\\x91\\xe8\\xa7\\xa3\\xe6\\x94\\xbe\\xe5\\x86\\x9b\\xe7\\x81\\xab\\xe7\\xae\\xad\\xe5\\x86\\x9b\\xe4\\xb8\\xad'\n",
      " b'\\xe4\\xba\\xba\\xe6\\xb0\\x91\\xe8\\xa7\\xa3\\xe6\\x94\\xbe\\xe5\\x86\\x9b\\xe7\\x81\\xab\\xe7\\xae\\xad\\xe5\\x86\\x9b\\xe4\\xb8\\xad\\xe5\\x9b\\xbd'\n",
      " b'\\xe6\\xb0\\x91\\xe8\\xa7\\xa3\\xe6\\x94\\xbe\\xe5\\x86\\x9b\\xe7\\x81\\xab\\xe7\\xae\\xad\\xe5\\x86\\x9b\\xe4\\xb8\\xad\\xe5\\x9b\\xbd\\xe4\\xba\\xba'\n",
      " b'\\xe8\\xa7\\xa3\\xe6\\x94\\xbe\\xe5\\x86\\x9b\\xe7\\x81\\xab\\xe7\\xae\\xad\\xe5\\x86\\x9b\\xe4\\xb8\\xad\\xe5\\x9b\\xbd\\xe4\\xba\\xba\\xe6\\xb0\\x91'\n",
      " b'\\xe6\\x94\\xbe\\xe5\\x86\\x9b\\xe7\\x81\\xab\\xe7\\xae\\xad\\xe5\\x86\\x9b\\xe4\\xb8\\xad\\xe5\\x9b\\xbd\\xe4\\xba\\xba\\xe6\\xb0\\x91\\xe8\\xa7\\xa3'\n",
      " b'\\xe5\\x86\\x9b\\xe7\\x81\\xab\\xe7\\xae\\xad\\xe5\\x86\\x9b\\xe4\\xb8\\xad\\xe5\\x9b\\xbd\\xe4\\xba\\xba\\xe6\\xb0\\x91\\xe8\\xa7\\xa3\\xe6\\x94\\xbe'\n",
      " b'\\xe7\\x81\\xab\\xe7\\xae\\xad\\xe5\\x86\\x9b\\xe4\\xb8\\xad\\xe5\\x9b\\xbd\\xe4\\xba\\xba\\xe6\\xb0\\x91\\xe8\\xa7\\xa3\\xe6\\x94\\xbe\\xe5\\x86\\x9b'\n",
      " b'\\xe7\\xae\\xad\\xe5\\x86\\x9b\\xe4\\xb8\\xad\\xe5\\x9b\\xbd\\xe4\\xba\\xba\\xe6\\xb0\\x91\\xe8\\xa7\\xa3\\xe6\\x94\\xbe\\xe5\\x86\\x9b\\xe6\\x88\\x98'\n",
      " b'\\xe5\\x86\\x9b\\xe4\\xb8\\xad\\xe5\\x9b\\xbd\\xe4\\xba\\xba\\xe6\\xb0\\x91\\xe8\\xa7\\xa3\\xe6\\x94\\xbe\\xe5\\x86\\x9b\\xe6\\x88\\x98\\xe7\\x95\\xa5'\n",
      " b'\\xe4\\xb8\\xad\\xe5\\x9b\\xbd\\xe4\\xba\\xba\\xe6\\xb0\\x91\\xe8\\xa7\\xa3\\xe6\\x94\\xbe\\xe5\\x86\\x9b\\xe6\\x88\\x98\\xe7\\x95\\xa5\\xe6\\x94\\xaf'\n",
      " b'\\xe5\\x9b\\xbd\\xe4\\xba\\xba\\xe6\\xb0\\x91\\xe8\\xa7\\xa3\\xe6\\x94\\xbe\\xe5\\x86\\x9b\\xe6\\x88\\x98\\xe7\\x95\\xa5\\xe6\\x94\\xaf\\xe6\\x8f\\xb4'\n",
      " b'\\xe4\\xba\\xba\\xe6\\xb0\\x91\\xe8\\xa7\\xa3\\xe6\\x94\\xbe\\xe5\\x86\\x9b\\xe6\\x88\\x98\\xe7\\x95\\xa5\\xe6\\x94\\xaf\\xe6\\x8f\\xb4\\xe9\\x83\\xa8'\n",
      " b'\\xe6\\xb0\\x91\\xe8\\xa7\\xa3\\xe6\\x94\\xbe\\xe5\\x86\\x9b\\xe6\\x88\\x98\\xe7\\x95\\xa5\\xe6\\x94\\xaf\\xe6\\x8f\\xb4\\xe9\\x83\\xa8\\xe9\\x98\\x9f'\n",
      " b'\\xe8\\xa7\\xa3\\xe6\\x94\\xbe\\xe5\\x86\\x9b\\xe6\\x88\\x98\\xe7\\x95\\xa5\\xe6\\x94\\xaf\\xe6\\x8f\\xb4\\xe9\\x83\\xa8\\xe9\\x98\\x9f\\xe6\\x88\\x90'\n",
      " b'\\xe6\\x94\\xbe\\xe5\\x86\\x9b\\xe6\\x88\\x98\\xe7\\x95\\xa5\\xe6\\x94\\xaf\\xe6\\x8f\\xb4\\xe9\\x83\\xa8\\xe9\\x98\\x9f\\xe6\\x88\\x90\\xe7\\xab\\x8b'\n",
      " b'\\xe5\\x86\\x9b\\xe6\\x88\\x98\\xe7\\x95\\xa5\\xe6\\x94\\xaf\\xe6\\x8f\\xb4\\xe9\\x83\\xa8\\xe9\\x98\\x9f\\xe6\\x88\\x90\\xe7\\xab\\x8b\\xe5\\xa4\\xa7'\n",
      " b'\\xe6\\x88\\x98\\xe7\\x95\\xa5\\xe6\\x94\\xaf\\xe6\\x8f\\xb4\\xe9\\x83\\xa8\\xe9\\x98\\x9f\\xe6\\x88\\x90\\xe7\\xab\\x8b\\xe5\\xa4\\xa7\\xe4\\xbc\\x9a'\n",
      " b'\\xe7\\x95\\xa5\\xe6\\x94\\xaf\\xe6\\x8f\\xb4\\xe9\\x83\\xa8\\xe9\\x98\\x9f\\xe6\\x88\\x90\\xe7\\xab\\x8b\\xe5\\xa4\\xa7\\xe4\\xbc\\x9a\\xe5\\xb9\\xb4'\n",
      " b'\\xe6\\x94\\xaf\\xe6\\x8f\\xb4\\xe9\\x83\\xa8\\xe9\\x98\\x9f\\xe6\\x88\\x90\\xe7\\xab\\x8b\\xe5\\xa4\\xa7\\xe4\\xbc\\x9a\\xe5\\xb9\\xb4\\xe6\\x9c\\x88'\n",
      " b'\\xe6\\x8f\\xb4\\xe9\\x83\\xa8\\xe9\\x98\\x9f\\xe6\\x88\\x90\\xe7\\xab\\x8b\\xe5\\xa4\\xa7\\xe4\\xbc\\x9a\\xe5\\xb9\\xb4\\xe6\\x9c\\x88\\xe6\\x97\\xa5'\n",
      " b'\\xe9\\x83\\xa8\\xe9\\x98\\x9f\\xe6\\x88\\x90\\xe7\\xab\\x8b\\xe5\\xa4\\xa7\\xe4\\xbc\\x9a\\xe5\\xb9\\xb4\\xe6\\x9c\\x88\\xe6\\x97\\xa5\\xe5\\x9c\\xa8'\n",
      " b'\\xe9\\x98\\x9f\\xe6\\x88\\x90\\xe7\\xab\\x8b\\xe5\\xa4\\xa7\\xe4\\xbc\\x9a\\xe5\\xb9\\xb4\\xe6\\x9c\\x88\\xe6\\x97\\xa5\\xe5\\x9c\\xa8\\xe5\\x85\\xab'\n",
      " b'\\xe6\\x88\\x90\\xe7\\xab\\x8b\\xe5\\xa4\\xa7\\xe4\\xbc\\x9a\\xe5\\xb9\\xb4\\xe6\\x9c\\x88\\xe6\\x97\\xa5\\xe5\\x9c\\xa8\\xe5\\x85\\xab\\xe4\\xb8\\x80'\n",
      " b'\\xe7\\xab\\x8b\\xe5\\xa4\\xa7\\xe4\\xbc\\x9a\\xe5\\xb9\\xb4\\xe6\\x9c\\x88\\xe6\\x97\\xa5\\xe5\\x9c\\xa8\\xe5\\x85\\xab\\xe4\\xb8\\x80\\xe5\\xa4\\xa7'\n",
      " b'\\xe5\\xa4\\xa7\\xe4\\xbc\\x9a\\xe5\\xb9\\xb4\\xe6\\x9c\\x88\\xe6\\x97\\xa5\\xe5\\x9c\\xa8\\xe5\\x85\\xab\\xe4\\xb8\\x80\\xe5\\xa4\\xa7\\xe6\\xa5\\xbc'\n",
      " b'\\xe4\\xbc\\x9a\\xe5\\xb9\\xb4\\xe6\\x9c\\x88\\xe6\\x97\\xa5\\xe5\\x9c\\xa8\\xe5\\x85\\xab\\xe4\\xb8\\x80\\xe5\\xa4\\xa7\\xe6\\xa5\\xbc\\xe9\\x9a\\x86'\n",
      " b'\\xe5\\xb9\\xb4\\xe6\\x9c\\x88\\xe6\\x97\\xa5\\xe5\\x9c\\xa8\\xe5\\x85\\xab\\xe4\\xb8\\x80\\xe5\\xa4\\xa7\\xe6\\xa5\\xbc\\xe9\\x9a\\x86\\xe9\\x87\\x8d'\n",
      " b'\\xe6\\x9c\\x88\\xe6\\x97\\xa5\\xe5\\x9c\\xa8\\xe5\\x85\\xab\\xe4\\xb8\\x80\\xe5\\xa4\\xa7\\xe6\\xa5\\xbc\\xe9\\x9a\\x86\\xe9\\x87\\x8d\\xe4\\xb8\\xbe'\n",
      " b'\\xe6\\x97\\xa5\\xe5\\x9c\\xa8\\xe5\\x85\\xab\\xe4\\xb8\\x80\\xe5\\xa4\\xa7\\xe6\\xa5\\xbc\\xe9\\x9a\\x86\\xe9\\x87\\x8d\\xe4\\xb8\\xbe\\xe8\\xa1\\x8c'\n",
      " b'\\xe5\\x9c\\xa8\\xe5\\x85\\xab\\xe4\\xb8\\x80\\xe5\\xa4\\xa7\\xe6\\xa5\\xbc\\xe9\\x9a\\x86\\xe9\\x87\\x8d\\xe4\\xb8\\xbe\\xe8\\xa1\\x8c\\xe4\\xb8\\xad'\n",
      " b'\\xe5\\x85\\xab\\xe4\\xb8\\x80\\xe5\\xa4\\xa7\\xe6\\xa5\\xbc\\xe9\\x9a\\x86\\xe9\\x87\\x8d\\xe4\\xb8\\xbe\\xe8\\xa1\\x8c\\xe4\\xb8\\xad\\xe5\\x85\\xb1'\n",
      " b'\\xe4\\xb8\\x80\\xe5\\xa4\\xa7\\xe6\\xa5\\xbc\\xe9\\x9a\\x86\\xe9\\x87\\x8d\\xe4\\xb8\\xbe\\xe8\\xa1\\x8c\\xe4\\xb8\\xad\\xe5\\x85\\xb1\\xe4\\xb8\\xad'\n",
      " b'\\xe5\\xa4\\xa7\\xe6\\xa5\\xbc\\xe9\\x9a\\x86\\xe9\\x87\\x8d\\xe4\\xb8\\xbe\\xe8\\xa1\\x8c\\xe4\\xb8\\xad\\xe5\\x85\\xb1\\xe4\\xb8\\xad\\xe5\\xa4\\xae'\n",
      " b'\\xe6\\xa5\\xbc\\xe9\\x9a\\x86\\xe9\\x87\\x8d\\xe4\\xb8\\xbe\\xe8\\xa1\\x8c\\xe4\\xb8\\xad\\xe5\\x85\\xb1\\xe4\\xb8\\xad\\xe5\\xa4\\xae\\xe6\\x80\\xbb'\n",
      " b'\\xe9\\x9a\\x86\\xe9\\x87\\x8d\\xe4\\xb8\\xbe\\xe8\\xa1\\x8c\\xe4\\xb8\\xad\\xe5\\x85\\xb1\\xe4\\xb8\\xad\\xe5\\xa4\\xae\\xe6\\x80\\xbb\\xe4\\xb9\\xa6'\n",
      " b'\\xe9\\x87\\x8d\\xe4\\xb8\\xbe\\xe8\\xa1\\x8c\\xe4\\xb8\\xad\\xe5\\x85\\xb1\\xe4\\xb8\\xad\\xe5\\xa4\\xae\\xe6\\x80\\xbb\\xe4\\xb9\\xa6\\xe8\\xae\\xb0'\n",
      " b'\\xe4\\xb8\\xbe\\xe8\\xa1\\x8c\\xe4\\xb8\\xad\\xe5\\x85\\xb1\\xe4\\xb8\\xad\\xe5\\xa4\\xae\\xe6\\x80\\xbb\\xe4\\xb9\\xa6\\xe8\\xae\\xb0\\xe5\\x9b\\xbd'\n",
      " b'\\xe8\\xa1\\x8c\\xe4\\xb8\\xad\\xe5\\x85\\xb1\\xe4\\xb8\\xad\\xe5\\xa4\\xae\\xe6\\x80\\xbb\\xe4\\xb9\\xa6\\xe8\\xae\\xb0\\xe5\\x9b\\xbd\\xe5\\xae\\xb6'\n",
      " b'\\xe4\\xb8\\xad\\xe5\\x85\\xb1\\xe4\\xb8\\xad\\xe5\\xa4\\xae\\xe6\\x80\\xbb\\xe4\\xb9\\xa6\\xe8\\xae\\xb0\\xe5\\x9b\\xbd\\xe5\\xae\\xb6\\xe4\\xb8\\xbb'\n",
      " b'\\xe5\\x85\\xb1\\xe4\\xb8\\xad\\xe5\\xa4\\xae\\xe6\\x80\\xbb\\xe4\\xb9\\xa6\\xe8\\xae\\xb0\\xe5\\x9b\\xbd\\xe5\\xae\\xb6\\xe4\\xb8\\xbb\\xe5\\xb8\\xad'\n",
      " b'\\xe4\\xb8\\xad\\xe5\\xa4\\xae\\xe6\\x80\\xbb\\xe4\\xb9\\xa6\\xe8\\xae\\xb0\\xe5\\x9b\\xbd\\xe5\\xae\\xb6\\xe4\\xb8\\xbb\\xe5\\xb8\\xad\\xe4\\xb8\\xad'\n",
      " b'\\xe5\\xa4\\xae\\xe6\\x80\\xbb\\xe4\\xb9\\xa6\\xe8\\xae\\xb0\\xe5\\x9b\\xbd\\xe5\\xae\\xb6\\xe4\\xb8\\xbb\\xe5\\xb8\\xad\\xe4\\xb8\\xad\\xe5\\xa4\\xae'\n",
      " b'\\xe6\\x80\\xbb\\xe4\\xb9\\xa6\\xe8\\xae\\xb0\\xe5\\x9b\\xbd\\xe5\\xae\\xb6\\xe4\\xb8\\xbb\\xe5\\xb8\\xad\\xe4\\xb8\\xad\\xe5\\xa4\\xae\\xe5\\x86\\x9b'\n",
      " b'\\xe4\\xb9\\xa6\\xe8\\xae\\xb0\\xe5\\x9b\\xbd\\xe5\\xae\\xb6\\xe4\\xb8\\xbb\\xe5\\xb8\\xad\\xe4\\xb8\\xad\\xe5\\xa4\\xae\\xe5\\x86\\x9b\\xe5\\xa7\\x94'\n",
      " b'\\xe8\\xae\\xb0\\xe5\\x9b\\xbd\\xe5\\xae\\xb6\\xe4\\xb8\\xbb\\xe5\\xb8\\xad\\xe4\\xb8\\xad\\xe5\\xa4\\xae\\xe5\\x86\\x9b\\xe5\\xa7\\x94\\xe4\\xb8\\xbb'\n",
      " b'\\xe5\\x9b\\xbd\\xe5\\xae\\xb6\\xe4\\xb8\\xbb\\xe5\\xb8\\xad\\xe4\\xb8\\xad\\xe5\\xa4\\xae\\xe5\\x86\\x9b\\xe5\\xa7\\x94\\xe4\\xb8\\xbb\\xe5\\xb8\\xad'\n",
      " b'\\xe5\\xae\\xb6\\xe4\\xb8\\xbb\\xe5\\xb8\\xad\\xe4\\xb8\\xad\\xe5\\xa4\\xae\\xe5\\x86\\x9b\\xe5\\xa7\\x94\\xe4\\xb8\\xbb\\xe5\\xb8\\xad\\xe4\\xb9\\xa0'\n",
      " b'\\xe4\\xb8\\xbb\\xe5\\xb8\\xad\\xe4\\xb8\\xad\\xe5\\xa4\\xae\\xe5\\x86\\x9b\\xe5\\xa7\\x94\\xe4\\xb8\\xbb\\xe5\\xb8\\xad\\xe4\\xb9\\xa0\\xe8\\xbf\\x91'\n",
      " b'\\xe5\\xb8\\xad\\xe4\\xb8\\xad\\xe5\\xa4\\xae\\xe5\\x86\\x9b\\xe5\\xa7\\x94\\xe4\\xb8\\xbb\\xe5\\xb8\\xad\\xe4\\xb9\\xa0\\xe8\\xbf\\x91\\xe5\\xb9\\xb3'\n",
      " b'\\xe4\\xb8\\xad\\xe5\\xa4\\xae\\xe5\\x86\\x9b\\xe5\\xa7\\x94\\xe4\\xb8\\xbb\\xe5\\xb8\\xad\\xe4\\xb9\\xa0\\xe8\\xbf\\x91\\xe5\\xb9\\xb3\\xe5\\x90\\x91'\n",
      " b'\\xe5\\xa4\\xae\\xe5\\x86\\x9b\\xe5\\xa7\\x94\\xe4\\xb8\\xbb\\xe5\\xb8\\xad\\xe4\\xb9\\xa0\\xe8\\xbf\\x91\\xe5\\xb9\\xb3\\xe5\\x90\\x91\\xe9\\x99\\x86'\n",
      " b'\\xe5\\x86\\x9b\\xe5\\xa7\\x94\\xe4\\xb8\\xbb\\xe5\\xb8\\xad\\xe4\\xb9\\xa0\\xe8\\xbf\\x91\\xe5\\xb9\\xb3\\xe5\\x90\\x91\\xe9\\x99\\x86\\xe5\\x86\\x9b'\n",
      " b'\\xe5\\xa7\\x94\\xe4\\xb8\\xbb\\xe5\\xb8\\xad\\xe4\\xb9\\xa0\\xe8\\xbf\\x91\\xe5\\xb9\\xb3\\xe5\\x90\\x91\\xe9\\x99\\x86\\xe5\\x86\\x9b\\xe7\\x81\\xab'\n",
      " b'\\xe4\\xb8\\xbb\\xe5\\xb8\\xad\\xe4\\xb9\\xa0\\xe8\\xbf\\x91\\xe5\\xb9\\xb3\\xe5\\x90\\x91\\xe9\\x99\\x86\\xe5\\x86\\x9b\\xe7\\x81\\xab\\xe7\\xae\\xad'\n",
      " b'\\xe5\\xb8\\xad\\xe4\\xb9\\xa0\\xe8\\xbf\\x91\\xe5\\xb9\\xb3\\xe5\\x90\\x91\\xe9\\x99\\x86\\xe5\\x86\\x9b\\xe7\\x81\\xab\\xe7\\xae\\xad\\xe5\\x86\\x9b'\n",
      " b'\\xe4\\xb9\\xa0\\xe8\\xbf\\x91\\xe5\\xb9\\xb3\\xe5\\x90\\x91\\xe9\\x99\\x86\\xe5\\x86\\x9b\\xe7\\x81\\xab\\xe7\\xae\\xad\\xe5\\x86\\x9b\\xe6\\x88\\x98'\n",
      " b'\\xe8\\xbf\\x91\\xe5\\xb9\\xb3\\xe5\\x90\\x91\\xe9\\x99\\x86\\xe5\\x86\\x9b\\xe7\\x81\\xab\\xe7\\xae\\xad\\xe5\\x86\\x9b\\xe6\\x88\\x98\\xe7\\x95\\xa5'\n",
      " b'\\xe5\\xb9\\xb3\\xe5\\x90\\x91\\xe9\\x99\\x86\\xe5\\x86\\x9b\\xe7\\x81\\xab\\xe7\\xae\\xad\\xe5\\x86\\x9b\\xe6\\x88\\x98\\xe7\\x95\\xa5\\xe6\\x94\\xaf'\n",
      " b'\\xe5\\x90\\x91\\xe9\\x99\\x86\\xe5\\x86\\x9b\\xe7\\x81\\xab\\xe7\\xae\\xad\\xe5\\x86\\x9b\\xe6\\x88\\x98\\xe7\\x95\\xa5\\xe6\\x94\\xaf\\xe6\\x8f\\xb4'\n",
      " b'\\xe9\\x99\\x86\\xe5\\x86\\x9b\\xe7\\x81\\xab\\xe7\\xae\\xad\\xe5\\x86\\x9b\\xe6\\x88\\x98\\xe7\\x95\\xa5\\xe6\\x94\\xaf\\xe6\\x8f\\xb4\\xe9\\x83\\xa8'\n",
      " b'\\xe5\\x86\\x9b\\xe7\\x81\\xab\\xe7\\xae\\xad\\xe5\\x86\\x9b\\xe6\\x88\\x98\\xe7\\x95\\xa5\\xe6\\x94\\xaf\\xe6\\x8f\\xb4\\xe9\\x83\\xa8\\xe9\\x98\\x9f'\n",
      " b'\\xe7\\x81\\xab\\xe7\\xae\\xad\\xe5\\x86\\x9b\\xe6\\x88\\x98\\xe7\\x95\\xa5\\xe6\\x94\\xaf\\xe6\\x8f\\xb4\\xe9\\x83\\xa8\\xe9\\x98\\x9f\\xe6\\x8e\\x88'\n",
      " b'\\xe7\\xae\\xad\\xe5\\x86\\x9b\\xe6\\x88\\x98\\xe7\\x95\\xa5\\xe6\\x94\\xaf\\xe6\\x8f\\xb4\\xe9\\x83\\xa8\\xe9\\x98\\x9f\\xe6\\x8e\\x88\\xe4\\xba\\x88'\n",
      " b'\\xe5\\x86\\x9b\\xe6\\x88\\x98\\xe7\\x95\\xa5\\xe6\\x94\\xaf\\xe6\\x8f\\xb4\\xe9\\x83\\xa8\\xe9\\x98\\x9f\\xe6\\x8e\\x88\\xe4\\xba\\x88\\xe5\\x86\\x9b'\n",
      " b'\\xe6\\x88\\x98\\xe7\\x95\\xa5\\xe6\\x94\\xaf\\xe6\\x8f\\xb4\\xe9\\x83\\xa8\\xe9\\x98\\x9f\\xe6\\x8e\\x88\\xe4\\xba\\x88\\xe5\\x86\\x9b\\xe6\\x97\\x97'\n",
      " b'\\xe7\\x95\\xa5\\xe6\\x94\\xaf\\xe6\\x8f\\xb4\\xe9\\x83\\xa8\\xe9\\x98\\x9f\\xe6\\x8e\\x88\\xe4\\xba\\x88\\xe5\\x86\\x9b\\xe6\\x97\\x97\\xe5\\xb9\\xb6'\n",
      " b'\\xe6\\x94\\xaf\\xe6\\x8f\\xb4\\xe9\\x83\\xa8\\xe9\\x98\\x9f\\xe6\\x8e\\x88\\xe4\\xba\\x88\\xe5\\x86\\x9b\\xe6\\x97\\x97\\xe5\\xb9\\xb6\\xe8\\x87\\xb4'\n",
      " b'\\xe6\\x8f\\xb4\\xe9\\x83\\xa8\\xe9\\x98\\x9f\\xe6\\x8e\\x88\\xe4\\xba\\x88\\xe5\\x86\\x9b\\xe6\\x97\\x97\\xe5\\xb9\\xb6\\xe8\\x87\\xb4\\xe8\\xae\\xad'\n",
      " b'\\xe9\\x83\\xa8\\xe9\\x98\\x9f\\xe6\\x8e\\x88\\xe4\\xba\\x88\\xe5\\x86\\x9b\\xe6\\x97\\x97\\xe5\\xb9\\xb6\\xe8\\x87\\xb4\\xe8\\xae\\xad\\xe8\\xaf\\x8d'\n",
      " b'\\xe9\\x98\\x9f\\xe6\\x8e\\x88\\xe4\\xba\\x88\\xe5\\x86\\x9b\\xe6\\x97\\x97\\xe5\\xb9\\xb6\\xe8\\x87\\xb4\\xe8\\xae\\xad\\xe8\\xaf\\x8d\\xe4\\xbb\\xa3'\n",
      " b'\\xe6\\x8e\\x88\\xe4\\xba\\x88\\xe5\\x86\\x9b\\xe6\\x97\\x97\\xe5\\xb9\\xb6\\xe8\\x87\\xb4\\xe8\\xae\\xad\\xe8\\xaf\\x8d\\xe4\\xbb\\xa3\\xe8\\xa1\\xa8'\n",
      " b'\\xe4\\xba\\x88\\xe5\\x86\\x9b\\xe6\\x97\\x97\\xe5\\xb9\\xb6\\xe8\\x87\\xb4\\xe8\\xae\\xad\\xe8\\xaf\\x8d\\xe4\\xbb\\xa3\\xe8\\xa1\\xa8\\xe5\\x85\\x9a'\n",
      " b'\\xe5\\x86\\x9b\\xe6\\x97\\x97\\xe5\\xb9\\xb6\\xe8\\x87\\xb4\\xe8\\xae\\xad\\xe8\\xaf\\x8d\\xe4\\xbb\\xa3\\xe8\\xa1\\xa8\\xe5\\x85\\x9a\\xe4\\xb8\\xad'\n",
      " b'\\xe6\\x97\\x97\\xe5\\xb9\\xb6\\xe8\\x87\\xb4\\xe8\\xae\\xad\\xe8\\xaf\\x8d\\xe4\\xbb\\xa3\\xe8\\xa1\\xa8\\xe5\\x85\\x9a\\xe4\\xb8\\xad\\xe5\\xa4\\xae'\n",
      " b'\\xe5\\xb9\\xb6\\xe8\\x87\\xb4\\xe8\\xae\\xad\\xe8\\xaf\\x8d\\xe4\\xbb\\xa3\\xe8\\xa1\\xa8\\xe5\\x85\\x9a\\xe4\\xb8\\xad\\xe5\\xa4\\xae\\xe5\\x92\\x8c'\n",
      " b'\\xe8\\x87\\xb4\\xe8\\xae\\xad\\xe8\\xaf\\x8d\\xe4\\xbb\\xa3\\xe8\\xa1\\xa8\\xe5\\x85\\x9a\\xe4\\xb8\\xad\\xe5\\xa4\\xae\\xe5\\x92\\x8c\\xe4\\xb8\\xad'\n",
      " b'\\xe8\\xae\\xad\\xe8\\xaf\\x8d\\xe4\\xbb\\xa3\\xe8\\xa1\\xa8\\xe5\\x85\\x9a\\xe4\\xb8\\xad\\xe5\\xa4\\xae\\xe5\\x92\\x8c\\xe4\\xb8\\xad\\xe5\\xa4\\xae'\n",
      " b'\\xe8\\xaf\\x8d\\xe4\\xbb\\xa3\\xe8\\xa1\\xa8\\xe5\\x85\\x9a\\xe4\\xb8\\xad\\xe5\\xa4\\xae\\xe5\\x92\\x8c\\xe4\\xb8\\xad\\xe5\\xa4\\xae\\xe5\\x86\\x9b'\n",
      " b'\\xe4\\xbb\\xa3\\xe8\\xa1\\xa8\\xe5\\x85\\x9a\\xe4\\xb8\\xad\\xe5\\xa4\\xae\\xe5\\x92\\x8c\\xe4\\xb8\\xad\\xe5\\xa4\\xae\\xe5\\x86\\x9b\\xe5\\xa7\\x94'\n",
      " b'\\xe8\\xa1\\xa8\\xe5\\x85\\x9a\\xe4\\xb8\\xad\\xe5\\xa4\\xae\\xe5\\x92\\x8c\\xe4\\xb8\\xad\\xe5\\xa4\\xae\\xe5\\x86\\x9b\\xe5\\xa7\\x94\\xe5\\x90\\x91'\n",
      " b'\\xe5\\x85\\x9a\\xe4\\xb8\\xad\\xe5\\xa4\\xae\\xe5\\x92\\x8c\\xe4\\xb8\\xad\\xe5\\xa4\\xae\\xe5\\x86\\x9b\\xe5\\xa7\\x94\\xe5\\x90\\x91\\xe5\\x90\\x8c'\n",
      " b'\\xe4\\xb8\\xad\\xe5\\xa4\\xae\\xe5\\x92\\x8c\\xe4\\xb8\\xad\\xe5\\xa4\\xae\\xe5\\x86\\x9b\\xe5\\xa7\\x94\\xe5\\x90\\x91\\xe5\\x90\\x8c\\xe5\\xbf\\x97'\n",
      " b'\\xe5\\xa4\\xae\\xe5\\x92\\x8c\\xe4\\xb8\\xad\\xe5\\xa4\\xae\\xe5\\x86\\x9b\\xe5\\xa7\\x94\\xe5\\x90\\x91\\xe5\\x90\\x8c\\xe5\\xbf\\x97\\xe4\\xbb\\xac'\n",
      " b'\\xe5\\x92\\x8c\\xe4\\xb8\\xad\\xe5\\xa4\\xae\\xe5\\x86\\x9b\\xe5\\xa7\\x94\\xe5\\x90\\x91\\xe5\\x90\\x8c\\xe5\\xbf\\x97\\xe4\\xbb\\xac\\xe5\\x90\\x91'\n",
      " b'\\xe4\\xb8\\xad\\xe5\\xa4\\xae\\xe5\\x86\\x9b\\xe5\\xa7\\x94\\xe5\\x90\\x91\\xe5\\x90\\x8c\\xe5\\xbf\\x97\\xe4\\xbb\\xac\\xe5\\x90\\x91\\xe5\\x85\\xa8'\n",
      " b'\\xe5\\xa4\\xae\\xe5\\x86\\x9b\\xe5\\xa7\\x94\\xe5\\x90\\x91\\xe5\\x90\\x8c\\xe5\\xbf\\x97\\xe4\\xbb\\xac\\xe5\\x90\\x91\\xe5\\x85\\xa8\\xe5\\x86\\x9b'\n",
      " b'\\xe5\\x86\\x9b\\xe5\\xa7\\x94\\xe5\\x90\\x91\\xe5\\x90\\x8c\\xe5\\xbf\\x97\\xe4\\xbb\\xac\\xe5\\x90\\x91\\xe5\\x85\\xa8\\xe5\\x86\\x9b\\xe9\\x83\\xa8'\n",
      " b'\\xe5\\xa7\\x94\\xe5\\x90\\x91\\xe5\\x90\\x8c\\xe5\\xbf\\x97\\xe4\\xbb\\xac\\xe5\\x90\\x91\\xe5\\x85\\xa8\\xe5\\x86\\x9b\\xe9\\x83\\xa8\\xe9\\x98\\x9f'\n",
      " b'\\xe5\\x90\\x91\\xe5\\x90\\x8c\\xe5\\xbf\\x97\\xe4\\xbb\\xac\\xe5\\x90\\x91\\xe5\\x85\\xa8\\xe5\\x86\\x9b\\xe9\\x83\\xa8\\xe9\\x98\\x9f\\xe8\\x87\\xb4'\n",
      " b'\\xe5\\x90\\x8c\\xe5\\xbf\\x97\\xe4\\xbb\\xac\\xe5\\x90\\x91\\xe5\\x85\\xa8\\xe5\\x86\\x9b\\xe9\\x83\\xa8\\xe9\\x98\\x9f\\xe8\\x87\\xb4\\xe4\\xbb\\xa5'\n",
      " b'\\xe5\\xbf\\x97\\xe4\\xbb\\xac\\xe5\\x90\\x91\\xe5\\x85\\xa8\\xe5\\x86\\x9b\\xe9\\x83\\xa8\\xe9\\x98\\x9f\\xe8\\x87\\xb4\\xe4\\xbb\\xa5\\xe7\\x83\\xad'\n",
      " b'\\xe4\\xbb\\xac\\xe5\\x90\\x91\\xe5\\x85\\xa8\\xe5\\x86\\x9b\\xe9\\x83\\xa8\\xe9\\x98\\x9f\\xe8\\x87\\xb4\\xe4\\xbb\\xa5\\xe7\\x83\\xad\\xe7\\x83\\x88'\n",
      " b'\\xe5\\x90\\x91\\xe5\\x85\\xa8\\xe5\\x86\\x9b\\xe9\\x83\\xa8\\xe9\\x98\\x9f\\xe8\\x87\\xb4\\xe4\\xbb\\xa5\\xe7\\x83\\xad\\xe7\\x83\\x88\\xe7\\xa5\\x9d'\n",
      " b'\\xe5\\x85\\xa8\\xe5\\x86\\x9b\\xe9\\x83\\xa8\\xe9\\x98\\x9f\\xe8\\x87\\xb4\\xe4\\xbb\\xa5\\xe7\\x83\\xad\\xe7\\x83\\x88\\xe7\\xa5\\x9d\\xe8\\xb4\\xba'\n",
      " b'\\xe5\\x86\\x9b\\xe9\\x83\\xa8\\xe9\\x98\\x9f\\xe8\\x87\\xb4\\xe4\\xbb\\xa5\\xe7\\x83\\xad\\xe7\\x83\\x88\\xe7\\xa5\\x9d\\xe8\\xb4\\xba\\xe5\\xbc\\xba'\n",
      " b'\\xe9\\x83\\xa8\\xe9\\x98\\x9f\\xe8\\x87\\xb4\\xe4\\xbb\\xa5\\xe7\\x83\\xad\\xe7\\x83\\x88\\xe7\\xa5\\x9d\\xe8\\xb4\\xba\\xe5\\xbc\\xba\\xe8\\xb0\\x83'\n",
      " b'\\xe9\\x98\\x9f\\xe8\\x87\\xb4\\xe4\\xbb\\xa5\\xe7\\x83\\xad\\xe7\\x83\\x88\\xe7\\xa5\\x9d\\xe8\\xb4\\xba\\xe5\\xbc\\xba\\xe8\\xb0\\x83\\xe8\\xa6\\x81'\n",
      " b'\\xe8\\x87\\xb4\\xe4\\xbb\\xa5\\xe7\\x83\\xad\\xe7\\x83\\x88\\xe7\\xa5\\x9d\\xe8\\xb4\\xba\\xe5\\xbc\\xba\\xe8\\xb0\\x83\\xe8\\xa6\\x81\\xe5\\x9d\\x9a'\n",
      " b'\\xe4\\xbb\\xa5\\xe7\\x83\\xad\\xe7\\x83\\x88\\xe7\\xa5\\x9d\\xe8\\xb4\\xba\\xe5\\xbc\\xba\\xe8\\xb0\\x83\\xe8\\xa6\\x81\\xe5\\x9d\\x9a\\xe6\\x8c\\x81'\n",
      " b'\\xe7\\x83\\xad\\xe7\\x83\\x88\\xe7\\xa5\\x9d\\xe8\\xb4\\xba\\xe5\\xbc\\xba\\xe8\\xb0\\x83\\xe8\\xa6\\x81\\xe5\\x9d\\x9a\\xe6\\x8c\\x81\\xe4\\xbb\\xa5'\n",
      " b'\\xe7\\x83\\x88\\xe7\\xa5\\x9d\\xe8\\xb4\\xba\\xe5\\xbc\\xba\\xe8\\xb0\\x83\\xe8\\xa6\\x81\\xe5\\x9d\\x9a\\xe6\\x8c\\x81\\xe4\\xbb\\xa5\\xe5\\x85\\x9a'\n",
      " b'\\xe7\\xa5\\x9d\\xe8\\xb4\\xba\\xe5\\xbc\\xba\\xe8\\xb0\\x83\\xe8\\xa6\\x81\\xe5\\x9d\\x9a\\xe6\\x8c\\x81\\xe4\\xbb\\xa5\\xe5\\x85\\x9a\\xe5\\x9c\\xa8'\n",
      " b'\\xe8\\xb4\\xba\\xe5\\xbc\\xba\\xe8\\xb0\\x83\\xe8\\xa6\\x81\\xe5\\x9d\\x9a\\xe6\\x8c\\x81\\xe4\\xbb\\xa5\\xe5\\x85\\x9a\\xe5\\x9c\\xa8\\xe6\\x96\\xb0'\n",
      " b'\\xe5\\xbc\\xba\\xe8\\xb0\\x83\\xe8\\xa6\\x81\\xe5\\x9d\\x9a\\xe6\\x8c\\x81\\xe4\\xbb\\xa5\\xe5\\x85\\x9a\\xe5\\x9c\\xa8\\xe6\\x96\\xb0\\xe5\\xbd\\xa2'\n",
      " b'\\xe8\\xb0\\x83\\xe8\\xa6\\x81\\xe5\\x9d\\x9a\\xe6\\x8c\\x81\\xe4\\xbb\\xa5\\xe5\\x85\\x9a\\xe5\\x9c\\xa8\\xe6\\x96\\xb0\\xe5\\xbd\\xa2\\xe5\\x8a\\xbf'\n",
      " b'\\xe8\\xa6\\x81\\xe5\\x9d\\x9a\\xe6\\x8c\\x81\\xe4\\xbb\\xa5\\xe5\\x85\\x9a\\xe5\\x9c\\xa8\\xe6\\x96\\xb0\\xe5\\xbd\\xa2\\xe5\\x8a\\xbf\\xe4\\xb8\\x8b'\n",
      " b'\\xe5\\x9d\\x9a\\xe6\\x8c\\x81\\xe4\\xbb\\xa5\\xe5\\x85\\x9a\\xe5\\x9c\\xa8\\xe6\\x96\\xb0\\xe5\\xbd\\xa2\\xe5\\x8a\\xbf\\xe4\\xb8\\x8b\\xe7\\x9a\\x84'\n",
      " b'\\xe6\\x8c\\x81\\xe4\\xbb\\xa5\\xe5\\x85\\x9a\\xe5\\x9c\\xa8\\xe6\\x96\\xb0\\xe5\\xbd\\xa2\\xe5\\x8a\\xbf\\xe4\\xb8\\x8b\\xe7\\x9a\\x84\\xe5\\xbc\\xba'\n",
      " b'\\xe4\\xbb\\xa5\\xe5\\x85\\x9a\\xe5\\x9c\\xa8\\xe6\\x96\\xb0\\xe5\\xbd\\xa2\\xe5\\x8a\\xbf\\xe4\\xb8\\x8b\\xe7\\x9a\\x84\\xe5\\xbc\\xba\\xe5\\x86\\x9b'\n",
      " b'\\xe5\\x85\\x9a\\xe5\\x9c\\xa8\\xe6\\x96\\xb0\\xe5\\xbd\\xa2\\xe5\\x8a\\xbf\\xe4\\xb8\\x8b\\xe7\\x9a\\x84\\xe5\\xbc\\xba\\xe5\\x86\\x9b\\xe7\\x9b\\xae'\n",
      " b'\\xe5\\x9c\\xa8\\xe6\\x96\\xb0\\xe5\\xbd\\xa2\\xe5\\x8a\\xbf\\xe4\\xb8\\x8b\\xe7\\x9a\\x84\\xe5\\xbc\\xba\\xe5\\x86\\x9b\\xe7\\x9b\\xae\\xe6\\xa0\\x87'\n",
      " b'\\xe6\\x96\\xb0\\xe5\\xbd\\xa2\\xe5\\x8a\\xbf\\xe4\\xb8\\x8b\\xe7\\x9a\\x84\\xe5\\xbc\\xba\\xe5\\x86\\x9b\\xe7\\x9b\\xae\\xe6\\xa0\\x87\\xe4\\xb8\\xba'\n",
      " b'\\xe5\\xbd\\xa2\\xe5\\x8a\\xbf\\xe4\\xb8\\x8b\\xe7\\x9a\\x84\\xe5\\xbc\\xba\\xe5\\x86\\x9b\\xe7\\x9b\\xae\\xe6\\xa0\\x87\\xe4\\xb8\\xba\\xe5\\xbc\\x95'\n",
      " b'\\xe5\\x8a\\xbf\\xe4\\xb8\\x8b\\xe7\\x9a\\x84\\xe5\\xbc\\xba\\xe5\\x86\\x9b\\xe7\\x9b\\xae\\xe6\\xa0\\x87\\xe4\\xb8\\xba\\xe5\\xbc\\x95\\xe9\\xa2\\x86'\n",
      " b'\\xe4\\xb8\\x8b\\xe7\\x9a\\x84\\xe5\\xbc\\xba\\xe5\\x86\\x9b\\xe7\\x9b\\xae\\xe6\\xa0\\x87\\xe4\\xb8\\xba\\xe5\\xbc\\x95\\xe9\\xa2\\x86\\xe6\\xb7\\xb1'\n",
      " b'\\xe7\\x9a\\x84\\xe5\\xbc\\xba\\xe5\\x86\\x9b\\xe7\\x9b\\xae\\xe6\\xa0\\x87\\xe4\\xb8\\xba\\xe5\\xbc\\x95\\xe9\\xa2\\x86\\xe6\\xb7\\xb1\\xe5\\x85\\xa5'\n",
      " b'\\xe5\\xbc\\xba\\xe5\\x86\\x9b\\xe7\\x9b\\xae\\xe6\\xa0\\x87\\xe4\\xb8\\xba\\xe5\\xbc\\x95\\xe9\\xa2\\x86\\xe6\\xb7\\xb1\\xe5\\x85\\xa5\\xe8\\xb4\\xaf'\n",
      " b'\\xe5\\x86\\x9b\\xe7\\x9b\\xae\\xe6\\xa0\\x87\\xe4\\xb8\\xba\\xe5\\xbc\\x95\\xe9\\xa2\\x86\\xe6\\xb7\\xb1\\xe5\\x85\\xa5\\xe8\\xb4\\xaf\\xe5\\xbd\\xbb'\n",
      " b'\\xe7\\x9b\\xae\\xe6\\xa0\\x87\\xe4\\xb8\\xba\\xe5\\xbc\\x95\\xe9\\xa2\\x86\\xe6\\xb7\\xb1\\xe5\\x85\\xa5\\xe8\\xb4\\xaf\\xe5\\xbd\\xbb\\xe6\\x96\\xb0'\n",
      " b'\\xe6\\xa0\\x87\\xe4\\xb8\\xba\\xe5\\xbc\\x95\\xe9\\xa2\\x86\\xe6\\xb7\\xb1\\xe5\\x85\\xa5\\xe8\\xb4\\xaf\\xe5\\xbd\\xbb\\xe6\\x96\\xb0\\xe5\\xbd\\xa2'\n",
      " b'\\xe4\\xb8\\xba\\xe5\\xbc\\x95\\xe9\\xa2\\x86\\xe6\\xb7\\xb1\\xe5\\x85\\xa5\\xe8\\xb4\\xaf\\xe5\\xbd\\xbb\\xe6\\x96\\xb0\\xe5\\xbd\\xa2\\xe5\\x8a\\xbf'\n",
      " b'\\xe5\\xbc\\x95\\xe9\\xa2\\x86\\xe6\\xb7\\xb1\\xe5\\x85\\xa5\\xe8\\xb4\\xaf\\xe5\\xbd\\xbb\\xe6\\x96\\xb0\\xe5\\xbd\\xa2\\xe5\\x8a\\xbf\\xe4\\xb8\\x8b'\n",
      " b'\\xe9\\xa2\\x86\\xe6\\xb7\\xb1\\xe5\\x85\\xa5\\xe8\\xb4\\xaf\\xe5\\xbd\\xbb\\xe6\\x96\\xb0\\xe5\\xbd\\xa2\\xe5\\x8a\\xbf\\xe4\\xb8\\x8b\\xe5\\x86\\x9b'\n",
      " b'\\xe6\\xb7\\xb1\\xe5\\x85\\xa5\\xe8\\xb4\\xaf\\xe5\\xbd\\xbb\\xe6\\x96\\xb0\\xe5\\xbd\\xa2\\xe5\\x8a\\xbf\\xe4\\xb8\\x8b\\xe5\\x86\\x9b\\xe4\\xba\\x8b'\n",
      " b'\\xe5\\x85\\xa5\\xe8\\xb4\\xaf\\xe5\\xbd\\xbb\\xe6\\x96\\xb0\\xe5\\xbd\\xa2\\xe5\\x8a\\xbf\\xe4\\xb8\\x8b\\xe5\\x86\\x9b\\xe4\\xba\\x8b\\xe6\\x88\\x98'\n",
      " b'\\xe8\\xb4\\xaf\\xe5\\xbd\\xbb\\xe6\\x96\\xb0\\xe5\\xbd\\xa2\\xe5\\x8a\\xbf\\xe4\\xb8\\x8b\\xe5\\x86\\x9b\\xe4\\xba\\x8b\\xe6\\x88\\x98\\xe7\\x95\\xa5'\n",
      " b'\\xe5\\xbd\\xbb\\xe6\\x96\\xb0\\xe5\\xbd\\xa2\\xe5\\x8a\\xbf\\xe4\\xb8\\x8b\\xe5\\x86\\x9b\\xe4\\xba\\x8b\\xe6\\x88\\x98\\xe7\\x95\\xa5\\xe6\\x96\\xb9'\n",
      " b'\\xe6\\x96\\xb0\\xe5\\xbd\\xa2\\xe5\\x8a\\xbf\\xe4\\xb8\\x8b\\xe5\\x86\\x9b\\xe4\\xba\\x8b\\xe6\\x88\\x98\\xe7\\x95\\xa5\\xe6\\x96\\xb9\\xe9\\x92\\x88'\n",
      " b'\\xe5\\xbd\\xa2\\xe5\\x8a\\xbf\\xe4\\xb8\\x8b\\xe5\\x86\\x9b\\xe4\\xba\\x8b\\xe6\\x88\\x98\\xe7\\x95\\xa5\\xe6\\x96\\xb9\\xe9\\x92\\x88\\xe5\\x85\\xa8'\n",
      " b'\\xe5\\x8a\\xbf\\xe4\\xb8\\x8b\\xe5\\x86\\x9b\\xe4\\xba\\x8b\\xe6\\x88\\x98\\xe7\\x95\\xa5\\xe6\\x96\\xb9\\xe9\\x92\\x88\\xe5\\x85\\xa8\\xe9\\x9d\\xa2'\n",
      " b'\\xe4\\xb8\\x8b\\xe5\\x86\\x9b\\xe4\\xba\\x8b\\xe6\\x88\\x98\\xe7\\x95\\xa5\\xe6\\x96\\xb9\\xe9\\x92\\x88\\xe5\\x85\\xa8\\xe9\\x9d\\xa2\\xe5\\xae\\x9e'\n",
      " b'\\xe5\\x86\\x9b\\xe4\\xba\\x8b\\xe6\\x88\\x98\\xe7\\x95\\xa5\\xe6\\x96\\xb9\\xe9\\x92\\x88\\xe5\\x85\\xa8\\xe9\\x9d\\xa2\\xe5\\xae\\x9e\\xe6\\x96\\xbd'\n",
      " b'\\xe4\\xba\\x8b\\xe6\\x88\\x98\\xe7\\x95\\xa5\\xe6\\x96\\xb9\\xe9\\x92\\x88\\xe5\\x85\\xa8\\xe9\\x9d\\xa2\\xe5\\xae\\x9e\\xe6\\x96\\xbd\\xe6\\x94\\xb9'\n",
      " b'\\xe6\\x88\\x98\\xe7\\x95\\xa5\\xe6\\x96\\xb9\\xe9\\x92\\x88\\xe5\\x85\\xa8\\xe9\\x9d\\xa2\\xe5\\xae\\x9e\\xe6\\x96\\xbd\\xe6\\x94\\xb9\\xe9\\x9d\\xa9'\n",
      " b'\\xe7\\x95\\xa5\\xe6\\x96\\xb9\\xe9\\x92\\x88\\xe5\\x85\\xa8\\xe9\\x9d\\xa2\\xe5\\xae\\x9e\\xe6\\x96\\xbd\\xe6\\x94\\xb9\\xe9\\x9d\\xa9\\xe5\\xbc\\xba'\n",
      " b'\\xe6\\x96\\xb9\\xe9\\x92\\x88\\xe5\\x85\\xa8\\xe9\\x9d\\xa2\\xe5\\xae\\x9e\\xe6\\x96\\xbd\\xe6\\x94\\xb9\\xe9\\x9d\\xa9\\xe5\\xbc\\xba\\xe5\\x86\\x9b'\n",
      " b'\\xe9\\x92\\x88\\xe5\\x85\\xa8\\xe9\\x9d\\xa2\\xe5\\xae\\x9e\\xe6\\x96\\xbd\\xe6\\x94\\xb9\\xe9\\x9d\\xa9\\xe5\\xbc\\xba\\xe5\\x86\\x9b\\xe6\\x88\\x98'\n",
      " b'\\xe5\\x85\\xa8\\xe9\\x9d\\xa2\\xe5\\xae\\x9e\\xe6\\x96\\xbd\\xe6\\x94\\xb9\\xe9\\x9d\\xa9\\xe5\\xbc\\xba\\xe5\\x86\\x9b\\xe6\\x88\\x98\\xe7\\x95\\xa5'\n",
      " b'\\xe9\\x9d\\xa2\\xe5\\xae\\x9e\\xe6\\x96\\xbd\\xe6\\x94\\xb9\\xe9\\x9d\\xa9\\xe5\\xbc\\xba\\xe5\\x86\\x9b\\xe6\\x88\\x98\\xe7\\x95\\xa5\\xe5\\x9d\\x9a'\n",
      " b'\\xe5\\xae\\x9e\\xe6\\x96\\xbd\\xe6\\x94\\xb9\\xe9\\x9d\\xa9\\xe5\\xbc\\xba\\xe5\\x86\\x9b\\xe6\\x88\\x98\\xe7\\x95\\xa5\\xe5\\x9d\\x9a\\xe5\\xae\\x9a'\n",
      " b'\\xe6\\x96\\xbd\\xe6\\x94\\xb9\\xe9\\x9d\\xa9\\xe5\\xbc\\xba\\xe5\\x86\\x9b\\xe6\\x88\\x98\\xe7\\x95\\xa5\\xe5\\x9d\\x9a\\xe5\\xae\\x9a\\xe4\\xb8\\x8d'\n",
      " b'\\xe6\\x94\\xb9\\xe9\\x9d\\xa9\\xe5\\xbc\\xba\\xe5\\x86\\x9b\\xe6\\x88\\x98\\xe7\\x95\\xa5\\xe5\\x9d\\x9a\\xe5\\xae\\x9a\\xe4\\xb8\\x8d\\xe7\\xa7\\xbb'\n",
      " b'\\xe9\\x9d\\xa9\\xe5\\xbc\\xba\\xe5\\x86\\x9b\\xe6\\x88\\x98\\xe7\\x95\\xa5\\xe5\\x9d\\x9a\\xe5\\xae\\x9a\\xe4\\xb8\\x8d\\xe7\\xa7\\xbb\\xe8\\xb5\\xb0'\n",
      " b'\\xe5\\xbc\\xba\\xe5\\x86\\x9b\\xe6\\x88\\x98\\xe7\\x95\\xa5\\xe5\\x9d\\x9a\\xe5\\xae\\x9a\\xe4\\xb8\\x8d\\xe7\\xa7\\xbb\\xe8\\xb5\\xb0\\xe4\\xb8\\xad'\n",
      " b'\\xe5\\x86\\x9b\\xe6\\x88\\x98\\xe7\\x95\\xa5\\xe5\\x9d\\x9a\\xe5\\xae\\x9a\\xe4\\xb8\\x8d\\xe7\\xa7\\xbb\\xe8\\xb5\\xb0\\xe4\\xb8\\xad\\xe5\\x9b\\xbd'\n",
      " b'\\xe6\\x88\\x98\\xe7\\x95\\xa5\\xe5\\x9d\\x9a\\xe5\\xae\\x9a\\xe4\\xb8\\x8d\\xe7\\xa7\\xbb\\xe8\\xb5\\xb0\\xe4\\xb8\\xad\\xe5\\x9b\\xbd\\xe7\\x89\\xb9'\n",
      " b'\\xe7\\x95\\xa5\\xe5\\x9d\\x9a\\xe5\\xae\\x9a\\xe4\\xb8\\x8d\\xe7\\xa7\\xbb\\xe8\\xb5\\xb0\\xe4\\xb8\\xad\\xe5\\x9b\\xbd\\xe7\\x89\\xb9\\xe8\\x89\\xb2'\n",
      " b'\\xe5\\x9d\\x9a\\xe5\\xae\\x9a\\xe4\\xb8\\x8d\\xe7\\xa7\\xbb\\xe8\\xb5\\xb0\\xe4\\xb8\\xad\\xe5\\x9b\\xbd\\xe7\\x89\\xb9\\xe8\\x89\\xb2\\xe5\\xbc\\xba'\n",
      " b'\\xe5\\xae\\x9a\\xe4\\xb8\\x8d\\xe7\\xa7\\xbb\\xe8\\xb5\\xb0\\xe4\\xb8\\xad\\xe5\\x9b\\xbd\\xe7\\x89\\xb9\\xe8\\x89\\xb2\\xe5\\xbc\\xba\\xe5\\x86\\x9b'\n",
      " b'\\xe4\\xb8\\x8d\\xe7\\xa7\\xbb\\xe8\\xb5\\xb0\\xe4\\xb8\\xad\\xe5\\x9b\\xbd\\xe7\\x89\\xb9\\xe8\\x89\\xb2\\xe5\\xbc\\xba\\xe5\\x86\\x9b\\xe4\\xb9\\x8b'\n",
      " b'\\xe7\\xa7\\xbb\\xe8\\xb5\\xb0\\xe4\\xb8\\xad\\xe5\\x9b\\xbd\\xe7\\x89\\xb9\\xe8\\x89\\xb2\\xe5\\xbc\\xba\\xe5\\x86\\x9b\\xe4\\xb9\\x8b\\xe8\\xb7\\xaf'\n",
      " b'\\xe8\\xb5\\xb0\\xe4\\xb8\\xad\\xe5\\x9b\\xbd\\xe7\\x89\\xb9\\xe8\\x89\\xb2\\xe5\\xbc\\xba\\xe5\\x86\\x9b\\xe4\\xb9\\x8b\\xe8\\xb7\\xaf\\xe6\\x97\\xb6'\n",
      " b'\\xe4\\xb8\\xad\\xe5\\x9b\\xbd\\xe7\\x89\\xb9\\xe8\\x89\\xb2\\xe5\\xbc\\xba\\xe5\\x86\\x9b\\xe4\\xb9\\x8b\\xe8\\xb7\\xaf\\xe6\\x97\\xb6\\xe5\\x88\\xbb'\n",
      " b'\\xe5\\x9b\\xbd\\xe7\\x89\\xb9\\xe8\\x89\\xb2\\xe5\\xbc\\xba\\xe5\\x86\\x9b\\xe4\\xb9\\x8b\\xe8\\xb7\\xaf\\xe6\\x97\\xb6\\xe5\\x88\\xbb\\xe5\\x90\\xac'\n",
      " b'\\xe7\\x89\\xb9\\xe8\\x89\\xb2\\xe5\\xbc\\xba\\xe5\\x86\\x9b\\xe4\\xb9\\x8b\\xe8\\xb7\\xaf\\xe6\\x97\\xb6\\xe5\\x88\\xbb\\xe5\\x90\\xac\\xe4\\xbb\\x8e'\n",
      " b'\\xe8\\x89\\xb2\\xe5\\xbc\\xba\\xe5\\x86\\x9b\\xe4\\xb9\\x8b\\xe8\\xb7\\xaf\\xe6\\x97\\xb6\\xe5\\x88\\xbb\\xe5\\x90\\xac\\xe4\\xbb\\x8e\\xe5\\x85\\x9a'\n",
      " b'\\xe5\\xbc\\xba\\xe5\\x86\\x9b\\xe4\\xb9\\x8b\\xe8\\xb7\\xaf\\xe6\\x97\\xb6\\xe5\\x88\\xbb\\xe5\\x90\\xac\\xe4\\xbb\\x8e\\xe5\\x85\\x9a\\xe5\\x92\\x8c'\n",
      " b'\\xe5\\x86\\x9b\\xe4\\xb9\\x8b\\xe8\\xb7\\xaf\\xe6\\x97\\xb6\\xe5\\x88\\xbb\\xe5\\x90\\xac\\xe4\\xbb\\x8e\\xe5\\x85\\x9a\\xe5\\x92\\x8c\\xe4\\xba\\xba'\n",
      " b'\\xe4\\xb9\\x8b\\xe8\\xb7\\xaf\\xe6\\x97\\xb6\\xe5\\x88\\xbb\\xe5\\x90\\xac\\xe4\\xbb\\x8e\\xe5\\x85\\x9a\\xe5\\x92\\x8c\\xe4\\xba\\xba\\xe6\\xb0\\x91'\n",
      " b'\\xe8\\xb7\\xaf\\xe6\\x97\\xb6\\xe5\\x88\\xbb\\xe5\\x90\\xac\\xe4\\xbb\\x8e\\xe5\\x85\\x9a\\xe5\\x92\\x8c\\xe4\\xba\\xba\\xe6\\xb0\\x91\\xe5\\x8f\\xac'\n",
      " b'\\xe6\\x97\\xb6\\xe5\\x88\\xbb\\xe5\\x90\\xac\\xe4\\xbb\\x8e\\xe5\\x85\\x9a\\xe5\\x92\\x8c\\xe4\\xba\\xba\\xe6\\xb0\\x91\\xe5\\x8f\\xac\\xe5\\x94\\xa4'\n",
      " b'\\xe5\\x88\\xbb\\xe5\\x90\\xac\\xe4\\xbb\\x8e\\xe5\\x85\\x9a\\xe5\\x92\\x8c\\xe4\\xba\\xba\\xe6\\xb0\\x91\\xe5\\x8f\\xac\\xe5\\x94\\xa4\\xe5\\xbf\\xa0'\n",
      " b'\\xe5\\x90\\xac\\xe4\\xbb\\x8e\\xe5\\x85\\x9a\\xe5\\x92\\x8c\\xe4\\xba\\xba\\xe6\\xb0\\x91\\xe5\\x8f\\xac\\xe5\\x94\\xa4\\xe5\\xbf\\xa0\\xe5\\xae\\x9e'\n",
      " b'\\xe4\\xbb\\x8e\\xe5\\x85\\x9a\\xe5\\x92\\x8c\\xe4\\xba\\xba\\xe6\\xb0\\x91\\xe5\\x8f\\xac\\xe5\\x94\\xa4\\xe5\\xbf\\xa0\\xe5\\xae\\x9e\\xe5\\xb1\\xa5'\n",
      " b'\\xe5\\x85\\x9a\\xe5\\x92\\x8c\\xe4\\xba\\xba\\xe6\\xb0\\x91\\xe5\\x8f\\xac\\xe5\\x94\\xa4\\xe5\\xbf\\xa0\\xe5\\xae\\x9e\\xe5\\xb1\\xa5\\xe8\\xa1\\x8c'\n",
      " b'\\xe5\\x92\\x8c\\xe4\\xba\\xba\\xe6\\xb0\\x91\\xe5\\x8f\\xac\\xe5\\x94\\xa4\\xe5\\xbf\\xa0\\xe5\\xae\\x9e\\xe5\\xb1\\xa5\\xe8\\xa1\\x8c\\xe5\\x85\\x9a'\n",
      " b'\\xe4\\xba\\xba\\xe6\\xb0\\x91\\xe5\\x8f\\xac\\xe5\\x94\\xa4\\xe5\\xbf\\xa0\\xe5\\xae\\x9e\\xe5\\xb1\\xa5\\xe8\\xa1\\x8c\\xe5\\x85\\x9a\\xe5\\x92\\x8c'\n",
      " b'\\xe6\\xb0\\x91\\xe5\\x8f\\xac\\xe5\\x94\\xa4\\xe5\\xbf\\xa0\\xe5\\xae\\x9e\\xe5\\xb1\\xa5\\xe8\\xa1\\x8c\\xe5\\x85\\x9a\\xe5\\x92\\x8c\\xe4\\xba\\xba'\n",
      " b'\\xe5\\x8f\\xac\\xe5\\x94\\xa4\\xe5\\xbf\\xa0\\xe5\\xae\\x9e\\xe5\\xb1\\xa5\\xe8\\xa1\\x8c\\xe5\\x85\\x9a\\xe5\\x92\\x8c\\xe4\\xba\\xba\\xe6\\xb0\\x91'\n",
      " b'\\xe5\\x94\\xa4\\xe5\\xbf\\xa0\\xe5\\xae\\x9e\\xe5\\xb1\\xa5\\xe8\\xa1\\x8c\\xe5\\x85\\x9a\\xe5\\x92\\x8c\\xe4\\xba\\xba\\xe6\\xb0\\x91\\xe8\\xb5\\x8b'\n",
      " b'\\xe5\\xbf\\xa0\\xe5\\xae\\x9e\\xe5\\xb1\\xa5\\xe8\\xa1\\x8c\\xe5\\x85\\x9a\\xe5\\x92\\x8c\\xe4\\xba\\xba\\xe6\\xb0\\x91\\xe8\\xb5\\x8b\\xe4\\xba\\x88'\n",
      " b'\\xe5\\xae\\x9e\\xe5\\xb1\\xa5\\xe8\\xa1\\x8c\\xe5\\x85\\x9a\\xe5\\x92\\x8c\\xe4\\xba\\xba\\xe6\\xb0\\x91\\xe8\\xb5\\x8b\\xe4\\xba\\x88\\xe7\\x9a\\x84'\n",
      " b'\\xe5\\xb1\\xa5\\xe8\\xa1\\x8c\\xe5\\x85\\x9a\\xe5\\x92\\x8c\\xe4\\xba\\xba\\xe6\\xb0\\x91\\xe8\\xb5\\x8b\\xe4\\xba\\x88\\xe7\\x9a\\x84\\xe7\\xa5\\x9e'\n",
      " b'\\xe8\\xa1\\x8c\\xe5\\x85\\x9a\\xe5\\x92\\x8c\\xe4\\xba\\xba\\xe6\\xb0\\x91\\xe8\\xb5\\x8b\\xe4\\xba\\x88\\xe7\\x9a\\x84\\xe7\\xa5\\x9e\\xe5\\x9c\\xa3'\n",
      " b'\\xe5\\x85\\x9a\\xe5\\x92\\x8c\\xe4\\xba\\xba\\xe6\\xb0\\x91\\xe8\\xb5\\x8b\\xe4\\xba\\x88\\xe7\\x9a\\x84\\xe7\\xa5\\x9e\\xe5\\x9c\\xa3\\xe4\\xbd\\xbf'\n",
      " b'\\xe5\\x92\\x8c\\xe4\\xba\\xba\\xe6\\xb0\\x91\\xe8\\xb5\\x8b\\xe4\\xba\\x88\\xe7\\x9a\\x84\\xe7\\xa5\\x9e\\xe5\\x9c\\xa3\\xe4\\xbd\\xbf\\xe5\\x91\\xbd'\n",
      " b'\\xe4\\xba\\xba\\xe6\\xb0\\x91\\xe8\\xb5\\x8b\\xe4\\xba\\x88\\xe7\\x9a\\x84\\xe7\\xa5\\x9e\\xe5\\x9c\\xa3\\xe4\\xbd\\xbf\\xe5\\x91\\xbd\\xe4\\xb8\\xba'\n",
      " b'\\xe6\\xb0\\x91\\xe8\\xb5\\x8b\\xe4\\xba\\x88\\xe7\\x9a\\x84\\xe7\\xa5\\x9e\\xe5\\x9c\\xa3\\xe4\\xbd\\xbf\\xe5\\x91\\xbd\\xe4\\xb8\\xba\\xe5\\xae\\x9e'\n",
      " b'\\xe8\\xb5\\x8b\\xe4\\xba\\x88\\xe7\\x9a\\x84\\xe7\\xa5\\x9e\\xe5\\x9c\\xa3\\xe4\\xbd\\xbf\\xe5\\x91\\xbd\\xe4\\xb8\\xba\\xe5\\xae\\x9e\\xe7\\x8e\\xb0'\n",
      " b'\\xe4\\xba\\x88\\xe7\\x9a\\x84\\xe7\\xa5\\x9e\\xe5\\x9c\\xa3\\xe4\\xbd\\xbf\\xe5\\x91\\xbd\\xe4\\xb8\\xba\\xe5\\xae\\x9e\\xe7\\x8e\\xb0\\xe4\\xb8\\xad'\n",
      " b'\\xe7\\x9a\\x84\\xe7\\xa5\\x9e\\xe5\\x9c\\xa3\\xe4\\xbd\\xbf\\xe5\\x91\\xbd\\xe4\\xb8\\xba\\xe5\\xae\\x9e\\xe7\\x8e\\xb0\\xe4\\xb8\\xad\\xe5\\x9b\\xbd'\n",
      " b'\\xe7\\xa5\\x9e\\xe5\\x9c\\xa3\\xe4\\xbd\\xbf\\xe5\\x91\\xbd\\xe4\\xb8\\xba\\xe5\\xae\\x9e\\xe7\\x8e\\xb0\\xe4\\xb8\\xad\\xe5\\x9b\\xbd\\xe6\\xa2\\xa6'\n",
      " b'\\xe5\\x9c\\xa3\\xe4\\xbd\\xbf\\xe5\\x91\\xbd\\xe4\\xb8\\xba\\xe5\\xae\\x9e\\xe7\\x8e\\xb0\\xe4\\xb8\\xad\\xe5\\x9b\\xbd\\xe6\\xa2\\xa6\\xe5\\xbc\\xba'\n",
      " b'\\xe4\\xbd\\xbf\\xe5\\x91\\xbd\\xe4\\xb8\\xba\\xe5\\xae\\x9e\\xe7\\x8e\\xb0\\xe4\\xb8\\xad\\xe5\\x9b\\xbd\\xe6\\xa2\\xa6\\xe5\\xbc\\xba\\xe5\\x86\\x9b'\n",
      " b'\\xe5\\x91\\xbd\\xe4\\xb8\\xba\\xe5\\xae\\x9e\\xe7\\x8e\\xb0\\xe4\\xb8\\xad\\xe5\\x9b\\xbd\\xe6\\xa2\\xa6\\xe5\\xbc\\xba\\xe5\\x86\\x9b\\xe6\\xa2\\xa6'\n",
      " b'\\xe4\\xb8\\xba\\xe5\\xae\\x9e\\xe7\\x8e\\xb0\\xe4\\xb8\\xad\\xe5\\x9b\\xbd\\xe6\\xa2\\xa6\\xe5\\xbc\\xba\\xe5\\x86\\x9b\\xe6\\xa2\\xa6\\xe4\\xbd\\x9c'\n",
      " b'\\xe5\\xae\\x9e\\xe7\\x8e\\xb0\\xe4\\xb8\\xad\\xe5\\x9b\\xbd\\xe6\\xa2\\xa6\\xe5\\xbc\\xba\\xe5\\x86\\x9b\\xe6\\xa2\\xa6\\xe4\\xbd\\x9c\\xe5\\x87\\xba'\n",
      " b'\\xe7\\x8e\\xb0\\xe4\\xb8\\xad\\xe5\\x9b\\xbd\\xe6\\xa2\\xa6\\xe5\\xbc\\xba\\xe5\\x86\\x9b\\xe6\\xa2\\xa6\\xe4\\xbd\\x9c\\xe5\\x87\\xba\\xe6\\x96\\xb0'\n",
      " b'\\xe4\\xb8\\xad\\xe5\\x9b\\xbd\\xe6\\xa2\\xa6\\xe5\\xbc\\xba\\xe5\\x86\\x9b\\xe6\\xa2\\xa6\\xe4\\xbd\\x9c\\xe5\\x87\\xba\\xe6\\x96\\xb0\\xe7\\x9a\\x84'\n",
      " b'\\xe5\\x9b\\xbd\\xe6\\xa2\\xa6\\xe5\\xbc\\xba\\xe5\\x86\\x9b\\xe6\\xa2\\xa6\\xe4\\xbd\\x9c\\xe5\\x87\\xba\\xe6\\x96\\xb0\\xe7\\x9a\\x84\\xe6\\x9b\\xb4'\n",
      " b'\\xe6\\xa2\\xa6\\xe5\\xbc\\xba\\xe5\\x86\\x9b\\xe6\\xa2\\xa6\\xe4\\xbd\\x9c\\xe5\\x87\\xba\\xe6\\x96\\xb0\\xe7\\x9a\\x84\\xe6\\x9b\\xb4\\xe5\\xa4\\xa7'\n",
      " b'\\xe5\\xbc\\xba\\xe5\\x86\\x9b\\xe6\\xa2\\xa6\\xe4\\xbd\\x9c\\xe5\\x87\\xba\\xe6\\x96\\xb0\\xe7\\x9a\\x84\\xe6\\x9b\\xb4\\xe5\\xa4\\xa7\\xe7\\x9a\\x84'\n",
      " b'\\xe5\\x86\\x9b\\xe6\\xa2\\xa6\\xe4\\xbd\\x9c\\xe5\\x87\\xba\\xe6\\x96\\xb0\\xe7\\x9a\\x84\\xe6\\x9b\\xb4\\xe5\\xa4\\xa7\\xe7\\x9a\\x84\\xe8\\xb4\\xa1'\n",
      " b'\\xe6\\xa2\\xa6\\xe4\\xbd\\x9c\\xe5\\x87\\xba\\xe6\\x96\\xb0\\xe7\\x9a\\x84\\xe6\\x9b\\xb4\\xe5\\xa4\\xa7\\xe7\\x9a\\x84\\xe8\\xb4\\xa1\\xe7\\x8c\\xae'\n",
      " b'\\xe4\\xbd\\x9c\\xe5\\x87\\xba\\xe6\\x96\\xb0\\xe7\\x9a\\x84\\xe6\\x9b\\xb4\\xe5\\xa4\\xa7\\xe7\\x9a\\x84\\xe8\\xb4\\xa1\\xe7\\x8c\\xae\\xe4\\xb8\\x8b'\n",
      " b'\\xe5\\x87\\xba\\xe6\\x96\\xb0\\xe7\\x9a\\x84\\xe6\\x9b\\xb4\\xe5\\xa4\\xa7\\xe7\\x9a\\x84\\xe8\\xb4\\xa1\\xe7\\x8c\\xae\\xe4\\xb8\\x8b\\xe5\\x8d\\x88'\n",
      " b'\\xe6\\x96\\xb0\\xe7\\x9a\\x84\\xe6\\x9b\\xb4\\xe5\\xa4\\xa7\\xe7\\x9a\\x84\\xe8\\xb4\\xa1\\xe7\\x8c\\xae\\xe4\\xb8\\x8b\\xe5\\x8d\\x88\\xe6\\x97\\xb6'\n",
      " b'\\xe7\\x9a\\x84\\xe6\\x9b\\xb4\\xe5\\xa4\\xa7\\xe7\\x9a\\x84\\xe8\\xb4\\xa1\\xe7\\x8c\\xae\\xe4\\xb8\\x8b\\xe5\\x8d\\x88\\xe6\\x97\\xb6\\xe6\\x88\\x90'\n",
      " b'\\xe6\\x9b\\xb4\\xe5\\xa4\\xa7\\xe7\\x9a\\x84\\xe8\\xb4\\xa1\\xe7\\x8c\\xae\\xe4\\xb8\\x8b\\xe5\\x8d\\x88\\xe6\\x97\\xb6\\xe6\\x88\\x90\\xe7\\xab\\x8b'\n",
      " b'\\xe5\\xa4\\xa7\\xe7\\x9a\\x84\\xe8\\xb4\\xa1\\xe7\\x8c\\xae\\xe4\\xb8\\x8b\\xe5\\x8d\\x88\\xe6\\x97\\xb6\\xe6\\x88\\x90\\xe7\\xab\\x8b\\xe5\\xa4\\xa7'\n",
      " b'\\xe7\\x9a\\x84\\xe8\\xb4\\xa1\\xe7\\x8c\\xae\\xe4\\xb8\\x8b\\xe5\\x8d\\x88\\xe6\\x97\\xb6\\xe6\\x88\\x90\\xe7\\xab\\x8b\\xe5\\xa4\\xa7\\xe4\\xbc\\x9a'\n",
      " b'\\xe8\\xb4\\xa1\\xe7\\x8c\\xae\\xe4\\xb8\\x8b\\xe5\\x8d\\x88\\xe6\\x97\\xb6\\xe6\\x88\\x90\\xe7\\xab\\x8b\\xe5\\xa4\\xa7\\xe4\\xbc\\x9a\\xe5\\xbc\\x80'\n",
      " b'\\xe7\\x8c\\xae\\xe4\\xb8\\x8b\\xe5\\x8d\\x88\\xe6\\x97\\xb6\\xe6\\x88\\x90\\xe7\\xab\\x8b\\xe5\\xa4\\xa7\\xe4\\xbc\\x9a\\xe5\\xbc\\x80\\xe5\\xa7\\x8b'\n",
      " b'\\xe4\\xb8\\x8b\\xe5\\x8d\\x88\\xe6\\x97\\xb6\\xe6\\x88\\x90\\xe7\\xab\\x8b\\xe5\\xa4\\xa7\\xe4\\xbc\\x9a\\xe5\\xbc\\x80\\xe5\\xa7\\x8b\\xe5\\x85\\xa8'\n",
      " b'\\xe5\\x8d\\x88\\xe6\\x97\\xb6\\xe6\\x88\\x90\\xe7\\xab\\x8b\\xe5\\xa4\\xa7\\xe4\\xbc\\x9a\\xe5\\xbc\\x80\\xe5\\xa7\\x8b\\xe5\\x85\\xa8\\xe5\\x9c\\xba'\n",
      " b'\\xe6\\x97\\xb6\\xe6\\x88\\x90\\xe7\\xab\\x8b\\xe5\\xa4\\xa7\\xe4\\xbc\\x9a\\xe5\\xbc\\x80\\xe5\\xa7\\x8b\\xe5\\x85\\xa8\\xe5\\x9c\\xba\\xe9\\xab\\x98'\n",
      " b'\\xe6\\x88\\x90\\xe7\\xab\\x8b\\xe5\\xa4\\xa7\\xe4\\xbc\\x9a\\xe5\\xbc\\x80\\xe5\\xa7\\x8b\\xe5\\x85\\xa8\\xe5\\x9c\\xba\\xe9\\xab\\x98\\xe5\\x94\\xb1'\n",
      " b'\\xe7\\xab\\x8b\\xe5\\xa4\\xa7\\xe4\\xbc\\x9a\\xe5\\xbc\\x80\\xe5\\xa7\\x8b\\xe5\\x85\\xa8\\xe5\\x9c\\xba\\xe9\\xab\\x98\\xe5\\x94\\xb1\\xe5\\x9b\\xbd'\n",
      " b'\\xe5\\xa4\\xa7\\xe4\\xbc\\x9a\\xe5\\xbc\\x80\\xe5\\xa7\\x8b\\xe5\\x85\\xa8\\xe5\\x9c\\xba\\xe9\\xab\\x98\\xe5\\x94\\xb1\\xe5\\x9b\\xbd\\xe6\\xad\\x8c'\n",
      " b'\\xe4\\xbc\\x9a\\xe5\\xbc\\x80\\xe5\\xa7\\x8b\\xe5\\x85\\xa8\\xe5\\x9c\\xba\\xe9\\xab\\x98\\xe5\\x94\\xb1\\xe5\\x9b\\xbd\\xe6\\xad\\x8c\\xe4\\xbb\\xaa'\n",
      " b'\\xe5\\xbc\\x80\\xe5\\xa7\\x8b\\xe5\\x85\\xa8\\xe5\\x9c\\xba\\xe9\\xab\\x98\\xe5\\x94\\xb1\\xe5\\x9b\\xbd\\xe6\\xad\\x8c\\xe4\\xbb\\xaa\\xe4\\xbb\\x97'\n",
      " b'\\xe5\\xa7\\x8b\\xe5\\x85\\xa8\\xe5\\x9c\\xba\\xe9\\xab\\x98\\xe5\\x94\\xb1\\xe5\\x9b\\xbd\\xe6\\xad\\x8c\\xe4\\xbb\\xaa\\xe4\\xbb\\x97\\xe7\\xa4\\xbc'\n",
      " b'\\xe5\\x85\\xa8\\xe5\\x9c\\xba\\xe9\\xab\\x98\\xe5\\x94\\xb1\\xe5\\x9b\\xbd\\xe6\\xad\\x8c\\xe4\\xbb\\xaa\\xe4\\xbb\\x97\\xe7\\xa4\\xbc\\xe5\\x85\\xb5'\n",
      " b'\\xe5\\x9c\\xba\\xe9\\xab\\x98\\xe5\\x94\\xb1\\xe5\\x9b\\xbd\\xe6\\xad\\x8c\\xe4\\xbb\\xaa\\xe4\\xbb\\x97\\xe7\\xa4\\xbc\\xe5\\x85\\xb5\\xe6\\x8a\\xa4'\n",
      " b'\\xe9\\xab\\x98\\xe5\\x94\\xb1\\xe5\\x9b\\xbd\\xe6\\xad\\x8c\\xe4\\xbb\\xaa\\xe4\\xbb\\x97\\xe7\\xa4\\xbc\\xe5\\x85\\xb5\\xe6\\x8a\\xa4\\xe5\\x8d\\xab'\n",
      " b'\\xe5\\x94\\xb1\\xe5\\x9b\\xbd\\xe6\\xad\\x8c\\xe4\\xbb\\xaa\\xe4\\xbb\\x97\\xe7\\xa4\\xbc\\xe5\\x85\\xb5\\xe6\\x8a\\xa4\\xe5\\x8d\\xab\\xe7\\x9d\\x80'\n",
      " b'\\xe5\\x9b\\xbd\\xe6\\xad\\x8c\\xe4\\xbb\\xaa\\xe4\\xbb\\x97\\xe7\\xa4\\xbc\\xe5\\x85\\xb5\\xe6\\x8a\\xa4\\xe5\\x8d\\xab\\xe7\\x9d\\x80\\xe9\\xb2\\x9c'\n",
      " b'\\xe6\\xad\\x8c\\xe4\\xbb\\xaa\\xe4\\xbb\\x97\\xe7\\xa4\\xbc\\xe5\\x85\\xb5\\xe6\\x8a\\xa4\\xe5\\x8d\\xab\\xe7\\x9d\\x80\\xe9\\xb2\\x9c\\xe8\\x89\\xb3'\n",
      " b'\\xe4\\xbb\\xaa\\xe4\\xbb\\x97\\xe7\\xa4\\xbc\\xe5\\x85\\xb5\\xe6\\x8a\\xa4\\xe5\\x8d\\xab\\xe7\\x9d\\x80\\xe9\\xb2\\x9c\\xe8\\x89\\xb3\\xe5\\x86\\x9b'\n",
      " b'\\xe4\\xbb\\x97\\xe7\\xa4\\xbc\\xe5\\x85\\xb5\\xe6\\x8a\\xa4\\xe5\\x8d\\xab\\xe7\\x9d\\x80\\xe9\\xb2\\x9c\\xe8\\x89\\xb3\\xe5\\x86\\x9b\\xe6\\x97\\x97'\n",
      " b'\\xe7\\xa4\\xbc\\xe5\\x85\\xb5\\xe6\\x8a\\xa4\\xe5\\x8d\\xab\\xe7\\x9d\\x80\\xe9\\xb2\\x9c\\xe8\\x89\\xb3\\xe5\\x86\\x9b\\xe6\\x97\\x97\\xe6\\xad\\xa3'\n",
      " b'\\xe5\\x85\\xb5\\xe6\\x8a\\xa4\\xe5\\x8d\\xab\\xe7\\x9d\\x80\\xe9\\xb2\\x9c\\xe8\\x89\\xb3\\xe5\\x86\\x9b\\xe6\\x97\\x97\\xe6\\xad\\xa3\\xe6\\xad\\xa5'\n",
      " b'\\xe6\\x8a\\xa4\\xe5\\x8d\\xab\\xe7\\x9d\\x80\\xe9\\xb2\\x9c\\xe8\\x89\\xb3\\xe5\\x86\\x9b\\xe6\\x97\\x97\\xe6\\xad\\xa3\\xe6\\xad\\xa5\\xe8\\xa1\\x8c'\n",
      " b'\\xe5\\x8d\\xab\\xe7\\x9d\\x80\\xe9\\xb2\\x9c\\xe8\\x89\\xb3\\xe5\\x86\\x9b\\xe6\\x97\\x97\\xe6\\xad\\xa3\\xe6\\xad\\xa5\\xe8\\xa1\\x8c\\xe8\\xbf\\x9b'\n",
      " b'\\xe7\\x9d\\x80\\xe9\\xb2\\x9c\\xe8\\x89\\xb3\\xe5\\x86\\x9b\\xe6\\x97\\x97\\xe6\\xad\\xa3\\xe6\\xad\\xa5\\xe8\\xa1\\x8c\\xe8\\xbf\\x9b\\xe5\\x88\\xb0'\n",
      " b'\\xe9\\xb2\\x9c\\xe8\\x89\\xb3\\xe5\\x86\\x9b\\xe6\\x97\\x97\\xe6\\xad\\xa3\\xe6\\xad\\xa5\\xe8\\xa1\\x8c\\xe8\\xbf\\x9b\\xe5\\x88\\xb0\\xe4\\xb8\\xbb'\n",
      " b'\\xe8\\x89\\xb3\\xe5\\x86\\x9b\\xe6\\x97\\x97\\xe6\\xad\\xa3\\xe6\\xad\\xa5\\xe8\\xa1\\x8c\\xe8\\xbf\\x9b\\xe5\\x88\\xb0\\xe4\\xb8\\xbb\\xe5\\xb8\\xad'\n",
      " b'\\xe5\\x86\\x9b\\xe6\\x97\\x97\\xe6\\xad\\xa3\\xe6\\xad\\xa5\\xe8\\xa1\\x8c\\xe8\\xbf\\x9b\\xe5\\x88\\xb0\\xe4\\xb8\\xbb\\xe5\\xb8\\xad\\xe5\\x8f\\xb0'\n",
      " b'\\xe6\\x97\\x97\\xe6\\xad\\xa3\\xe6\\xad\\xa5\\xe8\\xa1\\x8c\\xe8\\xbf\\x9b\\xe5\\x88\\xb0\\xe4\\xb8\\xbb\\xe5\\xb8\\xad\\xe5\\x8f\\xb0\\xe5\\x89\\x8d'\n",
      " b'\\xe6\\xad\\xa3\\xe6\\xad\\xa5\\xe8\\xa1\\x8c\\xe8\\xbf\\x9b\\xe5\\x88\\xb0\\xe4\\xb8\\xbb\\xe5\\xb8\\xad\\xe5\\x8f\\xb0\\xe5\\x89\\x8d\\xe4\\xb9\\xa0'\n",
      " b'\\xe6\\xad\\xa5\\xe8\\xa1\\x8c\\xe8\\xbf\\x9b\\xe5\\x88\\xb0\\xe4\\xb8\\xbb\\xe5\\xb8\\xad\\xe5\\x8f\\xb0\\xe5\\x89\\x8d\\xe4\\xb9\\xa0\\xe8\\xbf\\x91'\n",
      " b'\\xe8\\xa1\\x8c\\xe8\\xbf\\x9b\\xe5\\x88\\xb0\\xe4\\xb8\\xbb\\xe5\\xb8\\xad\\xe5\\x8f\\xb0\\xe5\\x89\\x8d\\xe4\\xb9\\xa0\\xe8\\xbf\\x91\\xe5\\xb9\\xb3'\n",
      " b'\\xe8\\xbf\\x9b\\xe5\\x88\\xb0\\xe4\\xb8\\xbb\\xe5\\xb8\\xad\\xe5\\x8f\\xb0\\xe5\\x89\\x8d\\xe4\\xb9\\xa0\\xe8\\xbf\\x91\\xe5\\xb9\\xb3\\xe5\\xb0\\x86']\n",
      "Input T9: [b'486 736 646 543 3264 586 58 586 5464 326'\n",
      " b'736 646 543 3264 586 58 586 5464 326 54'\n",
      " b'646 543 3264 586 58 586 5464 326 54 468'\n",
      " b'543 3264 586 58 586 5464 326 54 468 94664'\n",
      " b'3264 586 58 586 5464 326 54 468 94664 486'\n",
      " b'586 58 586 5464 326 54 468 94664 486 736'\n",
      " b'58 586 5464 326 54 468 94664 486 736 646'\n",
      " b'586 5464 326 54 468 94664 486 736 646 543'\n",
      " b'5464 326 54 468 94664 486 736 646 543 3264'\n",
      " b'326 54 468 94664 486 736 646 543 3264 586'\n",
      " b'54 468 94664 486 736 646 543 3264 586 486'\n",
      " b'468 94664 486 736 646 543 3264 586 486 5426'\n",
      " b'94664 486 736 646 543 3264 586 486 5426 586'\n",
      " b'486 736 646 543 3264 586 486 5426 586 94664'\n",
      " b'736 646 543 3264 586 486 5426 586 94664 486'\n",
      " b'646 543 3264 586 486 5426 586 94664 486 736'\n",
      " b'543 3264 586 486 5426 586 94664 486 736 646'\n",
      " b'3264 586 486 5426 586 94664 486 736 646 543'\n",
      " b'586 486 5426 586 94664 486 736 646 543 3264'\n",
      " b'486 5426 586 94664 486 736 646 543 3264 586'\n",
      " b'5426 586 94664 486 736 646 543 3264 586 9426'\n",
      " b'586 94664 486 736 646 543 3264 586 9426 583'\n",
      " b'94664 486 736 646 543 3264 586 9426 583 944'\n",
      " b'486 736 646 543 3264 586 9426 583 944 9826'\n",
      " b'736 646 543 3264 586 9426 583 944 9826 28'\n",
      " b'646 543 3264 586 9426 583 944 9826 28 384'\n",
      " b'543 3264 586 9426 583 944 9826 28 384 24364'\n",
      " b'3264 586 9426 583 944 9826 28 384 24364 54'\n",
      " b'586 9426 583 944 9826 28 384 24364 54 32'\n",
      " b'9426 583 944 9826 28 384 24364 54 32 484'\n",
      " b'583 944 9826 28 384 24364 54 32 484 6426'\n",
      " b'944 9826 28 384 24364 54 32 484 6426 983'\n",
      " b'9826 28 384 24364 54 32 484 6426 983 74'\n",
      " b'28 384 24364 54 32 484 6426 983 74 924'\n",
      " b'384 24364 54 32 484 6426 983 74 924 22'\n",
      " b'24364 54 32 484 6426 983 74 924 22 94'\n",
      " b'54 32 484 6426 983 74 924 22 94 32'\n",
      " b'32 484 6426 983 74 924 22 94 32 568'\n",
      " b'484 6426 983 74 924 22 94 32 568 5664'\n",
      " b'6426 983 74 924 22 94 32 568 5664 94664'\n",
      " b'983 74 924 22 94 32 568 5664 94664 58'\n",
      " b'74 924 22 94 32 568 5664 94664 58 9464'\n",
      " b'924 22 94 32 568 5664 94664 58 9464 94664'\n",
      " b'22 94 32 568 5664 94664 58 9464 94664 4664'\n",
      " b'94 32 568 5664 94664 58 9464 94664 4664 94664'\n",
      " b'32 568 5664 94664 58 9464 94664 4664 94664 9264'\n",
      " b'568 5664 94664 58 9464 94664 4664 94664 9264 9664'\n",
      " b'5664 94664 58 9464 94664 4664 94664 9264 9664 748'\n",
      " b'94664 58 9464 94664 4664 94664 9264 9664 748 54'\n",
      " b'58 9464 94664 4664 94664 9264 9664 748 54 486'\n",
      " b'9464 94664 4664 94664 9264 9664 748 54 486 542'\n",
      " b'94664 4664 94664 9264 9664 748 54 486 542 948'\n",
      " b'4664 94664 9264 9664 748 54 486 542 948 94'\n",
      " b'94664 9264 9664 748 54 486 542 948 94 94664'\n",
      " b'9264 9664 748 54 486 542 948 94 94664 9264'\n",
      " b'9664 748 54 486 542 948 94 94664 9264 586'\n",
      " b'748 54 486 542 948 94 94664 9264 586 934'\n",
      " b'54 486 542 948 94 94664 9264 586 934 948'\n",
      " b'486 542 948 94 94664 9264 586 934 948 94'\n",
      " b'542 948 94 94664 9264 586 934 948 94 94'\n",
      " b'948 94 94664 9264 586 934 948 94 94 546'\n",
      " b'94 94664 9264 586 934 948 94 94 546 7464'\n",
      " b'94664 9264 586 934 948 94 94 546 7464 94264'\n",
      " b'9264 586 934 948 94 94 546 7464 94264 58'\n",
      " b'586 934 948 94 94 546 7464 94264 58 586'\n",
      " b'934 948 94 94 546 7464 94264 58 586 486'\n",
      " b'948 94 94 546 7464 94264 58 586 486 5426'\n",
      " b'94 94 546 7464 94264 58 586 486 5426 586'\n",
      " b'94 546 7464 94264 58 586 486 5426 586 9426'\n",
      " b'546 7464 94264 58 586 486 5426 586 9426 583'\n",
      " b'7464 94264 58 586 486 5426 586 9426 583 944'\n",
      " b'94264 58 586 486 5426 586 9426 583 944 9826'\n",
      " b'58 586 486 5426 586 9426 583 944 9826 28'\n",
      " b'586 486 5426 586 9426 583 944 9826 28 384'\n",
      " b'486 5426 586 9426 583 944 9826 28 384 7468'\n",
      " b'5426 586 9426 583 944 9826 28 384 7468 98'\n",
      " b'586 9426 583 944 9826 28 384 7468 98 586'\n",
      " b'9426 583 944 9826 28 384 7468 98 586 74'\n",
      " b'583 944 9826 28 384 7468 98 586 74 2464'\n",
      " b'944 9826 28 384 7468 98 586 74 2464 944'\n",
      " b'9826 28 384 7468 98 586 74 2464 944 986'\n",
      " b'28 384 7468 98 586 74 2464 944 986 24'\n",
      " b'384 7468 98 586 74 2464 944 986 24 324'\n",
      " b'7468 98 586 74 2464 944 986 24 324 2426'\n",
      " b'98 586 74 2464 944 986 24 324 2426 3264'\n",
      " b'586 74 2464 944 986 24 324 2426 3264 94664'\n",
      " b'74 2464 944 986 24 324 2426 3264 94664 9264'\n",
      " b'2464 944 986 24 324 2426 3264 94664 9264 43'\n",
      " b'944 986 24 324 2426 3264 94664 9264 43 94664'\n",
      " b'986 24 324 2426 3264 94664 9264 43 94664 9264'\n",
      " b'24 324 2426 3264 94664 9264 43 94664 9264 586'\n",
      " b'324 2426 3264 94664 9264 43 94664 9264 586 934'\n",
      " b'2426 3264 94664 9264 43 94664 9264 586 934 94264'\n",
      " b'3264 94664 9264 43 94664 9264 586 934 94264 8664'\n",
      " b'94664 9264 43 94664 9264 586 934 94264 8664 944'\n",
      " b'9264 43 94664 9264 586 934 94264 8664 944 636'\n",
      " b'43 94664 9264 586 934 94264 8664 944 636 94264'\n",
      " b'94664 9264 586 934 94264 8664 944 636 94264 7826'\n",
      " b'9264 586 934 94264 8664 944 636 94264 7826 586'\n",
      " b'586 934 94264 8664 944 636 94264 7826 586 28'\n",
      " b'934 94264 8664 944 636 94264 7826 586 28 384'\n",
      " b'94264 8664 944 636 94264 7826 586 28 384 944'\n",
      " b'8664 944 636 94264 7826 586 28 384 944 94'\n",
      " b'944 636 94264 7826 586 28 384 944 94 73'\n",
      " b'636 94264 7826 586 28 384 944 94 73 543'\n",
      " b'94264 7826 586 28 384 944 94 73 543 948'\n",
      " b'7826 586 28 384 944 94 73 543 948 43'\n",
      " b'586 28 384 944 94 73 543 948 43 74264'\n",
      " b'28 384 944 94 73 543 948 43 74264 3426'\n",
      " b'384 944 94 73 543 948 43 74264 3426 926'\n",
      " b'944 94 73 543 948 43 74264 3426 926 5426'\n",
      " b'94 73 543 948 43 74264 3426 926 5426 244'\n",
      " b'73 543 948 43 74264 3426 926 5426 244 94'\n",
      " b'543 948 43 74264 3426 926 5426 244 94 3264'\n",
      " b'948 43 74264 3426 926 5426 244 94 3264 924'\n",
      " b'43 74264 3426 926 5426 244 94 3264 924 946'\n",
      " b'74264 3426 926 5426 244 94 3264 924 946 9464'\n",
      " b'3426 926 5426 244 94 3264 924 946 9464 744'\n",
      " b'926 5426 244 94 3264 924 946 9464 744 942'\n",
      " b'5426 244 94 3264 924 946 9464 744 942 33'\n",
      " b'244 94 3264 924 946 9464 744 942 33 74264'\n",
      " b'94 3264 924 946 9464 744 942 33 74264 586'\n",
      " b'3264 924 946 9464 744 942 33 74264 586 68'\n",
      " b'924 946 9464 744 942 33 74264 586 68 2426'\n",
      " b'946 9464 744 942 33 74264 586 68 2426 934'\n",
      " b'9464 744 942 33 74264 586 68 2426 934 946'\n",
      " b'744 942 33 74264 586 68 2426 934 946 5464'\n",
      " b'942 33 74264 586 68 2426 934 946 5464 7436'\n",
      " b'33 74264 586 68 2426 934 946 5464 7436 78'\n",
      " b'74264 586 68 2426 934 946 5464 7436 78 4826'\n",
      " b'586 68 2426 934 946 5464 7436 78 4826 243'\n",
      " b'68 2426 934 946 5464 7436 78 4826 243 946'\n",
      " b'2426 934 946 5464 7436 78 4826 243 946 9464'\n",
      " b'934 946 5464 7436 78 4826 243 946 9464 744'\n",
      " b'946 5464 7436 78 4826 243 946 9464 744 942'\n",
      " b'5464 7436 78 4826 243 946 9464 744 942 586'\n",
      " b'7436 78 4826 243 946 9464 744 942 586 744'\n",
      " b'78 4826 243 946 9464 744 942 586 744 9426'\n",
      " b'4826 243 946 9464 744 942 586 744 9426 583'\n",
      " b'243 946 9464 744 942 586 744 9426 583 3264'\n",
      " b'946 9464 744 942 586 744 9426 583 3264 9436'\n",
      " b'9464 744 942 586 744 9426 583 3264 9436 7826'\n",
      " b'744 942 586 744 9426 583 3264 9436 7826 6426'\n",
      " b'942 586 744 9426 583 3264 9436 7826 6426 744'\n",
      " b'586 744 9426 583 3264 9436 7826 6426 744 744'\n",
      " b'744 9426 583 3264 9436 7826 6426 744 744 424'\n",
      " b'9426 583 3264 9436 7826 6426 744 744 424 43'\n",
      " b'583 3264 9436 7826 6426 744 744 424 43 74264'\n",
      " b'3264 9436 7826 6426 744 744 424 43 74264 586'\n",
      " b'9436 7826 6426 744 744 424 43 74264 586 9426'\n",
      " b'7826 6426 744 744 424 43 74264 586 9426 583'\n",
      " b'6426 744 744 424 43 74264 586 9426 583 5426'\n",
      " b'744 744 424 43 74264 586 9426 583 5426 3464'\n",
      " b'744 424 43 74264 586 9426 583 5426 3464 28'\n",
      " b'424 43 74264 586 9426 583 5426 3464 28 94'\n",
      " b'43 74264 586 9426 583 5426 3464 28 94 968'\n",
      " b'74264 586 9426 583 5426 3464 28 94 968 94664'\n",
      " b'586 9426 583 5426 3464 28 94 968 94664 486'\n",
      " b'9426 583 5426 3464 28 94 968 94664 486 83'\n",
      " b'583 5426 3464 28 94 968 94664 486 83 73'\n",
      " b'5426 3464 28 94 968 94664 486 83 73 74264'\n",
      " b'3464 28 94 968 94664 486 83 73 74264 586'\n",
      " b'28 94 968 94664 486 83 73 74264 586 944'\n",
      " b'94 968 94664 486 83 73 74264 586 944 58'\n",
      " b'968 94664 486 83 73 74264 586 944 58 744'\n",
      " b'94664 486 83 73 74264 586 944 58 744 53'\n",
      " b'486 83 73 74264 586 944 58 744 53 8464'\n",
      " b'83 73 74264 586 944 58 744 53 8464 2664'\n",
      " b'73 74264 586 944 58 744 53 8464 2664 3264'\n",
      " b'74264 586 944 58 744 53 8464 2664 3264 43'\n",
      " b'586 944 58 744 53 8464 2664 3264 43 736'\n",
      " b'944 58 744 53 8464 2664 3264 43 736 646'\n",
      " b'58 744 53 8464 2664 3264 43 736 646 9426'\n",
      " b'744 53 8464 2664 3264 43 736 646 9426 4826'\n",
      " b'53 8464 2664 3264 43 736 646 9426 4826 94664'\n",
      " b'8464 2664 3264 43 736 646 9426 4826 94664 744'\n",
      " b'2664 3264 43 736 646 9426 4826 94664 744 58'\n",
      " b'3264 43 736 646 9426 4826 94664 744 58 9464'\n",
      " b'43 736 646 9426 4826 94664 744 58 9464 3264'\n",
      " b'736 646 9426 4826 94664 744 58 9464 3264 43'\n",
      " b'646 9426 4826 94664 744 58 9464 3264 43 736'\n",
      " b'9426 4826 94664 744 58 9464 3264 43 736 646'\n",
      " b'4826 94664 744 58 9464 3264 43 736 646 38'\n",
      " b'94664 744 58 9464 3264 43 736 646 38 98'\n",
      " b'744 58 9464 3264 43 736 646 38 98 33'\n",
      " b'58 9464 3264 43 736 646 38 98 33 7436'\n",
      " b'9464 3264 43 736 646 38 98 33 7436 74364'\n",
      " b'3264 43 736 646 38 98 33 7436 74364 744'\n",
      " b'43 736 646 38 98 33 7436 74364 744 6464'\n",
      " b'736 646 38 98 33 7436 74364 744 6464 934'\n",
      " b'646 38 98 33 7436 74364 744 6464 934 744'\n",
      " b'38 98 33 7436 74364 744 6464 934 744 9426'\n",
      " b'98 33 7436 74364 744 6464 934 744 9426 94664'\n",
      " b'33 7436 74364 744 6464 934 744 9426 94664 486'\n",
      " b'7436 74364 744 6464 934 744 9426 94664 486 6364'\n",
      " b'74364 744 6464 934 744 9426 94664 486 6364 74264'\n",
      " b'744 6464 934 744 9426 94664 486 6364 74264 586'\n",
      " b'6464 934 744 9426 94664 486 6364 74264 586 6364'\n",
      " b'934 744 9426 94664 486 6364 74264 586 6364 986'\n",
      " b'744 9426 94664 486 6364 74264 586 6364 986 248'\n",
      " b'9426 94664 486 6364 74264 586 6364 986 248 946'\n",
      " b'94664 486 6364 74264 586 6364 986 248 946 33'\n",
      " b'486 6364 74264 586 6364 986 248 946 33 4364'\n",
      " b'6364 74264 586 6364 986 248 946 33 4364 32'\n",
      " b'74264 586 6364 986 248 946 33 4364 32 33'\n",
      " b'586 6364 986 248 946 33 4364 32 33 4664'\n",
      " b'6364 986 248 946 33 4364 32 33 4664 9426'\n",
      " b'986 248 946 33 4364 32 33 4664 9426 942'\n",
      " b'248 946 33 4364 32 33 4664 9426 942 98'\n",
      " b'946 33 4364 32 33 4664 9426 942 98 744'\n",
      " b'33 4364 32 33 4664 9426 942 98 744 24364'\n",
      " b'4364 32 33 4664 9426 942 98 744 24364 54'\n",
      " b'32 33 4664 9426 942 98 744 24364 54 32'\n",
      " b'33 4664 9426 942 98 744 24364 54 32 484'\n",
      " b'4664 9426 942 98 744 24364 54 32 484 524'\n",
      " b'9426 942 98 744 24364 54 32 484 524 744'\n",
      " b'942 98 744 24364 54 32 484 524 744 7826'\n",
      " b'98 744 24364 54 32 484 524 744 7826 24264'\n",
      " b'744 24364 54 32 484 524 744 7826 24264 426'\n",
      " b'24364 54 32 484 524 744 7826 24264 426 24264'\n",
      " b'54 32 484 524 744 7826 24264 426 24264 486'\n",
      " b'32 484 524 744 7826 24264 426 24264 486 43'\n",
      " b'484 524 744 7826 24264 426 24264 486 43 94'\n",
      " b'524 744 7826 24264 426 24264 486 43 94 94264'\n",
      " b'744 7826 24264 426 24264 486 43 94 94264 54'\n",
      " b'7826 24264 426 24264 486 43 94 94264 54 2464'\n",
      " b'24264 426 24264 486 43 94 94264 54 2464 48'\n",
      " b'426 24264 486 43 94 94264 54 2464 48 934'\n",
      " b'24264 486 43 94 94264 54 2464 48 934 943'\n",
      " b'486 43 94 94264 54 2464 48 934 943 9426'\n",
      " b'43 94 94264 54 2464 48 934 943 9426 926'\n",
      " b'94 94264 54 2464 48 934 943 9426 926 586'\n",
      " b'94264 54 2464 48 934 943 9426 926 586 74'\n",
      " b'54 2464 48 934 943 9426 926 586 74 94364'\n",
      " b'2464 48 934 943 9426 926 586 74 94364 28'\n",
      " b'48 934 943 9426 926 586 74 94364 28 9464'\n",
      " b'934 943 9426 926 586 74 94364 28 9464 546'\n",
      " b'943 9426 926 586 74 94364 28 9464 546 326'\n",
      " b'9426 926 586 74 94364 28 9464 546 326 948'\n",
      " b'926 586 74 94364 28 9464 546 326 948 94'\n",
      " b'586 74 94364 28 9464 546 326 948 94 824'\n",
      " b'74 94364 28 9464 546 326 948 94 824 7426'\n",
      " b'94364 28 9464 546 326 948 94 824 7426 94'\n",
      " b'28 9464 546 326 948 94 824 7426 94 546'\n",
      " b'9464 546 326 948 94 824 7426 94 546 7464'\n",
      " b'546 326 948 94 824 7426 94 546 7464 54264'\n",
      " b'326 948 94 824 7426 94 546 7464 54264 586'\n",
      " b'948 94 824 7426 94 546 7464 54264 586 74'\n",
      " b'94 824 7426 94 546 7464 54264 586 74 94364'\n",
      " b'824 7426 94 546 7464 54264 586 74 94364 94664'\n",
      " b'7426 94 546 7464 54264 586 74 94364 94664 7468'\n",
      " b'94 546 7464 54264 586 74 94364 94664 7468 98'\n",
      " b'546 7464 54264 586 74 94364 94664 7468 98 58'\n",
      " b'7464 54264 586 74 94364 94664 7468 98 58 586'\n",
      " b'54264 586 74 94364 94664 7468 98 58 586 74'\n",
      " b'586 74 94364 94664 7468 98 58 586 74 5464']\n",
      "Target: [b'\\xe5\\x9b\\xbd\\xe4\\xba\\xba\\xe6\\xb0\\x91\\xe8\\xa7\\xa3\\xe6\\x94\\xbe\\xe5\\x86\\x9b\\xe9\\x99\\x86\\xe5\\x86\\x9b\\xe9\\xa2\\x86\\xe5\\xaf\\xbc'\n",
      " b'\\xe4\\xba\\xba\\xe6\\xb0\\x91\\xe8\\xa7\\xa3\\xe6\\x94\\xbe\\xe5\\x86\\x9b\\xe9\\x99\\x86\\xe5\\x86\\x9b\\xe9\\xa2\\x86\\xe5\\xaf\\xbc\\xe6\\x9c\\xba'\n",
      " b'\\xe6\\xb0\\x91\\xe8\\xa7\\xa3\\xe6\\x94\\xbe\\xe5\\x86\\x9b\\xe9\\x99\\x86\\xe5\\x86\\x9b\\xe9\\xa2\\x86\\xe5\\xaf\\xbc\\xe6\\x9c\\xba\\xe6\\x9e\\x84'\n",
      " b'\\xe8\\xa7\\xa3\\xe6\\x94\\xbe\\xe5\\x86\\x9b\\xe9\\x99\\x86\\xe5\\x86\\x9b\\xe9\\xa2\\x86\\xe5\\xaf\\xbc\\xe6\\x9c\\xba\\xe6\\x9e\\x84\\xe4\\xb8\\xad'\n",
      " b'\\xe6\\x94\\xbe\\xe5\\x86\\x9b\\xe9\\x99\\x86\\xe5\\x86\\x9b\\xe9\\xa2\\x86\\xe5\\xaf\\xbc\\xe6\\x9c\\xba\\xe6\\x9e\\x84\\xe4\\xb8\\xad\\xe5\\x9b\\xbd'\n",
      " b'\\xe5\\x86\\x9b\\xe9\\x99\\x86\\xe5\\x86\\x9b\\xe9\\xa2\\x86\\xe5\\xaf\\xbc\\xe6\\x9c\\xba\\xe6\\x9e\\x84\\xe4\\xb8\\xad\\xe5\\x9b\\xbd\\xe4\\xba\\xba'\n",
      " b'\\xe9\\x99\\x86\\xe5\\x86\\x9b\\xe9\\xa2\\x86\\xe5\\xaf\\xbc\\xe6\\x9c\\xba\\xe6\\x9e\\x84\\xe4\\xb8\\xad\\xe5\\x9b\\xbd\\xe4\\xba\\xba\\xe6\\xb0\\x91'\n",
      " b'\\xe5\\x86\\x9b\\xe9\\xa2\\x86\\xe5\\xaf\\xbc\\xe6\\x9c\\xba\\xe6\\x9e\\x84\\xe4\\xb8\\xad\\xe5\\x9b\\xbd\\xe4\\xba\\xba\\xe6\\xb0\\x91\\xe8\\xa7\\xa3'\n",
      " b'\\xe9\\xa2\\x86\\xe5\\xaf\\xbc\\xe6\\x9c\\xba\\xe6\\x9e\\x84\\xe4\\xb8\\xad\\xe5\\x9b\\xbd\\xe4\\xba\\xba\\xe6\\xb0\\x91\\xe8\\xa7\\xa3\\xe6\\x94\\xbe'\n",
      " b'\\xe5\\xaf\\xbc\\xe6\\x9c\\xba\\xe6\\x9e\\x84\\xe4\\xb8\\xad\\xe5\\x9b\\xbd\\xe4\\xba\\xba\\xe6\\xb0\\x91\\xe8\\xa7\\xa3\\xe6\\x94\\xbe\\xe5\\x86\\x9b'\n",
      " b'\\xe6\\x9c\\xba\\xe6\\x9e\\x84\\xe4\\xb8\\xad\\xe5\\x9b\\xbd\\xe4\\xba\\xba\\xe6\\xb0\\x91\\xe8\\xa7\\xa3\\xe6\\x94\\xbe\\xe5\\x86\\x9b\\xe7\\x81\\xab'\n",
      " b'\\xe6\\x9e\\x84\\xe4\\xb8\\xad\\xe5\\x9b\\xbd\\xe4\\xba\\xba\\xe6\\xb0\\x91\\xe8\\xa7\\xa3\\xe6\\x94\\xbe\\xe5\\x86\\x9b\\xe7\\x81\\xab\\xe7\\xae\\xad'\n",
      " b'\\xe4\\xb8\\xad\\xe5\\x9b\\xbd\\xe4\\xba\\xba\\xe6\\xb0\\x91\\xe8\\xa7\\xa3\\xe6\\x94\\xbe\\xe5\\x86\\x9b\\xe7\\x81\\xab\\xe7\\xae\\xad\\xe5\\x86\\x9b'\n",
      " b'\\xe5\\x9b\\xbd\\xe4\\xba\\xba\\xe6\\xb0\\x91\\xe8\\xa7\\xa3\\xe6\\x94\\xbe\\xe5\\x86\\x9b\\xe7\\x81\\xab\\xe7\\xae\\xad\\xe5\\x86\\x9b\\xe4\\xb8\\xad'\n",
      " b'\\xe4\\xba\\xba\\xe6\\xb0\\x91\\xe8\\xa7\\xa3\\xe6\\x94\\xbe\\xe5\\x86\\x9b\\xe7\\x81\\xab\\xe7\\xae\\xad\\xe5\\x86\\x9b\\xe4\\xb8\\xad\\xe5\\x9b\\xbd'\n",
      " b'\\xe6\\xb0\\x91\\xe8\\xa7\\xa3\\xe6\\x94\\xbe\\xe5\\x86\\x9b\\xe7\\x81\\xab\\xe7\\xae\\xad\\xe5\\x86\\x9b\\xe4\\xb8\\xad\\xe5\\x9b\\xbd\\xe4\\xba\\xba'\n",
      " b'\\xe8\\xa7\\xa3\\xe6\\x94\\xbe\\xe5\\x86\\x9b\\xe7\\x81\\xab\\xe7\\xae\\xad\\xe5\\x86\\x9b\\xe4\\xb8\\xad\\xe5\\x9b\\xbd\\xe4\\xba\\xba\\xe6\\xb0\\x91'\n",
      " b'\\xe6\\x94\\xbe\\xe5\\x86\\x9b\\xe7\\x81\\xab\\xe7\\xae\\xad\\xe5\\x86\\x9b\\xe4\\xb8\\xad\\xe5\\x9b\\xbd\\xe4\\xba\\xba\\xe6\\xb0\\x91\\xe8\\xa7\\xa3'\n",
      " b'\\xe5\\x86\\x9b\\xe7\\x81\\xab\\xe7\\xae\\xad\\xe5\\x86\\x9b\\xe4\\xb8\\xad\\xe5\\x9b\\xbd\\xe4\\xba\\xba\\xe6\\xb0\\x91\\xe8\\xa7\\xa3\\xe6\\x94\\xbe'\n",
      " b'\\xe7\\x81\\xab\\xe7\\xae\\xad\\xe5\\x86\\x9b\\xe4\\xb8\\xad\\xe5\\x9b\\xbd\\xe4\\xba\\xba\\xe6\\xb0\\x91\\xe8\\xa7\\xa3\\xe6\\x94\\xbe\\xe5\\x86\\x9b'\n",
      " b'\\xe7\\xae\\xad\\xe5\\x86\\x9b\\xe4\\xb8\\xad\\xe5\\x9b\\xbd\\xe4\\xba\\xba\\xe6\\xb0\\x91\\xe8\\xa7\\xa3\\xe6\\x94\\xbe\\xe5\\x86\\x9b\\xe6\\x88\\x98'\n",
      " b'\\xe5\\x86\\x9b\\xe4\\xb8\\xad\\xe5\\x9b\\xbd\\xe4\\xba\\xba\\xe6\\xb0\\x91\\xe8\\xa7\\xa3\\xe6\\x94\\xbe\\xe5\\x86\\x9b\\xe6\\x88\\x98\\xe7\\x95\\xa5'\n",
      " b'\\xe4\\xb8\\xad\\xe5\\x9b\\xbd\\xe4\\xba\\xba\\xe6\\xb0\\x91\\xe8\\xa7\\xa3\\xe6\\x94\\xbe\\xe5\\x86\\x9b\\xe6\\x88\\x98\\xe7\\x95\\xa5\\xe6\\x94\\xaf'\n",
      " b'\\xe5\\x9b\\xbd\\xe4\\xba\\xba\\xe6\\xb0\\x91\\xe8\\xa7\\xa3\\xe6\\x94\\xbe\\xe5\\x86\\x9b\\xe6\\x88\\x98\\xe7\\x95\\xa5\\xe6\\x94\\xaf\\xe6\\x8f\\xb4'\n",
      " b'\\xe4\\xba\\xba\\xe6\\xb0\\x91\\xe8\\xa7\\xa3\\xe6\\x94\\xbe\\xe5\\x86\\x9b\\xe6\\x88\\x98\\xe7\\x95\\xa5\\xe6\\x94\\xaf\\xe6\\x8f\\xb4\\xe9\\x83\\xa8'\n",
      " b'\\xe6\\xb0\\x91\\xe8\\xa7\\xa3\\xe6\\x94\\xbe\\xe5\\x86\\x9b\\xe6\\x88\\x98\\xe7\\x95\\xa5\\xe6\\x94\\xaf\\xe6\\x8f\\xb4\\xe9\\x83\\xa8\\xe9\\x98\\x9f'\n",
      " b'\\xe8\\xa7\\xa3\\xe6\\x94\\xbe\\xe5\\x86\\x9b\\xe6\\x88\\x98\\xe7\\x95\\xa5\\xe6\\x94\\xaf\\xe6\\x8f\\xb4\\xe9\\x83\\xa8\\xe9\\x98\\x9f\\xe6\\x88\\x90'\n",
      " b'\\xe6\\x94\\xbe\\xe5\\x86\\x9b\\xe6\\x88\\x98\\xe7\\x95\\xa5\\xe6\\x94\\xaf\\xe6\\x8f\\xb4\\xe9\\x83\\xa8\\xe9\\x98\\x9f\\xe6\\x88\\x90\\xe7\\xab\\x8b'\n",
      " b'\\xe5\\x86\\x9b\\xe6\\x88\\x98\\xe7\\x95\\xa5\\xe6\\x94\\xaf\\xe6\\x8f\\xb4\\xe9\\x83\\xa8\\xe9\\x98\\x9f\\xe6\\x88\\x90\\xe7\\xab\\x8b\\xe5\\xa4\\xa7'\n",
      " b'\\xe6\\x88\\x98\\xe7\\x95\\xa5\\xe6\\x94\\xaf\\xe6\\x8f\\xb4\\xe9\\x83\\xa8\\xe9\\x98\\x9f\\xe6\\x88\\x90\\xe7\\xab\\x8b\\xe5\\xa4\\xa7\\xe4\\xbc\\x9a'\n",
      " b'\\xe7\\x95\\xa5\\xe6\\x94\\xaf\\xe6\\x8f\\xb4\\xe9\\x83\\xa8\\xe9\\x98\\x9f\\xe6\\x88\\x90\\xe7\\xab\\x8b\\xe5\\xa4\\xa7\\xe4\\xbc\\x9a\\xe5\\xb9\\xb4'\n",
      " b'\\xe6\\x94\\xaf\\xe6\\x8f\\xb4\\xe9\\x83\\xa8\\xe9\\x98\\x9f\\xe6\\x88\\x90\\xe7\\xab\\x8b\\xe5\\xa4\\xa7\\xe4\\xbc\\x9a\\xe5\\xb9\\xb4\\xe6\\x9c\\x88'\n",
      " b'\\xe6\\x8f\\xb4\\xe9\\x83\\xa8\\xe9\\x98\\x9f\\xe6\\x88\\x90\\xe7\\xab\\x8b\\xe5\\xa4\\xa7\\xe4\\xbc\\x9a\\xe5\\xb9\\xb4\\xe6\\x9c\\x88\\xe6\\x97\\xa5'\n",
      " b'\\xe9\\x83\\xa8\\xe9\\x98\\x9f\\xe6\\x88\\x90\\xe7\\xab\\x8b\\xe5\\xa4\\xa7\\xe4\\xbc\\x9a\\xe5\\xb9\\xb4\\xe6\\x9c\\x88\\xe6\\x97\\xa5\\xe5\\x9c\\xa8'\n",
      " b'\\xe9\\x98\\x9f\\xe6\\x88\\x90\\xe7\\xab\\x8b\\xe5\\xa4\\xa7\\xe4\\xbc\\x9a\\xe5\\xb9\\xb4\\xe6\\x9c\\x88\\xe6\\x97\\xa5\\xe5\\x9c\\xa8\\xe5\\x85\\xab'\n",
      " b'\\xe6\\x88\\x90\\xe7\\xab\\x8b\\xe5\\xa4\\xa7\\xe4\\xbc\\x9a\\xe5\\xb9\\xb4\\xe6\\x9c\\x88\\xe6\\x97\\xa5\\xe5\\x9c\\xa8\\xe5\\x85\\xab\\xe4\\xb8\\x80'\n",
      " b'\\xe7\\xab\\x8b\\xe5\\xa4\\xa7\\xe4\\xbc\\x9a\\xe5\\xb9\\xb4\\xe6\\x9c\\x88\\xe6\\x97\\xa5\\xe5\\x9c\\xa8\\xe5\\x85\\xab\\xe4\\xb8\\x80\\xe5\\xa4\\xa7'\n",
      " b'\\xe5\\xa4\\xa7\\xe4\\xbc\\x9a\\xe5\\xb9\\xb4\\xe6\\x9c\\x88\\xe6\\x97\\xa5\\xe5\\x9c\\xa8\\xe5\\x85\\xab\\xe4\\xb8\\x80\\xe5\\xa4\\xa7\\xe6\\xa5\\xbc'\n",
      " b'\\xe4\\xbc\\x9a\\xe5\\xb9\\xb4\\xe6\\x9c\\x88\\xe6\\x97\\xa5\\xe5\\x9c\\xa8\\xe5\\x85\\xab\\xe4\\xb8\\x80\\xe5\\xa4\\xa7\\xe6\\xa5\\xbc\\xe9\\x9a\\x86'\n",
      " b'\\xe5\\xb9\\xb4\\xe6\\x9c\\x88\\xe6\\x97\\xa5\\xe5\\x9c\\xa8\\xe5\\x85\\xab\\xe4\\xb8\\x80\\xe5\\xa4\\xa7\\xe6\\xa5\\xbc\\xe9\\x9a\\x86\\xe9\\x87\\x8d'\n",
      " b'\\xe6\\x9c\\x88\\xe6\\x97\\xa5\\xe5\\x9c\\xa8\\xe5\\x85\\xab\\xe4\\xb8\\x80\\xe5\\xa4\\xa7\\xe6\\xa5\\xbc\\xe9\\x9a\\x86\\xe9\\x87\\x8d\\xe4\\xb8\\xbe'\n",
      " b'\\xe6\\x97\\xa5\\xe5\\x9c\\xa8\\xe5\\x85\\xab\\xe4\\xb8\\x80\\xe5\\xa4\\xa7\\xe6\\xa5\\xbc\\xe9\\x9a\\x86\\xe9\\x87\\x8d\\xe4\\xb8\\xbe\\xe8\\xa1\\x8c'\n",
      " b'\\xe5\\x9c\\xa8\\xe5\\x85\\xab\\xe4\\xb8\\x80\\xe5\\xa4\\xa7\\xe6\\xa5\\xbc\\xe9\\x9a\\x86\\xe9\\x87\\x8d\\xe4\\xb8\\xbe\\xe8\\xa1\\x8c\\xe4\\xb8\\xad'\n",
      " b'\\xe5\\x85\\xab\\xe4\\xb8\\x80\\xe5\\xa4\\xa7\\xe6\\xa5\\xbc\\xe9\\x9a\\x86\\xe9\\x87\\x8d\\xe4\\xb8\\xbe\\xe8\\xa1\\x8c\\xe4\\xb8\\xad\\xe5\\x85\\xb1'\n",
      " b'\\xe4\\xb8\\x80\\xe5\\xa4\\xa7\\xe6\\xa5\\xbc\\xe9\\x9a\\x86\\xe9\\x87\\x8d\\xe4\\xb8\\xbe\\xe8\\xa1\\x8c\\xe4\\xb8\\xad\\xe5\\x85\\xb1\\xe4\\xb8\\xad'\n",
      " b'\\xe5\\xa4\\xa7\\xe6\\xa5\\xbc\\xe9\\x9a\\x86\\xe9\\x87\\x8d\\xe4\\xb8\\xbe\\xe8\\xa1\\x8c\\xe4\\xb8\\xad\\xe5\\x85\\xb1\\xe4\\xb8\\xad\\xe5\\xa4\\xae'\n",
      " b'\\xe6\\xa5\\xbc\\xe9\\x9a\\x86\\xe9\\x87\\x8d\\xe4\\xb8\\xbe\\xe8\\xa1\\x8c\\xe4\\xb8\\xad\\xe5\\x85\\xb1\\xe4\\xb8\\xad\\xe5\\xa4\\xae\\xe6\\x80\\xbb'\n",
      " b'\\xe9\\x9a\\x86\\xe9\\x87\\x8d\\xe4\\xb8\\xbe\\xe8\\xa1\\x8c\\xe4\\xb8\\xad\\xe5\\x85\\xb1\\xe4\\xb8\\xad\\xe5\\xa4\\xae\\xe6\\x80\\xbb\\xe4\\xb9\\xa6'\n",
      " b'\\xe9\\x87\\x8d\\xe4\\xb8\\xbe\\xe8\\xa1\\x8c\\xe4\\xb8\\xad\\xe5\\x85\\xb1\\xe4\\xb8\\xad\\xe5\\xa4\\xae\\xe6\\x80\\xbb\\xe4\\xb9\\xa6\\xe8\\xae\\xb0'\n",
      " b'\\xe4\\xb8\\xbe\\xe8\\xa1\\x8c\\xe4\\xb8\\xad\\xe5\\x85\\xb1\\xe4\\xb8\\xad\\xe5\\xa4\\xae\\xe6\\x80\\xbb\\xe4\\xb9\\xa6\\xe8\\xae\\xb0\\xe5\\x9b\\xbd'\n",
      " b'\\xe8\\xa1\\x8c\\xe4\\xb8\\xad\\xe5\\x85\\xb1\\xe4\\xb8\\xad\\xe5\\xa4\\xae\\xe6\\x80\\xbb\\xe4\\xb9\\xa6\\xe8\\xae\\xb0\\xe5\\x9b\\xbd\\xe5\\xae\\xb6'\n",
      " b'\\xe4\\xb8\\xad\\xe5\\x85\\xb1\\xe4\\xb8\\xad\\xe5\\xa4\\xae\\xe6\\x80\\xbb\\xe4\\xb9\\xa6\\xe8\\xae\\xb0\\xe5\\x9b\\xbd\\xe5\\xae\\xb6\\xe4\\xb8\\xbb'\n",
      " b'\\xe5\\x85\\xb1\\xe4\\xb8\\xad\\xe5\\xa4\\xae\\xe6\\x80\\xbb\\xe4\\xb9\\xa6\\xe8\\xae\\xb0\\xe5\\x9b\\xbd\\xe5\\xae\\xb6\\xe4\\xb8\\xbb\\xe5\\xb8\\xad'\n",
      " b'\\xe4\\xb8\\xad\\xe5\\xa4\\xae\\xe6\\x80\\xbb\\xe4\\xb9\\xa6\\xe8\\xae\\xb0\\xe5\\x9b\\xbd\\xe5\\xae\\xb6\\xe4\\xb8\\xbb\\xe5\\xb8\\xad\\xe4\\xb8\\xad'\n",
      " b'\\xe5\\xa4\\xae\\xe6\\x80\\xbb\\xe4\\xb9\\xa6\\xe8\\xae\\xb0\\xe5\\x9b\\xbd\\xe5\\xae\\xb6\\xe4\\xb8\\xbb\\xe5\\xb8\\xad\\xe4\\xb8\\xad\\xe5\\xa4\\xae'\n",
      " b'\\xe6\\x80\\xbb\\xe4\\xb9\\xa6\\xe8\\xae\\xb0\\xe5\\x9b\\xbd\\xe5\\xae\\xb6\\xe4\\xb8\\xbb\\xe5\\xb8\\xad\\xe4\\xb8\\xad\\xe5\\xa4\\xae\\xe5\\x86\\x9b'\n",
      " b'\\xe4\\xb9\\xa6\\xe8\\xae\\xb0\\xe5\\x9b\\xbd\\xe5\\xae\\xb6\\xe4\\xb8\\xbb\\xe5\\xb8\\xad\\xe4\\xb8\\xad\\xe5\\xa4\\xae\\xe5\\x86\\x9b\\xe5\\xa7\\x94'\n",
      " b'\\xe8\\xae\\xb0\\xe5\\x9b\\xbd\\xe5\\xae\\xb6\\xe4\\xb8\\xbb\\xe5\\xb8\\xad\\xe4\\xb8\\xad\\xe5\\xa4\\xae\\xe5\\x86\\x9b\\xe5\\xa7\\x94\\xe4\\xb8\\xbb'\n",
      " b'\\xe5\\x9b\\xbd\\xe5\\xae\\xb6\\xe4\\xb8\\xbb\\xe5\\xb8\\xad\\xe4\\xb8\\xad\\xe5\\xa4\\xae\\xe5\\x86\\x9b\\xe5\\xa7\\x94\\xe4\\xb8\\xbb\\xe5\\xb8\\xad'\n",
      " b'\\xe5\\xae\\xb6\\xe4\\xb8\\xbb\\xe5\\xb8\\xad\\xe4\\xb8\\xad\\xe5\\xa4\\xae\\xe5\\x86\\x9b\\xe5\\xa7\\x94\\xe4\\xb8\\xbb\\xe5\\xb8\\xad\\xe4\\xb9\\xa0'\n",
      " b'\\xe4\\xb8\\xbb\\xe5\\xb8\\xad\\xe4\\xb8\\xad\\xe5\\xa4\\xae\\xe5\\x86\\x9b\\xe5\\xa7\\x94\\xe4\\xb8\\xbb\\xe5\\xb8\\xad\\xe4\\xb9\\xa0\\xe8\\xbf\\x91'\n",
      " b'\\xe5\\xb8\\xad\\xe4\\xb8\\xad\\xe5\\xa4\\xae\\xe5\\x86\\x9b\\xe5\\xa7\\x94\\xe4\\xb8\\xbb\\xe5\\xb8\\xad\\xe4\\xb9\\xa0\\xe8\\xbf\\x91\\xe5\\xb9\\xb3'\n",
      " b'\\xe4\\xb8\\xad\\xe5\\xa4\\xae\\xe5\\x86\\x9b\\xe5\\xa7\\x94\\xe4\\xb8\\xbb\\xe5\\xb8\\xad\\xe4\\xb9\\xa0\\xe8\\xbf\\x91\\xe5\\xb9\\xb3\\xe5\\x90\\x91'\n",
      " b'\\xe5\\xa4\\xae\\xe5\\x86\\x9b\\xe5\\xa7\\x94\\xe4\\xb8\\xbb\\xe5\\xb8\\xad\\xe4\\xb9\\xa0\\xe8\\xbf\\x91\\xe5\\xb9\\xb3\\xe5\\x90\\x91\\xe9\\x99\\x86'\n",
      " b'\\xe5\\x86\\x9b\\xe5\\xa7\\x94\\xe4\\xb8\\xbb\\xe5\\xb8\\xad\\xe4\\xb9\\xa0\\xe8\\xbf\\x91\\xe5\\xb9\\xb3\\xe5\\x90\\x91\\xe9\\x99\\x86\\xe5\\x86\\x9b'\n",
      " b'\\xe5\\xa7\\x94\\xe4\\xb8\\xbb\\xe5\\xb8\\xad\\xe4\\xb9\\xa0\\xe8\\xbf\\x91\\xe5\\xb9\\xb3\\xe5\\x90\\x91\\xe9\\x99\\x86\\xe5\\x86\\x9b\\xe7\\x81\\xab'\n",
      " b'\\xe4\\xb8\\xbb\\xe5\\xb8\\xad\\xe4\\xb9\\xa0\\xe8\\xbf\\x91\\xe5\\xb9\\xb3\\xe5\\x90\\x91\\xe9\\x99\\x86\\xe5\\x86\\x9b\\xe7\\x81\\xab\\xe7\\xae\\xad'\n",
      " b'\\xe5\\xb8\\xad\\xe4\\xb9\\xa0\\xe8\\xbf\\x91\\xe5\\xb9\\xb3\\xe5\\x90\\x91\\xe9\\x99\\x86\\xe5\\x86\\x9b\\xe7\\x81\\xab\\xe7\\xae\\xad\\xe5\\x86\\x9b'\n",
      " b'\\xe4\\xb9\\xa0\\xe8\\xbf\\x91\\xe5\\xb9\\xb3\\xe5\\x90\\x91\\xe9\\x99\\x86\\xe5\\x86\\x9b\\xe7\\x81\\xab\\xe7\\xae\\xad\\xe5\\x86\\x9b\\xe6\\x88\\x98'\n",
      " b'\\xe8\\xbf\\x91\\xe5\\xb9\\xb3\\xe5\\x90\\x91\\xe9\\x99\\x86\\xe5\\x86\\x9b\\xe7\\x81\\xab\\xe7\\xae\\xad\\xe5\\x86\\x9b\\xe6\\x88\\x98\\xe7\\x95\\xa5'\n",
      " b'\\xe5\\xb9\\xb3\\xe5\\x90\\x91\\xe9\\x99\\x86\\xe5\\x86\\x9b\\xe7\\x81\\xab\\xe7\\xae\\xad\\xe5\\x86\\x9b\\xe6\\x88\\x98\\xe7\\x95\\xa5\\xe6\\x94\\xaf'\n",
      " b'\\xe5\\x90\\x91\\xe9\\x99\\x86\\xe5\\x86\\x9b\\xe7\\x81\\xab\\xe7\\xae\\xad\\xe5\\x86\\x9b\\xe6\\x88\\x98\\xe7\\x95\\xa5\\xe6\\x94\\xaf\\xe6\\x8f\\xb4'\n",
      " b'\\xe9\\x99\\x86\\xe5\\x86\\x9b\\xe7\\x81\\xab\\xe7\\xae\\xad\\xe5\\x86\\x9b\\xe6\\x88\\x98\\xe7\\x95\\xa5\\xe6\\x94\\xaf\\xe6\\x8f\\xb4\\xe9\\x83\\xa8'\n",
      " b'\\xe5\\x86\\x9b\\xe7\\x81\\xab\\xe7\\xae\\xad\\xe5\\x86\\x9b\\xe6\\x88\\x98\\xe7\\x95\\xa5\\xe6\\x94\\xaf\\xe6\\x8f\\xb4\\xe9\\x83\\xa8\\xe9\\x98\\x9f'\n",
      " b'\\xe7\\x81\\xab\\xe7\\xae\\xad\\xe5\\x86\\x9b\\xe6\\x88\\x98\\xe7\\x95\\xa5\\xe6\\x94\\xaf\\xe6\\x8f\\xb4\\xe9\\x83\\xa8\\xe9\\x98\\x9f\\xe6\\x8e\\x88'\n",
      " b'\\xe7\\xae\\xad\\xe5\\x86\\x9b\\xe6\\x88\\x98\\xe7\\x95\\xa5\\xe6\\x94\\xaf\\xe6\\x8f\\xb4\\xe9\\x83\\xa8\\xe9\\x98\\x9f\\xe6\\x8e\\x88\\xe4\\xba\\x88'\n",
      " b'\\xe5\\x86\\x9b\\xe6\\x88\\x98\\xe7\\x95\\xa5\\xe6\\x94\\xaf\\xe6\\x8f\\xb4\\xe9\\x83\\xa8\\xe9\\x98\\x9f\\xe6\\x8e\\x88\\xe4\\xba\\x88\\xe5\\x86\\x9b'\n",
      " b'\\xe6\\x88\\x98\\xe7\\x95\\xa5\\xe6\\x94\\xaf\\xe6\\x8f\\xb4\\xe9\\x83\\xa8\\xe9\\x98\\x9f\\xe6\\x8e\\x88\\xe4\\xba\\x88\\xe5\\x86\\x9b\\xe6\\x97\\x97'\n",
      " b'\\xe7\\x95\\xa5\\xe6\\x94\\xaf\\xe6\\x8f\\xb4\\xe9\\x83\\xa8\\xe9\\x98\\x9f\\xe6\\x8e\\x88\\xe4\\xba\\x88\\xe5\\x86\\x9b\\xe6\\x97\\x97\\xe5\\xb9\\xb6'\n",
      " b'\\xe6\\x94\\xaf\\xe6\\x8f\\xb4\\xe9\\x83\\xa8\\xe9\\x98\\x9f\\xe6\\x8e\\x88\\xe4\\xba\\x88\\xe5\\x86\\x9b\\xe6\\x97\\x97\\xe5\\xb9\\xb6\\xe8\\x87\\xb4'\n",
      " b'\\xe6\\x8f\\xb4\\xe9\\x83\\xa8\\xe9\\x98\\x9f\\xe6\\x8e\\x88\\xe4\\xba\\x88\\xe5\\x86\\x9b\\xe6\\x97\\x97\\xe5\\xb9\\xb6\\xe8\\x87\\xb4\\xe8\\xae\\xad'\n",
      " b'\\xe9\\x83\\xa8\\xe9\\x98\\x9f\\xe6\\x8e\\x88\\xe4\\xba\\x88\\xe5\\x86\\x9b\\xe6\\x97\\x97\\xe5\\xb9\\xb6\\xe8\\x87\\xb4\\xe8\\xae\\xad\\xe8\\xaf\\x8d'\n",
      " b'\\xe9\\x98\\x9f\\xe6\\x8e\\x88\\xe4\\xba\\x88\\xe5\\x86\\x9b\\xe6\\x97\\x97\\xe5\\xb9\\xb6\\xe8\\x87\\xb4\\xe8\\xae\\xad\\xe8\\xaf\\x8d\\xe4\\xbb\\xa3'\n",
      " b'\\xe6\\x8e\\x88\\xe4\\xba\\x88\\xe5\\x86\\x9b\\xe6\\x97\\x97\\xe5\\xb9\\xb6\\xe8\\x87\\xb4\\xe8\\xae\\xad\\xe8\\xaf\\x8d\\xe4\\xbb\\xa3\\xe8\\xa1\\xa8'\n",
      " b'\\xe4\\xba\\x88\\xe5\\x86\\x9b\\xe6\\x97\\x97\\xe5\\xb9\\xb6\\xe8\\x87\\xb4\\xe8\\xae\\xad\\xe8\\xaf\\x8d\\xe4\\xbb\\xa3\\xe8\\xa1\\xa8\\xe5\\x85\\x9a'\n",
      " b'\\xe5\\x86\\x9b\\xe6\\x97\\x97\\xe5\\xb9\\xb6\\xe8\\x87\\xb4\\xe8\\xae\\xad\\xe8\\xaf\\x8d\\xe4\\xbb\\xa3\\xe8\\xa1\\xa8\\xe5\\x85\\x9a\\xe4\\xb8\\xad'\n",
      " b'\\xe6\\x97\\x97\\xe5\\xb9\\xb6\\xe8\\x87\\xb4\\xe8\\xae\\xad\\xe8\\xaf\\x8d\\xe4\\xbb\\xa3\\xe8\\xa1\\xa8\\xe5\\x85\\x9a\\xe4\\xb8\\xad\\xe5\\xa4\\xae'\n",
      " b'\\xe5\\xb9\\xb6\\xe8\\x87\\xb4\\xe8\\xae\\xad\\xe8\\xaf\\x8d\\xe4\\xbb\\xa3\\xe8\\xa1\\xa8\\xe5\\x85\\x9a\\xe4\\xb8\\xad\\xe5\\xa4\\xae\\xe5\\x92\\x8c'\n",
      " b'\\xe8\\x87\\xb4\\xe8\\xae\\xad\\xe8\\xaf\\x8d\\xe4\\xbb\\xa3\\xe8\\xa1\\xa8\\xe5\\x85\\x9a\\xe4\\xb8\\xad\\xe5\\xa4\\xae\\xe5\\x92\\x8c\\xe4\\xb8\\xad'\n",
      " b'\\xe8\\xae\\xad\\xe8\\xaf\\x8d\\xe4\\xbb\\xa3\\xe8\\xa1\\xa8\\xe5\\x85\\x9a\\xe4\\xb8\\xad\\xe5\\xa4\\xae\\xe5\\x92\\x8c\\xe4\\xb8\\xad\\xe5\\xa4\\xae'\n",
      " b'\\xe8\\xaf\\x8d\\xe4\\xbb\\xa3\\xe8\\xa1\\xa8\\xe5\\x85\\x9a\\xe4\\xb8\\xad\\xe5\\xa4\\xae\\xe5\\x92\\x8c\\xe4\\xb8\\xad\\xe5\\xa4\\xae\\xe5\\x86\\x9b'\n",
      " b'\\xe4\\xbb\\xa3\\xe8\\xa1\\xa8\\xe5\\x85\\x9a\\xe4\\xb8\\xad\\xe5\\xa4\\xae\\xe5\\x92\\x8c\\xe4\\xb8\\xad\\xe5\\xa4\\xae\\xe5\\x86\\x9b\\xe5\\xa7\\x94'\n",
      " b'\\xe8\\xa1\\xa8\\xe5\\x85\\x9a\\xe4\\xb8\\xad\\xe5\\xa4\\xae\\xe5\\x92\\x8c\\xe4\\xb8\\xad\\xe5\\xa4\\xae\\xe5\\x86\\x9b\\xe5\\xa7\\x94\\xe5\\x90\\x91'\n",
      " b'\\xe5\\x85\\x9a\\xe4\\xb8\\xad\\xe5\\xa4\\xae\\xe5\\x92\\x8c\\xe4\\xb8\\xad\\xe5\\xa4\\xae\\xe5\\x86\\x9b\\xe5\\xa7\\x94\\xe5\\x90\\x91\\xe5\\x90\\x8c'\n",
      " b'\\xe4\\xb8\\xad\\xe5\\xa4\\xae\\xe5\\x92\\x8c\\xe4\\xb8\\xad\\xe5\\xa4\\xae\\xe5\\x86\\x9b\\xe5\\xa7\\x94\\xe5\\x90\\x91\\xe5\\x90\\x8c\\xe5\\xbf\\x97'\n",
      " b'\\xe5\\xa4\\xae\\xe5\\x92\\x8c\\xe4\\xb8\\xad\\xe5\\xa4\\xae\\xe5\\x86\\x9b\\xe5\\xa7\\x94\\xe5\\x90\\x91\\xe5\\x90\\x8c\\xe5\\xbf\\x97\\xe4\\xbb\\xac'\n",
      " b'\\xe5\\x92\\x8c\\xe4\\xb8\\xad\\xe5\\xa4\\xae\\xe5\\x86\\x9b\\xe5\\xa7\\x94\\xe5\\x90\\x91\\xe5\\x90\\x8c\\xe5\\xbf\\x97\\xe4\\xbb\\xac\\xe5\\x90\\x91'\n",
      " b'\\xe4\\xb8\\xad\\xe5\\xa4\\xae\\xe5\\x86\\x9b\\xe5\\xa7\\x94\\xe5\\x90\\x91\\xe5\\x90\\x8c\\xe5\\xbf\\x97\\xe4\\xbb\\xac\\xe5\\x90\\x91\\xe5\\x85\\xa8'\n",
      " b'\\xe5\\xa4\\xae\\xe5\\x86\\x9b\\xe5\\xa7\\x94\\xe5\\x90\\x91\\xe5\\x90\\x8c\\xe5\\xbf\\x97\\xe4\\xbb\\xac\\xe5\\x90\\x91\\xe5\\x85\\xa8\\xe5\\x86\\x9b'\n",
      " b'\\xe5\\x86\\x9b\\xe5\\xa7\\x94\\xe5\\x90\\x91\\xe5\\x90\\x8c\\xe5\\xbf\\x97\\xe4\\xbb\\xac\\xe5\\x90\\x91\\xe5\\x85\\xa8\\xe5\\x86\\x9b\\xe9\\x83\\xa8'\n",
      " b'\\xe5\\xa7\\x94\\xe5\\x90\\x91\\xe5\\x90\\x8c\\xe5\\xbf\\x97\\xe4\\xbb\\xac\\xe5\\x90\\x91\\xe5\\x85\\xa8\\xe5\\x86\\x9b\\xe9\\x83\\xa8\\xe9\\x98\\x9f'\n",
      " b'\\xe5\\x90\\x91\\xe5\\x90\\x8c\\xe5\\xbf\\x97\\xe4\\xbb\\xac\\xe5\\x90\\x91\\xe5\\x85\\xa8\\xe5\\x86\\x9b\\xe9\\x83\\xa8\\xe9\\x98\\x9f\\xe8\\x87\\xb4'\n",
      " b'\\xe5\\x90\\x8c\\xe5\\xbf\\x97\\xe4\\xbb\\xac\\xe5\\x90\\x91\\xe5\\x85\\xa8\\xe5\\x86\\x9b\\xe9\\x83\\xa8\\xe9\\x98\\x9f\\xe8\\x87\\xb4\\xe4\\xbb\\xa5'\n",
      " b'\\xe5\\xbf\\x97\\xe4\\xbb\\xac\\xe5\\x90\\x91\\xe5\\x85\\xa8\\xe5\\x86\\x9b\\xe9\\x83\\xa8\\xe9\\x98\\x9f\\xe8\\x87\\xb4\\xe4\\xbb\\xa5\\xe7\\x83\\xad'\n",
      " b'\\xe4\\xbb\\xac\\xe5\\x90\\x91\\xe5\\x85\\xa8\\xe5\\x86\\x9b\\xe9\\x83\\xa8\\xe9\\x98\\x9f\\xe8\\x87\\xb4\\xe4\\xbb\\xa5\\xe7\\x83\\xad\\xe7\\x83\\x88'\n",
      " b'\\xe5\\x90\\x91\\xe5\\x85\\xa8\\xe5\\x86\\x9b\\xe9\\x83\\xa8\\xe9\\x98\\x9f\\xe8\\x87\\xb4\\xe4\\xbb\\xa5\\xe7\\x83\\xad\\xe7\\x83\\x88\\xe7\\xa5\\x9d'\n",
      " b'\\xe5\\x85\\xa8\\xe5\\x86\\x9b\\xe9\\x83\\xa8\\xe9\\x98\\x9f\\xe8\\x87\\xb4\\xe4\\xbb\\xa5\\xe7\\x83\\xad\\xe7\\x83\\x88\\xe7\\xa5\\x9d\\xe8\\xb4\\xba'\n",
      " b'\\xe5\\x86\\x9b\\xe9\\x83\\xa8\\xe9\\x98\\x9f\\xe8\\x87\\xb4\\xe4\\xbb\\xa5\\xe7\\x83\\xad\\xe7\\x83\\x88\\xe7\\xa5\\x9d\\xe8\\xb4\\xba\\xe5\\xbc\\xba'\n",
      " b'\\xe9\\x83\\xa8\\xe9\\x98\\x9f\\xe8\\x87\\xb4\\xe4\\xbb\\xa5\\xe7\\x83\\xad\\xe7\\x83\\x88\\xe7\\xa5\\x9d\\xe8\\xb4\\xba\\xe5\\xbc\\xba\\xe8\\xb0\\x83'\n",
      " b'\\xe9\\x98\\x9f\\xe8\\x87\\xb4\\xe4\\xbb\\xa5\\xe7\\x83\\xad\\xe7\\x83\\x88\\xe7\\xa5\\x9d\\xe8\\xb4\\xba\\xe5\\xbc\\xba\\xe8\\xb0\\x83\\xe8\\xa6\\x81'\n",
      " b'\\xe8\\x87\\xb4\\xe4\\xbb\\xa5\\xe7\\x83\\xad\\xe7\\x83\\x88\\xe7\\xa5\\x9d\\xe8\\xb4\\xba\\xe5\\xbc\\xba\\xe8\\xb0\\x83\\xe8\\xa6\\x81\\xe5\\x9d\\x9a'\n",
      " b'\\xe4\\xbb\\xa5\\xe7\\x83\\xad\\xe7\\x83\\x88\\xe7\\xa5\\x9d\\xe8\\xb4\\xba\\xe5\\xbc\\xba\\xe8\\xb0\\x83\\xe8\\xa6\\x81\\xe5\\x9d\\x9a\\xe6\\x8c\\x81'\n",
      " b'\\xe7\\x83\\xad\\xe7\\x83\\x88\\xe7\\xa5\\x9d\\xe8\\xb4\\xba\\xe5\\xbc\\xba\\xe8\\xb0\\x83\\xe8\\xa6\\x81\\xe5\\x9d\\x9a\\xe6\\x8c\\x81\\xe4\\xbb\\xa5'\n",
      " b'\\xe7\\x83\\x88\\xe7\\xa5\\x9d\\xe8\\xb4\\xba\\xe5\\xbc\\xba\\xe8\\xb0\\x83\\xe8\\xa6\\x81\\xe5\\x9d\\x9a\\xe6\\x8c\\x81\\xe4\\xbb\\xa5\\xe5\\x85\\x9a'\n",
      " b'\\xe7\\xa5\\x9d\\xe8\\xb4\\xba\\xe5\\xbc\\xba\\xe8\\xb0\\x83\\xe8\\xa6\\x81\\xe5\\x9d\\x9a\\xe6\\x8c\\x81\\xe4\\xbb\\xa5\\xe5\\x85\\x9a\\xe5\\x9c\\xa8'\n",
      " b'\\xe8\\xb4\\xba\\xe5\\xbc\\xba\\xe8\\xb0\\x83\\xe8\\xa6\\x81\\xe5\\x9d\\x9a\\xe6\\x8c\\x81\\xe4\\xbb\\xa5\\xe5\\x85\\x9a\\xe5\\x9c\\xa8\\xe6\\x96\\xb0'\n",
      " b'\\xe5\\xbc\\xba\\xe8\\xb0\\x83\\xe8\\xa6\\x81\\xe5\\x9d\\x9a\\xe6\\x8c\\x81\\xe4\\xbb\\xa5\\xe5\\x85\\x9a\\xe5\\x9c\\xa8\\xe6\\x96\\xb0\\xe5\\xbd\\xa2'\n",
      " b'\\xe8\\xb0\\x83\\xe8\\xa6\\x81\\xe5\\x9d\\x9a\\xe6\\x8c\\x81\\xe4\\xbb\\xa5\\xe5\\x85\\x9a\\xe5\\x9c\\xa8\\xe6\\x96\\xb0\\xe5\\xbd\\xa2\\xe5\\x8a\\xbf'\n",
      " b'\\xe8\\xa6\\x81\\xe5\\x9d\\x9a\\xe6\\x8c\\x81\\xe4\\xbb\\xa5\\xe5\\x85\\x9a\\xe5\\x9c\\xa8\\xe6\\x96\\xb0\\xe5\\xbd\\xa2\\xe5\\x8a\\xbf\\xe4\\xb8\\x8b'\n",
      " b'\\xe5\\x9d\\x9a\\xe6\\x8c\\x81\\xe4\\xbb\\xa5\\xe5\\x85\\x9a\\xe5\\x9c\\xa8\\xe6\\x96\\xb0\\xe5\\xbd\\xa2\\xe5\\x8a\\xbf\\xe4\\xb8\\x8b\\xe7\\x9a\\x84'\n",
      " b'\\xe6\\x8c\\x81\\xe4\\xbb\\xa5\\xe5\\x85\\x9a\\xe5\\x9c\\xa8\\xe6\\x96\\xb0\\xe5\\xbd\\xa2\\xe5\\x8a\\xbf\\xe4\\xb8\\x8b\\xe7\\x9a\\x84\\xe5\\xbc\\xba'\n",
      " b'\\xe4\\xbb\\xa5\\xe5\\x85\\x9a\\xe5\\x9c\\xa8\\xe6\\x96\\xb0\\xe5\\xbd\\xa2\\xe5\\x8a\\xbf\\xe4\\xb8\\x8b\\xe7\\x9a\\x84\\xe5\\xbc\\xba\\xe5\\x86\\x9b'\n",
      " b'\\xe5\\x85\\x9a\\xe5\\x9c\\xa8\\xe6\\x96\\xb0\\xe5\\xbd\\xa2\\xe5\\x8a\\xbf\\xe4\\xb8\\x8b\\xe7\\x9a\\x84\\xe5\\xbc\\xba\\xe5\\x86\\x9b\\xe7\\x9b\\xae'\n",
      " b'\\xe5\\x9c\\xa8\\xe6\\x96\\xb0\\xe5\\xbd\\xa2\\xe5\\x8a\\xbf\\xe4\\xb8\\x8b\\xe7\\x9a\\x84\\xe5\\xbc\\xba\\xe5\\x86\\x9b\\xe7\\x9b\\xae\\xe6\\xa0\\x87'\n",
      " b'\\xe6\\x96\\xb0\\xe5\\xbd\\xa2\\xe5\\x8a\\xbf\\xe4\\xb8\\x8b\\xe7\\x9a\\x84\\xe5\\xbc\\xba\\xe5\\x86\\x9b\\xe7\\x9b\\xae\\xe6\\xa0\\x87\\xe4\\xb8\\xba'\n",
      " b'\\xe5\\xbd\\xa2\\xe5\\x8a\\xbf\\xe4\\xb8\\x8b\\xe7\\x9a\\x84\\xe5\\xbc\\xba\\xe5\\x86\\x9b\\xe7\\x9b\\xae\\xe6\\xa0\\x87\\xe4\\xb8\\xba\\xe5\\xbc\\x95'\n",
      " b'\\xe5\\x8a\\xbf\\xe4\\xb8\\x8b\\xe7\\x9a\\x84\\xe5\\xbc\\xba\\xe5\\x86\\x9b\\xe7\\x9b\\xae\\xe6\\xa0\\x87\\xe4\\xb8\\xba\\xe5\\xbc\\x95\\xe9\\xa2\\x86'\n",
      " b'\\xe4\\xb8\\x8b\\xe7\\x9a\\x84\\xe5\\xbc\\xba\\xe5\\x86\\x9b\\xe7\\x9b\\xae\\xe6\\xa0\\x87\\xe4\\xb8\\xba\\xe5\\xbc\\x95\\xe9\\xa2\\x86\\xe6\\xb7\\xb1'\n",
      " b'\\xe7\\x9a\\x84\\xe5\\xbc\\xba\\xe5\\x86\\x9b\\xe7\\x9b\\xae\\xe6\\xa0\\x87\\xe4\\xb8\\xba\\xe5\\xbc\\x95\\xe9\\xa2\\x86\\xe6\\xb7\\xb1\\xe5\\x85\\xa5'\n",
      " b'\\xe5\\xbc\\xba\\xe5\\x86\\x9b\\xe7\\x9b\\xae\\xe6\\xa0\\x87\\xe4\\xb8\\xba\\xe5\\xbc\\x95\\xe9\\xa2\\x86\\xe6\\xb7\\xb1\\xe5\\x85\\xa5\\xe8\\xb4\\xaf'\n",
      " b'\\xe5\\x86\\x9b\\xe7\\x9b\\xae\\xe6\\xa0\\x87\\xe4\\xb8\\xba\\xe5\\xbc\\x95\\xe9\\xa2\\x86\\xe6\\xb7\\xb1\\xe5\\x85\\xa5\\xe8\\xb4\\xaf\\xe5\\xbd\\xbb'\n",
      " b'\\xe7\\x9b\\xae\\xe6\\xa0\\x87\\xe4\\xb8\\xba\\xe5\\xbc\\x95\\xe9\\xa2\\x86\\xe6\\xb7\\xb1\\xe5\\x85\\xa5\\xe8\\xb4\\xaf\\xe5\\xbd\\xbb\\xe6\\x96\\xb0'\n",
      " b'\\xe6\\xa0\\x87\\xe4\\xb8\\xba\\xe5\\xbc\\x95\\xe9\\xa2\\x86\\xe6\\xb7\\xb1\\xe5\\x85\\xa5\\xe8\\xb4\\xaf\\xe5\\xbd\\xbb\\xe6\\x96\\xb0\\xe5\\xbd\\xa2'\n",
      " b'\\xe4\\xb8\\xba\\xe5\\xbc\\x95\\xe9\\xa2\\x86\\xe6\\xb7\\xb1\\xe5\\x85\\xa5\\xe8\\xb4\\xaf\\xe5\\xbd\\xbb\\xe6\\x96\\xb0\\xe5\\xbd\\xa2\\xe5\\x8a\\xbf'\n",
      " b'\\xe5\\xbc\\x95\\xe9\\xa2\\x86\\xe6\\xb7\\xb1\\xe5\\x85\\xa5\\xe8\\xb4\\xaf\\xe5\\xbd\\xbb\\xe6\\x96\\xb0\\xe5\\xbd\\xa2\\xe5\\x8a\\xbf\\xe4\\xb8\\x8b'\n",
      " b'\\xe9\\xa2\\x86\\xe6\\xb7\\xb1\\xe5\\x85\\xa5\\xe8\\xb4\\xaf\\xe5\\xbd\\xbb\\xe6\\x96\\xb0\\xe5\\xbd\\xa2\\xe5\\x8a\\xbf\\xe4\\xb8\\x8b\\xe5\\x86\\x9b'\n",
      " b'\\xe6\\xb7\\xb1\\xe5\\x85\\xa5\\xe8\\xb4\\xaf\\xe5\\xbd\\xbb\\xe6\\x96\\xb0\\xe5\\xbd\\xa2\\xe5\\x8a\\xbf\\xe4\\xb8\\x8b\\xe5\\x86\\x9b\\xe4\\xba\\x8b'\n",
      " b'\\xe5\\x85\\xa5\\xe8\\xb4\\xaf\\xe5\\xbd\\xbb\\xe6\\x96\\xb0\\xe5\\xbd\\xa2\\xe5\\x8a\\xbf\\xe4\\xb8\\x8b\\xe5\\x86\\x9b\\xe4\\xba\\x8b\\xe6\\x88\\x98'\n",
      " b'\\xe8\\xb4\\xaf\\xe5\\xbd\\xbb\\xe6\\x96\\xb0\\xe5\\xbd\\xa2\\xe5\\x8a\\xbf\\xe4\\xb8\\x8b\\xe5\\x86\\x9b\\xe4\\xba\\x8b\\xe6\\x88\\x98\\xe7\\x95\\xa5'\n",
      " b'\\xe5\\xbd\\xbb\\xe6\\x96\\xb0\\xe5\\xbd\\xa2\\xe5\\x8a\\xbf\\xe4\\xb8\\x8b\\xe5\\x86\\x9b\\xe4\\xba\\x8b\\xe6\\x88\\x98\\xe7\\x95\\xa5\\xe6\\x96\\xb9'\n",
      " b'\\xe6\\x96\\xb0\\xe5\\xbd\\xa2\\xe5\\x8a\\xbf\\xe4\\xb8\\x8b\\xe5\\x86\\x9b\\xe4\\xba\\x8b\\xe6\\x88\\x98\\xe7\\x95\\xa5\\xe6\\x96\\xb9\\xe9\\x92\\x88'\n",
      " b'\\xe5\\xbd\\xa2\\xe5\\x8a\\xbf\\xe4\\xb8\\x8b\\xe5\\x86\\x9b\\xe4\\xba\\x8b\\xe6\\x88\\x98\\xe7\\x95\\xa5\\xe6\\x96\\xb9\\xe9\\x92\\x88\\xe5\\x85\\xa8'\n",
      " b'\\xe5\\x8a\\xbf\\xe4\\xb8\\x8b\\xe5\\x86\\x9b\\xe4\\xba\\x8b\\xe6\\x88\\x98\\xe7\\x95\\xa5\\xe6\\x96\\xb9\\xe9\\x92\\x88\\xe5\\x85\\xa8\\xe9\\x9d\\xa2'\n",
      " b'\\xe4\\xb8\\x8b\\xe5\\x86\\x9b\\xe4\\xba\\x8b\\xe6\\x88\\x98\\xe7\\x95\\xa5\\xe6\\x96\\xb9\\xe9\\x92\\x88\\xe5\\x85\\xa8\\xe9\\x9d\\xa2\\xe5\\xae\\x9e'\n",
      " b'\\xe5\\x86\\x9b\\xe4\\xba\\x8b\\xe6\\x88\\x98\\xe7\\x95\\xa5\\xe6\\x96\\xb9\\xe9\\x92\\x88\\xe5\\x85\\xa8\\xe9\\x9d\\xa2\\xe5\\xae\\x9e\\xe6\\x96\\xbd'\n",
      " b'\\xe4\\xba\\x8b\\xe6\\x88\\x98\\xe7\\x95\\xa5\\xe6\\x96\\xb9\\xe9\\x92\\x88\\xe5\\x85\\xa8\\xe9\\x9d\\xa2\\xe5\\xae\\x9e\\xe6\\x96\\xbd\\xe6\\x94\\xb9'\n",
      " b'\\xe6\\x88\\x98\\xe7\\x95\\xa5\\xe6\\x96\\xb9\\xe9\\x92\\x88\\xe5\\x85\\xa8\\xe9\\x9d\\xa2\\xe5\\xae\\x9e\\xe6\\x96\\xbd\\xe6\\x94\\xb9\\xe9\\x9d\\xa9'\n",
      " b'\\xe7\\x95\\xa5\\xe6\\x96\\xb9\\xe9\\x92\\x88\\xe5\\x85\\xa8\\xe9\\x9d\\xa2\\xe5\\xae\\x9e\\xe6\\x96\\xbd\\xe6\\x94\\xb9\\xe9\\x9d\\xa9\\xe5\\xbc\\xba'\n",
      " b'\\xe6\\x96\\xb9\\xe9\\x92\\x88\\xe5\\x85\\xa8\\xe9\\x9d\\xa2\\xe5\\xae\\x9e\\xe6\\x96\\xbd\\xe6\\x94\\xb9\\xe9\\x9d\\xa9\\xe5\\xbc\\xba\\xe5\\x86\\x9b'\n",
      " b'\\xe9\\x92\\x88\\xe5\\x85\\xa8\\xe9\\x9d\\xa2\\xe5\\xae\\x9e\\xe6\\x96\\xbd\\xe6\\x94\\xb9\\xe9\\x9d\\xa9\\xe5\\xbc\\xba\\xe5\\x86\\x9b\\xe6\\x88\\x98'\n",
      " b'\\xe5\\x85\\xa8\\xe9\\x9d\\xa2\\xe5\\xae\\x9e\\xe6\\x96\\xbd\\xe6\\x94\\xb9\\xe9\\x9d\\xa9\\xe5\\xbc\\xba\\xe5\\x86\\x9b\\xe6\\x88\\x98\\xe7\\x95\\xa5'\n",
      " b'\\xe9\\x9d\\xa2\\xe5\\xae\\x9e\\xe6\\x96\\xbd\\xe6\\x94\\xb9\\xe9\\x9d\\xa9\\xe5\\xbc\\xba\\xe5\\x86\\x9b\\xe6\\x88\\x98\\xe7\\x95\\xa5\\xe5\\x9d\\x9a'\n",
      " b'\\xe5\\xae\\x9e\\xe6\\x96\\xbd\\xe6\\x94\\xb9\\xe9\\x9d\\xa9\\xe5\\xbc\\xba\\xe5\\x86\\x9b\\xe6\\x88\\x98\\xe7\\x95\\xa5\\xe5\\x9d\\x9a\\xe5\\xae\\x9a'\n",
      " b'\\xe6\\x96\\xbd\\xe6\\x94\\xb9\\xe9\\x9d\\xa9\\xe5\\xbc\\xba\\xe5\\x86\\x9b\\xe6\\x88\\x98\\xe7\\x95\\xa5\\xe5\\x9d\\x9a\\xe5\\xae\\x9a\\xe4\\xb8\\x8d'\n",
      " b'\\xe6\\x94\\xb9\\xe9\\x9d\\xa9\\xe5\\xbc\\xba\\xe5\\x86\\x9b\\xe6\\x88\\x98\\xe7\\x95\\xa5\\xe5\\x9d\\x9a\\xe5\\xae\\x9a\\xe4\\xb8\\x8d\\xe7\\xa7\\xbb'\n",
      " b'\\xe9\\x9d\\xa9\\xe5\\xbc\\xba\\xe5\\x86\\x9b\\xe6\\x88\\x98\\xe7\\x95\\xa5\\xe5\\x9d\\x9a\\xe5\\xae\\x9a\\xe4\\xb8\\x8d\\xe7\\xa7\\xbb\\xe8\\xb5\\xb0'\n",
      " b'\\xe5\\xbc\\xba\\xe5\\x86\\x9b\\xe6\\x88\\x98\\xe7\\x95\\xa5\\xe5\\x9d\\x9a\\xe5\\xae\\x9a\\xe4\\xb8\\x8d\\xe7\\xa7\\xbb\\xe8\\xb5\\xb0\\xe4\\xb8\\xad'\n",
      " b'\\xe5\\x86\\x9b\\xe6\\x88\\x98\\xe7\\x95\\xa5\\xe5\\x9d\\x9a\\xe5\\xae\\x9a\\xe4\\xb8\\x8d\\xe7\\xa7\\xbb\\xe8\\xb5\\xb0\\xe4\\xb8\\xad\\xe5\\x9b\\xbd'\n",
      " b'\\xe6\\x88\\x98\\xe7\\x95\\xa5\\xe5\\x9d\\x9a\\xe5\\xae\\x9a\\xe4\\xb8\\x8d\\xe7\\xa7\\xbb\\xe8\\xb5\\xb0\\xe4\\xb8\\xad\\xe5\\x9b\\xbd\\xe7\\x89\\xb9'\n",
      " b'\\xe7\\x95\\xa5\\xe5\\x9d\\x9a\\xe5\\xae\\x9a\\xe4\\xb8\\x8d\\xe7\\xa7\\xbb\\xe8\\xb5\\xb0\\xe4\\xb8\\xad\\xe5\\x9b\\xbd\\xe7\\x89\\xb9\\xe8\\x89\\xb2'\n",
      " b'\\xe5\\x9d\\x9a\\xe5\\xae\\x9a\\xe4\\xb8\\x8d\\xe7\\xa7\\xbb\\xe8\\xb5\\xb0\\xe4\\xb8\\xad\\xe5\\x9b\\xbd\\xe7\\x89\\xb9\\xe8\\x89\\xb2\\xe5\\xbc\\xba'\n",
      " b'\\xe5\\xae\\x9a\\xe4\\xb8\\x8d\\xe7\\xa7\\xbb\\xe8\\xb5\\xb0\\xe4\\xb8\\xad\\xe5\\x9b\\xbd\\xe7\\x89\\xb9\\xe8\\x89\\xb2\\xe5\\xbc\\xba\\xe5\\x86\\x9b'\n",
      " b'\\xe4\\xb8\\x8d\\xe7\\xa7\\xbb\\xe8\\xb5\\xb0\\xe4\\xb8\\xad\\xe5\\x9b\\xbd\\xe7\\x89\\xb9\\xe8\\x89\\xb2\\xe5\\xbc\\xba\\xe5\\x86\\x9b\\xe4\\xb9\\x8b'\n",
      " b'\\xe7\\xa7\\xbb\\xe8\\xb5\\xb0\\xe4\\xb8\\xad\\xe5\\x9b\\xbd\\xe7\\x89\\xb9\\xe8\\x89\\xb2\\xe5\\xbc\\xba\\xe5\\x86\\x9b\\xe4\\xb9\\x8b\\xe8\\xb7\\xaf'\n",
      " b'\\xe8\\xb5\\xb0\\xe4\\xb8\\xad\\xe5\\x9b\\xbd\\xe7\\x89\\xb9\\xe8\\x89\\xb2\\xe5\\xbc\\xba\\xe5\\x86\\x9b\\xe4\\xb9\\x8b\\xe8\\xb7\\xaf\\xe6\\x97\\xb6'\n",
      " b'\\xe4\\xb8\\xad\\xe5\\x9b\\xbd\\xe7\\x89\\xb9\\xe8\\x89\\xb2\\xe5\\xbc\\xba\\xe5\\x86\\x9b\\xe4\\xb9\\x8b\\xe8\\xb7\\xaf\\xe6\\x97\\xb6\\xe5\\x88\\xbb'\n",
      " b'\\xe5\\x9b\\xbd\\xe7\\x89\\xb9\\xe8\\x89\\xb2\\xe5\\xbc\\xba\\xe5\\x86\\x9b\\xe4\\xb9\\x8b\\xe8\\xb7\\xaf\\xe6\\x97\\xb6\\xe5\\x88\\xbb\\xe5\\x90\\xac'\n",
      " b'\\xe7\\x89\\xb9\\xe8\\x89\\xb2\\xe5\\xbc\\xba\\xe5\\x86\\x9b\\xe4\\xb9\\x8b\\xe8\\xb7\\xaf\\xe6\\x97\\xb6\\xe5\\x88\\xbb\\xe5\\x90\\xac\\xe4\\xbb\\x8e'\n",
      " b'\\xe8\\x89\\xb2\\xe5\\xbc\\xba\\xe5\\x86\\x9b\\xe4\\xb9\\x8b\\xe8\\xb7\\xaf\\xe6\\x97\\xb6\\xe5\\x88\\xbb\\xe5\\x90\\xac\\xe4\\xbb\\x8e\\xe5\\x85\\x9a'\n",
      " b'\\xe5\\xbc\\xba\\xe5\\x86\\x9b\\xe4\\xb9\\x8b\\xe8\\xb7\\xaf\\xe6\\x97\\xb6\\xe5\\x88\\xbb\\xe5\\x90\\xac\\xe4\\xbb\\x8e\\xe5\\x85\\x9a\\xe5\\x92\\x8c'\n",
      " b'\\xe5\\x86\\x9b\\xe4\\xb9\\x8b\\xe8\\xb7\\xaf\\xe6\\x97\\xb6\\xe5\\x88\\xbb\\xe5\\x90\\xac\\xe4\\xbb\\x8e\\xe5\\x85\\x9a\\xe5\\x92\\x8c\\xe4\\xba\\xba'\n",
      " b'\\xe4\\xb9\\x8b\\xe8\\xb7\\xaf\\xe6\\x97\\xb6\\xe5\\x88\\xbb\\xe5\\x90\\xac\\xe4\\xbb\\x8e\\xe5\\x85\\x9a\\xe5\\x92\\x8c\\xe4\\xba\\xba\\xe6\\xb0\\x91'\n",
      " b'\\xe8\\xb7\\xaf\\xe6\\x97\\xb6\\xe5\\x88\\xbb\\xe5\\x90\\xac\\xe4\\xbb\\x8e\\xe5\\x85\\x9a\\xe5\\x92\\x8c\\xe4\\xba\\xba\\xe6\\xb0\\x91\\xe5\\x8f\\xac'\n",
      " b'\\xe6\\x97\\xb6\\xe5\\x88\\xbb\\xe5\\x90\\xac\\xe4\\xbb\\x8e\\xe5\\x85\\x9a\\xe5\\x92\\x8c\\xe4\\xba\\xba\\xe6\\xb0\\x91\\xe5\\x8f\\xac\\xe5\\x94\\xa4'\n",
      " b'\\xe5\\x88\\xbb\\xe5\\x90\\xac\\xe4\\xbb\\x8e\\xe5\\x85\\x9a\\xe5\\x92\\x8c\\xe4\\xba\\xba\\xe6\\xb0\\x91\\xe5\\x8f\\xac\\xe5\\x94\\xa4\\xe5\\xbf\\xa0'\n",
      " b'\\xe5\\x90\\xac\\xe4\\xbb\\x8e\\xe5\\x85\\x9a\\xe5\\x92\\x8c\\xe4\\xba\\xba\\xe6\\xb0\\x91\\xe5\\x8f\\xac\\xe5\\x94\\xa4\\xe5\\xbf\\xa0\\xe5\\xae\\x9e'\n",
      " b'\\xe4\\xbb\\x8e\\xe5\\x85\\x9a\\xe5\\x92\\x8c\\xe4\\xba\\xba\\xe6\\xb0\\x91\\xe5\\x8f\\xac\\xe5\\x94\\xa4\\xe5\\xbf\\xa0\\xe5\\xae\\x9e\\xe5\\xb1\\xa5'\n",
      " b'\\xe5\\x85\\x9a\\xe5\\x92\\x8c\\xe4\\xba\\xba\\xe6\\xb0\\x91\\xe5\\x8f\\xac\\xe5\\x94\\xa4\\xe5\\xbf\\xa0\\xe5\\xae\\x9e\\xe5\\xb1\\xa5\\xe8\\xa1\\x8c'\n",
      " b'\\xe5\\x92\\x8c\\xe4\\xba\\xba\\xe6\\xb0\\x91\\xe5\\x8f\\xac\\xe5\\x94\\xa4\\xe5\\xbf\\xa0\\xe5\\xae\\x9e\\xe5\\xb1\\xa5\\xe8\\xa1\\x8c\\xe5\\x85\\x9a'\n",
      " b'\\xe4\\xba\\xba\\xe6\\xb0\\x91\\xe5\\x8f\\xac\\xe5\\x94\\xa4\\xe5\\xbf\\xa0\\xe5\\xae\\x9e\\xe5\\xb1\\xa5\\xe8\\xa1\\x8c\\xe5\\x85\\x9a\\xe5\\x92\\x8c'\n",
      " b'\\xe6\\xb0\\x91\\xe5\\x8f\\xac\\xe5\\x94\\xa4\\xe5\\xbf\\xa0\\xe5\\xae\\x9e\\xe5\\xb1\\xa5\\xe8\\xa1\\x8c\\xe5\\x85\\x9a\\xe5\\x92\\x8c\\xe4\\xba\\xba'\n",
      " b'\\xe5\\x8f\\xac\\xe5\\x94\\xa4\\xe5\\xbf\\xa0\\xe5\\xae\\x9e\\xe5\\xb1\\xa5\\xe8\\xa1\\x8c\\xe5\\x85\\x9a\\xe5\\x92\\x8c\\xe4\\xba\\xba\\xe6\\xb0\\x91'\n",
      " b'\\xe5\\x94\\xa4\\xe5\\xbf\\xa0\\xe5\\xae\\x9e\\xe5\\xb1\\xa5\\xe8\\xa1\\x8c\\xe5\\x85\\x9a\\xe5\\x92\\x8c\\xe4\\xba\\xba\\xe6\\xb0\\x91\\xe8\\xb5\\x8b'\n",
      " b'\\xe5\\xbf\\xa0\\xe5\\xae\\x9e\\xe5\\xb1\\xa5\\xe8\\xa1\\x8c\\xe5\\x85\\x9a\\xe5\\x92\\x8c\\xe4\\xba\\xba\\xe6\\xb0\\x91\\xe8\\xb5\\x8b\\xe4\\xba\\x88'\n",
      " b'\\xe5\\xae\\x9e\\xe5\\xb1\\xa5\\xe8\\xa1\\x8c\\xe5\\x85\\x9a\\xe5\\x92\\x8c\\xe4\\xba\\xba\\xe6\\xb0\\x91\\xe8\\xb5\\x8b\\xe4\\xba\\x88\\xe7\\x9a\\x84'\n",
      " b'\\xe5\\xb1\\xa5\\xe8\\xa1\\x8c\\xe5\\x85\\x9a\\xe5\\x92\\x8c\\xe4\\xba\\xba\\xe6\\xb0\\x91\\xe8\\xb5\\x8b\\xe4\\xba\\x88\\xe7\\x9a\\x84\\xe7\\xa5\\x9e'\n",
      " b'\\xe8\\xa1\\x8c\\xe5\\x85\\x9a\\xe5\\x92\\x8c\\xe4\\xba\\xba\\xe6\\xb0\\x91\\xe8\\xb5\\x8b\\xe4\\xba\\x88\\xe7\\x9a\\x84\\xe7\\xa5\\x9e\\xe5\\x9c\\xa3'\n",
      " b'\\xe5\\x85\\x9a\\xe5\\x92\\x8c\\xe4\\xba\\xba\\xe6\\xb0\\x91\\xe8\\xb5\\x8b\\xe4\\xba\\x88\\xe7\\x9a\\x84\\xe7\\xa5\\x9e\\xe5\\x9c\\xa3\\xe4\\xbd\\xbf'\n",
      " b'\\xe5\\x92\\x8c\\xe4\\xba\\xba\\xe6\\xb0\\x91\\xe8\\xb5\\x8b\\xe4\\xba\\x88\\xe7\\x9a\\x84\\xe7\\xa5\\x9e\\xe5\\x9c\\xa3\\xe4\\xbd\\xbf\\xe5\\x91\\xbd'\n",
      " b'\\xe4\\xba\\xba\\xe6\\xb0\\x91\\xe8\\xb5\\x8b\\xe4\\xba\\x88\\xe7\\x9a\\x84\\xe7\\xa5\\x9e\\xe5\\x9c\\xa3\\xe4\\xbd\\xbf\\xe5\\x91\\xbd\\xe4\\xb8\\xba'\n",
      " b'\\xe6\\xb0\\x91\\xe8\\xb5\\x8b\\xe4\\xba\\x88\\xe7\\x9a\\x84\\xe7\\xa5\\x9e\\xe5\\x9c\\xa3\\xe4\\xbd\\xbf\\xe5\\x91\\xbd\\xe4\\xb8\\xba\\xe5\\xae\\x9e'\n",
      " b'\\xe8\\xb5\\x8b\\xe4\\xba\\x88\\xe7\\x9a\\x84\\xe7\\xa5\\x9e\\xe5\\x9c\\xa3\\xe4\\xbd\\xbf\\xe5\\x91\\xbd\\xe4\\xb8\\xba\\xe5\\xae\\x9e\\xe7\\x8e\\xb0'\n",
      " b'\\xe4\\xba\\x88\\xe7\\x9a\\x84\\xe7\\xa5\\x9e\\xe5\\x9c\\xa3\\xe4\\xbd\\xbf\\xe5\\x91\\xbd\\xe4\\xb8\\xba\\xe5\\xae\\x9e\\xe7\\x8e\\xb0\\xe4\\xb8\\xad'\n",
      " b'\\xe7\\x9a\\x84\\xe7\\xa5\\x9e\\xe5\\x9c\\xa3\\xe4\\xbd\\xbf\\xe5\\x91\\xbd\\xe4\\xb8\\xba\\xe5\\xae\\x9e\\xe7\\x8e\\xb0\\xe4\\xb8\\xad\\xe5\\x9b\\xbd'\n",
      " b'\\xe7\\xa5\\x9e\\xe5\\x9c\\xa3\\xe4\\xbd\\xbf\\xe5\\x91\\xbd\\xe4\\xb8\\xba\\xe5\\xae\\x9e\\xe7\\x8e\\xb0\\xe4\\xb8\\xad\\xe5\\x9b\\xbd\\xe6\\xa2\\xa6'\n",
      " b'\\xe5\\x9c\\xa3\\xe4\\xbd\\xbf\\xe5\\x91\\xbd\\xe4\\xb8\\xba\\xe5\\xae\\x9e\\xe7\\x8e\\xb0\\xe4\\xb8\\xad\\xe5\\x9b\\xbd\\xe6\\xa2\\xa6\\xe5\\xbc\\xba'\n",
      " b'\\xe4\\xbd\\xbf\\xe5\\x91\\xbd\\xe4\\xb8\\xba\\xe5\\xae\\x9e\\xe7\\x8e\\xb0\\xe4\\xb8\\xad\\xe5\\x9b\\xbd\\xe6\\xa2\\xa6\\xe5\\xbc\\xba\\xe5\\x86\\x9b'\n",
      " b'\\xe5\\x91\\xbd\\xe4\\xb8\\xba\\xe5\\xae\\x9e\\xe7\\x8e\\xb0\\xe4\\xb8\\xad\\xe5\\x9b\\xbd\\xe6\\xa2\\xa6\\xe5\\xbc\\xba\\xe5\\x86\\x9b\\xe6\\xa2\\xa6'\n",
      " b'\\xe4\\xb8\\xba\\xe5\\xae\\x9e\\xe7\\x8e\\xb0\\xe4\\xb8\\xad\\xe5\\x9b\\xbd\\xe6\\xa2\\xa6\\xe5\\xbc\\xba\\xe5\\x86\\x9b\\xe6\\xa2\\xa6\\xe4\\xbd\\x9c'\n",
      " b'\\xe5\\xae\\x9e\\xe7\\x8e\\xb0\\xe4\\xb8\\xad\\xe5\\x9b\\xbd\\xe6\\xa2\\xa6\\xe5\\xbc\\xba\\xe5\\x86\\x9b\\xe6\\xa2\\xa6\\xe4\\xbd\\x9c\\xe5\\x87\\xba'\n",
      " b'\\xe7\\x8e\\xb0\\xe4\\xb8\\xad\\xe5\\x9b\\xbd\\xe6\\xa2\\xa6\\xe5\\xbc\\xba\\xe5\\x86\\x9b\\xe6\\xa2\\xa6\\xe4\\xbd\\x9c\\xe5\\x87\\xba\\xe6\\x96\\xb0'\n",
      " b'\\xe4\\xb8\\xad\\xe5\\x9b\\xbd\\xe6\\xa2\\xa6\\xe5\\xbc\\xba\\xe5\\x86\\x9b\\xe6\\xa2\\xa6\\xe4\\xbd\\x9c\\xe5\\x87\\xba\\xe6\\x96\\xb0\\xe7\\x9a\\x84'\n",
      " b'\\xe5\\x9b\\xbd\\xe6\\xa2\\xa6\\xe5\\xbc\\xba\\xe5\\x86\\x9b\\xe6\\xa2\\xa6\\xe4\\xbd\\x9c\\xe5\\x87\\xba\\xe6\\x96\\xb0\\xe7\\x9a\\x84\\xe6\\x9b\\xb4'\n",
      " b'\\xe6\\xa2\\xa6\\xe5\\xbc\\xba\\xe5\\x86\\x9b\\xe6\\xa2\\xa6\\xe4\\xbd\\x9c\\xe5\\x87\\xba\\xe6\\x96\\xb0\\xe7\\x9a\\x84\\xe6\\x9b\\xb4\\xe5\\xa4\\xa7'\n",
      " b'\\xe5\\xbc\\xba\\xe5\\x86\\x9b\\xe6\\xa2\\xa6\\xe4\\xbd\\x9c\\xe5\\x87\\xba\\xe6\\x96\\xb0\\xe7\\x9a\\x84\\xe6\\x9b\\xb4\\xe5\\xa4\\xa7\\xe7\\x9a\\x84'\n",
      " b'\\xe5\\x86\\x9b\\xe6\\xa2\\xa6\\xe4\\xbd\\x9c\\xe5\\x87\\xba\\xe6\\x96\\xb0\\xe7\\x9a\\x84\\xe6\\x9b\\xb4\\xe5\\xa4\\xa7\\xe7\\x9a\\x84\\xe8\\xb4\\xa1'\n",
      " b'\\xe6\\xa2\\xa6\\xe4\\xbd\\x9c\\xe5\\x87\\xba\\xe6\\x96\\xb0\\xe7\\x9a\\x84\\xe6\\x9b\\xb4\\xe5\\xa4\\xa7\\xe7\\x9a\\x84\\xe8\\xb4\\xa1\\xe7\\x8c\\xae'\n",
      " b'\\xe4\\xbd\\x9c\\xe5\\x87\\xba\\xe6\\x96\\xb0\\xe7\\x9a\\x84\\xe6\\x9b\\xb4\\xe5\\xa4\\xa7\\xe7\\x9a\\x84\\xe8\\xb4\\xa1\\xe7\\x8c\\xae\\xe4\\xb8\\x8b'\n",
      " b'\\xe5\\x87\\xba\\xe6\\x96\\xb0\\xe7\\x9a\\x84\\xe6\\x9b\\xb4\\xe5\\xa4\\xa7\\xe7\\x9a\\x84\\xe8\\xb4\\xa1\\xe7\\x8c\\xae\\xe4\\xb8\\x8b\\xe5\\x8d\\x88'\n",
      " b'\\xe6\\x96\\xb0\\xe7\\x9a\\x84\\xe6\\x9b\\xb4\\xe5\\xa4\\xa7\\xe7\\x9a\\x84\\xe8\\xb4\\xa1\\xe7\\x8c\\xae\\xe4\\xb8\\x8b\\xe5\\x8d\\x88\\xe6\\x97\\xb6'\n",
      " b'\\xe7\\x9a\\x84\\xe6\\x9b\\xb4\\xe5\\xa4\\xa7\\xe7\\x9a\\x84\\xe8\\xb4\\xa1\\xe7\\x8c\\xae\\xe4\\xb8\\x8b\\xe5\\x8d\\x88\\xe6\\x97\\xb6\\xe6\\x88\\x90'\n",
      " b'\\xe6\\x9b\\xb4\\xe5\\xa4\\xa7\\xe7\\x9a\\x84\\xe8\\xb4\\xa1\\xe7\\x8c\\xae\\xe4\\xb8\\x8b\\xe5\\x8d\\x88\\xe6\\x97\\xb6\\xe6\\x88\\x90\\xe7\\xab\\x8b'\n",
      " b'\\xe5\\xa4\\xa7\\xe7\\x9a\\x84\\xe8\\xb4\\xa1\\xe7\\x8c\\xae\\xe4\\xb8\\x8b\\xe5\\x8d\\x88\\xe6\\x97\\xb6\\xe6\\x88\\x90\\xe7\\xab\\x8b\\xe5\\xa4\\xa7'\n",
      " b'\\xe7\\x9a\\x84\\xe8\\xb4\\xa1\\xe7\\x8c\\xae\\xe4\\xb8\\x8b\\xe5\\x8d\\x88\\xe6\\x97\\xb6\\xe6\\x88\\x90\\xe7\\xab\\x8b\\xe5\\xa4\\xa7\\xe4\\xbc\\x9a'\n",
      " b'\\xe8\\xb4\\xa1\\xe7\\x8c\\xae\\xe4\\xb8\\x8b\\xe5\\x8d\\x88\\xe6\\x97\\xb6\\xe6\\x88\\x90\\xe7\\xab\\x8b\\xe5\\xa4\\xa7\\xe4\\xbc\\x9a\\xe5\\xbc\\x80'\n",
      " b'\\xe7\\x8c\\xae\\xe4\\xb8\\x8b\\xe5\\x8d\\x88\\xe6\\x97\\xb6\\xe6\\x88\\x90\\xe7\\xab\\x8b\\xe5\\xa4\\xa7\\xe4\\xbc\\x9a\\xe5\\xbc\\x80\\xe5\\xa7\\x8b'\n",
      " b'\\xe4\\xb8\\x8b\\xe5\\x8d\\x88\\xe6\\x97\\xb6\\xe6\\x88\\x90\\xe7\\xab\\x8b\\xe5\\xa4\\xa7\\xe4\\xbc\\x9a\\xe5\\xbc\\x80\\xe5\\xa7\\x8b\\xe5\\x85\\xa8'\n",
      " b'\\xe5\\x8d\\x88\\xe6\\x97\\xb6\\xe6\\x88\\x90\\xe7\\xab\\x8b\\xe5\\xa4\\xa7\\xe4\\xbc\\x9a\\xe5\\xbc\\x80\\xe5\\xa7\\x8b\\xe5\\x85\\xa8\\xe5\\x9c\\xba'\n",
      " b'\\xe6\\x97\\xb6\\xe6\\x88\\x90\\xe7\\xab\\x8b\\xe5\\xa4\\xa7\\xe4\\xbc\\x9a\\xe5\\xbc\\x80\\xe5\\xa7\\x8b\\xe5\\x85\\xa8\\xe5\\x9c\\xba\\xe9\\xab\\x98'\n",
      " b'\\xe6\\x88\\x90\\xe7\\xab\\x8b\\xe5\\xa4\\xa7\\xe4\\xbc\\x9a\\xe5\\xbc\\x80\\xe5\\xa7\\x8b\\xe5\\x85\\xa8\\xe5\\x9c\\xba\\xe9\\xab\\x98\\xe5\\x94\\xb1'\n",
      " b'\\xe7\\xab\\x8b\\xe5\\xa4\\xa7\\xe4\\xbc\\x9a\\xe5\\xbc\\x80\\xe5\\xa7\\x8b\\xe5\\x85\\xa8\\xe5\\x9c\\xba\\xe9\\xab\\x98\\xe5\\x94\\xb1\\xe5\\x9b\\xbd'\n",
      " b'\\xe5\\xa4\\xa7\\xe4\\xbc\\x9a\\xe5\\xbc\\x80\\xe5\\xa7\\x8b\\xe5\\x85\\xa8\\xe5\\x9c\\xba\\xe9\\xab\\x98\\xe5\\x94\\xb1\\xe5\\x9b\\xbd\\xe6\\xad\\x8c'\n",
      " b'\\xe4\\xbc\\x9a\\xe5\\xbc\\x80\\xe5\\xa7\\x8b\\xe5\\x85\\xa8\\xe5\\x9c\\xba\\xe9\\xab\\x98\\xe5\\x94\\xb1\\xe5\\x9b\\xbd\\xe6\\xad\\x8c\\xe4\\xbb\\xaa'\n",
      " b'\\xe5\\xbc\\x80\\xe5\\xa7\\x8b\\xe5\\x85\\xa8\\xe5\\x9c\\xba\\xe9\\xab\\x98\\xe5\\x94\\xb1\\xe5\\x9b\\xbd\\xe6\\xad\\x8c\\xe4\\xbb\\xaa\\xe4\\xbb\\x97'\n",
      " b'\\xe5\\xa7\\x8b\\xe5\\x85\\xa8\\xe5\\x9c\\xba\\xe9\\xab\\x98\\xe5\\x94\\xb1\\xe5\\x9b\\xbd\\xe6\\xad\\x8c\\xe4\\xbb\\xaa\\xe4\\xbb\\x97\\xe7\\xa4\\xbc'\n",
      " b'\\xe5\\x85\\xa8\\xe5\\x9c\\xba\\xe9\\xab\\x98\\xe5\\x94\\xb1\\xe5\\x9b\\xbd\\xe6\\xad\\x8c\\xe4\\xbb\\xaa\\xe4\\xbb\\x97\\xe7\\xa4\\xbc\\xe5\\x85\\xb5'\n",
      " b'\\xe5\\x9c\\xba\\xe9\\xab\\x98\\xe5\\x94\\xb1\\xe5\\x9b\\xbd\\xe6\\xad\\x8c\\xe4\\xbb\\xaa\\xe4\\xbb\\x97\\xe7\\xa4\\xbc\\xe5\\x85\\xb5\\xe6\\x8a\\xa4'\n",
      " b'\\xe9\\xab\\x98\\xe5\\x94\\xb1\\xe5\\x9b\\xbd\\xe6\\xad\\x8c\\xe4\\xbb\\xaa\\xe4\\xbb\\x97\\xe7\\xa4\\xbc\\xe5\\x85\\xb5\\xe6\\x8a\\xa4\\xe5\\x8d\\xab'\n",
      " b'\\xe5\\x94\\xb1\\xe5\\x9b\\xbd\\xe6\\xad\\x8c\\xe4\\xbb\\xaa\\xe4\\xbb\\x97\\xe7\\xa4\\xbc\\xe5\\x85\\xb5\\xe6\\x8a\\xa4\\xe5\\x8d\\xab\\xe7\\x9d\\x80'\n",
      " b'\\xe5\\x9b\\xbd\\xe6\\xad\\x8c\\xe4\\xbb\\xaa\\xe4\\xbb\\x97\\xe7\\xa4\\xbc\\xe5\\x85\\xb5\\xe6\\x8a\\xa4\\xe5\\x8d\\xab\\xe7\\x9d\\x80\\xe9\\xb2\\x9c'\n",
      " b'\\xe6\\xad\\x8c\\xe4\\xbb\\xaa\\xe4\\xbb\\x97\\xe7\\xa4\\xbc\\xe5\\x85\\xb5\\xe6\\x8a\\xa4\\xe5\\x8d\\xab\\xe7\\x9d\\x80\\xe9\\xb2\\x9c\\xe8\\x89\\xb3'\n",
      " b'\\xe4\\xbb\\xaa\\xe4\\xbb\\x97\\xe7\\xa4\\xbc\\xe5\\x85\\xb5\\xe6\\x8a\\xa4\\xe5\\x8d\\xab\\xe7\\x9d\\x80\\xe9\\xb2\\x9c\\xe8\\x89\\xb3\\xe5\\x86\\x9b'\n",
      " b'\\xe4\\xbb\\x97\\xe7\\xa4\\xbc\\xe5\\x85\\xb5\\xe6\\x8a\\xa4\\xe5\\x8d\\xab\\xe7\\x9d\\x80\\xe9\\xb2\\x9c\\xe8\\x89\\xb3\\xe5\\x86\\x9b\\xe6\\x97\\x97'\n",
      " b'\\xe7\\xa4\\xbc\\xe5\\x85\\xb5\\xe6\\x8a\\xa4\\xe5\\x8d\\xab\\xe7\\x9d\\x80\\xe9\\xb2\\x9c\\xe8\\x89\\xb3\\xe5\\x86\\x9b\\xe6\\x97\\x97\\xe6\\xad\\xa3'\n",
      " b'\\xe5\\x85\\xb5\\xe6\\x8a\\xa4\\xe5\\x8d\\xab\\xe7\\x9d\\x80\\xe9\\xb2\\x9c\\xe8\\x89\\xb3\\xe5\\x86\\x9b\\xe6\\x97\\x97\\xe6\\xad\\xa3\\xe6\\xad\\xa5'\n",
      " b'\\xe6\\x8a\\xa4\\xe5\\x8d\\xab\\xe7\\x9d\\x80\\xe9\\xb2\\x9c\\xe8\\x89\\xb3\\xe5\\x86\\x9b\\xe6\\x97\\x97\\xe6\\xad\\xa3\\xe6\\xad\\xa5\\xe8\\xa1\\x8c'\n",
      " b'\\xe5\\x8d\\xab\\xe7\\x9d\\x80\\xe9\\xb2\\x9c\\xe8\\x89\\xb3\\xe5\\x86\\x9b\\xe6\\x97\\x97\\xe6\\xad\\xa3\\xe6\\xad\\xa5\\xe8\\xa1\\x8c\\xe8\\xbf\\x9b'\n",
      " b'\\xe7\\x9d\\x80\\xe9\\xb2\\x9c\\xe8\\x89\\xb3\\xe5\\x86\\x9b\\xe6\\x97\\x97\\xe6\\xad\\xa3\\xe6\\xad\\xa5\\xe8\\xa1\\x8c\\xe8\\xbf\\x9b\\xe5\\x88\\xb0'\n",
      " b'\\xe9\\xb2\\x9c\\xe8\\x89\\xb3\\xe5\\x86\\x9b\\xe6\\x97\\x97\\xe6\\xad\\xa3\\xe6\\xad\\xa5\\xe8\\xa1\\x8c\\xe8\\xbf\\x9b\\xe5\\x88\\xb0\\xe4\\xb8\\xbb'\n",
      " b'\\xe8\\x89\\xb3\\xe5\\x86\\x9b\\xe6\\x97\\x97\\xe6\\xad\\xa3\\xe6\\xad\\xa5\\xe8\\xa1\\x8c\\xe8\\xbf\\x9b\\xe5\\x88\\xb0\\xe4\\xb8\\xbb\\xe5\\xb8\\xad'\n",
      " b'\\xe5\\x86\\x9b\\xe6\\x97\\x97\\xe6\\xad\\xa3\\xe6\\xad\\xa5\\xe8\\xa1\\x8c\\xe8\\xbf\\x9b\\xe5\\x88\\xb0\\xe4\\xb8\\xbb\\xe5\\xb8\\xad\\xe5\\x8f\\xb0'\n",
      " b'\\xe6\\x97\\x97\\xe6\\xad\\xa3\\xe6\\xad\\xa5\\xe8\\xa1\\x8c\\xe8\\xbf\\x9b\\xe5\\x88\\xb0\\xe4\\xb8\\xbb\\xe5\\xb8\\xad\\xe5\\x8f\\xb0\\xe5\\x89\\x8d'\n",
      " b'\\xe6\\xad\\xa3\\xe6\\xad\\xa5\\xe8\\xa1\\x8c\\xe8\\xbf\\x9b\\xe5\\x88\\xb0\\xe4\\xb8\\xbb\\xe5\\xb8\\xad\\xe5\\x8f\\xb0\\xe5\\x89\\x8d\\xe4\\xb9\\xa0'\n",
      " b'\\xe6\\xad\\xa5\\xe8\\xa1\\x8c\\xe8\\xbf\\x9b\\xe5\\x88\\xb0\\xe4\\xb8\\xbb\\xe5\\xb8\\xad\\xe5\\x8f\\xb0\\xe5\\x89\\x8d\\xe4\\xb9\\xa0\\xe8\\xbf\\x91'\n",
      " b'\\xe8\\xa1\\x8c\\xe8\\xbf\\x9b\\xe5\\x88\\xb0\\xe4\\xb8\\xbb\\xe5\\xb8\\xad\\xe5\\x8f\\xb0\\xe5\\x89\\x8d\\xe4\\xb9\\xa0\\xe8\\xbf\\x91\\xe5\\xb9\\xb3'\n",
      " b'\\xe8\\xbf\\x9b\\xe5\\x88\\xb0\\xe4\\xb8\\xbb\\xe5\\xb8\\xad\\xe5\\x8f\\xb0\\xe5\\x89\\x8d\\xe4\\xb9\\xa0\\xe8\\xbf\\x91\\xe5\\xb9\\xb3\\xe5\\xb0\\x86'\n",
      " b'\\xe5\\x88\\xb0\\xe4\\xb8\\xbb\\xe5\\xb8\\xad\\xe5\\x8f\\xb0\\xe5\\x89\\x8d\\xe4\\xb9\\xa0\\xe8\\xbf\\x91\\xe5\\xb9\\xb3\\xe5\\xb0\\x86\\xe5\\x86\\x9b'\n",
      " b'\\xe4\\xb8\\xbb\\xe5\\xb8\\xad\\xe5\\x8f\\xb0\\xe5\\x89\\x8d\\xe4\\xb9\\xa0\\xe8\\xbf\\x91\\xe5\\xb9\\xb3\\xe5\\xb0\\x86\\xe5\\x86\\x9b\\xe6\\x97\\x97'\n",
      " b'\\xe5\\xb8\\xad\\xe5\\x8f\\xb0\\xe5\\x89\\x8d\\xe4\\xb9\\xa0\\xe8\\xbf\\x91\\xe5\\xb9\\xb3\\xe5\\xb0\\x86\\xe5\\x86\\x9b\\xe6\\x97\\x97\\xe9\\x83\\x91'\n",
      " b'\\xe5\\x8f\\xb0\\xe5\\x89\\x8d\\xe4\\xb9\\xa0\\xe8\\xbf\\x91\\xe5\\xb9\\xb3\\xe5\\xb0\\x86\\xe5\\x86\\x9b\\xe6\\x97\\x97\\xe9\\x83\\x91\\xe9\\x87\\x8d'\n",
      " b'\\xe5\\x89\\x8d\\xe4\\xb9\\xa0\\xe8\\xbf\\x91\\xe5\\xb9\\xb3\\xe5\\xb0\\x86\\xe5\\x86\\x9b\\xe6\\x97\\x97\\xe9\\x83\\x91\\xe9\\x87\\x8d\\xe6\\x8e\\x88'\n",
      " b'\\xe4\\xb9\\xa0\\xe8\\xbf\\x91\\xe5\\xb9\\xb3\\xe5\\xb0\\x86\\xe5\\x86\\x9b\\xe6\\x97\\x97\\xe9\\x83\\x91\\xe9\\x87\\x8d\\xe6\\x8e\\x88\\xe4\\xba\\x88'\n",
      " b'\\xe8\\xbf\\x91\\xe5\\xb9\\xb3\\xe5\\xb0\\x86\\xe5\\x86\\x9b\\xe6\\x97\\x97\\xe9\\x83\\x91\\xe9\\x87\\x8d\\xe6\\x8e\\x88\\xe4\\xba\\x88\\xe9\\x99\\x86'\n",
      " b'\\xe5\\xb9\\xb3\\xe5\\xb0\\x86\\xe5\\x86\\x9b\\xe6\\x97\\x97\\xe9\\x83\\x91\\xe9\\x87\\x8d\\xe6\\x8e\\x88\\xe4\\xba\\x88\\xe9\\x99\\x86\\xe5\\x86\\x9b'\n",
      " b'\\xe5\\xb0\\x86\\xe5\\x86\\x9b\\xe6\\x97\\x97\\xe9\\x83\\x91\\xe9\\x87\\x8d\\xe6\\x8e\\x88\\xe4\\xba\\x88\\xe9\\x99\\x86\\xe5\\x86\\x9b\\xe5\\x8f\\xb8'\n",
      " b'\\xe5\\x86\\x9b\\xe6\\x97\\x97\\xe9\\x83\\x91\\xe9\\x87\\x8d\\xe6\\x8e\\x88\\xe4\\xba\\x88\\xe9\\x99\\x86\\xe5\\x86\\x9b\\xe5\\x8f\\xb8\\xe4\\xbb\\xa4']\n"
     ]
    },
    {
     "name": "stderr",
     "output_type": "stream",
     "text": [
      "2025-04-13 13:43:53.565094: I tensorflow/core/framework/local_rendezvous.cc:407] Local rendezvous is aborting with status: OUT_OF_RANGE: End of sequence\n"
     ]
    }
   ],
   "source": [
    "# Charger le tensorflow dataset\n",
    "tf_dataset = tf.data.Dataset.load(\"dataset/tf_dataset\")\n",
    "\n",
    "# Afficher les 5 premières lignes du DataFrame\n",
    "for context, input_t9, target in tf_dataset.take(1):\n",
    "    print(\"Context:\", context.numpy())\n",
    "    print(\"Input T9:\", input_t9.numpy())\n",
    "    print(\"Target:\", target.numpy())"
   ]
  },
  {
   "cell_type": "markdown",
   "id": "3b3d4201",
   "metadata": {},
   "source": [
    "Cette cellule configure trois couches TextVectorization pour transformer les séquences textuelles en vecteurs numériques, nécessaires pour l’entraînement d’un modèle Keras.\n",
    "\n",
    "- `context_tv` vectorise le contexte (caractères chinois) en découpant par caractère (`split='character'`).\n",
    "- `input_t9_tv` vectorise les séquences T9 (codes numériques) en découpant par espaces (`split='whitespace'`).\n",
    "- `target_tv` vectorise la cible (caractères chinois) en découpant par caractère.\n",
    "    Chaque couche produit des entiers (`output_mode='int'`) et conserve les longueurs variables des séquences (`ragged=True`). Ensuite, trois datasets intermédiaires (`context_ds`, `t9_ds`, `target_ds`) sont créés à partir de `tf_dataset` en extrayant respectivement le contexte, l’entrée T9 et la cible, avec une optimisation parallèle via `num_parallel_calls=tf.data.AUTOTUNE`."
   ]
  },
  {
   "cell_type": "code",
   "execution_count": 11,
   "id": "02e326d9",
   "metadata": {},
   "outputs": [],
   "source": [
    "# TextVectorization pour le contexte, T9 et cible\n",
    "context_tv = keras.layers.TextVectorization(\n",
    "    output_mode='int',\n",
    "    split='character',\n",
    "    standardize=None,\n",
    "    ragged=True\n",
    ")\n",
    "\n",
    "input_t9_tv = keras.layers.TextVectorization(\n",
    "    output_mode='int',\n",
    "    split='whitespace',\n",
    "    standardize=None,\n",
    "    ragged=True\n",
    ")\n",
    "\n",
    "target_tv = keras.layers.TextVectorization(\n",
    "    output_mode='int',\n",
    "    split='character',\n",
    "    standardize=None,\n",
    "    ragged=True\n",
    ")\n",
    "\n",
    "\n",
    "# Adapter les vectoriseurs\n",
    "context_ds = tf_dataset.map(\n",
    "    lambda context, t9, target: context,\n",
    "    num_parallel_calls=tf.data.AUTOTUNE\n",
    ")\n",
    "t9_ds = tf_dataset.map(\n",
    "    lambda context, t9, target: t9,\n",
    "    num_parallel_calls=tf.data.AUTOTUNE\n",
    ")\n",
    "target_ds = tf_dataset.map(\n",
    "    lambda context, t9, target: target,\n",
    "    num_parallel_calls=tf.data.AUTOTUNE\n",
    ")"
   ]
  },
  {
   "cell_type": "markdown",
   "id": "2b6e33f9",
   "metadata": {},
   "source": [
    "Cette cellule adapte les couches de vectorisation aux données correspondantes pour qu’elles apprennent leur vocabulaire respectif. Le temps d’adaptation est mesuré pour chaque couche :\n",
    "\n",
    "- `context_tv` est adapté au contexte (`context_ds`),\n",
    "- `input_t9_tv` à l’entrée T9 (`t9_ds`),\n",
    "- `target_tv` à la cible (`target_ds`).\n",
    "    Pour la cible, les tokens spéciaux `<START>` et `<END>` sont ajoutés manuellement au vocabulaire s’ils n’y sont pas déjà, pour marquer le début et la fin des séquences lors de l’entraînement. La taille du vocabulaire cible et les indices de ces tokens sont affichés pour vérification. Enfin, les formes (`shape`) des données brutes d’un échantillon sont imprimées pour confirmer leur structure avant vectorisation."
   ]
  },
  {
   "cell_type": "code",
   "execution_count": 12,
   "id": "fa1313c7",
   "metadata": {},
   "outputs": [
    {
     "name": "stderr",
     "output_type": "stream",
     "text": [
      "2025-04-13 13:45:04.039193: I tensorflow/core/framework/local_rendezvous.cc:407] Local rendezvous is aborting with status: OUT_OF_RANGE: End of sequence\n"
     ]
    },
    {
     "name": "stdout",
     "output_type": "stream",
     "text": [
      "Adapt context_tv: 68.94 seconds\n",
      "Adapt input_t9_tv: 99.02 seconds\n",
      "Adapt target_tv: 68.96 seconds\n",
      "Target vocab size: 4598\n",
      "\n",
      "<START> index: 2\n",
      "<END> index: 3\n",
      "\n",
      "Context shape: (256,)\n",
      "Input T9 shape: (256,)\n",
      "Target shape: (256,)\n"
     ]
    },
    {
     "name": "stderr",
     "output_type": "stream",
     "text": [
      "2025-04-13 13:47:52.107190: I tensorflow/core/framework/local_rendezvous.cc:407] Local rendezvous is aborting with status: OUT_OF_RANGE: End of sequence\n"
     ]
    }
   ],
   "source": [
    "# Adapter les TextVectorization layers\n",
    "start = time.time()\n",
    "context_tv.adapt(context_ds)\n",
    "print(f\"Adapt context_tv: {time.time() - start:.2f} seconds\")\n",
    "\n",
    "start = time.time()\n",
    "input_t9_tv.adapt(t9_ds)\n",
    "print(f\"Adapt input_t9_tv: {time.time() - start:.2f} seconds\")\n",
    "\n",
    "start = time.time()\n",
    "target_tv.adapt(target_ds)\n",
    "# Ajouter <START> et <END> au vocabulaire cible\n",
    "target_vocab = target_tv.get_vocabulary()\n",
    "if \"<START>\" not in target_vocab or \"<END>\" not in target_vocab:\n",
    "    updated_vocab = [\"<START>\", \"<END>\"] + [tok for tok in target_vocab if tok not in [\"\", \"[UNK]\"]]\n",
    "    target_tv.set_vocabulary(updated_vocab)\n",
    "print(f\"Adapt target_tv: {time.time() - start:.2f} seconds\")\n",
    "print(f\"Target vocab size: {target_tv.vocabulary_size()}\")\n",
    "\n",
    "# Vérification\n",
    "vocab = target_tv.get_vocabulary()\n",
    "print(f\"\\n<START> index: {vocab.index('<START>')}\")\n",
    "print(f\"<END> index: {vocab.index('<END>')}\")\n",
    "\n",
    "\n",
    "# Shape des données\n",
    "for context, input_t9, target in tf_dataset.take(1):\n",
    "    print(\"\\nContext shape:\", context.shape)\n",
    "    print(\"Input T9 shape:\", input_t9.shape)\n",
    "    print(\"Target shape:\", target.shape)"
   ]
  },
  {
   "cell_type": "code",
   "execution_count": 13,
   "id": "768fd5f6",
   "metadata": {},
   "outputs": [],
   "source": [
    "if not os.path.exists(\"vectorizers\"):\n",
    "    os.makedirs(\"vectorizers\")\n",
    "\n",
    "# Sauvegarder les vectorizers\n",
    "with open(\"vectorizers/context_tv.pkl\", \"wb\") as f:\n",
    "    pk.dump(context_tv, f)\n",
    "\n",
    "with open(\"vectorizers/input_t9_tv.pkl\", \"wb\") as f:\n",
    "    pk.dump(input_t9_tv, f)\n",
    "\n",
    "with open(\"vectorizers/target_tv.pkl\", \"wb\") as f:\n",
    "    pk.dump(target_tv, f)"
   ]
  },
  {
   "cell_type": "markdown",
   "id": "3443e87f",
   "metadata": {},
   "source": [
    "Cette cellule définit une fonction `transform_ds` qui vectorise les séquences et prépare les données pour un modèle de type encodeur-décodeur. Elle :\n",
    "\n",
    "- Vectorise le contexte, l’entrée T9 et la cible avec les couches adaptées, en convertissant les séquences en tenseurs avec padding (`to_tensor(default_value=0)`).\n",
    "- Crée une entrée pour le décodeur (`decoder_in`) en ajoutant le token `<START>` au début de la séquence cible décalée (excluant le dernier élément).\n",
    "  La fonction est appliquée au dataset avec `map(transform_ds)`, produisant un nouveau dataset transformé (`transformed_tf_dataset`). Un échantillon est affiché avec ses formes pour vérifier que la transformation est correcte."
   ]
  },
  {
   "cell_type": "code",
   "execution_count": 14,
   "id": "68d856e2",
   "metadata": {},
   "outputs": [
    {
     "name": "stdout",
     "output_type": "stream",
     "text": [
      "Context: [[  4   0   0 ...   0   0   0]\n",
      " [  4   3   0 ...   0   0   0]\n",
      " [  4   3   8 ...   0   0   0]\n",
      " ...\n",
      " [268  30  23 ...  86  65  48]\n",
      " [ 30  23  67 ...  65  48  33]\n",
      " [ 23  67  28 ...  48  33  83]]\n",
      "T9: [[ 7 30 76 ... 54 24 25]\n",
      " [30 76 43 ... 24 25  3]\n",
      " [76 43 17 ... 25  3 86]\n",
      " ...\n",
      " [52 36 54 ...  8 31 54]\n",
      " [36 54 14 ... 31 54 14]\n",
      " [54 14 46 ... 54 14 24]]\n",
      "Decoder input: [[   2    5   10 ...  673  103   87]\n",
      " [   2   10   23 ...  103   87  122]\n",
      " [   2   23  246 ...   87  122   92]\n",
      " ...\n",
      " [   2   37   85 ... 1053  774  673]\n",
      " [   2   85  103 ...  774  673  103]\n",
      " [   2  103  900 ...  673  103  504]]\n",
      "Target: [[   5   10   23 ...  103   87  122]\n",
      " [  10   23  246 ...   87  122   92]\n",
      " [  23  246  255 ...  122   92  262]\n",
      " ...\n",
      " [  37   85  103 ...  774  673  103]\n",
      " [  85  103  900 ...  673  103  504]\n",
      " [ 103  900 1254 ...  103  504  808]]\n",
      "\n",
      "Context shape: (256, 10)\n",
      "T9 shape: (256, 10)\n",
      "Decoder input shape: (256, 10)\n",
      "Target shape: (256, 10)\n"
     ]
    }
   ],
   "source": [
    "start_token_idx = target_tv.get_vocabulary().index(\"<START>\")\n",
    "\n",
    "# Transformer le dataset\n",
    "@tf.function\n",
    "def transform_ds(context, t9, target):\n",
    "    \"\"\" \n",
    "    Transforme le dataset pour le modèle en ajoutant le contexte, le T9 et la cible.\n",
    "    Le contexte est vectorisé et le T9 est vectorisé.\n",
    "    Le décalage est appliqué à la cible pour le décodeur.\n",
    "    \"\"\"\n",
    "    # Vectoriser le contexte, T9 et cible (to_tensor afin de les transformer en tenseurs au lieu de listes)\n",
    "    vectorized_context = context_tv(context).to_tensor(default_value=0) # default_value=0 => padding\n",
    "    vectorized_t9 = input_t9_tv(t9).to_tensor(default_value=0)\n",
    "    vectorized_target = target_tv(target).to_tensor(default_value=0)\n",
    "    batch_size = tf.shape(vectorized_target)[0] # (1024,)\n",
    "    # Créer le décalage pour le décodeur\n",
    "    # On ajoute le token de début au début de la séquence cible et on décale la séquence cible\n",
    "    start_token = tf.fill([batch_size, 1], tf.cast(start_token_idx, tf.int32)) # (1024, 1)\n",
    "    # On concatène le token de début avec la séquence cible décalée\n",
    "    decoder_in = tf.concat([start_token, tf.cast(vectorized_target[:, :-1], tf.int32)], axis=1) # (1024, 10)\n",
    "    return (vectorized_context, vectorized_t9, decoder_in), vectorized_target\n",
    "\n",
    "transformed_tf_dataset = tf_dataset.map(transform_ds)\n",
    "for (context, t9, dec_in), target in transformed_tf_dataset.take(1):\n",
    "    print(f\"Context: {context}\")\n",
    "    print(f\"T9: {t9}\")\n",
    "    print(f\"Decoder input: {dec_in}\")\n",
    "    print(f\"Target: {target}\")\n",
    "\n",
    "    # Afficher les shapes\n",
    "    print(f\"\\nContext shape: {context.shape}\")\n",
    "    print(f\"T9 shape: {t9.shape}\")\n",
    "    print(f\"Decoder input shape: {dec_in.shape}\")\n",
    "    print(f\"Target shape: {target.shape}\")"
   ]
  },
  {
   "cell_type": "markdown",
   "id": "cf779c5f",
   "metadata": {},
   "source": [
    "## Split train-valid-test"
   ]
  },
  {
   "cell_type": "markdown",
   "id": "25376b34",
   "metadata": {},
   "source": [
    "Cette cellule divise le dataset transformé en trois ensembles : entraînement (80 %), validation (10 %) et test (10 %). Le nombre total d’échantillons (c) est calculé avec `reduce`, puis le dataset est mélangé aléatoirement avec `shuffle` (seed fixé à 42 pour reproductibilité). Les tailles des ensembles sont déterminées par des proportions, et les sous-ensembles sont créés avec `take` et `skip`. Chaque ensemble est optimisé avec `prefetch` pour améliorer les performances. Les tailles finales sont affichées pour vérification."
   ]
  },
  {
   "cell_type": "code",
   "execution_count": 15,
   "id": "ec477403",
   "metadata": {},
   "outputs": [
    {
     "name": "stderr",
     "output_type": "stream",
     "text": [
      "2025-04-13 13:47:52.570347: I tensorflow/core/grappler/optimizers/custom_graph_optimizer_registry.cc:117] Plugin optimizer for device_type GPU is enabled.\n"
     ]
    },
    {
     "name": "stdout",
     "output_type": "stream",
     "text": [
      "Taille du train : 18807\n",
      "Taille du validation : 2352\n",
      "Taille du test : 2350\n"
     ]
    }
   ],
   "source": [
    "c = transformed_tf_dataset.reduce(0, lambda x, _: x + 1).numpy()\n",
    "shuffled_ds = transformed_tf_dataset.shuffle(buffer_size=c, seed=42)\n",
    "\n",
    "train_size = c * 80 // 100\n",
    "test_size = c * 10 // 100\n",
    "val_size = c - train_size - test_size\n",
    "\n",
    "ds_train = shuffled_ds.take(train_size).prefetch(tf.data.AUTOTUNE)\n",
    "ds_val = shuffled_ds.skip(train_size).take(val_size).prefetch(tf.data.AUTOTUNE)\n",
    "ds_test = shuffled_ds.skip(train_size+val_size).take(test_size).prefetch(tf.data.AUTOTUNE)\n",
    "\n",
    "print(\"Taille du train :\", ds_train.cardinality().numpy())\n",
    "print(\"Taille du validation :\", ds_val.cardinality().numpy())\n",
    "print(\"Taille du test :\", ds_test.cardinality().numpy())"
   ]
  },
  {
   "cell_type": "code",
   "execution_count": 16,
   "id": "cb97d040",
   "metadata": {},
   "outputs": [
    {
     "name": "stdout",
     "output_type": "stream",
     "text": [
      "Exemple de données :\n"
     ]
    },
    {
     "name": "stderr",
     "output_type": "stream",
     "text": [
      "2025-04-13 13:48:19.509258: I tensorflow/core/kernels/data/shuffle_dataset_op.cc:452] ShuffleDatasetV3:48: Filling up shuffle buffer (this may take a while): 12927 of 23509\n"
     ]
    },
    {
     "name": "stdout",
     "output_type": "stream",
     "text": [
      "Context: [699  40 133  21 368 212   0   0   0   0]\n",
      "T9: [75 11  7 41 13  2 74 33 57 74]\n",
      "Decoder input: [  2  42   6   5 533 627 423 147 293 890]\n",
      "Target: [ 42   6   5 533 627 423 147 293 890 147]\n",
      "\n",
      "Context shape: (256, 10)\n",
      "T9 shape: (256, 10)\n",
      "Decoder input shape: (256, 10)\n",
      "Target shape: (256, 10)\n"
     ]
    },
    {
     "name": "stderr",
     "output_type": "stream",
     "text": [
      "2025-04-13 13:48:27.526698: I tensorflow/core/kernels/data/shuffle_dataset_op.cc:482] Shuffle buffer filled.\n"
     ]
    }
   ],
   "source": [
    "# Visualisation des données\n",
    "print(\"Exemple de données :\")\n",
    "for (context, t9, dec_in), target in ds_train.take(1):\n",
    "    print(f\"Context: {context[0]}\")\n",
    "    print(f\"T9: {t9[0]}\")\n",
    "    print(f\"Decoder input: {dec_in[0]}\")\n",
    "    print(f\"Target: {target[0]}\")\n",
    "\n",
    "    # Afficher les shapes\n",
    "    print(f\"\\nContext shape: {context.shape}\")\n",
    "    print(f\"T9 shape: {t9.shape}\")\n",
    "    print(f\"Decoder input shape: {dec_in.shape}\")\n",
    "    print(f\"Target shape: {target.shape}\")"
   ]
  },
  {
   "cell_type": "code",
   "execution_count": 17,
   "id": "84604ecc",
   "metadata": {},
   "outputs": [
    {
     "name": "stderr",
     "output_type": "stream",
     "text": [
      "2025-04-13 13:48:37.763940: I tensorflow/core/kernels/data/shuffle_dataset_op.cc:452] ShuffleDatasetV3:48: Filling up shuffle buffer (this may take a while): 12475 of 23509\n",
      "2025-04-13 13:48:46.247674: I tensorflow/core/kernels/data/shuffle_dataset_op.cc:482] Shuffle buffer filled.\n",
      "2025-04-13 13:48:58.174124: I tensorflow/core/kernels/data/shuffle_dataset_op.cc:452] ShuffleDatasetV3:48: Filling up shuffle buffer (this may take a while): 12771 of 23509\n",
      "2025-04-13 13:49:06.391917: I tensorflow/core/kernels/data/shuffle_dataset_op.cc:482] Shuffle buffer filled.\n",
      "2025-04-13 13:49:16.995697: I tensorflow/core/kernels/data/shuffle_dataset_op.cc:452] ShuffleDatasetV3:48: Filling up shuffle buffer (this may take a while): 12636 of 23509\n",
      "2025-04-13 13:49:25.389478: I tensorflow/core/kernels/data/shuffle_dataset_op.cc:482] Shuffle buffer filled.\n"
     ]
    }
   ],
   "source": [
    "# Sauvegarder les datasets d'entraînement\n",
    "ds_train.save(\"train_dataset\")\n",
    "ds_val.save(\"val_dataset\")\n",
    "ds_test.save(\"test_dataset\")"
   ]
  },
  {
   "cell_type": "markdown",
   "id": "870dabbe",
   "metadata": {},
   "source": [
    "# Modèle"
   ]
  },
  {
   "cell_type": "markdown",
   "id": "d38f6c70",
   "metadata": {},
   "source": [
    "Sogou T9 est une méthode d’entrée intelligente qui :\n",
    "\n",
    "- Prend des séquences numériques (ex. : \"94664 486\" pour \"zhong guo\").\n",
    "- Génère des séquences de caractères chinois (ex. : \"中国\").\n",
    "- Utilise le contexte (mots précédents) pour désambiguïser les prédictions.\n",
    "- Est optimisé pour la vitesse et la précision, souvent avec des modèles entraînés sur de vastes corpus.\n",
    "\n",
    "Pour reproduire cela, il faut utiliser un modèle seq2seq avec un encodeur-décodeur (2 entrées) :\n",
    "\n",
    "- Encodeur : Lit la séquence T9 et la compresse en une représentation contextuelle.\n",
    "- Décodeur : Génère la séquence de caractères chinois à partir de cette représentation.\n",
    "\n",
    "[Functional API](https://keras.io/guides/functional_api/)"
   ]
  },
  {
   "cell_type": "markdown",
   "id": "169fe750",
   "metadata": {},
   "source": [
    "Schéma conceptuel :\n",
    "\n",
    "[Contexte sinogrammes] -> [LSTM Encodeur Contexte] -> [Représentation contexte] </br>\n",
    "[T9 entrée]           -> [LSTM Encodeur T9]       -> [Représentation T9] </br>\n",
    "[Représentations contexte + T9] -> [Attention] -> [LSTM Décodeur] -> [Sortie caractères]"
   ]
  },
  {
   "cell_type": "code",
   "execution_count": 18,
   "id": "767cb1c4",
   "metadata": {},
   "outputs": [
    {
     "name": "stdout",
     "output_type": "stream",
     "text": [
      "Context: [ 295   66  122 1126  235   66   77  980  267 1439]\n",
      "T9: [ 8 31  6 95 14  3  6 40  2 23]\n",
      "Decoder input: [   2  112  750 1208 1641  165  154    9  265   71]\n",
      "Target: [ 112  750 1208 1641  165  154    9  265   71   76]\n"
     ]
    },
    {
     "name": "stderr",
     "output_type": "stream",
     "text": [
      "2025-04-13 13:49:26.080156: I tensorflow/core/framework/local_rendezvous.cc:407] Local rendezvous is aborting with status: OUT_OF_RANGE: End of sequence\n"
     ]
    }
   ],
   "source": [
    "# Charger les datasets d'entraînement\n",
    "ds_train = tf.data.Dataset.load(\"train_dataset\")\n",
    "ds_val = tf.data.Dataset.load(\"val_dataset\")\n",
    "ds_test = tf.data.Dataset.load(\"test_dataset\")\n",
    "\n",
    "# Vérifier les datasets\n",
    "for (context, t9, dec_in), target in ds_train.take(1):\n",
    "    print(f\"Context: {context[0]}\")\n",
    "    print(f\"T9: {t9[0]}\")\n",
    "    print(f\"Decoder input: {dec_in[0]}\")\n",
    "    print(f\"Target: {target[0]}\")"
   ]
  },
  {
   "cell_type": "code",
   "execution_count": 19,
   "id": "08373d1a",
   "metadata": {},
   "outputs": [],
   "source": [
    "# plot training history\n",
    "def plot_history(history):\n",
    "    # Plot training & validation accuracy values\n",
    "    plt.plot(history.history['accuracy'])\n",
    "    plt.plot(history.history['val_accuracy'])\n",
    "    plt.title('Model accuracy')\n",
    "    plt.ylabel('Accuracy')\n",
    "    plt.xlabel('Epoch')\n",
    "    plt.legend(['Train', 'Validation'], loc='upper left')\n",
    "    plt.show()\n",
    "\n",
    "    plt.plot(history.history['loss'])\n",
    "    plt.plot(history.history['val_loss'])\n",
    "    plt.title('Model loss')\n",
    "    plt.ylabel('Loss')\n",
    "    plt.xlabel('Epoch')\n",
    "    plt.legend(['Train', 'Validation'], loc='upper left')\n",
    "    plt.show()"
   ]
  },
  {
   "cell_type": "code",
   "execution_count": 20,
   "id": "6f6f4a2f",
   "metadata": {},
   "outputs": [
    {
     "name": "stdout",
     "output_type": "stream",
     "text": [
      "You must install graphviz (see instructions at https://graphviz.gitlab.io/download/) for `plot_model` to work.\n"
     ]
    }
   ],
   "source": [
    "def build_simple_model(lstm_units=64, output_dim=32, dropout_rate=0.2):\n",
    "    \n",
    "    context_input = Input(shape=(50,), dtype=tf.int32, name=\"context_input\")\n",
    "    context_embedding = Embedding(input_dim=context_tv.vocabulary_size(), output_dim=output_dim)(context_input)\n",
    "    context_lstm = LSTM(lstm_units, return_sequences=True, return_state=True)\n",
    "    context_lstm_out, context_state_h, context_state_c = context_lstm(context_embedding)\n",
    "    \n",
    "    t9_input = Input(shape=(50,), dtype=tf.int32, name=\"t9_input\")\n",
    "    t9_embedding = Embedding(input_dim=input_t9_tv.vocabulary_size(), output_dim=output_dim)(t9_input)\n",
    "    t9_lstm = LSTM(lstm_units, return_sequences=True, return_state=True)\n",
    "    t9_lstm_out, t9_state_h, t9_state_c = t9_lstm(t9_embedding)\n",
    "    \n",
    "    combined_state_h = Dense(lstm_units, activation='tanh')(Concatenate()([context_state_h, t9_state_h]))\n",
    "    combined_state_c = Dense(lstm_units, activation='tanh')(Concatenate()([context_state_c, t9_state_c]))\n",
    "\n",
    "\n",
    "    decoder_input = Input(shape=(50,), dtype=tf.int32, name=\"decoder_input\")\n",
    "    decoder_embedding = Embedding(input_dim=target_tv.vocabulary_size(), output_dim=output_dim)(decoder_input)\n",
    "    decoder_lstm = LSTM(lstm_units, return_sequences=True)\n",
    "    decoder_lstm_out = decoder_lstm(decoder_embedding, initial_state=[combined_state_h, combined_state_c])\n",
    "    \n",
    "    output = Dense(target_tv.vocabulary_size(), activation='softmax')(decoder_lstm_out)\n",
    "    \n",
    "    model = Model(inputs=[context_input, t9_input, decoder_input], outputs=output)\n",
    "    model.compile(optimizer='adam', loss='sparse_categorical_crossentropy', metrics=['accuracy'])\n",
    "    return model\n",
    "\n",
    "model_simple = build_simple_model()\n",
    "keras.utils.plot_model(model_simple, show_shapes=True, show_layer_names=True, to_file='model_simple.png')"
   ]
  },
  {
   "cell_type": "code",
   "execution_count": null,
   "id": "63361fbc",
   "metadata": {},
   "outputs": [],
   "source": [
    "# Tuning\n",
    "tuner = keras_tuner.RandomSearch(\n",
    "    lambda hp: build_simple_model(\n",
    "        lstm_units=hp.Choice('lstm_units', [32, 64, 128, 256]),\n",
    "        output_dim=hp.Choice('output_dim', [32, 64, 128, 256]),\n",
    "        dropout_rate=hp.Float('dropout_rate', 0.0, 0.8, step=0.2),\n",
    "    ),\n",
    "    objective='val_accuracy',\n",
    "    max_trials=20,\n",
    "    directory='hyperparameter_tuning',\n",
    "    project_name='chinese_news_tuning_simple'\n",
    ")"
   ]
  },
  {
   "cell_type": "code",
   "execution_count": 30,
   "id": "d16466f7",
   "metadata": {},
   "outputs": [],
   "source": [
    "early_stopping = keras.callbacks.EarlyStopping(\n",
    "    monitor='val_loss',\n",
    "    patience=3,\n",
    "    restore_best_weights=True\n",
    ")\n",
    "\n",
    "ds_train_small = ds_train.take(500)\n",
    "ds_val_small = ds_val.take(100)"
   ]
  },
  {
   "cell_type": "code",
   "execution_count": 31,
   "id": "42043097",
   "metadata": {},
   "outputs": [
    {
     "name": "stdout",
     "output_type": "stream",
     "text": [
      "Trial 20 Complete [00h 08m 46s]\n",
      "val_accuracy: 0.17516794800758362\n",
      "\n",
      "Best val_accuracy So Far: 0.25297653675079346\n",
      "Total elapsed time: 03h 31m 05s\n",
      "Hyperparameter tuning time: 12256.34 seconds\n"
     ]
    }
   ],
   "source": [
    "start = time.time()\n",
    "tuner.search(ds_train_small, epochs=15, validation_data=ds_val_small, callbacks=[early_stopping])\n",
    "print(f\"Hyperparameter tuning time: {time.time() - start:.2f} seconds\")"
   ]
  },
  {
   "cell_type": "code",
   "execution_count": 32,
   "id": "da54578d",
   "metadata": {},
   "outputs": [
    {
     "name": "stdout",
     "output_type": "stream",
     "text": [
      "Best hyperparameters:\n",
      "lstm_units: 256\n",
      "output_dim: 128\n",
      "dropout_rate: 0.8\n"
     ]
    }
   ],
   "source": [
    "# Afficher les meilleurs hyperparamètres\n",
    "best_hyperparameters = tuner.get_best_hyperparameters()[0]\n",
    "print(\"Best hyperparameters:\")\n",
    "print(f\"lstm_units: {best_hyperparameters.get('lstm_units')}\")\n",
    "print(f\"output_dim: {best_hyperparameters.get('output_dim')}\")\n",
    "print(f\"dropout_rate: {best_hyperparameters.get('dropout_rate')}\")"
   ]
  },
  {
   "cell_type": "code",
   "execution_count": 33,
   "id": "baf1613e",
   "metadata": {},
   "outputs": [
    {
     "name": "stdout",
     "output_type": "stream",
     "text": [
      "Nombre d'échantillons d'entraînement : 4702\n",
      "Nombre d'échantillons de validation : 588\n"
     ]
    }
   ],
   "source": [
    "nb_train_samples = round(ds_train.cardinality().numpy()/4)\n",
    "nb_val_samples = round(ds_val.cardinality().numpy()/4)\n",
    "\n",
    "print(\"Nombre d'échantillons d'entraînement :\", nb_train_samples)\n",
    "print(\"Nombre d'échantillons de validation :\", nb_val_samples)"
   ]
  },
  {
   "cell_type": "code",
   "execution_count": 34,
   "id": "bb07c7af",
   "metadata": {},
   "outputs": [
    {
     "name": "stdout",
     "output_type": "stream",
     "text": [
      "Epoch 1/20\n",
      "\u001b[1m4702/4702\u001b[0m \u001b[32m━━━━━━━━━━━━━━━━━━━━\u001b[0m\u001b[37m\u001b[0m \u001b[1m625s\u001b[0m 132ms/step - accuracy: 0.1265 - loss: 5.8008 - val_accuracy: 0.2461 - val_loss: 4.6026\n",
      "Epoch 2/20\n",
      "\u001b[1m4702/4702\u001b[0m \u001b[32m━━━━━━━━━━━━━━━━━━━━\u001b[0m\u001b[37m\u001b[0m \u001b[1m611s\u001b[0m 130ms/step - accuracy: 0.2529 - loss: 4.5196 - val_accuracy: 0.2744 - val_loss: 4.3349\n",
      "Epoch 3/20\n",
      "\u001b[1m4702/4702\u001b[0m \u001b[32m━━━━━━━━━━━━━━━━━━━━\u001b[0m\u001b[37m\u001b[0m \u001b[1m0s\u001b[0m 124ms/step - accuracy: 0.2808 - loss: 4.2502"
     ]
    },
    {
     "ename": "KeyboardInterrupt",
     "evalue": "",
     "output_type": "error",
     "traceback": [
      "\u001b[31m---------------------------------------------------------------------------\u001b[39m",
      "\u001b[31mKeyboardInterrupt\u001b[39m                         Traceback (most recent call last)",
      "\u001b[36mCell\u001b[39m\u001b[36m \u001b[39m\u001b[32mIn[34]\u001b[39m\u001b[32m, line 12\u001b[39m\n\u001b[32m      9\u001b[39m ds_sample_val = ds_val.take(nb_val_samples)\n\u001b[32m     11\u001b[39m \u001b[38;5;66;03m# Entraîner le modèle\u001b[39;00m\n\u001b[32m---> \u001b[39m\u001b[32m12\u001b[39m history_simple = \u001b[43mmodel_simple\u001b[49m\u001b[43m.\u001b[49m\u001b[43mfit\u001b[49m\u001b[43m(\u001b[49m\n\u001b[32m     13\u001b[39m \u001b[43m    \u001b[49m\u001b[43mds_sample_train\u001b[49m\u001b[43m,\u001b[49m\n\u001b[32m     14\u001b[39m \u001b[43m    \u001b[49m\u001b[43mepochs\u001b[49m\u001b[43m=\u001b[49m\u001b[32;43m20\u001b[39;49m\u001b[43m,\u001b[49m\n\u001b[32m     15\u001b[39m \u001b[43m    \u001b[49m\u001b[43mvalidation_data\u001b[49m\u001b[43m=\u001b[49m\u001b[43mds_sample_val\u001b[49m\u001b[43m,\u001b[49m\n\u001b[32m     16\u001b[39m \u001b[43m    \u001b[49m\u001b[43mcallbacks\u001b[49m\u001b[43m=\u001b[49m\u001b[43m[\u001b[49m\u001b[43mearly_stopping\u001b[49m\u001b[43m]\u001b[49m\u001b[43m,\u001b[49m\n\u001b[32m     17\u001b[39m \u001b[43m    \u001b[49m\u001b[43mverbose\u001b[49m\u001b[43m=\u001b[49m\u001b[32;43m1\u001b[39;49m\u001b[43m,\u001b[49m\n\u001b[32m     18\u001b[39m \u001b[43m)\u001b[49m\n",
      "\u001b[36mFile \u001b[39m\u001b[32m~/Desktop/Model_T9_to_Sinogram/tf_venv/lib/python3.12/site-packages/keras/src/utils/traceback_utils.py:117\u001b[39m, in \u001b[36mfilter_traceback.<locals>.error_handler\u001b[39m\u001b[34m(*args, **kwargs)\u001b[39m\n\u001b[32m    115\u001b[39m filtered_tb = \u001b[38;5;28;01mNone\u001b[39;00m\n\u001b[32m    116\u001b[39m \u001b[38;5;28;01mtry\u001b[39;00m:\n\u001b[32m--> \u001b[39m\u001b[32m117\u001b[39m     \u001b[38;5;28;01mreturn\u001b[39;00m \u001b[43mfn\u001b[49m\u001b[43m(\u001b[49m\u001b[43m*\u001b[49m\u001b[43margs\u001b[49m\u001b[43m,\u001b[49m\u001b[43m \u001b[49m\u001b[43m*\u001b[49m\u001b[43m*\u001b[49m\u001b[43mkwargs\u001b[49m\u001b[43m)\u001b[49m\n\u001b[32m    118\u001b[39m \u001b[38;5;28;01mexcept\u001b[39;00m \u001b[38;5;167;01mException\u001b[39;00m \u001b[38;5;28;01mas\u001b[39;00m e:\n\u001b[32m    119\u001b[39m     filtered_tb = _process_traceback_frames(e.__traceback__)\n",
      "\u001b[36mFile \u001b[39m\u001b[32m~/Desktop/Model_T9_to_Sinogram/tf_venv/lib/python3.12/site-packages/keras/src/backend/tensorflow/trainer.py:395\u001b[39m, in \u001b[36mTensorFlowTrainer.fit\u001b[39m\u001b[34m(self, x, y, batch_size, epochs, verbose, callbacks, validation_split, validation_data, shuffle, class_weight, sample_weight, initial_epoch, steps_per_epoch, validation_steps, validation_batch_size, validation_freq)\u001b[39m\n\u001b[32m    384\u001b[39m \u001b[38;5;28;01mif\u001b[39;00m \u001b[38;5;28mgetattr\u001b[39m(\u001b[38;5;28mself\u001b[39m, \u001b[33m\"\u001b[39m\u001b[33m_eval_epoch_iterator\u001b[39m\u001b[33m\"\u001b[39m, \u001b[38;5;28;01mNone\u001b[39;00m) \u001b[38;5;129;01mis\u001b[39;00m \u001b[38;5;28;01mNone\u001b[39;00m:\n\u001b[32m    385\u001b[39m     \u001b[38;5;28mself\u001b[39m._eval_epoch_iterator = TFEpochIterator(\n\u001b[32m    386\u001b[39m         x=val_x,\n\u001b[32m    387\u001b[39m         y=val_y,\n\u001b[32m   (...)\u001b[39m\u001b[32m    393\u001b[39m         shuffle=\u001b[38;5;28;01mFalse\u001b[39;00m,\n\u001b[32m    394\u001b[39m     )\n\u001b[32m--> \u001b[39m\u001b[32m395\u001b[39m val_logs = \u001b[38;5;28;43mself\u001b[39;49m\u001b[43m.\u001b[49m\u001b[43mevaluate\u001b[49m\u001b[43m(\u001b[49m\n\u001b[32m    396\u001b[39m \u001b[43m    \u001b[49m\u001b[43mx\u001b[49m\u001b[43m=\u001b[49m\u001b[43mval_x\u001b[49m\u001b[43m,\u001b[49m\n\u001b[32m    397\u001b[39m \u001b[43m    \u001b[49m\u001b[43my\u001b[49m\u001b[43m=\u001b[49m\u001b[43mval_y\u001b[49m\u001b[43m,\u001b[49m\n\u001b[32m    398\u001b[39m \u001b[43m    \u001b[49m\u001b[43msample_weight\u001b[49m\u001b[43m=\u001b[49m\u001b[43mval_sample_weight\u001b[49m\u001b[43m,\u001b[49m\n\u001b[32m    399\u001b[39m \u001b[43m    \u001b[49m\u001b[43mbatch_size\u001b[49m\u001b[43m=\u001b[49m\u001b[43mvalidation_batch_size\u001b[49m\u001b[43m \u001b[49m\u001b[38;5;129;43;01mor\u001b[39;49;00m\u001b[43m \u001b[49m\u001b[43mbatch_size\u001b[49m\u001b[43m,\u001b[49m\n\u001b[32m    400\u001b[39m \u001b[43m    \u001b[49m\u001b[43msteps\u001b[49m\u001b[43m=\u001b[49m\u001b[43mvalidation_steps\u001b[49m\u001b[43m,\u001b[49m\n\u001b[32m    401\u001b[39m \u001b[43m    \u001b[49m\u001b[43mcallbacks\u001b[49m\u001b[43m=\u001b[49m\u001b[43mcallbacks\u001b[49m\u001b[43m,\u001b[49m\n\u001b[32m    402\u001b[39m \u001b[43m    \u001b[49m\u001b[43mreturn_dict\u001b[49m\u001b[43m=\u001b[49m\u001b[38;5;28;43;01mTrue\u001b[39;49;00m\u001b[43m,\u001b[49m\n\u001b[32m    403\u001b[39m \u001b[43m    \u001b[49m\u001b[43m_use_cached_eval_dataset\u001b[49m\u001b[43m=\u001b[49m\u001b[38;5;28;43;01mTrue\u001b[39;49;00m\u001b[43m,\u001b[49m\n\u001b[32m    404\u001b[39m \u001b[43m\u001b[49m\u001b[43m)\u001b[49m\n\u001b[32m    405\u001b[39m val_logs = {\n\u001b[32m    406\u001b[39m     \u001b[33m\"\u001b[39m\u001b[33mval_\u001b[39m\u001b[33m\"\u001b[39m + name: val \u001b[38;5;28;01mfor\u001b[39;00m name, val \u001b[38;5;129;01min\u001b[39;00m val_logs.items()\n\u001b[32m    407\u001b[39m }\n\u001b[32m    408\u001b[39m epoch_logs.update(val_logs)\n",
      "\u001b[36mFile \u001b[39m\u001b[32m~/Desktop/Model_T9_to_Sinogram/tf_venv/lib/python3.12/site-packages/keras/src/utils/traceback_utils.py:117\u001b[39m, in \u001b[36mfilter_traceback.<locals>.error_handler\u001b[39m\u001b[34m(*args, **kwargs)\u001b[39m\n\u001b[32m    115\u001b[39m filtered_tb = \u001b[38;5;28;01mNone\u001b[39;00m\n\u001b[32m    116\u001b[39m \u001b[38;5;28;01mtry\u001b[39;00m:\n\u001b[32m--> \u001b[39m\u001b[32m117\u001b[39m     \u001b[38;5;28;01mreturn\u001b[39;00m \u001b[43mfn\u001b[49m\u001b[43m(\u001b[49m\u001b[43m*\u001b[49m\u001b[43margs\u001b[49m\u001b[43m,\u001b[49m\u001b[43m \u001b[49m\u001b[43m*\u001b[49m\u001b[43m*\u001b[49m\u001b[43mkwargs\u001b[49m\u001b[43m)\u001b[49m\n\u001b[32m    118\u001b[39m \u001b[38;5;28;01mexcept\u001b[39;00m \u001b[38;5;167;01mException\u001b[39;00m \u001b[38;5;28;01mas\u001b[39;00m e:\n\u001b[32m    119\u001b[39m     filtered_tb = _process_traceback_frames(e.__traceback__)\n",
      "\u001b[36mFile \u001b[39m\u001b[32m~/Desktop/Model_T9_to_Sinogram/tf_venv/lib/python3.12/site-packages/keras/src/backend/tensorflow/trainer.py:483\u001b[39m, in \u001b[36mTensorFlowTrainer.evaluate\u001b[39m\u001b[34m(self, x, y, batch_size, verbose, sample_weight, steps, callbacks, return_dict, **kwargs)\u001b[39m\n\u001b[32m    481\u001b[39m \u001b[38;5;28;01mfor\u001b[39;00m step, iterator \u001b[38;5;129;01min\u001b[39;00m epoch_iterator:\n\u001b[32m    482\u001b[39m     callbacks.on_test_batch_begin(step)\n\u001b[32m--> \u001b[39m\u001b[32m483\u001b[39m     logs = \u001b[38;5;28;43mself\u001b[39;49m\u001b[43m.\u001b[49m\u001b[43mtest_function\u001b[49m\u001b[43m(\u001b[49m\u001b[43miterator\u001b[49m\u001b[43m)\u001b[49m\n\u001b[32m    484\u001b[39m     callbacks.on_test_batch_end(step, logs)\n\u001b[32m    485\u001b[39m     \u001b[38;5;28;01mif\u001b[39;00m \u001b[38;5;28mself\u001b[39m.stop_evaluating:\n",
      "\u001b[36mFile \u001b[39m\u001b[32m~/Desktop/Model_T9_to_Sinogram/tf_venv/lib/python3.12/site-packages/keras/src/backend/tensorflow/trainer.py:219\u001b[39m, in \u001b[36mTensorFlowTrainer._make_function.<locals>.function\u001b[39m\u001b[34m(iterator)\u001b[39m\n\u001b[32m    215\u001b[39m \u001b[38;5;28;01mdef\u001b[39;00m\u001b[38;5;250m \u001b[39m\u001b[34mfunction\u001b[39m(iterator):\n\u001b[32m    216\u001b[39m     \u001b[38;5;28;01mif\u001b[39;00m \u001b[38;5;28misinstance\u001b[39m(\n\u001b[32m    217\u001b[39m         iterator, (tf.data.Iterator, tf.distribute.DistributedIterator)\n\u001b[32m    218\u001b[39m     ):\n\u001b[32m--> \u001b[39m\u001b[32m219\u001b[39m         opt_outputs = \u001b[43mmulti_step_on_iterator\u001b[49m\u001b[43m(\u001b[49m\u001b[43miterator\u001b[49m\u001b[43m)\u001b[49m\n\u001b[32m    220\u001b[39m         \u001b[38;5;28;01mif\u001b[39;00m \u001b[38;5;129;01mnot\u001b[39;00m opt_outputs.has_value():\n\u001b[32m    221\u001b[39m             \u001b[38;5;28;01mraise\u001b[39;00m \u001b[38;5;167;01mStopIteration\u001b[39;00m\n",
      "\u001b[36mFile \u001b[39m\u001b[32m~/Desktop/Model_T9_to_Sinogram/tf_venv/lib/python3.12/site-packages/tensorflow/python/util/traceback_utils.py:150\u001b[39m, in \u001b[36mfilter_traceback.<locals>.error_handler\u001b[39m\u001b[34m(*args, **kwargs)\u001b[39m\n\u001b[32m    148\u001b[39m filtered_tb = \u001b[38;5;28;01mNone\u001b[39;00m\n\u001b[32m    149\u001b[39m \u001b[38;5;28;01mtry\u001b[39;00m:\n\u001b[32m--> \u001b[39m\u001b[32m150\u001b[39m   \u001b[38;5;28;01mreturn\u001b[39;00m \u001b[43mfn\u001b[49m\u001b[43m(\u001b[49m\u001b[43m*\u001b[49m\u001b[43margs\u001b[49m\u001b[43m,\u001b[49m\u001b[43m \u001b[49m\u001b[43m*\u001b[49m\u001b[43m*\u001b[49m\u001b[43mkwargs\u001b[49m\u001b[43m)\u001b[49m\n\u001b[32m    151\u001b[39m \u001b[38;5;28;01mexcept\u001b[39;00m \u001b[38;5;167;01mException\u001b[39;00m \u001b[38;5;28;01mas\u001b[39;00m e:\n\u001b[32m    152\u001b[39m   filtered_tb = _process_traceback_frames(e.__traceback__)\n",
      "\u001b[36mFile \u001b[39m\u001b[32m~/Desktop/Model_T9_to_Sinogram/tf_venv/lib/python3.12/site-packages/tensorflow/python/eager/polymorphic_function/polymorphic_function.py:833\u001b[39m, in \u001b[36mFunction.__call__\u001b[39m\u001b[34m(self, *args, **kwds)\u001b[39m\n\u001b[32m    830\u001b[39m compiler = \u001b[33m\"\u001b[39m\u001b[33mxla\u001b[39m\u001b[33m\"\u001b[39m \u001b[38;5;28;01mif\u001b[39;00m \u001b[38;5;28mself\u001b[39m._jit_compile \u001b[38;5;28;01melse\u001b[39;00m \u001b[33m\"\u001b[39m\u001b[33mnonXla\u001b[39m\u001b[33m\"\u001b[39m\n\u001b[32m    832\u001b[39m \u001b[38;5;28;01mwith\u001b[39;00m OptionalXlaContext(\u001b[38;5;28mself\u001b[39m._jit_compile):\n\u001b[32m--> \u001b[39m\u001b[32m833\u001b[39m   result = \u001b[38;5;28;43mself\u001b[39;49m\u001b[43m.\u001b[49m\u001b[43m_call\u001b[49m\u001b[43m(\u001b[49m\u001b[43m*\u001b[49m\u001b[43margs\u001b[49m\u001b[43m,\u001b[49m\u001b[43m \u001b[49m\u001b[43m*\u001b[49m\u001b[43m*\u001b[49m\u001b[43mkwds\u001b[49m\u001b[43m)\u001b[49m\n\u001b[32m    835\u001b[39m new_tracing_count = \u001b[38;5;28mself\u001b[39m.experimental_get_tracing_count()\n\u001b[32m    836\u001b[39m without_tracing = (tracing_count == new_tracing_count)\n",
      "\u001b[36mFile \u001b[39m\u001b[32m~/Desktop/Model_T9_to_Sinogram/tf_venv/lib/python3.12/site-packages/tensorflow/python/eager/polymorphic_function/polymorphic_function.py:878\u001b[39m, in \u001b[36mFunction._call\u001b[39m\u001b[34m(self, *args, **kwds)\u001b[39m\n\u001b[32m    875\u001b[39m \u001b[38;5;28mself\u001b[39m._lock.release()\n\u001b[32m    876\u001b[39m \u001b[38;5;66;03m# In this case we have not created variables on the first call. So we can\u001b[39;00m\n\u001b[32m    877\u001b[39m \u001b[38;5;66;03m# run the first trace but we should fail if variables are created.\u001b[39;00m\n\u001b[32m--> \u001b[39m\u001b[32m878\u001b[39m results = \u001b[43mtracing_compilation\u001b[49m\u001b[43m.\u001b[49m\u001b[43mcall_function\u001b[49m\u001b[43m(\u001b[49m\n\u001b[32m    879\u001b[39m \u001b[43m    \u001b[49m\u001b[43margs\u001b[49m\u001b[43m,\u001b[49m\u001b[43m \u001b[49m\u001b[43mkwds\u001b[49m\u001b[43m,\u001b[49m\u001b[43m \u001b[49m\u001b[38;5;28;43mself\u001b[39;49m\u001b[43m.\u001b[49m\u001b[43m_variable_creation_config\u001b[49m\n\u001b[32m    880\u001b[39m \u001b[43m\u001b[49m\u001b[43m)\u001b[49m\n\u001b[32m    881\u001b[39m \u001b[38;5;28;01mif\u001b[39;00m \u001b[38;5;28mself\u001b[39m._created_variables:\n\u001b[32m    882\u001b[39m   \u001b[38;5;28;01mraise\u001b[39;00m \u001b[38;5;167;01mValueError\u001b[39;00m(\u001b[33m\"\u001b[39m\u001b[33mCreating variables on a non-first call to a function\u001b[39m\u001b[33m\"\u001b[39m\n\u001b[32m    883\u001b[39m                    \u001b[33m\"\u001b[39m\u001b[33m decorated with tf.function.\u001b[39m\u001b[33m\"\u001b[39m)\n",
      "\u001b[36mFile \u001b[39m\u001b[32m~/Desktop/Model_T9_to_Sinogram/tf_venv/lib/python3.12/site-packages/tensorflow/python/eager/polymorphic_function/tracing_compilation.py:139\u001b[39m, in \u001b[36mcall_function\u001b[39m\u001b[34m(args, kwargs, tracing_options)\u001b[39m\n\u001b[32m    137\u001b[39m bound_args = function.function_type.bind(*args, **kwargs)\n\u001b[32m    138\u001b[39m flat_inputs = function.function_type.unpack_inputs(bound_args)\n\u001b[32m--> \u001b[39m\u001b[32m139\u001b[39m \u001b[38;5;28;01mreturn\u001b[39;00m \u001b[43mfunction\u001b[49m\u001b[43m.\u001b[49m\u001b[43m_call_flat\u001b[49m\u001b[43m(\u001b[49m\u001b[43m  \u001b[49m\u001b[38;5;66;43;03m# pylint: disable=protected-access\u001b[39;49;00m\n\u001b[32m    140\u001b[39m \u001b[43m    \u001b[49m\u001b[43mflat_inputs\u001b[49m\u001b[43m,\u001b[49m\u001b[43m \u001b[49m\u001b[43mcaptured_inputs\u001b[49m\u001b[43m=\u001b[49m\u001b[43mfunction\u001b[49m\u001b[43m.\u001b[49m\u001b[43mcaptured_inputs\u001b[49m\n\u001b[32m    141\u001b[39m \u001b[43m\u001b[49m\u001b[43m)\u001b[49m\n",
      "\u001b[36mFile \u001b[39m\u001b[32m~/Desktop/Model_T9_to_Sinogram/tf_venv/lib/python3.12/site-packages/tensorflow/python/eager/polymorphic_function/concrete_function.py:1322\u001b[39m, in \u001b[36mConcreteFunction._call_flat\u001b[39m\u001b[34m(self, tensor_inputs, captured_inputs)\u001b[39m\n\u001b[32m   1318\u001b[39m possible_gradient_type = gradients_util.PossibleTapeGradientTypes(args)\n\u001b[32m   1319\u001b[39m \u001b[38;5;28;01mif\u001b[39;00m (possible_gradient_type == gradients_util.POSSIBLE_GRADIENT_TYPES_NONE\n\u001b[32m   1320\u001b[39m     \u001b[38;5;129;01mand\u001b[39;00m executing_eagerly):\n\u001b[32m   1321\u001b[39m   \u001b[38;5;66;03m# No tape is watching; skip to running the function.\u001b[39;00m\n\u001b[32m-> \u001b[39m\u001b[32m1322\u001b[39m   \u001b[38;5;28;01mreturn\u001b[39;00m \u001b[38;5;28;43mself\u001b[39;49m\u001b[43m.\u001b[49m\u001b[43m_inference_function\u001b[49m\u001b[43m.\u001b[49m\u001b[43mcall_preflattened\u001b[49m\u001b[43m(\u001b[49m\u001b[43margs\u001b[49m\u001b[43m)\u001b[49m\n\u001b[32m   1323\u001b[39m forward_backward = \u001b[38;5;28mself\u001b[39m._select_forward_and_backward_functions(\n\u001b[32m   1324\u001b[39m     args,\n\u001b[32m   1325\u001b[39m     possible_gradient_type,\n\u001b[32m   1326\u001b[39m     executing_eagerly)\n\u001b[32m   1327\u001b[39m forward_function, args_with_tangents = forward_backward.forward()\n",
      "\u001b[36mFile \u001b[39m\u001b[32m~/Desktop/Model_T9_to_Sinogram/tf_venv/lib/python3.12/site-packages/tensorflow/python/eager/polymorphic_function/atomic_function.py:216\u001b[39m, in \u001b[36mAtomicFunction.call_preflattened\u001b[39m\u001b[34m(self, args)\u001b[39m\n\u001b[32m    214\u001b[39m \u001b[38;5;28;01mdef\u001b[39;00m\u001b[38;5;250m \u001b[39m\u001b[34mcall_preflattened\u001b[39m(\u001b[38;5;28mself\u001b[39m, args: Sequence[core.Tensor]) -> Any:\n\u001b[32m    215\u001b[39m \u001b[38;5;250m  \u001b[39m\u001b[33;03m\"\"\"Calls with flattened tensor inputs and returns the structured output.\"\"\"\u001b[39;00m\n\u001b[32m--> \u001b[39m\u001b[32m216\u001b[39m   flat_outputs = \u001b[38;5;28;43mself\u001b[39;49m\u001b[43m.\u001b[49m\u001b[43mcall_flat\u001b[49m\u001b[43m(\u001b[49m\u001b[43m*\u001b[49m\u001b[43margs\u001b[49m\u001b[43m)\u001b[49m\n\u001b[32m    217\u001b[39m   \u001b[38;5;28;01mreturn\u001b[39;00m \u001b[38;5;28mself\u001b[39m.function_type.pack_output(flat_outputs)\n",
      "\u001b[36mFile \u001b[39m\u001b[32m~/Desktop/Model_T9_to_Sinogram/tf_venv/lib/python3.12/site-packages/tensorflow/python/eager/polymorphic_function/atomic_function.py:251\u001b[39m, in \u001b[36mAtomicFunction.call_flat\u001b[39m\u001b[34m(self, *args)\u001b[39m\n\u001b[32m    249\u001b[39m \u001b[38;5;28;01mwith\u001b[39;00m record.stop_recording():\n\u001b[32m    250\u001b[39m   \u001b[38;5;28;01mif\u001b[39;00m \u001b[38;5;28mself\u001b[39m._bound_context.executing_eagerly():\n\u001b[32m--> \u001b[39m\u001b[32m251\u001b[39m     outputs = \u001b[38;5;28;43mself\u001b[39;49m\u001b[43m.\u001b[49m\u001b[43m_bound_context\u001b[49m\u001b[43m.\u001b[49m\u001b[43mcall_function\u001b[49m\u001b[43m(\u001b[49m\n\u001b[32m    252\u001b[39m \u001b[43m        \u001b[49m\u001b[38;5;28;43mself\u001b[39;49m\u001b[43m.\u001b[49m\u001b[43mname\u001b[49m\u001b[43m,\u001b[49m\n\u001b[32m    253\u001b[39m \u001b[43m        \u001b[49m\u001b[38;5;28;43mlist\u001b[39;49m\u001b[43m(\u001b[49m\u001b[43margs\u001b[49m\u001b[43m)\u001b[49m\u001b[43m,\u001b[49m\n\u001b[32m    254\u001b[39m \u001b[43m        \u001b[49m\u001b[38;5;28;43mlen\u001b[39;49m\u001b[43m(\u001b[49m\u001b[38;5;28;43mself\u001b[39;49m\u001b[43m.\u001b[49m\u001b[43mfunction_type\u001b[49m\u001b[43m.\u001b[49m\u001b[43mflat_outputs\u001b[49m\u001b[43m)\u001b[49m\u001b[43m,\u001b[49m\n\u001b[32m    255\u001b[39m \u001b[43m    \u001b[49m\u001b[43m)\u001b[49m\n\u001b[32m    256\u001b[39m   \u001b[38;5;28;01melse\u001b[39;00m:\n\u001b[32m    257\u001b[39m     outputs = make_call_op_in_graph(\n\u001b[32m    258\u001b[39m         \u001b[38;5;28mself\u001b[39m,\n\u001b[32m    259\u001b[39m         \u001b[38;5;28mlist\u001b[39m(args),\n\u001b[32m    260\u001b[39m         \u001b[38;5;28mself\u001b[39m._bound_context.function_call_options.as_attrs(),\n\u001b[32m    261\u001b[39m     )\n",
      "\u001b[36mFile \u001b[39m\u001b[32m~/Desktop/Model_T9_to_Sinogram/tf_venv/lib/python3.12/site-packages/tensorflow/python/eager/context.py:1688\u001b[39m, in \u001b[36mContext.call_function\u001b[39m\u001b[34m(self, name, tensor_inputs, num_outputs)\u001b[39m\n\u001b[32m   1686\u001b[39m cancellation_context = cancellation.context()\n\u001b[32m   1687\u001b[39m \u001b[38;5;28;01mif\u001b[39;00m cancellation_context \u001b[38;5;129;01mis\u001b[39;00m \u001b[38;5;28;01mNone\u001b[39;00m:\n\u001b[32m-> \u001b[39m\u001b[32m1688\u001b[39m   outputs = \u001b[43mexecute\u001b[49m\u001b[43m.\u001b[49m\u001b[43mexecute\u001b[49m\u001b[43m(\u001b[49m\n\u001b[32m   1689\u001b[39m \u001b[43m      \u001b[49m\u001b[43mname\u001b[49m\u001b[43m.\u001b[49m\u001b[43mdecode\u001b[49m\u001b[43m(\u001b[49m\u001b[33;43m\"\u001b[39;49m\u001b[33;43mutf-8\u001b[39;49m\u001b[33;43m\"\u001b[39;49m\u001b[43m)\u001b[49m\u001b[43m,\u001b[49m\n\u001b[32m   1690\u001b[39m \u001b[43m      \u001b[49m\u001b[43mnum_outputs\u001b[49m\u001b[43m=\u001b[49m\u001b[43mnum_outputs\u001b[49m\u001b[43m,\u001b[49m\n\u001b[32m   1691\u001b[39m \u001b[43m      \u001b[49m\u001b[43minputs\u001b[49m\u001b[43m=\u001b[49m\u001b[43mtensor_inputs\u001b[49m\u001b[43m,\u001b[49m\n\u001b[32m   1692\u001b[39m \u001b[43m      \u001b[49m\u001b[43mattrs\u001b[49m\u001b[43m=\u001b[49m\u001b[43mattrs\u001b[49m\u001b[43m,\u001b[49m\n\u001b[32m   1693\u001b[39m \u001b[43m      \u001b[49m\u001b[43mctx\u001b[49m\u001b[43m=\u001b[49m\u001b[38;5;28;43mself\u001b[39;49m\u001b[43m,\u001b[49m\n\u001b[32m   1694\u001b[39m \u001b[43m  \u001b[49m\u001b[43m)\u001b[49m\n\u001b[32m   1695\u001b[39m \u001b[38;5;28;01melse\u001b[39;00m:\n\u001b[32m   1696\u001b[39m   outputs = execute.execute_with_cancellation(\n\u001b[32m   1697\u001b[39m       name.decode(\u001b[33m\"\u001b[39m\u001b[33mutf-8\u001b[39m\u001b[33m\"\u001b[39m),\n\u001b[32m   1698\u001b[39m       num_outputs=num_outputs,\n\u001b[32m   (...)\u001b[39m\u001b[32m   1702\u001b[39m       cancellation_manager=cancellation_context,\n\u001b[32m   1703\u001b[39m   )\n",
      "\u001b[36mFile \u001b[39m\u001b[32m~/Desktop/Model_T9_to_Sinogram/tf_venv/lib/python3.12/site-packages/tensorflow/python/eager/execute.py:53\u001b[39m, in \u001b[36mquick_execute\u001b[39m\u001b[34m(op_name, num_outputs, inputs, attrs, ctx, name)\u001b[39m\n\u001b[32m     51\u001b[39m \u001b[38;5;28;01mtry\u001b[39;00m:\n\u001b[32m     52\u001b[39m   ctx.ensure_initialized()\n\u001b[32m---> \u001b[39m\u001b[32m53\u001b[39m   tensors = \u001b[43mpywrap_tfe\u001b[49m\u001b[43m.\u001b[49m\u001b[43mTFE_Py_Execute\u001b[49m\u001b[43m(\u001b[49m\u001b[43mctx\u001b[49m\u001b[43m.\u001b[49m\u001b[43m_handle\u001b[49m\u001b[43m,\u001b[49m\u001b[43m \u001b[49m\u001b[43mdevice_name\u001b[49m\u001b[43m,\u001b[49m\u001b[43m \u001b[49m\u001b[43mop_name\u001b[49m\u001b[43m,\u001b[49m\n\u001b[32m     54\u001b[39m \u001b[43m                                      \u001b[49m\u001b[43minputs\u001b[49m\u001b[43m,\u001b[49m\u001b[43m \u001b[49m\u001b[43mattrs\u001b[49m\u001b[43m,\u001b[49m\u001b[43m \u001b[49m\u001b[43mnum_outputs\u001b[49m\u001b[43m)\u001b[49m\n\u001b[32m     55\u001b[39m \u001b[38;5;28;01mexcept\u001b[39;00m core._NotOkStatusException \u001b[38;5;28;01mas\u001b[39;00m e:\n\u001b[32m     56\u001b[39m   \u001b[38;5;28;01mif\u001b[39;00m name \u001b[38;5;129;01mis\u001b[39;00m \u001b[38;5;129;01mnot\u001b[39;00m \u001b[38;5;28;01mNone\u001b[39;00m:\n",
      "\u001b[31mKeyboardInterrupt\u001b[39m: "
     ]
    }
   ],
   "source": [
    "# Créer le modèle avec les meilleurs hyperparamètres\n",
    "model_simple = build_simple_model(\n",
    "    lstm_units=best_hyperparameters.get('lstm_units'),\n",
    "    output_dim=best_hyperparameters.get('output_dim'),\n",
    "    dropout_rate=best_hyperparameters.get('dropout_rate'),\n",
    ")\n",
    "\n",
    "ds_sample_train = ds_train.take(nb_train_samples)\n",
    "ds_sample_val = ds_val.take(nb_val_samples)\n",
    "\n",
    "# Entraîner le modèle\n",
    "history_simple = model_simple.fit(\n",
    "    ds_sample_train,\n",
    "    epochs=20,\n",
    "    validation_data=ds_sample_val,\n",
    "    callbacks=[early_stopping],\n",
    "    verbose=1,\n",
    ")"
   ]
  },
  {
   "cell_type": "code",
   "execution_count": null,
   "id": "d5d63193",
   "metadata": {},
   "outputs": [],
   "source": [
    "# sauvegarder le modèle\n",
    "if not os.path.exists(\"models\"):\n",
    "    os.makedirs(\"models\")\n",
    "\n",
    "model_simple.save('models/simple_model.h5')"
   ]
  },
  {
   "cell_type": "code",
   "execution_count": null,
   "id": "8124dd33",
   "metadata": {},
   "outputs": [
    {
     "data": {
      "image/png": "[encoded data removed]",
      "text/plain": [
       "<Figure size 640x480 with 1 Axes>"
      ]
     },
     "metadata": {},
     "output_type": "display_data"
    },
    {
     "data": {
      "image/png": "[encoded data removed]",
      "text/plain": [
       "<Figure size 640x480 with 1 Axes>"
      ]
     },
     "metadata": {},
     "output_type": "display_data"
    }
   ],
   "source": [
    "plot_history(history_simple)"
   ]
  },
  {
   "cell_type": "code",
   "execution_count": null,
   "id": "e252e198",
   "metadata": {},
   "outputs": [],
   "source": [
    "def build_model(lstm_units=256, output_dim=128, dropout_rate=0.2, dense_units_output=128):\n",
    "    context_input = Input(shape=(10,), dtype=tf.int32, name=\"context_input\")\n",
    "    context_embedding = Embedding(input_dim=context_tv.vocabulary_size(), output_dim=output_dim, mask_zero=False)(context_input)\n",
    "    context_lstm = LSTM(lstm_units, return_sequences=True, return_state=True)\n",
    "    context_lstm_out, context_state_h, context_state_c = context_lstm(context_embedding)\n",
    "    context_lstm_out = Dropout(dropout_rate)(context_lstm_out)\n",
    "\n",
    "    t9_input = Input(shape=(10,), dtype=tf.int32, name=\"t9_input\")\n",
    "    t9_embedding = Embedding(input_dim=input_t9_tv.vocabulary_size(), output_dim=output_dim, mask_zero=False)(t9_input)\n",
    "    t9_lstm = LSTM(lstm_units, return_sequences=True, return_state=True)\n",
    "    t9_lstm_out, t9_state_h, t9_state_c = t9_lstm(t9_embedding)\n",
    "    t9_lstm_out = Dropout(dropout_rate)(t9_lstm_out)\n",
    "\n",
    "    combined_state_h = Dense(lstm_units, activation='tanh')(Concatenate()([context_state_h, t9_state_h]))\n",
    "    combined_state_c = Dense(lstm_units, activation='tanh')(Concatenate()([context_state_c, t9_state_c]))\n",
    "\n",
    "    decoder_input = Input(shape=(10,), dtype=tf.int32, name=\"decoder_input\")\n",
    "    decoder_embedding = Embedding(input_dim=target_tv.vocabulary_size(), output_dim=output_dim, mask_zero=False)(decoder_input)\n",
    "    decoder_lstm = LSTM(lstm_units, return_sequences=True, return_state=True)\n",
    "    decoder_lstm_out, _, _ = decoder_lstm(decoder_embedding, initial_state=[combined_state_h, combined_state_c])\n",
    "    decoder_lstm_out = Dropout(dropout_rate)(decoder_lstm_out)\n",
    "\n",
    "    # Aligner les dimensions pour l'attention\n",
    "    encoder_combined = Concatenate()([context_lstm_out, t9_lstm_out])  # (batch_size, 10, 2 * lstm_units)\n",
    "    encoder_combined = Dense(lstm_units, activation='relu')(encoder_combined)  # Réduire à (batch_size, 10, lstm_units)\n",
    "    attention = Attention()([decoder_lstm_out, encoder_combined])\n",
    "    decoder_combined = Concatenate()([decoder_lstm_out, attention])\n",
    "\n",
    "    dense = Dense(dense_units_output, activation='relu')(decoder_combined)\n",
    "    dense = Dropout(dropout_rate)(dense)\n",
    "    output = Dense(target_tv.vocabulary_size(), activation='softmax')(dense)\n",
    "\n",
    "    model = Model(inputs=[context_input, t9_input, decoder_input], outputs=output)\n",
    "    model.compile(optimizer='adam', loss='sparse_categorical_crossentropy', metrics=['accuracy'])\n",
    "    return model"
   ]
  },
  {
   "cell_type": "code",
   "execution_count": null,
   "id": "1e23f826",
   "metadata": {},
   "outputs": [],
   "source": [
    "# Visualiser le modèle\n",
    "model = build_model()\n",
    "keras.utils.plot_model(model, show_shapes=True, show_layer_names=True, to_file='model.png')"
   ]
  },
  {
   "cell_type": "code",
   "execution_count": null,
   "id": "03663220",
   "metadata": {},
   "outputs": [
    {
     "name": "stdout",
     "output_type": "stream",
     "text": [
      "Reloading Tuner from hyperparameter_tuning/chinese_news_tuning/tuner0.json\n",
      "\n",
      "Search: Running Trial #7\n",
      "\n",
      "Value             |Best Value So Far |Hyperparameter\n",
      "128               |128               |lstm_units\n",
      "32                |64                |output_dim\n",
      "0.2               |0.1               |dropout_rate\n",
      "128               |128               |dense_units_output\n",
      "\n"
     ]
    },
    {
     "name": "stderr",
     "output_type": "stream",
     "text": [
      "Exception ignored in: <bound method IPythonKernel._clean_thread_parent_frames of <ipykernel.ipkernel.IPythonKernel object at 0x1076ba3c0>>\n",
      "Traceback (most recent call last):\n",
      "  File \"/Users/petx/Desktop/Model_T9_to_Sinogram/tf_venv/lib/python3.12/site-packages/ipykernel/ipkernel.py\", line 775, in _clean_thread_parent_frames\n",
      "    def _clean_thread_parent_frames(\n",
      "\n",
      "KeyboardInterrupt: \n"
     ]
    },
    {
     "name": "stdout",
     "output_type": "stream",
     "text": [
      "Epoch 1/15\n"
     ]
    },
    {
     "name": "stderr",
     "output_type": "stream",
     "text": [
      "2025-04-12 22:23:53.223219: I tensorflow/core/kernels/data/shuffle_dataset_op.cc:452] ShuffleDatasetV3:14: Filling up shuffle buffer (this may take a while): 11829 of 23509\n",
      "2025-04-12 22:24:02.559176: I tensorflow/core/kernels/data/shuffle_dataset_op.cc:482] Shuffle buffer filled.\n"
     ]
    },
    {
     "name": "stdout",
     "output_type": "stream",
     "text": [
      "\u001b[1m  49/3134\u001b[0m \u001b[37m━━━━━━━━━━━━━━━━━━━━\u001b[0m \u001b[1m4:39\u001b[0m 91ms/step - accuracy: 0.0264 - loss: 8.1052"
     ]
    },
    {
     "ename": "KeyboardInterrupt",
     "evalue": "",
     "output_type": "error",
     "traceback": [
      "\u001b[31m---------------------------------------------------------------------------\u001b[39m",
      "\u001b[31mKeyboardInterrupt\u001b[39m                         Traceback (most recent call last)",
      "\u001b[36mCell\u001b[39m\u001b[36m \u001b[39m\u001b[32mIn[13]\u001b[39m\u001b[32m, line 29\u001b[39m\n\u001b[32m     26\u001b[39m ds_train_small = \u001b[38;5;28mround\u001b[39m(ds_train.cardinality().numpy()/\u001b[32m6\u001b[39m)\n\u001b[32m     27\u001b[39m ds_val_small = \u001b[38;5;28mround\u001b[39m(ds_val.cardinality().numpy()/\u001b[32m6\u001b[39m)\n\u001b[32m---> \u001b[39m\u001b[32m29\u001b[39m \u001b[43mtuner\u001b[49m\u001b[43m.\u001b[49m\u001b[43msearch\u001b[49m\u001b[43m(\u001b[49m\n\u001b[32m     30\u001b[39m \u001b[43m    \u001b[49m\u001b[43mds_train\u001b[49m\u001b[43m.\u001b[49m\u001b[43mtake\u001b[49m\u001b[43m(\u001b[49m\u001b[43mds_train_small\u001b[49m\u001b[43m)\u001b[49m\u001b[43m,\u001b[49m\n\u001b[32m     31\u001b[39m \u001b[43m    \u001b[49m\u001b[43mepochs\u001b[49m\u001b[43m=\u001b[49m\u001b[32;43m15\u001b[39;49m\u001b[43m,\u001b[49m\n\u001b[32m     32\u001b[39m \u001b[43m    \u001b[49m\u001b[43mvalidation_data\u001b[49m\u001b[43m=\u001b[49m\u001b[43mds_val\u001b[49m\u001b[43m.\u001b[49m\u001b[43mtake\u001b[49m\u001b[43m(\u001b[49m\u001b[43mds_val_small\u001b[49m\u001b[43m)\u001b[49m\u001b[43m,\u001b[49m\n\u001b[32m     33\u001b[39m \u001b[43m    \u001b[49m\u001b[43mcallbacks\u001b[49m\u001b[43m=\u001b[49m\u001b[43m[\u001b[49m\u001b[43mearly_stopping\u001b[49m\u001b[43m]\u001b[49m\n\u001b[32m     34\u001b[39m \u001b[43m)\u001b[49m\n\u001b[32m     37\u001b[39m \u001b[38;5;66;03m# Obtenir le meilleur modèle\u001b[39;00m\n\u001b[32m     38\u001b[39m best_model = tuner.get_best_models(num_models=\u001b[32m1\u001b[39m)[\u001b[32m0\u001b[39m]\n",
      "\u001b[36mFile \u001b[39m\u001b[32m~/Desktop/Model_T9_to_Sinogram/tf_venv/lib/python3.12/site-packages/keras_tuner/src/engine/base_tuner.py:234\u001b[39m, in \u001b[36mBaseTuner.search\u001b[39m\u001b[34m(self, *fit_args, **fit_kwargs)\u001b[39m\n\u001b[32m    231\u001b[39m         \u001b[38;5;28;01mcontinue\u001b[39;00m\n\u001b[32m    233\u001b[39m     \u001b[38;5;28mself\u001b[39m.on_trial_begin(trial)\n\u001b[32m--> \u001b[39m\u001b[32m234\u001b[39m     \u001b[38;5;28;43mself\u001b[39;49m\u001b[43m.\u001b[49m\u001b[43m_try_run_and_update_trial\u001b[49m\u001b[43m(\u001b[49m\u001b[43mtrial\u001b[49m\u001b[43m,\u001b[49m\u001b[43m \u001b[49m\u001b[43m*\u001b[49m\u001b[43mfit_args\u001b[49m\u001b[43m,\u001b[49m\u001b[43m \u001b[49m\u001b[43m*\u001b[49m\u001b[43m*\u001b[49m\u001b[43mfit_kwargs\u001b[49m\u001b[43m)\u001b[49m\n\u001b[32m    235\u001b[39m     \u001b[38;5;28mself\u001b[39m.on_trial_end(trial)\n\u001b[32m    236\u001b[39m \u001b[38;5;28mself\u001b[39m.on_search_end()\n",
      "\u001b[36mFile \u001b[39m\u001b[32m~/Desktop/Model_T9_to_Sinogram/tf_venv/lib/python3.12/site-packages/keras_tuner/src/engine/base_tuner.py:274\u001b[39m, in \u001b[36mBaseTuner._try_run_and_update_trial\u001b[39m\u001b[34m(self, trial, *fit_args, **fit_kwargs)\u001b[39m\n\u001b[32m    272\u001b[39m \u001b[38;5;28;01mdef\u001b[39;00m\u001b[38;5;250m \u001b[39m\u001b[34m_try_run_and_update_trial\u001b[39m(\u001b[38;5;28mself\u001b[39m, trial, *fit_args, **fit_kwargs):\n\u001b[32m    273\u001b[39m     \u001b[38;5;28;01mtry\u001b[39;00m:\n\u001b[32m--> \u001b[39m\u001b[32m274\u001b[39m         \u001b[38;5;28;43mself\u001b[39;49m\u001b[43m.\u001b[49m\u001b[43m_run_and_update_trial\u001b[49m\u001b[43m(\u001b[49m\u001b[43mtrial\u001b[49m\u001b[43m,\u001b[49m\u001b[43m \u001b[49m\u001b[43m*\u001b[49m\u001b[43mfit_args\u001b[49m\u001b[43m,\u001b[49m\u001b[43m \u001b[49m\u001b[43m*\u001b[49m\u001b[43m*\u001b[49m\u001b[43mfit_kwargs\u001b[49m\u001b[43m)\u001b[49m\n\u001b[32m    275\u001b[39m         trial.status = trial_module.TrialStatus.COMPLETED\n\u001b[32m    276\u001b[39m         \u001b[38;5;28;01mreturn\u001b[39;00m\n",
      "\u001b[36mFile \u001b[39m\u001b[32m~/Desktop/Model_T9_to_Sinogram/tf_venv/lib/python3.12/site-packages/keras_tuner/src/engine/base_tuner.py:239\u001b[39m, in \u001b[36mBaseTuner._run_and_update_trial\u001b[39m\u001b[34m(self, trial, *fit_args, **fit_kwargs)\u001b[39m\n\u001b[32m    238\u001b[39m \u001b[38;5;28;01mdef\u001b[39;00m\u001b[38;5;250m \u001b[39m\u001b[34m_run_and_update_trial\u001b[39m(\u001b[38;5;28mself\u001b[39m, trial, *fit_args, **fit_kwargs):\n\u001b[32m--> \u001b[39m\u001b[32m239\u001b[39m     results = \u001b[38;5;28;43mself\u001b[39;49m\u001b[43m.\u001b[49m\u001b[43mrun_trial\u001b[49m\u001b[43m(\u001b[49m\u001b[43mtrial\u001b[49m\u001b[43m,\u001b[49m\u001b[43m \u001b[49m\u001b[43m*\u001b[49m\u001b[43mfit_args\u001b[49m\u001b[43m,\u001b[49m\u001b[43m \u001b[49m\u001b[43m*\u001b[49m\u001b[43m*\u001b[49m\u001b[43mfit_kwargs\u001b[49m\u001b[43m)\u001b[49m\n\u001b[32m    240\u001b[39m     \u001b[38;5;28;01mif\u001b[39;00m \u001b[38;5;28mself\u001b[39m.oracle.get_trial(trial.trial_id).metrics.exists(\n\u001b[32m    241\u001b[39m         \u001b[38;5;28mself\u001b[39m.oracle.objective.name\n\u001b[32m    242\u001b[39m     ):\n\u001b[32m    243\u001b[39m         \u001b[38;5;66;03m# The oracle is updated by calling `self.oracle.update_trial()` in\u001b[39;00m\n\u001b[32m    244\u001b[39m         \u001b[38;5;66;03m# `Tuner.run_trial()`. For backward compatibility, we support this\u001b[39;00m\n\u001b[32m    245\u001b[39m         \u001b[38;5;66;03m# use case. No further action needed in this case.\u001b[39;00m\n\u001b[32m    246\u001b[39m         warnings.warn(\n\u001b[32m    247\u001b[39m             \u001b[33m\"\u001b[39m\u001b[33mThe use case of calling \u001b[39m\u001b[33m\"\u001b[39m\n\u001b[32m    248\u001b[39m             \u001b[33m\"\u001b[39m\u001b[33m`self.oracle.update_trial(trial_id, metrics)` \u001b[39m\u001b[33m\"\u001b[39m\n\u001b[32m   (...)\u001b[39m\u001b[32m    254\u001b[39m             stacklevel=\u001b[32m2\u001b[39m,\n\u001b[32m    255\u001b[39m         )\n",
      "\u001b[36mFile \u001b[39m\u001b[32m~/Desktop/Model_T9_to_Sinogram/tf_venv/lib/python3.12/site-packages/keras_tuner/src/engine/tuner.py:314\u001b[39m, in \u001b[36mTuner.run_trial\u001b[39m\u001b[34m(self, trial, *args, **kwargs)\u001b[39m\n\u001b[32m    312\u001b[39m     callbacks.append(model_checkpoint)\n\u001b[32m    313\u001b[39m     copied_kwargs[\u001b[33m\"\u001b[39m\u001b[33mcallbacks\u001b[39m\u001b[33m\"\u001b[39m] = callbacks\n\u001b[32m--> \u001b[39m\u001b[32m314\u001b[39m     obj_value = \u001b[38;5;28;43mself\u001b[39;49m\u001b[43m.\u001b[49m\u001b[43m_build_and_fit_model\u001b[49m\u001b[43m(\u001b[49m\u001b[43mtrial\u001b[49m\u001b[43m,\u001b[49m\u001b[43m \u001b[49m\u001b[43m*\u001b[49m\u001b[43margs\u001b[49m\u001b[43m,\u001b[49m\u001b[43m \u001b[49m\u001b[43m*\u001b[49m\u001b[43m*\u001b[49m\u001b[43mcopied_kwargs\u001b[49m\u001b[43m)\u001b[49m\n\u001b[32m    316\u001b[39m     histories.append(obj_value)\n\u001b[32m    317\u001b[39m \u001b[38;5;28;01mreturn\u001b[39;00m histories\n",
      "\u001b[36mFile \u001b[39m\u001b[32m~/Desktop/Model_T9_to_Sinogram/tf_venv/lib/python3.12/site-packages/keras_tuner/src/engine/tuner.py:233\u001b[39m, in \u001b[36mTuner._build_and_fit_model\u001b[39m\u001b[34m(self, trial, *args, **kwargs)\u001b[39m\n\u001b[32m    231\u001b[39m hp = trial.hyperparameters\n\u001b[32m    232\u001b[39m model = \u001b[38;5;28mself\u001b[39m._try_build(hp)\n\u001b[32m--> \u001b[39m\u001b[32m233\u001b[39m results = \u001b[38;5;28;43mself\u001b[39;49m\u001b[43m.\u001b[49m\u001b[43mhypermodel\u001b[49m\u001b[43m.\u001b[49m\u001b[43mfit\u001b[49m\u001b[43m(\u001b[49m\u001b[43mhp\u001b[49m\u001b[43m,\u001b[49m\u001b[43m \u001b[49m\u001b[43mmodel\u001b[49m\u001b[43m,\u001b[49m\u001b[43m \u001b[49m\u001b[43m*\u001b[49m\u001b[43margs\u001b[49m\u001b[43m,\u001b[49m\u001b[43m \u001b[49m\u001b[43m*\u001b[49m\u001b[43m*\u001b[49m\u001b[43mkwargs\u001b[49m\u001b[43m)\u001b[49m\n\u001b[32m    235\u001b[39m \u001b[38;5;66;03m# Save the build config for model loading later.\u001b[39;00m\n\u001b[32m    236\u001b[39m \u001b[38;5;28;01mif\u001b[39;00m backend.config.multi_backend():\n",
      "\u001b[36mFile \u001b[39m\u001b[32m~/Desktop/Model_T9_to_Sinogram/tf_venv/lib/python3.12/site-packages/keras_tuner/src/engine/hypermodel.py:149\u001b[39m, in \u001b[36mHyperModel.fit\u001b[39m\u001b[34m(self, hp, model, *args, **kwargs)\u001b[39m\n\u001b[32m    125\u001b[39m \u001b[38;5;28;01mdef\u001b[39;00m\u001b[38;5;250m \u001b[39m\u001b[34mfit\u001b[39m(\u001b[38;5;28mself\u001b[39m, hp, model, *args, **kwargs):\n\u001b[32m    126\u001b[39m \u001b[38;5;250m    \u001b[39m\u001b[33;03m\"\"\"Train the model.\u001b[39;00m\n\u001b[32m    127\u001b[39m \n\u001b[32m    128\u001b[39m \u001b[33;03m    Args:\u001b[39;00m\n\u001b[32m   (...)\u001b[39m\u001b[32m    147\u001b[39m \u001b[33;03m        If return a float, it should be the `objective` value.\u001b[39;00m\n\u001b[32m    148\u001b[39m \u001b[33;03m    \"\"\"\u001b[39;00m\n\u001b[32m--> \u001b[39m\u001b[32m149\u001b[39m     \u001b[38;5;28;01mreturn\u001b[39;00m \u001b[43mmodel\u001b[49m\u001b[43m.\u001b[49m\u001b[43mfit\u001b[49m\u001b[43m(\u001b[49m\u001b[43m*\u001b[49m\u001b[43margs\u001b[49m\u001b[43m,\u001b[49m\u001b[43m \u001b[49m\u001b[43m*\u001b[49m\u001b[43m*\u001b[49m\u001b[43mkwargs\u001b[49m\u001b[43m)\u001b[49m\n",
      "\u001b[36mFile \u001b[39m\u001b[32m~/Desktop/Model_T9_to_Sinogram/tf_venv/lib/python3.12/site-packages/keras/src/utils/traceback_utils.py:117\u001b[39m, in \u001b[36mfilter_traceback.<locals>.error_handler\u001b[39m\u001b[34m(*args, **kwargs)\u001b[39m\n\u001b[32m    115\u001b[39m filtered_tb = \u001b[38;5;28;01mNone\u001b[39;00m\n\u001b[32m    116\u001b[39m \u001b[38;5;28;01mtry\u001b[39;00m:\n\u001b[32m--> \u001b[39m\u001b[32m117\u001b[39m     \u001b[38;5;28;01mreturn\u001b[39;00m \u001b[43mfn\u001b[49m\u001b[43m(\u001b[49m\u001b[43m*\u001b[49m\u001b[43margs\u001b[49m\u001b[43m,\u001b[49m\u001b[43m \u001b[49m\u001b[43m*\u001b[49m\u001b[43m*\u001b[49m\u001b[43mkwargs\u001b[49m\u001b[43m)\u001b[49m\n\u001b[32m    118\u001b[39m \u001b[38;5;28;01mexcept\u001b[39;00m \u001b[38;5;167;01mException\u001b[39;00m \u001b[38;5;28;01mas\u001b[39;00m e:\n\u001b[32m    119\u001b[39m     filtered_tb = _process_traceback_frames(e.__traceback__)\n",
      "\u001b[36mFile \u001b[39m\u001b[32m~/Desktop/Model_T9_to_Sinogram/tf_venv/lib/python3.12/site-packages/keras/src/backend/tensorflow/trainer.py:371\u001b[39m, in \u001b[36mTensorFlowTrainer.fit\u001b[39m\u001b[34m(self, x, y, batch_size, epochs, verbose, callbacks, validation_split, validation_data, shuffle, class_weight, sample_weight, initial_epoch, steps_per_epoch, validation_steps, validation_batch_size, validation_freq)\u001b[39m\n\u001b[32m    369\u001b[39m \u001b[38;5;28;01mfor\u001b[39;00m step, iterator \u001b[38;5;129;01min\u001b[39;00m epoch_iterator:\n\u001b[32m    370\u001b[39m     callbacks.on_train_batch_begin(step)\n\u001b[32m--> \u001b[39m\u001b[32m371\u001b[39m     logs = \u001b[38;5;28;43mself\u001b[39;49m\u001b[43m.\u001b[49m\u001b[43mtrain_function\u001b[49m\u001b[43m(\u001b[49m\u001b[43miterator\u001b[49m\u001b[43m)\u001b[49m\n\u001b[32m    372\u001b[39m     callbacks.on_train_batch_end(step, logs)\n\u001b[32m    373\u001b[39m     \u001b[38;5;28;01mif\u001b[39;00m \u001b[38;5;28mself\u001b[39m.stop_training:\n",
      "\u001b[36mFile \u001b[39m\u001b[32m~/Desktop/Model_T9_to_Sinogram/tf_venv/lib/python3.12/site-packages/keras/src/backend/tensorflow/trainer.py:219\u001b[39m, in \u001b[36mTensorFlowTrainer._make_function.<locals>.function\u001b[39m\u001b[34m(iterator)\u001b[39m\n\u001b[32m    215\u001b[39m \u001b[38;5;28;01mdef\u001b[39;00m\u001b[38;5;250m \u001b[39m\u001b[34mfunction\u001b[39m(iterator):\n\u001b[32m    216\u001b[39m     \u001b[38;5;28;01mif\u001b[39;00m \u001b[38;5;28misinstance\u001b[39m(\n\u001b[32m    217\u001b[39m         iterator, (tf.data.Iterator, tf.distribute.DistributedIterator)\n\u001b[32m    218\u001b[39m     ):\n\u001b[32m--> \u001b[39m\u001b[32m219\u001b[39m         opt_outputs = \u001b[43mmulti_step_on_iterator\u001b[49m\u001b[43m(\u001b[49m\u001b[43miterator\u001b[49m\u001b[43m)\u001b[49m\n\u001b[32m    220\u001b[39m         \u001b[38;5;28;01mif\u001b[39;00m \u001b[38;5;129;01mnot\u001b[39;00m opt_outputs.has_value():\n\u001b[32m    221\u001b[39m             \u001b[38;5;28;01mraise\u001b[39;00m \u001b[38;5;167;01mStopIteration\u001b[39;00m\n",
      "\u001b[36mFile \u001b[39m\u001b[32m~/Desktop/Model_T9_to_Sinogram/tf_venv/lib/python3.12/site-packages/tensorflow/python/util/traceback_utils.py:150\u001b[39m, in \u001b[36mfilter_traceback.<locals>.error_handler\u001b[39m\u001b[34m(*args, **kwargs)\u001b[39m\n\u001b[32m    148\u001b[39m filtered_tb = \u001b[38;5;28;01mNone\u001b[39;00m\n\u001b[32m    149\u001b[39m \u001b[38;5;28;01mtry\u001b[39;00m:\n\u001b[32m--> \u001b[39m\u001b[32m150\u001b[39m   \u001b[38;5;28;01mreturn\u001b[39;00m \u001b[43mfn\u001b[49m\u001b[43m(\u001b[49m\u001b[43m*\u001b[49m\u001b[43margs\u001b[49m\u001b[43m,\u001b[49m\u001b[43m \u001b[49m\u001b[43m*\u001b[49m\u001b[43m*\u001b[49m\u001b[43mkwargs\u001b[49m\u001b[43m)\u001b[49m\n\u001b[32m    151\u001b[39m \u001b[38;5;28;01mexcept\u001b[39;00m \u001b[38;5;167;01mException\u001b[39;00m \u001b[38;5;28;01mas\u001b[39;00m e:\n\u001b[32m    152\u001b[39m   filtered_tb = _process_traceback_frames(e.__traceback__)\n",
      "\u001b[36mFile \u001b[39m\u001b[32m~/Desktop/Model_T9_to_Sinogram/tf_venv/lib/python3.12/site-packages/tensorflow/python/eager/polymorphic_function/polymorphic_function.py:833\u001b[39m, in \u001b[36mFunction.__call__\u001b[39m\u001b[34m(self, *args, **kwds)\u001b[39m\n\u001b[32m    830\u001b[39m compiler = \u001b[33m\"\u001b[39m\u001b[33mxla\u001b[39m\u001b[33m\"\u001b[39m \u001b[38;5;28;01mif\u001b[39;00m \u001b[38;5;28mself\u001b[39m._jit_compile \u001b[38;5;28;01melse\u001b[39;00m \u001b[33m\"\u001b[39m\u001b[33mnonXla\u001b[39m\u001b[33m\"\u001b[39m\n\u001b[32m    832\u001b[39m \u001b[38;5;28;01mwith\u001b[39;00m OptionalXlaContext(\u001b[38;5;28mself\u001b[39m._jit_compile):\n\u001b[32m--> \u001b[39m\u001b[32m833\u001b[39m   result = \u001b[38;5;28;43mself\u001b[39;49m\u001b[43m.\u001b[49m\u001b[43m_call\u001b[49m\u001b[43m(\u001b[49m\u001b[43m*\u001b[49m\u001b[43margs\u001b[49m\u001b[43m,\u001b[49m\u001b[43m \u001b[49m\u001b[43m*\u001b[49m\u001b[43m*\u001b[49m\u001b[43mkwds\u001b[49m\u001b[43m)\u001b[49m\n\u001b[32m    835\u001b[39m new_tracing_count = \u001b[38;5;28mself\u001b[39m.experimental_get_tracing_count()\n\u001b[32m    836\u001b[39m without_tracing = (tracing_count == new_tracing_count)\n",
      "\u001b[36mFile \u001b[39m\u001b[32m~/Desktop/Model_T9_to_Sinogram/tf_venv/lib/python3.12/site-packages/tensorflow/python/eager/polymorphic_function/polymorphic_function.py:878\u001b[39m, in \u001b[36mFunction._call\u001b[39m\u001b[34m(self, *args, **kwds)\u001b[39m\n\u001b[32m    875\u001b[39m \u001b[38;5;28mself\u001b[39m._lock.release()\n\u001b[32m    876\u001b[39m \u001b[38;5;66;03m# In this case we have not created variables on the first call. So we can\u001b[39;00m\n\u001b[32m    877\u001b[39m \u001b[38;5;66;03m# run the first trace but we should fail if variables are created.\u001b[39;00m\n\u001b[32m--> \u001b[39m\u001b[32m878\u001b[39m results = \u001b[43mtracing_compilation\u001b[49m\u001b[43m.\u001b[49m\u001b[43mcall_function\u001b[49m\u001b[43m(\u001b[49m\n\u001b[32m    879\u001b[39m \u001b[43m    \u001b[49m\u001b[43margs\u001b[49m\u001b[43m,\u001b[49m\u001b[43m \u001b[49m\u001b[43mkwds\u001b[49m\u001b[43m,\u001b[49m\u001b[43m \u001b[49m\u001b[38;5;28;43mself\u001b[39;49m\u001b[43m.\u001b[49m\u001b[43m_variable_creation_config\u001b[49m\n\u001b[32m    880\u001b[39m \u001b[43m\u001b[49m\u001b[43m)\u001b[49m\n\u001b[32m    881\u001b[39m \u001b[38;5;28;01mif\u001b[39;00m \u001b[38;5;28mself\u001b[39m._created_variables:\n\u001b[32m    882\u001b[39m   \u001b[38;5;28;01mraise\u001b[39;00m \u001b[38;5;167;01mValueError\u001b[39;00m(\u001b[33m\"\u001b[39m\u001b[33mCreating variables on a non-first call to a function\u001b[39m\u001b[33m\"\u001b[39m\n\u001b[32m    883\u001b[39m                    \u001b[33m\"\u001b[39m\u001b[33m decorated with tf.function.\u001b[39m\u001b[33m\"\u001b[39m)\n",
      "\u001b[36mFile \u001b[39m\u001b[32m~/Desktop/Model_T9_to_Sinogram/tf_venv/lib/python3.12/site-packages/tensorflow/python/eager/polymorphic_function/tracing_compilation.py:139\u001b[39m, in \u001b[36mcall_function\u001b[39m\u001b[34m(args, kwargs, tracing_options)\u001b[39m\n\u001b[32m    137\u001b[39m bound_args = function.function_type.bind(*args, **kwargs)\n\u001b[32m    138\u001b[39m flat_inputs = function.function_type.unpack_inputs(bound_args)\n\u001b[32m--> \u001b[39m\u001b[32m139\u001b[39m \u001b[38;5;28;01mreturn\u001b[39;00m \u001b[43mfunction\u001b[49m\u001b[43m.\u001b[49m\u001b[43m_call_flat\u001b[49m\u001b[43m(\u001b[49m\u001b[43m  \u001b[49m\u001b[38;5;66;43;03m# pylint: disable=protected-access\u001b[39;49;00m\n\u001b[32m    140\u001b[39m \u001b[43m    \u001b[49m\u001b[43mflat_inputs\u001b[49m\u001b[43m,\u001b[49m\u001b[43m \u001b[49m\u001b[43mcaptured_inputs\u001b[49m\u001b[43m=\u001b[49m\u001b[43mfunction\u001b[49m\u001b[43m.\u001b[49m\u001b[43mcaptured_inputs\u001b[49m\n\u001b[32m    141\u001b[39m \u001b[43m\u001b[49m\u001b[43m)\u001b[49m\n",
      "\u001b[36mFile \u001b[39m\u001b[32m~/Desktop/Model_T9_to_Sinogram/tf_venv/lib/python3.12/site-packages/tensorflow/python/eager/polymorphic_function/concrete_function.py:1322\u001b[39m, in \u001b[36mConcreteFunction._call_flat\u001b[39m\u001b[34m(self, tensor_inputs, captured_inputs)\u001b[39m\n\u001b[32m   1318\u001b[39m possible_gradient_type = gradients_util.PossibleTapeGradientTypes(args)\n\u001b[32m   1319\u001b[39m \u001b[38;5;28;01mif\u001b[39;00m (possible_gradient_type == gradients_util.POSSIBLE_GRADIENT_TYPES_NONE\n\u001b[32m   1320\u001b[39m     \u001b[38;5;129;01mand\u001b[39;00m executing_eagerly):\n\u001b[32m   1321\u001b[39m   \u001b[38;5;66;03m# No tape is watching; skip to running the function.\u001b[39;00m\n\u001b[32m-> \u001b[39m\u001b[32m1322\u001b[39m   \u001b[38;5;28;01mreturn\u001b[39;00m \u001b[38;5;28;43mself\u001b[39;49m\u001b[43m.\u001b[49m\u001b[43m_inference_function\u001b[49m\u001b[43m.\u001b[49m\u001b[43mcall_preflattened\u001b[49m\u001b[43m(\u001b[49m\u001b[43margs\u001b[49m\u001b[43m)\u001b[49m\n\u001b[32m   1323\u001b[39m forward_backward = \u001b[38;5;28mself\u001b[39m._select_forward_and_backward_functions(\n\u001b[32m   1324\u001b[39m     args,\n\u001b[32m   1325\u001b[39m     possible_gradient_type,\n\u001b[32m   1326\u001b[39m     executing_eagerly)\n\u001b[32m   1327\u001b[39m forward_function, args_with_tangents = forward_backward.forward()\n",
      "\u001b[36mFile \u001b[39m\u001b[32m~/Desktop/Model_T9_to_Sinogram/tf_venv/lib/python3.12/site-packages/tensorflow/python/eager/polymorphic_function/atomic_function.py:216\u001b[39m, in \u001b[36mAtomicFunction.call_preflattened\u001b[39m\u001b[34m(self, args)\u001b[39m\n\u001b[32m    214\u001b[39m \u001b[38;5;28;01mdef\u001b[39;00m\u001b[38;5;250m \u001b[39m\u001b[34mcall_preflattened\u001b[39m(\u001b[38;5;28mself\u001b[39m, args: Sequence[core.Tensor]) -> Any:\n\u001b[32m    215\u001b[39m \u001b[38;5;250m  \u001b[39m\u001b[33;03m\"\"\"Calls with flattened tensor inputs and returns the structured output.\"\"\"\u001b[39;00m\n\u001b[32m--> \u001b[39m\u001b[32m216\u001b[39m   flat_outputs = \u001b[38;5;28;43mself\u001b[39;49m\u001b[43m.\u001b[49m\u001b[43mcall_flat\u001b[49m\u001b[43m(\u001b[49m\u001b[43m*\u001b[49m\u001b[43margs\u001b[49m\u001b[43m)\u001b[49m\n\u001b[32m    217\u001b[39m   \u001b[38;5;28;01mreturn\u001b[39;00m \u001b[38;5;28mself\u001b[39m.function_type.pack_output(flat_outputs)\n",
      "\u001b[36mFile \u001b[39m\u001b[32m~/Desktop/Model_T9_to_Sinogram/tf_venv/lib/python3.12/site-packages/tensorflow/python/eager/polymorphic_function/atomic_function.py:251\u001b[39m, in \u001b[36mAtomicFunction.call_flat\u001b[39m\u001b[34m(self, *args)\u001b[39m\n\u001b[32m    249\u001b[39m \u001b[38;5;28;01mwith\u001b[39;00m record.stop_recording():\n\u001b[32m    250\u001b[39m   \u001b[38;5;28;01mif\u001b[39;00m \u001b[38;5;28mself\u001b[39m._bound_context.executing_eagerly():\n\u001b[32m--> \u001b[39m\u001b[32m251\u001b[39m     outputs = \u001b[38;5;28;43mself\u001b[39;49m\u001b[43m.\u001b[49m\u001b[43m_bound_context\u001b[49m\u001b[43m.\u001b[49m\u001b[43mcall_function\u001b[49m\u001b[43m(\u001b[49m\n\u001b[32m    252\u001b[39m \u001b[43m        \u001b[49m\u001b[38;5;28;43mself\u001b[39;49m\u001b[43m.\u001b[49m\u001b[43mname\u001b[49m\u001b[43m,\u001b[49m\n\u001b[32m    253\u001b[39m \u001b[43m        \u001b[49m\u001b[38;5;28;43mlist\u001b[39;49m\u001b[43m(\u001b[49m\u001b[43margs\u001b[49m\u001b[43m)\u001b[49m\u001b[43m,\u001b[49m\n\u001b[32m    254\u001b[39m \u001b[43m        \u001b[49m\u001b[38;5;28;43mlen\u001b[39;49m\u001b[43m(\u001b[49m\u001b[38;5;28;43mself\u001b[39;49m\u001b[43m.\u001b[49m\u001b[43mfunction_type\u001b[49m\u001b[43m.\u001b[49m\u001b[43mflat_outputs\u001b[49m\u001b[43m)\u001b[49m\u001b[43m,\u001b[49m\n\u001b[32m    255\u001b[39m \u001b[43m    \u001b[49m\u001b[43m)\u001b[49m\n\u001b[32m    256\u001b[39m   \u001b[38;5;28;01melse\u001b[39;00m:\n\u001b[32m    257\u001b[39m     outputs = make_call_op_in_graph(\n\u001b[32m    258\u001b[39m         \u001b[38;5;28mself\u001b[39m,\n\u001b[32m    259\u001b[39m         \u001b[38;5;28mlist\u001b[39m(args),\n\u001b[32m    260\u001b[39m         \u001b[38;5;28mself\u001b[39m._bound_context.function_call_options.as_attrs(),\n\u001b[32m    261\u001b[39m     )\n",
      "\u001b[36mFile \u001b[39m\u001b[32m~/Desktop/Model_T9_to_Sinogram/tf_venv/lib/python3.12/site-packages/tensorflow/python/eager/context.py:1688\u001b[39m, in \u001b[36mContext.call_function\u001b[39m\u001b[34m(self, name, tensor_inputs, num_outputs)\u001b[39m\n\u001b[32m   1686\u001b[39m cancellation_context = cancellation.context()\n\u001b[32m   1687\u001b[39m \u001b[38;5;28;01mif\u001b[39;00m cancellation_context \u001b[38;5;129;01mis\u001b[39;00m \u001b[38;5;28;01mNone\u001b[39;00m:\n\u001b[32m-> \u001b[39m\u001b[32m1688\u001b[39m   outputs = \u001b[43mexecute\u001b[49m\u001b[43m.\u001b[49m\u001b[43mexecute\u001b[49m\u001b[43m(\u001b[49m\n\u001b[32m   1689\u001b[39m \u001b[43m      \u001b[49m\u001b[43mname\u001b[49m\u001b[43m.\u001b[49m\u001b[43mdecode\u001b[49m\u001b[43m(\u001b[49m\u001b[33;43m\"\u001b[39;49m\u001b[33;43mutf-8\u001b[39;49m\u001b[33;43m\"\u001b[39;49m\u001b[43m)\u001b[49m\u001b[43m,\u001b[49m\n\u001b[32m   1690\u001b[39m \u001b[43m      \u001b[49m\u001b[43mnum_outputs\u001b[49m\u001b[43m=\u001b[49m\u001b[43mnum_outputs\u001b[49m\u001b[43m,\u001b[49m\n\u001b[32m   1691\u001b[39m \u001b[43m      \u001b[49m\u001b[43minputs\u001b[49m\u001b[43m=\u001b[49m\u001b[43mtensor_inputs\u001b[49m\u001b[43m,\u001b[49m\n\u001b[32m   1692\u001b[39m \u001b[43m      \u001b[49m\u001b[43mattrs\u001b[49m\u001b[43m=\u001b[49m\u001b[43mattrs\u001b[49m\u001b[43m,\u001b[49m\n\u001b[32m   1693\u001b[39m \u001b[43m      \u001b[49m\u001b[43mctx\u001b[49m\u001b[43m=\u001b[49m\u001b[38;5;28;43mself\u001b[39;49m\u001b[43m,\u001b[49m\n\u001b[32m   1694\u001b[39m \u001b[43m  \u001b[49m\u001b[43m)\u001b[49m\n\u001b[32m   1695\u001b[39m \u001b[38;5;28;01melse\u001b[39;00m:\n\u001b[32m   1696\u001b[39m   outputs = execute.execute_with_cancellation(\n\u001b[32m   1697\u001b[39m       name.decode(\u001b[33m\"\u001b[39m\u001b[33mutf-8\u001b[39m\u001b[33m\"\u001b[39m),\n\u001b[32m   1698\u001b[39m       num_outputs=num_outputs,\n\u001b[32m   (...)\u001b[39m\u001b[32m   1702\u001b[39m       cancellation_manager=cancellation_context,\n\u001b[32m   1703\u001b[39m   )\n",
      "\u001b[36mFile \u001b[39m\u001b[32m~/Desktop/Model_T9_to_Sinogram/tf_venv/lib/python3.12/site-packages/tensorflow/python/eager/execute.py:53\u001b[39m, in \u001b[36mquick_execute\u001b[39m\u001b[34m(op_name, num_outputs, inputs, attrs, ctx, name)\u001b[39m\n\u001b[32m     51\u001b[39m \u001b[38;5;28;01mtry\u001b[39;00m:\n\u001b[32m     52\u001b[39m   ctx.ensure_initialized()\n\u001b[32m---> \u001b[39m\u001b[32m53\u001b[39m   tensors = \u001b[43mpywrap_tfe\u001b[49m\u001b[43m.\u001b[49m\u001b[43mTFE_Py_Execute\u001b[49m\u001b[43m(\u001b[49m\u001b[43mctx\u001b[49m\u001b[43m.\u001b[49m\u001b[43m_handle\u001b[49m\u001b[43m,\u001b[49m\u001b[43m \u001b[49m\u001b[43mdevice_name\u001b[49m\u001b[43m,\u001b[49m\u001b[43m \u001b[49m\u001b[43mop_name\u001b[49m\u001b[43m,\u001b[49m\n\u001b[32m     54\u001b[39m \u001b[43m                                      \u001b[49m\u001b[43minputs\u001b[49m\u001b[43m,\u001b[49m\u001b[43m \u001b[49m\u001b[43mattrs\u001b[49m\u001b[43m,\u001b[49m\u001b[43m \u001b[49m\u001b[43mnum_outputs\u001b[49m\u001b[43m)\u001b[49m\n\u001b[32m     55\u001b[39m \u001b[38;5;28;01mexcept\u001b[39;00m core._NotOkStatusException \u001b[38;5;28;01mas\u001b[39;00m e:\n\u001b[32m     56\u001b[39m   \u001b[38;5;28;01mif\u001b[39;00m name \u001b[38;5;129;01mis\u001b[39;00m \u001b[38;5;129;01mnot\u001b[39;00m \u001b[38;5;28;01mNone\u001b[39;00m:\n",
      "\u001b[31mKeyboardInterrupt\u001b[39m: "
     ]
    }
   ],
   "source": [
    "def build_hyper_model(hp):\n",
    "    lstm_units = hp.Choice('lstm_units', [64, 128])  # Réduit de [64, 128, 256, 512]\n",
    "    output_dim = hp.Choice('output_dim', [32, 64])   # Réduit de [32, 64, 128, 256]\n",
    "    dropout_rate = hp.Float('dropout_rate', 0.0, 0.5, step=0.1)  # Limite à 0.5\n",
    "    dense_units_output = hp.Choice('dense_units_output', [64, 128])\n",
    "    return build_model(lstm_units, output_dim, dropout_rate, dense_units_output)\n",
    "\n",
    "# Créer un objet tuner\n",
    "tuner = keras_tuner.RandomSearch(\n",
    "    build_hyper_model,\n",
    "    objective='val_accuracy',\n",
    "    max_trials=10,\n",
    "    executions_per_trial=1,\n",
    "    directory='hyperparameter_tuning',\n",
    "    project_name='chinese_news_tuning'\n",
    ")\n",
    "\n",
    "early_stopping = keras.callbacks.EarlyStopping(\n",
    "    monitor='val_accuracy',\n",
    "    patience=3,\n",
    "    restore_best_weights=True\n",
    ")\n",
    "\n",
    "\n",
    "# Réduire la taille des ensembles de données pour le tuning\n",
    "ds_train_small = round(ds_train.cardinality().numpy()/4)\n",
    "ds_val_small = round(ds_val.cardinality().numpy()/4)\n",
    "\n",
    "tuner.search(\n",
    "    ds_train.take(ds_train_small),\n",
    "    epochs=15,\n",
    "    validation_data=ds_val.take(ds_val_small),\n",
    "    callbacks=[early_stopping]\n",
    ")\n",
    "\n",
    "\n",
    "# Obtenir le meilleur modèle\n",
    "best_model = tuner.get_best_models(num_models=1)[0]"
   ]
  },
  {
   "cell_type": "code",
   "execution_count": null,
   "id": "6ffa6e41",
   "metadata": {},
   "outputs": [
    {
     "name": "stdout",
     "output_type": "stream",
     "text": [
      "Best hyperparameters:\n",
      "lstm_units: 128\n",
      "output_dim: 64\n",
      "dropout_rate: 0.1\n",
      "dense_units_output: 128\n"
     ]
    }
   ],
   "source": [
    "best_hyperparameters = tuner.get_best_hyperparameters()[0]\n",
    "print(\"Best hyperparameters:\")\n",
    "print(f\"lstm_units: {best_hyperparameters.get('lstm_units')}\")\n",
    "print(f\"output_dim: {best_hyperparameters.get('output_dim')}\")\n",
    "print(f\"dropout_rate: {best_hyperparameters.get('dropout_rate')}\")\n",
    "print(f\"dense_units_output: {best_hyperparameters.get('dense_units_output')}\")"
   ]
  },
  {
   "cell_type": "code",
   "execution_count": null,
   "id": "61522b95",
   "metadata": {},
   "outputs": [
    {
     "name": "stdout",
     "output_type": "stream",
     "text": [
      "Epoch 1/50\n"
     ]
    },
    {
     "name": "stderr",
     "output_type": "stream",
     "text": [
      "2025-04-12 22:24:45.111634: I tensorflow/core/kernels/data/shuffle_dataset_op.cc:452] ShuffleDatasetV3:14: Filling up shuffle buffer (this may take a while): 13076 of 23509\n",
      "2025-04-12 22:24:53.099089: I tensorflow/core/kernels/data/shuffle_dataset_op.cc:482] Shuffle buffer filled.\n"
     ]
    },
    {
     "name": "stdout",
     "output_type": "stream",
     "text": [
      "\u001b[1m4702/4702\u001b[0m \u001b[32m━━━━━━━━━━━━━━━━━━━━\u001b[0m\u001b[37m\u001b[0m \u001b[1m0s\u001b[0m 89ms/step - accuracy: 0.2519 - loss: 4.3641"
     ]
    },
    {
     "name": "stderr",
     "output_type": "stream",
     "text": [
      "2025-04-12 22:32:03.595973: I tensorflow/core/kernels/data/shuffle_dataset_op.cc:452] ShuffleDatasetV3:14: Filling up shuffle buffer (this may take a while): 12721 of 23509\n",
      "2025-04-12 22:32:11.989104: I tensorflow/core/kernels/data/shuffle_dataset_op.cc:482] Shuffle buffer filled.\n"
     ]
    },
    {
     "name": "stdout",
     "output_type": "stream",
     "text": [
      "\u001b[1m4702/4702\u001b[0m \u001b[32m━━━━━━━━━━━━━━━━━━━━\u001b[0m\u001b[37m\u001b[0m \u001b[1m485s\u001b[0m 97ms/step - accuracy: 0.2519 - loss: 4.3638 - val_accuracy: 0.5689 - val_loss: 1.6002\n",
      "Epoch 2/50\n"
     ]
    },
    {
     "name": "stderr",
     "output_type": "stream",
     "text": [
      "2025-04-12 22:32:42.410251: I tensorflow/core/kernels/data/shuffle_dataset_op.cc:452] ShuffleDatasetV3:14: Filling up shuffle buffer (this may take a while): 12665 of 23509\n",
      "2025-04-12 22:32:50.852366: I tensorflow/core/kernels/data/shuffle_dataset_op.cc:482] Shuffle buffer filled.\n"
     ]
    },
    {
     "name": "stdout",
     "output_type": "stream",
     "text": [
      "\u001b[1m4702/4702\u001b[0m \u001b[32m━━━━━━━━━━━━━━━━━━━━\u001b[0m\u001b[37m\u001b[0m \u001b[1m0s\u001b[0m 89ms/step - accuracy: 0.5758 - loss: 1.5866"
     ]
    },
    {
     "name": "stderr",
     "output_type": "stream",
     "text": [
      "2025-04-12 22:39:59.318734: I tensorflow/core/kernels/data/shuffle_dataset_op.cc:452] ShuffleDatasetV3:14: Filling up shuffle buffer (this may take a while): 12342 of 23509\n",
      "2025-04-12 22:40:08.669011: I tensorflow/core/kernels/data/shuffle_dataset_op.cc:482] Shuffle buffer filled.\n"
     ]
    },
    {
     "name": "stdout",
     "output_type": "stream",
     "text": [
      "\u001b[1m4702/4702\u001b[0m \u001b[32m━━━━━━━━━━━━━━━━━━━━\u001b[0m\u001b[37m\u001b[0m \u001b[1m476s\u001b[0m 97ms/step - accuracy: 0.5758 - loss: 1.5866 - val_accuracy: 0.6313 - val_loss: 1.3226\n",
      "Epoch 3/50\n"
     ]
    },
    {
     "name": "stderr",
     "output_type": "stream",
     "text": [
      "2025-04-12 22:40:38.821604: I tensorflow/core/kernels/data/shuffle_dataset_op.cc:452] ShuffleDatasetV3:14: Filling up shuffle buffer (this may take a while): 12289 of 23509\n",
      "2025-04-12 22:40:47.543580: I tensorflow/core/kernels/data/shuffle_dataset_op.cc:482] Shuffle buffer filled.\n"
     ]
    },
    {
     "name": "stdout",
     "output_type": "stream",
     "text": [
      "\u001b[1m4702/4702\u001b[0m \u001b[32m━━━━━━━━━━━━━━━━━━━━\u001b[0m\u001b[37m\u001b[0m \u001b[1m0s\u001b[0m 89ms/step - accuracy: 0.6260 - loss: 1.3782"
     ]
    },
    {
     "name": "stderr",
     "output_type": "stream",
     "text": [
      "2025-04-12 22:47:56.419265: I tensorflow/core/kernels/data/shuffle_dataset_op.cc:452] ShuffleDatasetV3:14: Filling up shuffle buffer (this may take a while): 12383 of 23509\n",
      "2025-04-12 22:48:05.644081: I tensorflow/core/kernels/data/shuffle_dataset_op.cc:482] Shuffle buffer filled.\n"
     ]
    },
    {
     "name": "stdout",
     "output_type": "stream",
     "text": [
      "\u001b[1m4702/4702\u001b[0m \u001b[32m━━━━━━━━━━━━━━━━━━━━\u001b[0m\u001b[37m\u001b[0m \u001b[1m477s\u001b[0m 97ms/step - accuracy: 0.6260 - loss: 1.3782 - val_accuracy: 0.6543 - val_loss: 1.2410\n",
      "Epoch 4/50\n"
     ]
    },
    {
     "name": "stderr",
     "output_type": "stream",
     "text": [
      "2025-04-12 22:48:35.923925: I tensorflow/core/kernels/data/shuffle_dataset_op.cc:452] ShuffleDatasetV3:14: Filling up shuffle buffer (this may take a while): 12400 of 23509\n",
      "2025-04-12 22:48:44.664555: I tensorflow/core/kernels/data/shuffle_dataset_op.cc:482] Shuffle buffer filled.\n"
     ]
    },
    {
     "name": "stdout",
     "output_type": "stream",
     "text": [
      "\u001b[1m4702/4702\u001b[0m \u001b[32m━━━━━━━━━━━━━━━━━━━━\u001b[0m\u001b[37m\u001b[0m \u001b[1m0s\u001b[0m 89ms/step - accuracy: 0.6498 - loss: 1.2830"
     ]
    },
    {
     "name": "stderr",
     "output_type": "stream",
     "text": [
      "2025-04-12 22:55:53.366349: I tensorflow/core/kernels/data/shuffle_dataset_op.cc:452] ShuffleDatasetV3:14: Filling up shuffle buffer (this may take a while): 12448 of 23509\n",
      "2025-04-12 22:56:02.046627: I tensorflow/core/kernels/data/shuffle_dataset_op.cc:482] Shuffle buffer filled.\n"
     ]
    },
    {
     "name": "stdout",
     "output_type": "stream",
     "text": [
      "\u001b[1m4702/4702\u001b[0m \u001b[32m━━━━━━━━━━━━━━━━━━━━\u001b[0m\u001b[37m\u001b[0m \u001b[1m476s\u001b[0m 97ms/step - accuracy: 0.6498 - loss: 1.2830 - val_accuracy: 0.6812 - val_loss: 1.1374\n",
      "Epoch 5/50\n"
     ]
    },
    {
     "name": "stderr",
     "output_type": "stream",
     "text": [
      "2025-04-12 22:56:32.064840: I tensorflow/core/kernels/data/shuffle_dataset_op.cc:452] ShuffleDatasetV3:14: Filling up shuffle buffer (this may take a while): 12346 of 23509\n",
      "2025-04-12 22:56:40.827798: I tensorflow/core/kernels/data/shuffle_dataset_op.cc:482] Shuffle buffer filled.\n"
     ]
    },
    {
     "name": "stdout",
     "output_type": "stream",
     "text": [
      "\u001b[1m4702/4702\u001b[0m \u001b[32m━━━━━━━━━━━━━━━━━━━━\u001b[0m\u001b[37m\u001b[0m \u001b[1m0s\u001b[0m 89ms/step - accuracy: 0.6618 - loss: 1.2428"
     ]
    },
    {
     "name": "stderr",
     "output_type": "stream",
     "text": [
      "2025-04-12 23:03:49.338433: I tensorflow/core/kernels/data/shuffle_dataset_op.cc:452] ShuffleDatasetV3:14: Filling up shuffle buffer (this may take a while): 12025 of 23509\n",
      "2025-04-12 23:03:58.621309: I tensorflow/core/kernels/data/shuffle_dataset_op.cc:482] Shuffle buffer filled.\n"
     ]
    },
    {
     "name": "stdout",
     "output_type": "stream",
     "text": [
      "\u001b[1m4702/4702\u001b[0m \u001b[32m━━━━━━━━━━━━━━━━━━━━\u001b[0m\u001b[37m\u001b[0m \u001b[1m477s\u001b[0m 97ms/step - accuracy: 0.6618 - loss: 1.2428 - val_accuracy: 0.6854 - val_loss: 1.1355\n",
      "Epoch 6/50\n"
     ]
    },
    {
     "name": "stderr",
     "output_type": "stream",
     "text": [
      "2025-04-12 23:04:28.747808: I tensorflow/core/kernels/data/shuffle_dataset_op.cc:452] ShuffleDatasetV3:14: Filling up shuffle buffer (this may take a while): 12526 of 23509\n",
      "2025-04-12 23:04:37.407674: I tensorflow/core/kernels/data/shuffle_dataset_op.cc:482] Shuffle buffer filled.\n"
     ]
    },
    {
     "name": "stdout",
     "output_type": "stream",
     "text": [
      "\u001b[1m4702/4702\u001b[0m \u001b[32m━━━━━━━━━━━━━━━━━━━━\u001b[0m\u001b[37m\u001b[0m \u001b[1m0s\u001b[0m 89ms/step - accuracy: 0.6675 - loss: 1.2357"
     ]
    },
    {
     "name": "stderr",
     "output_type": "stream",
     "text": [
      "2025-04-12 23:11:47.656263: I tensorflow/core/kernels/data/shuffle_dataset_op.cc:452] ShuffleDatasetV3:14: Filling up shuffle buffer (this may take a while): 12431 of 23509\n",
      "2025-04-12 23:11:56.560650: I tensorflow/core/kernels/data/shuffle_dataset_op.cc:482] Shuffle buffer filled.\n"
     ]
    },
    {
     "name": "stdout",
     "output_type": "stream",
     "text": [
      "\u001b[1m4702/4702\u001b[0m \u001b[32m━━━━━━━━━━━━━━━━━━━━\u001b[0m\u001b[37m\u001b[0m \u001b[1m478s\u001b[0m 98ms/step - accuracy: 0.6675 - loss: 1.2357 - val_accuracy: 0.6924 - val_loss: 1.1090\n",
      "Epoch 7/50\n"
     ]
    },
    {
     "name": "stderr",
     "output_type": "stream",
     "text": [
      "2025-04-12 23:12:26.676772: I tensorflow/core/kernels/data/shuffle_dataset_op.cc:452] ShuffleDatasetV3:14: Filling up shuffle buffer (this may take a while): 12495 of 23509\n",
      "2025-04-12 23:12:35.304320: I tensorflow/core/kernels/data/shuffle_dataset_op.cc:482] Shuffle buffer filled.\n"
     ]
    },
    {
     "name": "stdout",
     "output_type": "stream",
     "text": [
      "\u001b[1m4702/4702\u001b[0m \u001b[32m━━━━━━━━━━━━━━━━━━━━\u001b[0m\u001b[37m\u001b[0m \u001b[1m0s\u001b[0m 89ms/step - accuracy: 0.6741 - loss: 1.2149"
     ]
    },
    {
     "name": "stderr",
     "output_type": "stream",
     "text": [
      "2025-04-12 23:19:42.537096: I tensorflow/core/kernels/data/shuffle_dataset_op.cc:452] ShuffleDatasetV3:14: Filling up shuffle buffer (this may take a while): 12230 of 23509\n",
      "2025-04-12 23:19:51.676266: I tensorflow/core/kernels/data/shuffle_dataset_op.cc:482] Shuffle buffer filled.\n"
     ]
    },
    {
     "name": "stdout",
     "output_type": "stream",
     "text": [
      "\u001b[1m4702/4702\u001b[0m \u001b[32m━━━━━━━━━━━━━━━━━━━━\u001b[0m\u001b[37m\u001b[0m \u001b[1m475s\u001b[0m 97ms/step - accuracy: 0.6741 - loss: 1.2149 - val_accuracy: 0.6982 - val_loss: 1.0903\n",
      "Epoch 8/50\n"
     ]
    },
    {
     "name": "stderr",
     "output_type": "stream",
     "text": [
      "2025-04-12 23:20:21.891510: I tensorflow/core/kernels/data/shuffle_dataset_op.cc:452] ShuffleDatasetV3:14: Filling up shuffle buffer (this may take a while): 12444 of 23509\n",
      "2025-04-12 23:20:30.757460: I tensorflow/core/kernels/data/shuffle_dataset_op.cc:482] Shuffle buffer filled.\n"
     ]
    },
    {
     "name": "stdout",
     "output_type": "stream",
     "text": [
      "\u001b[1m4702/4702\u001b[0m \u001b[32m━━━━━━━━━━━━━━━━━━━━\u001b[0m\u001b[37m\u001b[0m \u001b[1m0s\u001b[0m 89ms/step - accuracy: 0.6794 - loss: 1.1933"
     ]
    },
    {
     "name": "stderr",
     "output_type": "stream",
     "text": [
      "2025-04-12 23:27:39.888216: I tensorflow/core/kernels/data/shuffle_dataset_op.cc:452] ShuffleDatasetV3:14: Filling up shuffle buffer (this may take a while): 12368 of 23509\n",
      "2025-04-12 23:27:48.898738: I tensorflow/core/kernels/data/shuffle_dataset_op.cc:482] Shuffle buffer filled.\n"
     ]
    },
    {
     "name": "stdout",
     "output_type": "stream",
     "text": [
      "\u001b[1m4702/4702\u001b[0m \u001b[32m━━━━━━━━━━━━━━━━━━━━\u001b[0m\u001b[37m\u001b[0m \u001b[1m477s\u001b[0m 97ms/step - accuracy: 0.6794 - loss: 1.1933 - val_accuracy: 0.7040 - val_loss: 1.0960\n",
      "Epoch 9/50\n"
     ]
    },
    {
     "name": "stderr",
     "output_type": "stream",
     "text": [
      "2025-04-12 23:28:19.042824: I tensorflow/core/kernels/data/shuffle_dataset_op.cc:452] ShuffleDatasetV3:14: Filling up shuffle buffer (this may take a while): 12342 of 23509\n",
      "2025-04-12 23:28:27.826447: I tensorflow/core/kernels/data/shuffle_dataset_op.cc:482] Shuffle buffer filled.\n"
     ]
    },
    {
     "name": "stdout",
     "output_type": "stream",
     "text": [
      "\u001b[1m4702/4702\u001b[0m \u001b[32m━━━━━━━━━━━━━━━━━━━━\u001b[0m\u001b[37m\u001b[0m \u001b[1m0s\u001b[0m 89ms/step - accuracy: 0.6837 - loss: 1.1928"
     ]
    },
    {
     "name": "stderr",
     "output_type": "stream",
     "text": [
      "2025-04-12 23:35:35.090302: I tensorflow/core/kernels/data/shuffle_dataset_op.cc:452] ShuffleDatasetV3:14: Filling up shuffle buffer (this may take a while): 12334 of 23509\n",
      "2025-04-12 23:35:44.058748: I tensorflow/core/kernels/data/shuffle_dataset_op.cc:482] Shuffle buffer filled.\n"
     ]
    },
    {
     "name": "stdout",
     "output_type": "stream",
     "text": [
      "\u001b[1m4702/4702\u001b[0m \u001b[32m━━━━━━━━━━━━━━━━━━━━\u001b[0m\u001b[37m\u001b[0m \u001b[1m475s\u001b[0m 97ms/step - accuracy: 0.6837 - loss: 1.1928 - val_accuracy: 0.6953 - val_loss: 1.1327\n",
      "Epoch 10/50\n"
     ]
    },
    {
     "name": "stderr",
     "output_type": "stream",
     "text": [
      "2025-04-12 23:36:14.202394: I tensorflow/core/kernels/data/shuffle_dataset_op.cc:452] ShuffleDatasetV3:14: Filling up shuffle buffer (this may take a while): 12523 of 23509\n",
      "2025-04-12 23:36:22.888752: I tensorflow/core/kernels/data/shuffle_dataset_op.cc:482] Shuffle buffer filled.\n"
     ]
    },
    {
     "name": "stdout",
     "output_type": "stream",
     "text": [
      "\u001b[1m4702/4702\u001b[0m \u001b[32m━━━━━━━━━━━━━━━━━━━━\u001b[0m\u001b[37m\u001b[0m \u001b[1m0s\u001b[0m 89ms/step - accuracy: 0.6815 - loss: 1.2109"
     ]
    },
    {
     "name": "stderr",
     "output_type": "stream",
     "text": [
      "2025-04-12 23:43:31.003713: I tensorflow/core/kernels/data/shuffle_dataset_op.cc:452] ShuffleDatasetV3:14: Filling up shuffle buffer (this may take a while): 12525 of 23509\n",
      "2025-04-12 23:43:39.714471: I tensorflow/core/kernels/data/shuffle_dataset_op.cc:482] Shuffle buffer filled.\n"
     ]
    },
    {
     "name": "stdout",
     "output_type": "stream",
     "text": [
      "\u001b[1m4702/4702\u001b[0m \u001b[32m━━━━━━━━━━━━━━━━━━━━\u001b[0m\u001b[37m\u001b[0m \u001b[1m476s\u001b[0m 97ms/step - accuracy: 0.6815 - loss: 1.2109 - val_accuracy: 0.6999 - val_loss: 1.1122\n",
      "Epoch 11/50\n"
     ]
    },
    {
     "name": "stderr",
     "output_type": "stream",
     "text": [
      "2025-04-12 23:44:09.914797: I tensorflow/core/kernels/data/shuffle_dataset_op.cc:452] ShuffleDatasetV3:14: Filling up shuffle buffer (this may take a while): 12395 of 23509\n",
      "2025-04-12 23:44:18.775372: I tensorflow/core/kernels/data/shuffle_dataset_op.cc:482] Shuffle buffer filled.\n"
     ]
    },
    {
     "name": "stdout",
     "output_type": "stream",
     "text": [
      "\u001b[1m4702/4702\u001b[0m \u001b[32m━━━━━━━━━━━━━━━━━━━━\u001b[0m\u001b[37m\u001b[0m \u001b[1m0s\u001b[0m 89ms/step - accuracy: 0.6821 - loss: 1.2175"
     ]
    },
    {
     "name": "stderr",
     "output_type": "stream",
     "text": [
      "2025-04-12 23:51:28.103490: I tensorflow/core/kernels/data/shuffle_dataset_op.cc:452] ShuffleDatasetV3:14: Filling up shuffle buffer (this may take a while): 12319 of 23509\n",
      "2025-04-12 23:51:36.946919: I tensorflow/core/kernels/data/shuffle_dataset_op.cc:482] Shuffle buffer filled.\n"
     ]
    },
    {
     "name": "stdout",
     "output_type": "stream",
     "text": [
      "\u001b[1m4702/4702\u001b[0m \u001b[32m━━━━━━━━━━━━━━━━━━━━\u001b[0m\u001b[37m\u001b[0m \u001b[1m477s\u001b[0m 97ms/step - accuracy: 0.6821 - loss: 1.2175 - val_accuracy: 0.7000 - val_loss: 1.1162\n"
     ]
    }
   ],
   "source": [
    "model = build_model(\n",
    "    lstm_units=best_hyperparameters.get('lstm_units'),\n",
    "    output_dim=best_hyperparameters.get('output_dim'),\n",
    "    dropout_rate=best_hyperparameters.get('dropout_rate'),\n",
    ")\n",
    "\n",
    "\n",
    "history = model.fit(\n",
    "    ds_train.take(nb_train_samples),\n",
    "    validation_data=ds_val.take(nb_val_samples),\n",
    "    epochs=50,\n",
    "    callbacks=[early_stopping],\n",
    "    verbose=1\n",
    ")"
   ]
  },
  {
   "cell_type": "code",
   "execution_count": null,
   "id": "b15dd439",
   "metadata": {},
   "outputs": [],
   "source": [
    "# sauvegarder le modèle\n",
    "model.save('models/model.h5')"
   ]
  },
  {
   "cell_type": "code",
   "execution_count": null,
   "id": "b1705f37",
   "metadata": {},
   "outputs": [
    {
     "data": {
      "image/png": "[encoded data removed]",
      "text/plain": [
       "<Figure size 640x480 with 1 Axes>"
      ]
     },
     "metadata": {},
     "output_type": "display_data"
    },
    {
     "data": {
      "image/png": "[encoded data removed]",
      "text/plain": [
       "<Figure size 640x480 with 1 Axes>"
      ]
     },
     "metadata": {},
     "output_type": "display_data"
    }
   ],
   "source": [
    "plot_history(history)"
   ]
  },
  {
   "cell_type": "code",
   "execution_count": null,
   "id": "3587dd89",
   "metadata": {},
   "outputs": [
    {
     "name": "stderr",
     "output_type": "stream",
     "text": [
      "2025-04-13 08:32:28.947481: I tensorflow/core/kernels/data/shuffle_dataset_op.cc:452] ShuffleDatasetV3:14: Filling up shuffle buffer (this may take a while): 12399 of 23509\n",
      "2025-04-13 08:32:37.944149: I tensorflow/core/kernels/data/shuffle_dataset_op.cc:482] Shuffle buffer filled.\n"
     ]
    },
    {
     "name": "stdout",
     "output_type": "stream",
     "text": [
      "\u001b[1m2350/2350\u001b[0m \u001b[32m━━━━━━━━━━━━━━━━━━━━\u001b[0m\u001b[37m\u001b[0m \u001b[1m102s\u001b[0m 35ms/step - accuracy: 0.7019 - loss: 1.0998\n",
      "Test accuracy: 0.7021\n"
     ]
    }
   ],
   "source": [
    "# Evaluer le modèle sur le jeu de test\n",
    "test_loss, test_accuracy = model.evaluate(ds_test, verbose=1)\n",
    "print(f\"Test accuracy: {test_accuracy:.4f}\")"
   ]
  },
  {
   "cell_type": "markdown",
   "id": "ec78a4e4",
   "metadata": {},
   "source": [
    "# Génération"
   ]
  },
  {
   "cell_type": "code",
   "execution_count": null,
   "id": "007970b2",
   "metadata": {},
   "outputs": [],
   "source": [
    "def generate_text(model, context_char_sequence, input_t9_sequence, char_vectorization, t9_vectorization, max_target_length=10):\n",
    "    \"\"\"\n",
    "    Génère une séquence de caractères chinois à partir d'une séquence T9 et d'un contexte donné.\n",
    "\n",
    "    Paramètres :\n",
    "    - model : Le modèle Keras entraîné pour la prédiction T9 vers texte.\n",
    "    - context_char_sequence : str, séquence de caractères chinois précédents (contexte).\n",
    "    - input_t9_sequence : str, séquence de codes T9 séparés par des espaces.\n",
    "    - char_vectorization : TextVectorization, couche de vectorisation pour les caractères chinois.\n",
    "    - t9_vectorization : TextVectorization, couche de vectorisation pour les codes T9.\n",
    "    - max_target_length : int, longueur maximale de la séquence cible à générer (par défaut 10).\n",
    "\n",
    "    Retourne :\n",
    "    - str, la séquence de caractères chinois prédite.\n",
    "    \"\"\"\n",
    "    \n",
    "    # Prétraitement des entrées\n",
    "    if not context_char_sequence or not input_t9_sequence:\n",
    "        return \"\"\n",
    "    \n",
    "    # Vectorisation du contexte et de la séquence T9\n",
    "    context_vectorized = char_vectorization(tf.convert_to_tensor([context_char_sequence]))\n",
    "    t9_vectorized = t9_vectorization(tf.convert_to_tensor([input_t9_sequence]))\n",
    "    \n",
    "    # Préparer les tenseurs d'entrée pour le modèle\n",
    "    context_input = tf.expand_dims(context_vectorized, axis=0)  # Ajouter une dimension batch\n",
    "    t9_input = tf.expand_dims(t9_vectorized, axis=0)           # Ajouter une dimension batch\n",
    "    \n",
    "    # Initialisation de la séquence cible prédite\n",
    "    predicted_sequence = []\n",
    "    current_sequence = \"\"  # Séquence en cours de construction\n",
    "    \n",
    "    # Génération caractère par caractère\n",
    "    for _ in range(max_target_length):\n",
    "        # Prédire le prochain caractère\n",
    "        predictions = model.predict([context_input, t9_input], verbose=0)\n",
    "        \n",
    "        # Extraire l'indice du caractère le plus probable\n",
    "        predicted_id = tf.argmax(predictions[0, len(predicted_sequence)], axis=-1).numpy()\n",
    "        \n",
    "        # Convertir l'identifiant en caractère via le vocabulaire inverse\n",
    "        vocab = char_vectorization.get_vocabulary()\n",
    "        if predicted_id < len(vocab):\n",
    "            predicted_char = vocab[predicted_id]\n",
    "        else:\n",
    "            predicted_char = \"\"  # Caractère inconnu ou fin\n",
    "        \n",
    "        # Vérifier si le caractère est valide ou si c'est une fin de séquence\n",
    "        if predicted_char in [\"\", \"[UNK]\"]:  # [UNK] pour caractère inconnu\n",
    "            break\n",
    "        \n",
    "        # Ajouter le caractère prédit à la séquence\n",
    "        predicted_sequence.append(predicted_char)\n",
    "        current_sequence += predicted_char\n",
    "        \n",
    "        # Mettre à jour le contexte pour la prochaine itération\n",
    "        new_context = context_char_sequence + current_sequence\n",
    "        context_input = tf.expand_dims(char_vectorization([new_context]), axis=0)\n",
    "    \n",
    "    # Retourner la séquence prédite sous forme de chaîne\n",
    "    return \"\".join(predicted_sequence)"
   ]
  },
  {
   "cell_type": "code",
   "execution_count": null,
   "id": "440b4ccc",
   "metadata": {},
   "outputs": [],
   "source": [
    "context = \"中国\"\n",
    "t9_input = \"736 646 543\"\n",
    "result = generate_text(model, context, t9_input, char_vectorization, t9_vectorization)\n",
    "print(f\"Texte généré : {result}\")"
   ]
  }
 ],
 "metadata": {
  "kernelspec": {
   "display_name": "tf_venv",
   "language": "python",
   "name": "python3"
  },
  "language_info": {
   "codemirror_mode": {
    "name": "ipython",
    "version": 3
   },
   "file_extension": ".py",
   "mimetype": "text/x-python",
   "name": "python",
   "nbconvert_exporter": "python",
   "pygments_lexer": "ipython3",
   "version": "3.12.10"
  }
 },
 "nbformat": 4,
 "nbformat_minor": 5
}
