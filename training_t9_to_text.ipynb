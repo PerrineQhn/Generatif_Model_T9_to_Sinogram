{
 "cells": [
  {
   "cell_type": "markdown",
   "id": "420b0269",
   "metadata": {},
   "source": [
    "# Importation des bibliothèques"
   ]
  },
  {
   "cell_type": "code",
   "execution_count": 11,
   "id": "3de1c406",
   "metadata": {},
   "outputs": [
    {
     "name": "stdout",
     "output_type": "stream",
     "text": [
      "[PhysicalDevice(name='/physical_device:GPU:0', device_type='GPU')]\n",
      "\n",
      "Path to dataset files: /Users/petx/.cache/kagglehub/datasets/noxmoon/chinese-official-daily-news-since-2016/versions/1\n"
     ]
    }
   ],
   "source": [
    "import re\n",
    "import time\n",
    "import kagglehub\n",
    "import keras\n",
    "import matplotlib.pyplot as plt\n",
    "import numpy as np\n",
    "import keras_hub\n",
    "import keras_tuner\n",
    "import pandas as pd\n",
    "import pkuseg\n",
    "import tensorflow as tf\n",
    "from datasets import Dataset\n",
    "from pypinyin import lazy_pinyin\n",
    "from keras.layers import (\n",
    "    LSTM,\n",
    "    Dense,\n",
    "    Embedding,\n",
    "    Input,\n",
    "    Dropout,\n",
    "    Concatenate,\n",
    "    Attention,\n",
    "    StringLookup,\n",
    "    TextVectorization,\n",
    ")\n",
    "from keras.models import Model\n",
    "\n",
    "# Vérifier GPU\n",
    "print(tf.config.list_physical_devices('GPU'))\n",
    "# tf.debugging.set_log_device_placement(True)\n",
    "\n",
    "seg = pkuseg.pkuseg()\n",
    "path = kagglehub.dataset_download(\"noxmoon/chinese-official-daily-news-since-2016\")\n",
    "\n",
    "print(\"\\nPath to dataset files:\", path)"
   ]
  },
  {
   "cell_type": "markdown",
   "id": "c0b3e85f",
   "metadata": {},
   "source": [
    "# Création du corpus"
   ]
  },
  {
   "cell_type": "code",
   "execution_count": 12,
   "id": "c1de02ac",
   "metadata": {},
   "outputs": [
    {
     "name": "stdout",
     "output_type": "stream",
     "text": [
      "Dataset information:\n",
      "<class 'pandas.core.frame.DataFrame'>\n",
      "RangeIndex: 20738 entries, 0 to 20737\n",
      "Data columns (total 4 columns):\n",
      " #   Column    Non-Null Count  Dtype \n",
      "---  ------    --------------  ----- \n",
      " 0   date      20738 non-null  object\n",
      " 1   tag       20738 non-null  object\n",
      " 2   headline  20738 non-null  object\n",
      " 3   content   20631 non-null  object\n",
      "dtypes: object(4)\n",
      "memory usage: 648.2+ KB\n",
      "None\n",
      "Dataset head:\n",
      "         date   tag                                           headline  \\\n",
      "0  2016-01-01  详细全文  陆军领导机构火箭军战略支援部队成立大会在京举行 习近平向中国人民解放军陆军火箭军战略支援部队...   \n",
      "1  2016-01-01  详细全文                             中央军委印发《关于深化国防和军队改革的意见》   \n",
      "2  2016-01-01  详细全文                           《习近平关于严明党的纪律和规矩论述摘编》出版发行   \n",
      "3  2016-01-01  详细全文                                 以实际行动向党中央看齐 向高标准努力   \n",
      "4  2016-01-01  详细全文                                 【年终特稿】关键之年 改革挺进深水区   \n",
      "\n",
      "                                             content  \n",
      "0  中国人民解放军陆军领导机构、中国人民解放军火箭军、中国人民解放军战略支援部队成立大会2015...  \n",
      "1  经中央军委主席习近平批准，中央军委近日印发了《关于深化国防和军队改革的意见》。\\n《意见》强...  \n",
      "2  由中共中央纪律检查委员会、中共中央文献研究室编辑的《习近平关于严明党的纪律和规矩论述摘编》一...  \n",
      "3  广大党员干部正在积极学习习近平总书记在中央政治局专题民主生活会上的重要讲话。大家纷纷表示要把...  \n",
      "4  刚刚过去的2015年，是全面深化改革的关键之年。改革集中发力在制约经济社会发展的深层次矛盾，...  \n"
     ]
    }
   ],
   "source": [
    "dataset = pd.read_csv(path+\"/chinese_news.csv\")\n",
    "# Print dataset information\n",
    "print(\"Dataset information:\")\n",
    "print(dataset.info())\n",
    "# Print dataset head\n",
    "print(\"Dataset head:\")\n",
    "print(dataset.head())"
   ]
  },
  {
   "cell_type": "code",
   "execution_count": 13,
   "id": "cef64267",
   "metadata": {},
   "outputs": [
    {
     "name": "stdout",
     "output_type": "stream",
     "text": [
      "Dataset after preprocessing:\n",
      "                                             content  \\\n",
      "0  中国人民解放军陆军领导机构、中国人民解放军火箭军、中国人民解放军战略支援部队成立大会2015...   \n",
      "1  经中央军委主席习近平批准，中央军委近日印发了《关于深化国防和军队改革的意见》。\\n《意见》强...   \n",
      "2  由中共中央纪律检查委员会、中共中央文献研究室编辑的《习近平关于严明党的纪律和规矩论述摘编》一...   \n",
      "3  广大党员干部正在积极学习习近平总书记在中央政治局专题民主生活会上的重要讲话。大家纷纷表示要把...   \n",
      "4  刚刚过去的2015年，是全面深化改革的关键之年。改革集中发力在制约经济社会发展的深层次矛盾，...   \n",
      "\n",
      "                                     cleaned_content  \n",
      "0  中国人民解放军陆军领导机构、中国人民解放军火箭军、中国人民解放军战略支援部队成立大会年月日在...  \n",
      "1  经中央军委主席习近平批准，中央军委近日印发了《关于深化国防和军队改革的意见》。《意见》强调，...  \n",
      "2  由中共中央纪律检查委员会、中共中央文献研究室编辑的《习近平关于严明党的纪律和规矩论述摘编》一...  \n",
      "3  广大党员干部正在积极学习习近平总书记在中央政治局专题民主生活会上的重要讲话。大家纷纷表示要把...  \n",
      "4  刚刚过去的年，是全面深化改革的关键之年。改革集中发力在制约经济社会发展的深层次矛盾，集中发力...  \n",
      "0    [中国, 人民, 解放军, 陆军, 领导, 机构, 、, 中国, 人民, 解放军, 火箭军,...\n",
      "1    [经, 中央军委, 主席, 习近平, 批准, ，, 中央军委, 近日, 印发, 了, 《, ...\n",
      "2    [由, 中共中央, 纪律, 检查, 委员会, 、, 中共中央, 文献, 研究室, 编辑, 的...\n",
      "3    [广大, 党员, 干部, 正在, 积极, 学习, 习近平, 总书记, 在, 中央, 政治局,...\n",
      "4    [刚刚, 过去, 的, 年, ，, 是, 全面, 深化, 改革, 的, 关键, 之, 年, ...\n",
      "Name: tokens, dtype: object\n"
     ]
    }
   ],
   "source": [
    "# Prétraitement de content (suppression des caractères non chinois, normalisation des espaces)\n",
    "def clean_content(text):\n",
    "    if not isinstance(text, str):\n",
    "        return \"\"\n",
    "    \n",
    "    # Garder les caractères chinois et ponctuation chinoise\n",
    "    text = re.sub(r\"[^\\u4e00-\\u9fff\\u3000-\\u303F\\uff00-\\uffef]\", \"\", text)\n",
    "    \n",
    "    # Normaliser les espaces (rare, mais au cas où)\n",
    "    text = text.replace(\" \", \"\").strip()\n",
    "\n",
    "    return text\n",
    "\n",
    "# Remplacer les valeurs manquantes par une chaîne vide\n",
    "dataset[\"content\"] = dataset[\"content\"].fillna(\"\")\n",
    "\n",
    "# Appliquer le prétraitement à la colonne 'content'\n",
    "dataset['cleaned_content'] = dataset['content'].apply(clean_content)\n",
    "\n",
    "# Filtrer les lignes où 'cleaned_content' est vide\n",
    "dataset = dataset[dataset[\"cleaned_content\"].str.strip() != \"\"].reset_index(drop=True)\n",
    "\n",
    "# Afficher les 5 premières lignes du DataFrame après le prétraitement\n",
    "print(\"Dataset after preprocessing:\")\n",
    "print(dataset[['content', 'cleaned_content']].head())\n",
    "\n",
    "\n",
    "dataset[\"tokens\"] = dataset[\"cleaned_content\"].apply(lambda x: seg.cut(x))\n",
    "\n",
    "# Aperçu\n",
    "print(dataset[\"tokens\"].head())"
   ]
  },
  {
   "cell_type": "code",
   "execution_count": 14,
   "id": "add6bdee",
   "metadata": {},
   "outputs": [
    {
     "name": "stdout",
     "output_type": "stream",
     "text": [
      "Dataset after generating sequences:\n",
      "                                             content  \\\n",
      "0  中国人民解放军陆军领导机构、中国人民解放军火箭军、中国人民解放军战略支援部队成立大会2015...   \n",
      "1  经中央军委主席习近平批准，中央军委近日印发了《关于深化国防和军队改革的意见》。\\n《意见》强...   \n",
      "2  由中共中央纪律检查委员会、中共中央文献研究室编辑的《习近平关于严明党的纪律和规矩论述摘编》一...   \n",
      "3  广大党员干部正在积极学习习近平总书记在中央政治局专题民主生活会上的重要讲话。大家纷纷表示要把...   \n",
      "4  刚刚过去的2015年，是全面深化改革的关键之年。改革集中发力在制约经济社会发展的深层次矛盾，...   \n",
      "\n",
      "                             char_pinyin_t9_sequence  \n",
      "0  中|zhong|94664 国|guo|486 人|ren|736 民|min|646 解|...  \n",
      "1  经|jing|5464 中|zhong|94664 央|yang|9264 军|jun|58...  \n",
      "2  由|you|968 中|zhong|94664 共|gong|4664 中|zhong|94...  \n",
      "3  广|guang|48264 大|da|32 党|dang|3264 员|yuan|9826 ...  \n",
      "4  刚|gang|4264 刚|gang|4264 过|guo|486 去|qu|78 的|de...  \n"
     ]
    }
   ],
   "source": [
    "# convert the content column to pinyin\n",
    "t9_map = {\n",
    "    \"@\": \"1\", \".\": \"1\", \":\": \"1\",\n",
    "    \"a\": \"2\", \"b\": \"2\", \"c\": \"2\",\n",
    "    \"d\": \"3\", \"e\": \"3\", \"f\": \"3\",\n",
    "    \"g\": \"4\", \"h\": \"4\", \"i\": \"4\",\n",
    "    \"j\": \"5\", \"k\": \"5\", \"l\": \"5\",\n",
    "    \"m\": \"6\", \"n\": \"6\", \"o\": \"6\",\n",
    "    \"p\": \"7\", \"q\": \"7\", \"r\": \"7\", \"s\": \"7\",\n",
    "    \"t\": \"8\", \"u\": \"8\", \"v\": \"8\",\n",
    "    \"w\": \"9\", \"x\": \"9\", \"y\": \"9\", \"z\": \"9\",\n",
    "    \"1\": \"1\", \"2\": \"2\", \"3\": \"3\", \"4\": \"4\",\n",
    "    \"5\": \"5\", \"6\": \"6\", \"7\": \"7\", \"8\": \"8\",\n",
    "    \"9\": \"9\", \"0\": \"0\", \" \": \"0\",\n",
    "    \"。\":\"。\", \"，\":\"，\", \"？\":\"？\", \"！\":\"！\",\n",
    "}\n",
    "\n",
    "# Fonction pour convertir une chaîne de caractères en code T9\n",
    "def pinyin_to_t9(text):\n",
    "    t9_code = \"\"\n",
    "    if pd.isna(text):\n",
    "        return \"\"\n",
    "    for char in text.lower():\n",
    "        t9_code += t9_map.get(char, char)  # Conserver les caractères non mappés\n",
    "    return t9_code\n",
    "\n",
    "def validate_t9(t9_code):\n",
    "    # Vérifie que le code T9 est numérique (ou vide pour ponctuation)\n",
    "    return bool(re.match(r'^[0-9]+$', t9_code)) or t9_code in {\"。\", \"，\", \"？\", \"！\"}\n",
    "\n",
    "def generer_sequence_contextuelle(row):\n",
    "    tokens = row[\"tokens\"]\n",
    "    sequence = []\n",
    "    for token in tokens:\n",
    "        if not isinstance(token, str) or not re.search(r'[\\u4e00-\\u9fff]', token):\n",
    "            continue\n",
    "        for char, py in zip(token, lazy_pinyin(token)):\n",
    "            t9 = pinyin_to_t9(py)\n",
    "            if validate_t9(t9):  # Vérifier que le T9 est valide\n",
    "                sequence.append(f\"{char}|{py}|{t9}\")\n",
    "    return ' '.join(sequence)\n",
    "\n",
    "dataset[\"char_pinyin_t9_sequence\"] = dataset.apply(generer_sequence_contextuelle, axis=1)\n",
    "\n",
    "# Filtrer les lignes où 'char_pinyin_t9_sequence' est vide\n",
    "dataset = dataset[dataset[\"char_pinyin_t9_sequence\"].str.strip() != \"\"].reset_index(drop=True)\n",
    "\n",
    "# Sauvegarder le fichier\n",
    "dataset[[\"char_pinyin_t9_sequence\"]].to_csv(\"sequences_char_pinyin_t9.csv\", index=False)\n",
    "\n",
    "# Afficher les 5 premières lignes du DataFrame après le prétraitement\n",
    "print(\"Dataset after generating sequences:\")\n",
    "print(dataset[['content', 'char_pinyin_t9_sequence']].head())"
   ]
  },
  {
   "cell_type": "markdown",
   "id": "fc41c160",
   "metadata": {},
   "source": [
    "# Création du dataset pour le modèle"
   ]
  },
  {
   "cell_type": "code",
   "execution_count": 15,
   "id": "9336abca",
   "metadata": {},
   "outputs": [],
   "source": [
    "dataset = dataset[[\"char_pinyin_t9_sequence\"]]\n",
    "\n",
    "\n",
    "# Modifier la génération des séquences pour inclure le contexte\n",
    "input_t9_sequences = []\n",
    "context_char_sequences = []\n",
    "target_char_sequences = []\n",
    "MAX_CONTEXT_LENGTH = 10  # Longueur max du contexte\n",
    "MAX_T9_LENGTH = 10      # Longueur max de la séquence T9\n",
    "MAX_TARGET_LENGTH = 10  # Longueur max de la séquence cible\n",
    "\n",
    "for seq in dataset[\"char_pinyin_t9_sequence\"]:\n",
    "    triplets = seq.strip().split(\" \")\n",
    "    t9_seq = []\n",
    "    char_seq = []\n",
    "    \n",
    "    for triplet in triplets:\n",
    "        parts = triplet.split(\"|\")\n",
    "        if len(parts) == 3:\n",
    "            char, _, t9 = parts\n",
    "            if validate_t9(t9):\n",
    "                char_seq.append(char)\n",
    "                t9_seq.append(t9)\n",
    "    \n",
    "    # Créer des paires contexte-T9-cible\n",
    "    for i in range(1, len(t9_seq)):\n",
    "        # Contexte : caractères avant la position i\n",
    "        context = char_seq[:i][-MAX_CONTEXT_LENGTH:]\n",
    "        # Entrée T9 : codes T9 à partir de i\n",
    "        t9_input = t9_seq[i:i+MAX_T9_LENGTH]\n",
    "        # Cible : caractères à partir de i\n",
    "        target = char_seq[i:i+MAX_TARGET_LENGTH]\n",
    "        \n",
    "        if context and t9_input and target:\n",
    "            context_char_sequences.append(\"\".join(context))\n",
    "            input_t9_sequences.append(\" \".join(t9_input))\n",
    "            target_char_sequences.append(\"\".join(target))\n",
    "\n",
    "# Créer un DataFrame\n",
    "df_sequences = pd.DataFrame({\n",
    "    \"context_char_sequence\": context_char_sequences,\n",
    "    \"input_t9_sequence\": input_t9_sequences,\n",
    "    \"target_char_sequence\": target_char_sequences\n",
    "})\n",
    "\n",
    "# Filtrer les séquences vides\n",
    "df_sequences = df_sequences[\n",
    "    (df_sequences[\"context_char_sequence\"].str.strip() != \"\") &\n",
    "    (df_sequences[\"input_t9_sequence\"].str.strip() != \"\") &\n",
    "    (df_sequences[\"target_char_sequence\"].str.strip() != \"\")\n",
    "]"
   ]
  },
  {
   "cell_type": "code",
   "execution_count": 16,
   "id": "f096bbf2",
   "metadata": {},
   "outputs": [
    {
     "name": "stdout",
     "output_type": "stream",
     "text": [
      "DataFrame sequences:\n",
      "  context_char_sequence                          input_t9_sequence  \\\n",
      "0                     中   486 736 646 543 3264 586 58 586 5464 326   \n",
      "1                    中国    736 646 543 3264 586 58 586 5464 326 54   \n",
      "2                   中国人    646 543 3264 586 58 586 5464 326 54 468   \n",
      "3                  中国人民  543 3264 586 58 586 5464 326 54 468 94664   \n",
      "4                 中国人民解  3264 586 58 586 5464 326 54 468 94664 486   \n",
      "\n",
      "  target_char_sequence  \n",
      "0           国人民解放军陆军领导  \n",
      "1           人民解放军陆军领导机  \n",
      "2           民解放军陆军领导机构  \n",
      "3           解放军陆军领导机构中  \n",
      "4           放军陆军领导机构中国  \n"
     ]
    }
   ],
   "source": [
    "print(\"DataFrame sequences:\")\n",
    "print(df_sequences.head())"
   ]
  },
  {
   "cell_type": "code",
   "execution_count": 17,
   "id": "a17958d9",
   "metadata": {},
   "outputs": [
    {
     "data": {
      "text/plain": [
       "(<tf.Tensor: shape=(256,), dtype=string, numpy=\n",
       " array([b'\\xe4\\xb8\\xad', b'\\xe4\\xb8\\xad\\xe5\\x9b\\xbd',\n",
       "        b'\\xe4\\xb8\\xad\\xe5\\x9b\\xbd\\xe4\\xba\\xba',\n",
       "        b'\\xe4\\xb8\\xad\\xe5\\x9b\\xbd\\xe4\\xba\\xba\\xe6\\xb0\\x91',\n",
       "        b'\\xe4\\xb8\\xad\\xe5\\x9b\\xbd\\xe4\\xba\\xba\\xe6\\xb0\\x91\\xe8\\xa7\\xa3',\n",
       "        b'\\xe4\\xb8\\xad\\xe5\\x9b\\xbd\\xe4\\xba\\xba\\xe6\\xb0\\x91\\xe8\\xa7\\xa3\\xe6\\x94\\xbe',\n",
       "        b'\\xe4\\xb8\\xad\\xe5\\x9b\\xbd\\xe4\\xba\\xba\\xe6\\xb0\\x91\\xe8\\xa7\\xa3\\xe6\\x94\\xbe\\xe5\\x86\\x9b',\n",
       "        b'\\xe4\\xb8\\xad\\xe5\\x9b\\xbd\\xe4\\xba\\xba\\xe6\\xb0\\x91\\xe8\\xa7\\xa3\\xe6\\x94\\xbe\\xe5\\x86\\x9b\\xe9\\x99\\x86',\n",
       "        b'\\xe4\\xb8\\xad\\xe5\\x9b\\xbd\\xe4\\xba\\xba\\xe6\\xb0\\x91\\xe8\\xa7\\xa3\\xe6\\x94\\xbe\\xe5\\x86\\x9b\\xe9\\x99\\x86\\xe5\\x86\\x9b',\n",
       "        b'\\xe4\\xb8\\xad\\xe5\\x9b\\xbd\\xe4\\xba\\xba\\xe6\\xb0\\x91\\xe8\\xa7\\xa3\\xe6\\x94\\xbe\\xe5\\x86\\x9b\\xe9\\x99\\x86\\xe5\\x86\\x9b\\xe9\\xa2\\x86',\n",
       "        b'\\xe5\\x9b\\xbd\\xe4\\xba\\xba\\xe6\\xb0\\x91\\xe8\\xa7\\xa3\\xe6\\x94\\xbe\\xe5\\x86\\x9b\\xe9\\x99\\x86\\xe5\\x86\\x9b\\xe9\\xa2\\x86\\xe5\\xaf\\xbc',\n",
       "        b'\\xe4\\xba\\xba\\xe6\\xb0\\x91\\xe8\\xa7\\xa3\\xe6\\x94\\xbe\\xe5\\x86\\x9b\\xe9\\x99\\x86\\xe5\\x86\\x9b\\xe9\\xa2\\x86\\xe5\\xaf\\xbc\\xe6\\x9c\\xba',\n",
       "        b'\\xe6\\xb0\\x91\\xe8\\xa7\\xa3\\xe6\\x94\\xbe\\xe5\\x86\\x9b\\xe9\\x99\\x86\\xe5\\x86\\x9b\\xe9\\xa2\\x86\\xe5\\xaf\\xbc\\xe6\\x9c\\xba\\xe6\\x9e\\x84',\n",
       "        b'\\xe8\\xa7\\xa3\\xe6\\x94\\xbe\\xe5\\x86\\x9b\\xe9\\x99\\x86\\xe5\\x86\\x9b\\xe9\\xa2\\x86\\xe5\\xaf\\xbc\\xe6\\x9c\\xba\\xe6\\x9e\\x84\\xe4\\xb8\\xad',\n",
       "        b'\\xe6\\x94\\xbe\\xe5\\x86\\x9b\\xe9\\x99\\x86\\xe5\\x86\\x9b\\xe9\\xa2\\x86\\xe5\\xaf\\xbc\\xe6\\x9c\\xba\\xe6\\x9e\\x84\\xe4\\xb8\\xad\\xe5\\x9b\\xbd',\n",
       "        b'\\xe5\\x86\\x9b\\xe9\\x99\\x86\\xe5\\x86\\x9b\\xe9\\xa2\\x86\\xe5\\xaf\\xbc\\xe6\\x9c\\xba\\xe6\\x9e\\x84\\xe4\\xb8\\xad\\xe5\\x9b\\xbd\\xe4\\xba\\xba',\n",
       "        b'\\xe9\\x99\\x86\\xe5\\x86\\x9b\\xe9\\xa2\\x86\\xe5\\xaf\\xbc\\xe6\\x9c\\xba\\xe6\\x9e\\x84\\xe4\\xb8\\xad\\xe5\\x9b\\xbd\\xe4\\xba\\xba\\xe6\\xb0\\x91',\n",
       "        b'\\xe5\\x86\\x9b\\xe9\\xa2\\x86\\xe5\\xaf\\xbc\\xe6\\x9c\\xba\\xe6\\x9e\\x84\\xe4\\xb8\\xad\\xe5\\x9b\\xbd\\xe4\\xba\\xba\\xe6\\xb0\\x91\\xe8\\xa7\\xa3',\n",
       "        b'\\xe9\\xa2\\x86\\xe5\\xaf\\xbc\\xe6\\x9c\\xba\\xe6\\x9e\\x84\\xe4\\xb8\\xad\\xe5\\x9b\\xbd\\xe4\\xba\\xba\\xe6\\xb0\\x91\\xe8\\xa7\\xa3\\xe6\\x94\\xbe',\n",
       "        b'\\xe5\\xaf\\xbc\\xe6\\x9c\\xba\\xe6\\x9e\\x84\\xe4\\xb8\\xad\\xe5\\x9b\\xbd\\xe4\\xba\\xba\\xe6\\xb0\\x91\\xe8\\xa7\\xa3\\xe6\\x94\\xbe\\xe5\\x86\\x9b',\n",
       "        b'\\xe6\\x9c\\xba\\xe6\\x9e\\x84\\xe4\\xb8\\xad\\xe5\\x9b\\xbd\\xe4\\xba\\xba\\xe6\\xb0\\x91\\xe8\\xa7\\xa3\\xe6\\x94\\xbe\\xe5\\x86\\x9b\\xe7\\x81\\xab',\n",
       "        b'\\xe6\\x9e\\x84\\xe4\\xb8\\xad\\xe5\\x9b\\xbd\\xe4\\xba\\xba\\xe6\\xb0\\x91\\xe8\\xa7\\xa3\\xe6\\x94\\xbe\\xe5\\x86\\x9b\\xe7\\x81\\xab\\xe7\\xae\\xad',\n",
       "        b'\\xe4\\xb8\\xad\\xe5\\x9b\\xbd\\xe4\\xba\\xba\\xe6\\xb0\\x91\\xe8\\xa7\\xa3\\xe6\\x94\\xbe\\xe5\\x86\\x9b\\xe7\\x81\\xab\\xe7\\xae\\xad\\xe5\\x86\\x9b',\n",
       "        b'\\xe5\\x9b\\xbd\\xe4\\xba\\xba\\xe6\\xb0\\x91\\xe8\\xa7\\xa3\\xe6\\x94\\xbe\\xe5\\x86\\x9b\\xe7\\x81\\xab\\xe7\\xae\\xad\\xe5\\x86\\x9b\\xe4\\xb8\\xad',\n",
       "        b'\\xe4\\xba\\xba\\xe6\\xb0\\x91\\xe8\\xa7\\xa3\\xe6\\x94\\xbe\\xe5\\x86\\x9b\\xe7\\x81\\xab\\xe7\\xae\\xad\\xe5\\x86\\x9b\\xe4\\xb8\\xad\\xe5\\x9b\\xbd',\n",
       "        b'\\xe6\\xb0\\x91\\xe8\\xa7\\xa3\\xe6\\x94\\xbe\\xe5\\x86\\x9b\\xe7\\x81\\xab\\xe7\\xae\\xad\\xe5\\x86\\x9b\\xe4\\xb8\\xad\\xe5\\x9b\\xbd\\xe4\\xba\\xba',\n",
       "        b'\\xe8\\xa7\\xa3\\xe6\\x94\\xbe\\xe5\\x86\\x9b\\xe7\\x81\\xab\\xe7\\xae\\xad\\xe5\\x86\\x9b\\xe4\\xb8\\xad\\xe5\\x9b\\xbd\\xe4\\xba\\xba\\xe6\\xb0\\x91',\n",
       "        b'\\xe6\\x94\\xbe\\xe5\\x86\\x9b\\xe7\\x81\\xab\\xe7\\xae\\xad\\xe5\\x86\\x9b\\xe4\\xb8\\xad\\xe5\\x9b\\xbd\\xe4\\xba\\xba\\xe6\\xb0\\x91\\xe8\\xa7\\xa3',\n",
       "        b'\\xe5\\x86\\x9b\\xe7\\x81\\xab\\xe7\\xae\\xad\\xe5\\x86\\x9b\\xe4\\xb8\\xad\\xe5\\x9b\\xbd\\xe4\\xba\\xba\\xe6\\xb0\\x91\\xe8\\xa7\\xa3\\xe6\\x94\\xbe',\n",
       "        b'\\xe7\\x81\\xab\\xe7\\xae\\xad\\xe5\\x86\\x9b\\xe4\\xb8\\xad\\xe5\\x9b\\xbd\\xe4\\xba\\xba\\xe6\\xb0\\x91\\xe8\\xa7\\xa3\\xe6\\x94\\xbe\\xe5\\x86\\x9b',\n",
       "        b'\\xe7\\xae\\xad\\xe5\\x86\\x9b\\xe4\\xb8\\xad\\xe5\\x9b\\xbd\\xe4\\xba\\xba\\xe6\\xb0\\x91\\xe8\\xa7\\xa3\\xe6\\x94\\xbe\\xe5\\x86\\x9b\\xe6\\x88\\x98',\n",
       "        b'\\xe5\\x86\\x9b\\xe4\\xb8\\xad\\xe5\\x9b\\xbd\\xe4\\xba\\xba\\xe6\\xb0\\x91\\xe8\\xa7\\xa3\\xe6\\x94\\xbe\\xe5\\x86\\x9b\\xe6\\x88\\x98\\xe7\\x95\\xa5',\n",
       "        b'\\xe4\\xb8\\xad\\xe5\\x9b\\xbd\\xe4\\xba\\xba\\xe6\\xb0\\x91\\xe8\\xa7\\xa3\\xe6\\x94\\xbe\\xe5\\x86\\x9b\\xe6\\x88\\x98\\xe7\\x95\\xa5\\xe6\\x94\\xaf',\n",
       "        b'\\xe5\\x9b\\xbd\\xe4\\xba\\xba\\xe6\\xb0\\x91\\xe8\\xa7\\xa3\\xe6\\x94\\xbe\\xe5\\x86\\x9b\\xe6\\x88\\x98\\xe7\\x95\\xa5\\xe6\\x94\\xaf\\xe6\\x8f\\xb4',\n",
       "        b'\\xe4\\xba\\xba\\xe6\\xb0\\x91\\xe8\\xa7\\xa3\\xe6\\x94\\xbe\\xe5\\x86\\x9b\\xe6\\x88\\x98\\xe7\\x95\\xa5\\xe6\\x94\\xaf\\xe6\\x8f\\xb4\\xe9\\x83\\xa8',\n",
       "        b'\\xe6\\xb0\\x91\\xe8\\xa7\\xa3\\xe6\\x94\\xbe\\xe5\\x86\\x9b\\xe6\\x88\\x98\\xe7\\x95\\xa5\\xe6\\x94\\xaf\\xe6\\x8f\\xb4\\xe9\\x83\\xa8\\xe9\\x98\\x9f',\n",
       "        b'\\xe8\\xa7\\xa3\\xe6\\x94\\xbe\\xe5\\x86\\x9b\\xe6\\x88\\x98\\xe7\\x95\\xa5\\xe6\\x94\\xaf\\xe6\\x8f\\xb4\\xe9\\x83\\xa8\\xe9\\x98\\x9f\\xe6\\x88\\x90',\n",
       "        b'\\xe6\\x94\\xbe\\xe5\\x86\\x9b\\xe6\\x88\\x98\\xe7\\x95\\xa5\\xe6\\x94\\xaf\\xe6\\x8f\\xb4\\xe9\\x83\\xa8\\xe9\\x98\\x9f\\xe6\\x88\\x90\\xe7\\xab\\x8b',\n",
       "        b'\\xe5\\x86\\x9b\\xe6\\x88\\x98\\xe7\\x95\\xa5\\xe6\\x94\\xaf\\xe6\\x8f\\xb4\\xe9\\x83\\xa8\\xe9\\x98\\x9f\\xe6\\x88\\x90\\xe7\\xab\\x8b\\xe5\\xa4\\xa7',\n",
       "        b'\\xe6\\x88\\x98\\xe7\\x95\\xa5\\xe6\\x94\\xaf\\xe6\\x8f\\xb4\\xe9\\x83\\xa8\\xe9\\x98\\x9f\\xe6\\x88\\x90\\xe7\\xab\\x8b\\xe5\\xa4\\xa7\\xe4\\xbc\\x9a',\n",
       "        b'\\xe7\\x95\\xa5\\xe6\\x94\\xaf\\xe6\\x8f\\xb4\\xe9\\x83\\xa8\\xe9\\x98\\x9f\\xe6\\x88\\x90\\xe7\\xab\\x8b\\xe5\\xa4\\xa7\\xe4\\xbc\\x9a\\xe5\\xb9\\xb4',\n",
       "        b'\\xe6\\x94\\xaf\\xe6\\x8f\\xb4\\xe9\\x83\\xa8\\xe9\\x98\\x9f\\xe6\\x88\\x90\\xe7\\xab\\x8b\\xe5\\xa4\\xa7\\xe4\\xbc\\x9a\\xe5\\xb9\\xb4\\xe6\\x9c\\x88',\n",
       "        b'\\xe6\\x8f\\xb4\\xe9\\x83\\xa8\\xe9\\x98\\x9f\\xe6\\x88\\x90\\xe7\\xab\\x8b\\xe5\\xa4\\xa7\\xe4\\xbc\\x9a\\xe5\\xb9\\xb4\\xe6\\x9c\\x88\\xe6\\x97\\xa5',\n",
       "        b'\\xe9\\x83\\xa8\\xe9\\x98\\x9f\\xe6\\x88\\x90\\xe7\\xab\\x8b\\xe5\\xa4\\xa7\\xe4\\xbc\\x9a\\xe5\\xb9\\xb4\\xe6\\x9c\\x88\\xe6\\x97\\xa5\\xe5\\x9c\\xa8',\n",
       "        b'\\xe9\\x98\\x9f\\xe6\\x88\\x90\\xe7\\xab\\x8b\\xe5\\xa4\\xa7\\xe4\\xbc\\x9a\\xe5\\xb9\\xb4\\xe6\\x9c\\x88\\xe6\\x97\\xa5\\xe5\\x9c\\xa8\\xe5\\x85\\xab',\n",
       "        b'\\xe6\\x88\\x90\\xe7\\xab\\x8b\\xe5\\xa4\\xa7\\xe4\\xbc\\x9a\\xe5\\xb9\\xb4\\xe6\\x9c\\x88\\xe6\\x97\\xa5\\xe5\\x9c\\xa8\\xe5\\x85\\xab\\xe4\\xb8\\x80',\n",
       "        b'\\xe7\\xab\\x8b\\xe5\\xa4\\xa7\\xe4\\xbc\\x9a\\xe5\\xb9\\xb4\\xe6\\x9c\\x88\\xe6\\x97\\xa5\\xe5\\x9c\\xa8\\xe5\\x85\\xab\\xe4\\xb8\\x80\\xe5\\xa4\\xa7',\n",
       "        b'\\xe5\\xa4\\xa7\\xe4\\xbc\\x9a\\xe5\\xb9\\xb4\\xe6\\x9c\\x88\\xe6\\x97\\xa5\\xe5\\x9c\\xa8\\xe5\\x85\\xab\\xe4\\xb8\\x80\\xe5\\xa4\\xa7\\xe6\\xa5\\xbc',\n",
       "        b'\\xe4\\xbc\\x9a\\xe5\\xb9\\xb4\\xe6\\x9c\\x88\\xe6\\x97\\xa5\\xe5\\x9c\\xa8\\xe5\\x85\\xab\\xe4\\xb8\\x80\\xe5\\xa4\\xa7\\xe6\\xa5\\xbc\\xe9\\x9a\\x86',\n",
       "        b'\\xe5\\xb9\\xb4\\xe6\\x9c\\x88\\xe6\\x97\\xa5\\xe5\\x9c\\xa8\\xe5\\x85\\xab\\xe4\\xb8\\x80\\xe5\\xa4\\xa7\\xe6\\xa5\\xbc\\xe9\\x9a\\x86\\xe9\\x87\\x8d',\n",
       "        b'\\xe6\\x9c\\x88\\xe6\\x97\\xa5\\xe5\\x9c\\xa8\\xe5\\x85\\xab\\xe4\\xb8\\x80\\xe5\\xa4\\xa7\\xe6\\xa5\\xbc\\xe9\\x9a\\x86\\xe9\\x87\\x8d\\xe4\\xb8\\xbe',\n",
       "        b'\\xe6\\x97\\xa5\\xe5\\x9c\\xa8\\xe5\\x85\\xab\\xe4\\xb8\\x80\\xe5\\xa4\\xa7\\xe6\\xa5\\xbc\\xe9\\x9a\\x86\\xe9\\x87\\x8d\\xe4\\xb8\\xbe\\xe8\\xa1\\x8c',\n",
       "        b'\\xe5\\x9c\\xa8\\xe5\\x85\\xab\\xe4\\xb8\\x80\\xe5\\xa4\\xa7\\xe6\\xa5\\xbc\\xe9\\x9a\\x86\\xe9\\x87\\x8d\\xe4\\xb8\\xbe\\xe8\\xa1\\x8c\\xe4\\xb8\\xad',\n",
       "        b'\\xe5\\x85\\xab\\xe4\\xb8\\x80\\xe5\\xa4\\xa7\\xe6\\xa5\\xbc\\xe9\\x9a\\x86\\xe9\\x87\\x8d\\xe4\\xb8\\xbe\\xe8\\xa1\\x8c\\xe4\\xb8\\xad\\xe5\\x85\\xb1',\n",
       "        b'\\xe4\\xb8\\x80\\xe5\\xa4\\xa7\\xe6\\xa5\\xbc\\xe9\\x9a\\x86\\xe9\\x87\\x8d\\xe4\\xb8\\xbe\\xe8\\xa1\\x8c\\xe4\\xb8\\xad\\xe5\\x85\\xb1\\xe4\\xb8\\xad',\n",
       "        b'\\xe5\\xa4\\xa7\\xe6\\xa5\\xbc\\xe9\\x9a\\x86\\xe9\\x87\\x8d\\xe4\\xb8\\xbe\\xe8\\xa1\\x8c\\xe4\\xb8\\xad\\xe5\\x85\\xb1\\xe4\\xb8\\xad\\xe5\\xa4\\xae',\n",
       "        b'\\xe6\\xa5\\xbc\\xe9\\x9a\\x86\\xe9\\x87\\x8d\\xe4\\xb8\\xbe\\xe8\\xa1\\x8c\\xe4\\xb8\\xad\\xe5\\x85\\xb1\\xe4\\xb8\\xad\\xe5\\xa4\\xae\\xe6\\x80\\xbb',\n",
       "        b'\\xe9\\x9a\\x86\\xe9\\x87\\x8d\\xe4\\xb8\\xbe\\xe8\\xa1\\x8c\\xe4\\xb8\\xad\\xe5\\x85\\xb1\\xe4\\xb8\\xad\\xe5\\xa4\\xae\\xe6\\x80\\xbb\\xe4\\xb9\\xa6',\n",
       "        b'\\xe9\\x87\\x8d\\xe4\\xb8\\xbe\\xe8\\xa1\\x8c\\xe4\\xb8\\xad\\xe5\\x85\\xb1\\xe4\\xb8\\xad\\xe5\\xa4\\xae\\xe6\\x80\\xbb\\xe4\\xb9\\xa6\\xe8\\xae\\xb0',\n",
       "        b'\\xe4\\xb8\\xbe\\xe8\\xa1\\x8c\\xe4\\xb8\\xad\\xe5\\x85\\xb1\\xe4\\xb8\\xad\\xe5\\xa4\\xae\\xe6\\x80\\xbb\\xe4\\xb9\\xa6\\xe8\\xae\\xb0\\xe5\\x9b\\xbd',\n",
       "        b'\\xe8\\xa1\\x8c\\xe4\\xb8\\xad\\xe5\\x85\\xb1\\xe4\\xb8\\xad\\xe5\\xa4\\xae\\xe6\\x80\\xbb\\xe4\\xb9\\xa6\\xe8\\xae\\xb0\\xe5\\x9b\\xbd\\xe5\\xae\\xb6',\n",
       "        b'\\xe4\\xb8\\xad\\xe5\\x85\\xb1\\xe4\\xb8\\xad\\xe5\\xa4\\xae\\xe6\\x80\\xbb\\xe4\\xb9\\xa6\\xe8\\xae\\xb0\\xe5\\x9b\\xbd\\xe5\\xae\\xb6\\xe4\\xb8\\xbb',\n",
       "        b'\\xe5\\x85\\xb1\\xe4\\xb8\\xad\\xe5\\xa4\\xae\\xe6\\x80\\xbb\\xe4\\xb9\\xa6\\xe8\\xae\\xb0\\xe5\\x9b\\xbd\\xe5\\xae\\xb6\\xe4\\xb8\\xbb\\xe5\\xb8\\xad',\n",
       "        b'\\xe4\\xb8\\xad\\xe5\\xa4\\xae\\xe6\\x80\\xbb\\xe4\\xb9\\xa6\\xe8\\xae\\xb0\\xe5\\x9b\\xbd\\xe5\\xae\\xb6\\xe4\\xb8\\xbb\\xe5\\xb8\\xad\\xe4\\xb8\\xad',\n",
       "        b'\\xe5\\xa4\\xae\\xe6\\x80\\xbb\\xe4\\xb9\\xa6\\xe8\\xae\\xb0\\xe5\\x9b\\xbd\\xe5\\xae\\xb6\\xe4\\xb8\\xbb\\xe5\\xb8\\xad\\xe4\\xb8\\xad\\xe5\\xa4\\xae',\n",
       "        b'\\xe6\\x80\\xbb\\xe4\\xb9\\xa6\\xe8\\xae\\xb0\\xe5\\x9b\\xbd\\xe5\\xae\\xb6\\xe4\\xb8\\xbb\\xe5\\xb8\\xad\\xe4\\xb8\\xad\\xe5\\xa4\\xae\\xe5\\x86\\x9b',\n",
       "        b'\\xe4\\xb9\\xa6\\xe8\\xae\\xb0\\xe5\\x9b\\xbd\\xe5\\xae\\xb6\\xe4\\xb8\\xbb\\xe5\\xb8\\xad\\xe4\\xb8\\xad\\xe5\\xa4\\xae\\xe5\\x86\\x9b\\xe5\\xa7\\x94',\n",
       "        b'\\xe8\\xae\\xb0\\xe5\\x9b\\xbd\\xe5\\xae\\xb6\\xe4\\xb8\\xbb\\xe5\\xb8\\xad\\xe4\\xb8\\xad\\xe5\\xa4\\xae\\xe5\\x86\\x9b\\xe5\\xa7\\x94\\xe4\\xb8\\xbb',\n",
       "        b'\\xe5\\x9b\\xbd\\xe5\\xae\\xb6\\xe4\\xb8\\xbb\\xe5\\xb8\\xad\\xe4\\xb8\\xad\\xe5\\xa4\\xae\\xe5\\x86\\x9b\\xe5\\xa7\\x94\\xe4\\xb8\\xbb\\xe5\\xb8\\xad',\n",
       "        b'\\xe5\\xae\\xb6\\xe4\\xb8\\xbb\\xe5\\xb8\\xad\\xe4\\xb8\\xad\\xe5\\xa4\\xae\\xe5\\x86\\x9b\\xe5\\xa7\\x94\\xe4\\xb8\\xbb\\xe5\\xb8\\xad\\xe4\\xb9\\xa0',\n",
       "        b'\\xe4\\xb8\\xbb\\xe5\\xb8\\xad\\xe4\\xb8\\xad\\xe5\\xa4\\xae\\xe5\\x86\\x9b\\xe5\\xa7\\x94\\xe4\\xb8\\xbb\\xe5\\xb8\\xad\\xe4\\xb9\\xa0\\xe8\\xbf\\x91',\n",
       "        b'\\xe5\\xb8\\xad\\xe4\\xb8\\xad\\xe5\\xa4\\xae\\xe5\\x86\\x9b\\xe5\\xa7\\x94\\xe4\\xb8\\xbb\\xe5\\xb8\\xad\\xe4\\xb9\\xa0\\xe8\\xbf\\x91\\xe5\\xb9\\xb3',\n",
       "        b'\\xe4\\xb8\\xad\\xe5\\xa4\\xae\\xe5\\x86\\x9b\\xe5\\xa7\\x94\\xe4\\xb8\\xbb\\xe5\\xb8\\xad\\xe4\\xb9\\xa0\\xe8\\xbf\\x91\\xe5\\xb9\\xb3\\xe5\\x90\\x91',\n",
       "        b'\\xe5\\xa4\\xae\\xe5\\x86\\x9b\\xe5\\xa7\\x94\\xe4\\xb8\\xbb\\xe5\\xb8\\xad\\xe4\\xb9\\xa0\\xe8\\xbf\\x91\\xe5\\xb9\\xb3\\xe5\\x90\\x91\\xe9\\x99\\x86',\n",
       "        b'\\xe5\\x86\\x9b\\xe5\\xa7\\x94\\xe4\\xb8\\xbb\\xe5\\xb8\\xad\\xe4\\xb9\\xa0\\xe8\\xbf\\x91\\xe5\\xb9\\xb3\\xe5\\x90\\x91\\xe9\\x99\\x86\\xe5\\x86\\x9b',\n",
       "        b'\\xe5\\xa7\\x94\\xe4\\xb8\\xbb\\xe5\\xb8\\xad\\xe4\\xb9\\xa0\\xe8\\xbf\\x91\\xe5\\xb9\\xb3\\xe5\\x90\\x91\\xe9\\x99\\x86\\xe5\\x86\\x9b\\xe7\\x81\\xab',\n",
       "        b'\\xe4\\xb8\\xbb\\xe5\\xb8\\xad\\xe4\\xb9\\xa0\\xe8\\xbf\\x91\\xe5\\xb9\\xb3\\xe5\\x90\\x91\\xe9\\x99\\x86\\xe5\\x86\\x9b\\xe7\\x81\\xab\\xe7\\xae\\xad',\n",
       "        b'\\xe5\\xb8\\xad\\xe4\\xb9\\xa0\\xe8\\xbf\\x91\\xe5\\xb9\\xb3\\xe5\\x90\\x91\\xe9\\x99\\x86\\xe5\\x86\\x9b\\xe7\\x81\\xab\\xe7\\xae\\xad\\xe5\\x86\\x9b',\n",
       "        b'\\xe4\\xb9\\xa0\\xe8\\xbf\\x91\\xe5\\xb9\\xb3\\xe5\\x90\\x91\\xe9\\x99\\x86\\xe5\\x86\\x9b\\xe7\\x81\\xab\\xe7\\xae\\xad\\xe5\\x86\\x9b\\xe6\\x88\\x98',\n",
       "        b'\\xe8\\xbf\\x91\\xe5\\xb9\\xb3\\xe5\\x90\\x91\\xe9\\x99\\x86\\xe5\\x86\\x9b\\xe7\\x81\\xab\\xe7\\xae\\xad\\xe5\\x86\\x9b\\xe6\\x88\\x98\\xe7\\x95\\xa5',\n",
       "        b'\\xe5\\xb9\\xb3\\xe5\\x90\\x91\\xe9\\x99\\x86\\xe5\\x86\\x9b\\xe7\\x81\\xab\\xe7\\xae\\xad\\xe5\\x86\\x9b\\xe6\\x88\\x98\\xe7\\x95\\xa5\\xe6\\x94\\xaf',\n",
       "        b'\\xe5\\x90\\x91\\xe9\\x99\\x86\\xe5\\x86\\x9b\\xe7\\x81\\xab\\xe7\\xae\\xad\\xe5\\x86\\x9b\\xe6\\x88\\x98\\xe7\\x95\\xa5\\xe6\\x94\\xaf\\xe6\\x8f\\xb4',\n",
       "        b'\\xe9\\x99\\x86\\xe5\\x86\\x9b\\xe7\\x81\\xab\\xe7\\xae\\xad\\xe5\\x86\\x9b\\xe6\\x88\\x98\\xe7\\x95\\xa5\\xe6\\x94\\xaf\\xe6\\x8f\\xb4\\xe9\\x83\\xa8',\n",
       "        b'\\xe5\\x86\\x9b\\xe7\\x81\\xab\\xe7\\xae\\xad\\xe5\\x86\\x9b\\xe6\\x88\\x98\\xe7\\x95\\xa5\\xe6\\x94\\xaf\\xe6\\x8f\\xb4\\xe9\\x83\\xa8\\xe9\\x98\\x9f',\n",
       "        b'\\xe7\\x81\\xab\\xe7\\xae\\xad\\xe5\\x86\\x9b\\xe6\\x88\\x98\\xe7\\x95\\xa5\\xe6\\x94\\xaf\\xe6\\x8f\\xb4\\xe9\\x83\\xa8\\xe9\\x98\\x9f\\xe6\\x8e\\x88',\n",
       "        b'\\xe7\\xae\\xad\\xe5\\x86\\x9b\\xe6\\x88\\x98\\xe7\\x95\\xa5\\xe6\\x94\\xaf\\xe6\\x8f\\xb4\\xe9\\x83\\xa8\\xe9\\x98\\x9f\\xe6\\x8e\\x88\\xe4\\xba\\x88',\n",
       "        b'\\xe5\\x86\\x9b\\xe6\\x88\\x98\\xe7\\x95\\xa5\\xe6\\x94\\xaf\\xe6\\x8f\\xb4\\xe9\\x83\\xa8\\xe9\\x98\\x9f\\xe6\\x8e\\x88\\xe4\\xba\\x88\\xe5\\x86\\x9b',\n",
       "        b'\\xe6\\x88\\x98\\xe7\\x95\\xa5\\xe6\\x94\\xaf\\xe6\\x8f\\xb4\\xe9\\x83\\xa8\\xe9\\x98\\x9f\\xe6\\x8e\\x88\\xe4\\xba\\x88\\xe5\\x86\\x9b\\xe6\\x97\\x97',\n",
       "        b'\\xe7\\x95\\xa5\\xe6\\x94\\xaf\\xe6\\x8f\\xb4\\xe9\\x83\\xa8\\xe9\\x98\\x9f\\xe6\\x8e\\x88\\xe4\\xba\\x88\\xe5\\x86\\x9b\\xe6\\x97\\x97\\xe5\\xb9\\xb6',\n",
       "        b'\\xe6\\x94\\xaf\\xe6\\x8f\\xb4\\xe9\\x83\\xa8\\xe9\\x98\\x9f\\xe6\\x8e\\x88\\xe4\\xba\\x88\\xe5\\x86\\x9b\\xe6\\x97\\x97\\xe5\\xb9\\xb6\\xe8\\x87\\xb4',\n",
       "        b'\\xe6\\x8f\\xb4\\xe9\\x83\\xa8\\xe9\\x98\\x9f\\xe6\\x8e\\x88\\xe4\\xba\\x88\\xe5\\x86\\x9b\\xe6\\x97\\x97\\xe5\\xb9\\xb6\\xe8\\x87\\xb4\\xe8\\xae\\xad',\n",
       "        b'\\xe9\\x83\\xa8\\xe9\\x98\\x9f\\xe6\\x8e\\x88\\xe4\\xba\\x88\\xe5\\x86\\x9b\\xe6\\x97\\x97\\xe5\\xb9\\xb6\\xe8\\x87\\xb4\\xe8\\xae\\xad\\xe8\\xaf\\x8d',\n",
       "        b'\\xe9\\x98\\x9f\\xe6\\x8e\\x88\\xe4\\xba\\x88\\xe5\\x86\\x9b\\xe6\\x97\\x97\\xe5\\xb9\\xb6\\xe8\\x87\\xb4\\xe8\\xae\\xad\\xe8\\xaf\\x8d\\xe4\\xbb\\xa3',\n",
       "        b'\\xe6\\x8e\\x88\\xe4\\xba\\x88\\xe5\\x86\\x9b\\xe6\\x97\\x97\\xe5\\xb9\\xb6\\xe8\\x87\\xb4\\xe8\\xae\\xad\\xe8\\xaf\\x8d\\xe4\\xbb\\xa3\\xe8\\xa1\\xa8',\n",
       "        b'\\xe4\\xba\\x88\\xe5\\x86\\x9b\\xe6\\x97\\x97\\xe5\\xb9\\xb6\\xe8\\x87\\xb4\\xe8\\xae\\xad\\xe8\\xaf\\x8d\\xe4\\xbb\\xa3\\xe8\\xa1\\xa8\\xe5\\x85\\x9a',\n",
       "        b'\\xe5\\x86\\x9b\\xe6\\x97\\x97\\xe5\\xb9\\xb6\\xe8\\x87\\xb4\\xe8\\xae\\xad\\xe8\\xaf\\x8d\\xe4\\xbb\\xa3\\xe8\\xa1\\xa8\\xe5\\x85\\x9a\\xe4\\xb8\\xad',\n",
       "        b'\\xe6\\x97\\x97\\xe5\\xb9\\xb6\\xe8\\x87\\xb4\\xe8\\xae\\xad\\xe8\\xaf\\x8d\\xe4\\xbb\\xa3\\xe8\\xa1\\xa8\\xe5\\x85\\x9a\\xe4\\xb8\\xad\\xe5\\xa4\\xae',\n",
       "        b'\\xe5\\xb9\\xb6\\xe8\\x87\\xb4\\xe8\\xae\\xad\\xe8\\xaf\\x8d\\xe4\\xbb\\xa3\\xe8\\xa1\\xa8\\xe5\\x85\\x9a\\xe4\\xb8\\xad\\xe5\\xa4\\xae\\xe5\\x92\\x8c',\n",
       "        b'\\xe8\\x87\\xb4\\xe8\\xae\\xad\\xe8\\xaf\\x8d\\xe4\\xbb\\xa3\\xe8\\xa1\\xa8\\xe5\\x85\\x9a\\xe4\\xb8\\xad\\xe5\\xa4\\xae\\xe5\\x92\\x8c\\xe4\\xb8\\xad',\n",
       "        b'\\xe8\\xae\\xad\\xe8\\xaf\\x8d\\xe4\\xbb\\xa3\\xe8\\xa1\\xa8\\xe5\\x85\\x9a\\xe4\\xb8\\xad\\xe5\\xa4\\xae\\xe5\\x92\\x8c\\xe4\\xb8\\xad\\xe5\\xa4\\xae',\n",
       "        b'\\xe8\\xaf\\x8d\\xe4\\xbb\\xa3\\xe8\\xa1\\xa8\\xe5\\x85\\x9a\\xe4\\xb8\\xad\\xe5\\xa4\\xae\\xe5\\x92\\x8c\\xe4\\xb8\\xad\\xe5\\xa4\\xae\\xe5\\x86\\x9b',\n",
       "        b'\\xe4\\xbb\\xa3\\xe8\\xa1\\xa8\\xe5\\x85\\x9a\\xe4\\xb8\\xad\\xe5\\xa4\\xae\\xe5\\x92\\x8c\\xe4\\xb8\\xad\\xe5\\xa4\\xae\\xe5\\x86\\x9b\\xe5\\xa7\\x94',\n",
       "        b'\\xe8\\xa1\\xa8\\xe5\\x85\\x9a\\xe4\\xb8\\xad\\xe5\\xa4\\xae\\xe5\\x92\\x8c\\xe4\\xb8\\xad\\xe5\\xa4\\xae\\xe5\\x86\\x9b\\xe5\\xa7\\x94\\xe5\\x90\\x91',\n",
       "        b'\\xe5\\x85\\x9a\\xe4\\xb8\\xad\\xe5\\xa4\\xae\\xe5\\x92\\x8c\\xe4\\xb8\\xad\\xe5\\xa4\\xae\\xe5\\x86\\x9b\\xe5\\xa7\\x94\\xe5\\x90\\x91\\xe5\\x90\\x8c',\n",
       "        b'\\xe4\\xb8\\xad\\xe5\\xa4\\xae\\xe5\\x92\\x8c\\xe4\\xb8\\xad\\xe5\\xa4\\xae\\xe5\\x86\\x9b\\xe5\\xa7\\x94\\xe5\\x90\\x91\\xe5\\x90\\x8c\\xe5\\xbf\\x97',\n",
       "        b'\\xe5\\xa4\\xae\\xe5\\x92\\x8c\\xe4\\xb8\\xad\\xe5\\xa4\\xae\\xe5\\x86\\x9b\\xe5\\xa7\\x94\\xe5\\x90\\x91\\xe5\\x90\\x8c\\xe5\\xbf\\x97\\xe4\\xbb\\xac',\n",
       "        b'\\xe5\\x92\\x8c\\xe4\\xb8\\xad\\xe5\\xa4\\xae\\xe5\\x86\\x9b\\xe5\\xa7\\x94\\xe5\\x90\\x91\\xe5\\x90\\x8c\\xe5\\xbf\\x97\\xe4\\xbb\\xac\\xe5\\x90\\x91',\n",
       "        b'\\xe4\\xb8\\xad\\xe5\\xa4\\xae\\xe5\\x86\\x9b\\xe5\\xa7\\x94\\xe5\\x90\\x91\\xe5\\x90\\x8c\\xe5\\xbf\\x97\\xe4\\xbb\\xac\\xe5\\x90\\x91\\xe5\\x85\\xa8',\n",
       "        b'\\xe5\\xa4\\xae\\xe5\\x86\\x9b\\xe5\\xa7\\x94\\xe5\\x90\\x91\\xe5\\x90\\x8c\\xe5\\xbf\\x97\\xe4\\xbb\\xac\\xe5\\x90\\x91\\xe5\\x85\\xa8\\xe5\\x86\\x9b',\n",
       "        b'\\xe5\\x86\\x9b\\xe5\\xa7\\x94\\xe5\\x90\\x91\\xe5\\x90\\x8c\\xe5\\xbf\\x97\\xe4\\xbb\\xac\\xe5\\x90\\x91\\xe5\\x85\\xa8\\xe5\\x86\\x9b\\xe9\\x83\\xa8',\n",
       "        b'\\xe5\\xa7\\x94\\xe5\\x90\\x91\\xe5\\x90\\x8c\\xe5\\xbf\\x97\\xe4\\xbb\\xac\\xe5\\x90\\x91\\xe5\\x85\\xa8\\xe5\\x86\\x9b\\xe9\\x83\\xa8\\xe9\\x98\\x9f',\n",
       "        b'\\xe5\\x90\\x91\\xe5\\x90\\x8c\\xe5\\xbf\\x97\\xe4\\xbb\\xac\\xe5\\x90\\x91\\xe5\\x85\\xa8\\xe5\\x86\\x9b\\xe9\\x83\\xa8\\xe9\\x98\\x9f\\xe8\\x87\\xb4',\n",
       "        b'\\xe5\\x90\\x8c\\xe5\\xbf\\x97\\xe4\\xbb\\xac\\xe5\\x90\\x91\\xe5\\x85\\xa8\\xe5\\x86\\x9b\\xe9\\x83\\xa8\\xe9\\x98\\x9f\\xe8\\x87\\xb4\\xe4\\xbb\\xa5',\n",
       "        b'\\xe5\\xbf\\x97\\xe4\\xbb\\xac\\xe5\\x90\\x91\\xe5\\x85\\xa8\\xe5\\x86\\x9b\\xe9\\x83\\xa8\\xe9\\x98\\x9f\\xe8\\x87\\xb4\\xe4\\xbb\\xa5\\xe7\\x83\\xad',\n",
       "        b'\\xe4\\xbb\\xac\\xe5\\x90\\x91\\xe5\\x85\\xa8\\xe5\\x86\\x9b\\xe9\\x83\\xa8\\xe9\\x98\\x9f\\xe8\\x87\\xb4\\xe4\\xbb\\xa5\\xe7\\x83\\xad\\xe7\\x83\\x88',\n",
       "        b'\\xe5\\x90\\x91\\xe5\\x85\\xa8\\xe5\\x86\\x9b\\xe9\\x83\\xa8\\xe9\\x98\\x9f\\xe8\\x87\\xb4\\xe4\\xbb\\xa5\\xe7\\x83\\xad\\xe7\\x83\\x88\\xe7\\xa5\\x9d',\n",
       "        b'\\xe5\\x85\\xa8\\xe5\\x86\\x9b\\xe9\\x83\\xa8\\xe9\\x98\\x9f\\xe8\\x87\\xb4\\xe4\\xbb\\xa5\\xe7\\x83\\xad\\xe7\\x83\\x88\\xe7\\xa5\\x9d\\xe8\\xb4\\xba',\n",
       "        b'\\xe5\\x86\\x9b\\xe9\\x83\\xa8\\xe9\\x98\\x9f\\xe8\\x87\\xb4\\xe4\\xbb\\xa5\\xe7\\x83\\xad\\xe7\\x83\\x88\\xe7\\xa5\\x9d\\xe8\\xb4\\xba\\xe5\\xbc\\xba',\n",
       "        b'\\xe9\\x83\\xa8\\xe9\\x98\\x9f\\xe8\\x87\\xb4\\xe4\\xbb\\xa5\\xe7\\x83\\xad\\xe7\\x83\\x88\\xe7\\xa5\\x9d\\xe8\\xb4\\xba\\xe5\\xbc\\xba\\xe8\\xb0\\x83',\n",
       "        b'\\xe9\\x98\\x9f\\xe8\\x87\\xb4\\xe4\\xbb\\xa5\\xe7\\x83\\xad\\xe7\\x83\\x88\\xe7\\xa5\\x9d\\xe8\\xb4\\xba\\xe5\\xbc\\xba\\xe8\\xb0\\x83\\xe8\\xa6\\x81',\n",
       "        b'\\xe8\\x87\\xb4\\xe4\\xbb\\xa5\\xe7\\x83\\xad\\xe7\\x83\\x88\\xe7\\xa5\\x9d\\xe8\\xb4\\xba\\xe5\\xbc\\xba\\xe8\\xb0\\x83\\xe8\\xa6\\x81\\xe5\\x9d\\x9a',\n",
       "        b'\\xe4\\xbb\\xa5\\xe7\\x83\\xad\\xe7\\x83\\x88\\xe7\\xa5\\x9d\\xe8\\xb4\\xba\\xe5\\xbc\\xba\\xe8\\xb0\\x83\\xe8\\xa6\\x81\\xe5\\x9d\\x9a\\xe6\\x8c\\x81',\n",
       "        b'\\xe7\\x83\\xad\\xe7\\x83\\x88\\xe7\\xa5\\x9d\\xe8\\xb4\\xba\\xe5\\xbc\\xba\\xe8\\xb0\\x83\\xe8\\xa6\\x81\\xe5\\x9d\\x9a\\xe6\\x8c\\x81\\xe4\\xbb\\xa5',\n",
       "        b'\\xe7\\x83\\x88\\xe7\\xa5\\x9d\\xe8\\xb4\\xba\\xe5\\xbc\\xba\\xe8\\xb0\\x83\\xe8\\xa6\\x81\\xe5\\x9d\\x9a\\xe6\\x8c\\x81\\xe4\\xbb\\xa5\\xe5\\x85\\x9a',\n",
       "        b'\\xe7\\xa5\\x9d\\xe8\\xb4\\xba\\xe5\\xbc\\xba\\xe8\\xb0\\x83\\xe8\\xa6\\x81\\xe5\\x9d\\x9a\\xe6\\x8c\\x81\\xe4\\xbb\\xa5\\xe5\\x85\\x9a\\xe5\\x9c\\xa8',\n",
       "        b'\\xe8\\xb4\\xba\\xe5\\xbc\\xba\\xe8\\xb0\\x83\\xe8\\xa6\\x81\\xe5\\x9d\\x9a\\xe6\\x8c\\x81\\xe4\\xbb\\xa5\\xe5\\x85\\x9a\\xe5\\x9c\\xa8\\xe6\\x96\\xb0',\n",
       "        b'\\xe5\\xbc\\xba\\xe8\\xb0\\x83\\xe8\\xa6\\x81\\xe5\\x9d\\x9a\\xe6\\x8c\\x81\\xe4\\xbb\\xa5\\xe5\\x85\\x9a\\xe5\\x9c\\xa8\\xe6\\x96\\xb0\\xe5\\xbd\\xa2',\n",
       "        b'\\xe8\\xb0\\x83\\xe8\\xa6\\x81\\xe5\\x9d\\x9a\\xe6\\x8c\\x81\\xe4\\xbb\\xa5\\xe5\\x85\\x9a\\xe5\\x9c\\xa8\\xe6\\x96\\xb0\\xe5\\xbd\\xa2\\xe5\\x8a\\xbf',\n",
       "        b'\\xe8\\xa6\\x81\\xe5\\x9d\\x9a\\xe6\\x8c\\x81\\xe4\\xbb\\xa5\\xe5\\x85\\x9a\\xe5\\x9c\\xa8\\xe6\\x96\\xb0\\xe5\\xbd\\xa2\\xe5\\x8a\\xbf\\xe4\\xb8\\x8b',\n",
       "        b'\\xe5\\x9d\\x9a\\xe6\\x8c\\x81\\xe4\\xbb\\xa5\\xe5\\x85\\x9a\\xe5\\x9c\\xa8\\xe6\\x96\\xb0\\xe5\\xbd\\xa2\\xe5\\x8a\\xbf\\xe4\\xb8\\x8b\\xe7\\x9a\\x84',\n",
       "        b'\\xe6\\x8c\\x81\\xe4\\xbb\\xa5\\xe5\\x85\\x9a\\xe5\\x9c\\xa8\\xe6\\x96\\xb0\\xe5\\xbd\\xa2\\xe5\\x8a\\xbf\\xe4\\xb8\\x8b\\xe7\\x9a\\x84\\xe5\\xbc\\xba',\n",
       "        b'\\xe4\\xbb\\xa5\\xe5\\x85\\x9a\\xe5\\x9c\\xa8\\xe6\\x96\\xb0\\xe5\\xbd\\xa2\\xe5\\x8a\\xbf\\xe4\\xb8\\x8b\\xe7\\x9a\\x84\\xe5\\xbc\\xba\\xe5\\x86\\x9b',\n",
       "        b'\\xe5\\x85\\x9a\\xe5\\x9c\\xa8\\xe6\\x96\\xb0\\xe5\\xbd\\xa2\\xe5\\x8a\\xbf\\xe4\\xb8\\x8b\\xe7\\x9a\\x84\\xe5\\xbc\\xba\\xe5\\x86\\x9b\\xe7\\x9b\\xae',\n",
       "        b'\\xe5\\x9c\\xa8\\xe6\\x96\\xb0\\xe5\\xbd\\xa2\\xe5\\x8a\\xbf\\xe4\\xb8\\x8b\\xe7\\x9a\\x84\\xe5\\xbc\\xba\\xe5\\x86\\x9b\\xe7\\x9b\\xae\\xe6\\xa0\\x87',\n",
       "        b'\\xe6\\x96\\xb0\\xe5\\xbd\\xa2\\xe5\\x8a\\xbf\\xe4\\xb8\\x8b\\xe7\\x9a\\x84\\xe5\\xbc\\xba\\xe5\\x86\\x9b\\xe7\\x9b\\xae\\xe6\\xa0\\x87\\xe4\\xb8\\xba',\n",
       "        b'\\xe5\\xbd\\xa2\\xe5\\x8a\\xbf\\xe4\\xb8\\x8b\\xe7\\x9a\\x84\\xe5\\xbc\\xba\\xe5\\x86\\x9b\\xe7\\x9b\\xae\\xe6\\xa0\\x87\\xe4\\xb8\\xba\\xe5\\xbc\\x95',\n",
       "        b'\\xe5\\x8a\\xbf\\xe4\\xb8\\x8b\\xe7\\x9a\\x84\\xe5\\xbc\\xba\\xe5\\x86\\x9b\\xe7\\x9b\\xae\\xe6\\xa0\\x87\\xe4\\xb8\\xba\\xe5\\xbc\\x95\\xe9\\xa2\\x86',\n",
       "        b'\\xe4\\xb8\\x8b\\xe7\\x9a\\x84\\xe5\\xbc\\xba\\xe5\\x86\\x9b\\xe7\\x9b\\xae\\xe6\\xa0\\x87\\xe4\\xb8\\xba\\xe5\\xbc\\x95\\xe9\\xa2\\x86\\xe6\\xb7\\xb1',\n",
       "        b'\\xe7\\x9a\\x84\\xe5\\xbc\\xba\\xe5\\x86\\x9b\\xe7\\x9b\\xae\\xe6\\xa0\\x87\\xe4\\xb8\\xba\\xe5\\xbc\\x95\\xe9\\xa2\\x86\\xe6\\xb7\\xb1\\xe5\\x85\\xa5',\n",
       "        b'\\xe5\\xbc\\xba\\xe5\\x86\\x9b\\xe7\\x9b\\xae\\xe6\\xa0\\x87\\xe4\\xb8\\xba\\xe5\\xbc\\x95\\xe9\\xa2\\x86\\xe6\\xb7\\xb1\\xe5\\x85\\xa5\\xe8\\xb4\\xaf',\n",
       "        b'\\xe5\\x86\\x9b\\xe7\\x9b\\xae\\xe6\\xa0\\x87\\xe4\\xb8\\xba\\xe5\\xbc\\x95\\xe9\\xa2\\x86\\xe6\\xb7\\xb1\\xe5\\x85\\xa5\\xe8\\xb4\\xaf\\xe5\\xbd\\xbb',\n",
       "        b'\\xe7\\x9b\\xae\\xe6\\xa0\\x87\\xe4\\xb8\\xba\\xe5\\xbc\\x95\\xe9\\xa2\\x86\\xe6\\xb7\\xb1\\xe5\\x85\\xa5\\xe8\\xb4\\xaf\\xe5\\xbd\\xbb\\xe6\\x96\\xb0',\n",
       "        b'\\xe6\\xa0\\x87\\xe4\\xb8\\xba\\xe5\\xbc\\x95\\xe9\\xa2\\x86\\xe6\\xb7\\xb1\\xe5\\x85\\xa5\\xe8\\xb4\\xaf\\xe5\\xbd\\xbb\\xe6\\x96\\xb0\\xe5\\xbd\\xa2',\n",
       "        b'\\xe4\\xb8\\xba\\xe5\\xbc\\x95\\xe9\\xa2\\x86\\xe6\\xb7\\xb1\\xe5\\x85\\xa5\\xe8\\xb4\\xaf\\xe5\\xbd\\xbb\\xe6\\x96\\xb0\\xe5\\xbd\\xa2\\xe5\\x8a\\xbf',\n",
       "        b'\\xe5\\xbc\\x95\\xe9\\xa2\\x86\\xe6\\xb7\\xb1\\xe5\\x85\\xa5\\xe8\\xb4\\xaf\\xe5\\xbd\\xbb\\xe6\\x96\\xb0\\xe5\\xbd\\xa2\\xe5\\x8a\\xbf\\xe4\\xb8\\x8b',\n",
       "        b'\\xe9\\xa2\\x86\\xe6\\xb7\\xb1\\xe5\\x85\\xa5\\xe8\\xb4\\xaf\\xe5\\xbd\\xbb\\xe6\\x96\\xb0\\xe5\\xbd\\xa2\\xe5\\x8a\\xbf\\xe4\\xb8\\x8b\\xe5\\x86\\x9b',\n",
       "        b'\\xe6\\xb7\\xb1\\xe5\\x85\\xa5\\xe8\\xb4\\xaf\\xe5\\xbd\\xbb\\xe6\\x96\\xb0\\xe5\\xbd\\xa2\\xe5\\x8a\\xbf\\xe4\\xb8\\x8b\\xe5\\x86\\x9b\\xe4\\xba\\x8b',\n",
       "        b'\\xe5\\x85\\xa5\\xe8\\xb4\\xaf\\xe5\\xbd\\xbb\\xe6\\x96\\xb0\\xe5\\xbd\\xa2\\xe5\\x8a\\xbf\\xe4\\xb8\\x8b\\xe5\\x86\\x9b\\xe4\\xba\\x8b\\xe6\\x88\\x98',\n",
       "        b'\\xe8\\xb4\\xaf\\xe5\\xbd\\xbb\\xe6\\x96\\xb0\\xe5\\xbd\\xa2\\xe5\\x8a\\xbf\\xe4\\xb8\\x8b\\xe5\\x86\\x9b\\xe4\\xba\\x8b\\xe6\\x88\\x98\\xe7\\x95\\xa5',\n",
       "        b'\\xe5\\xbd\\xbb\\xe6\\x96\\xb0\\xe5\\xbd\\xa2\\xe5\\x8a\\xbf\\xe4\\xb8\\x8b\\xe5\\x86\\x9b\\xe4\\xba\\x8b\\xe6\\x88\\x98\\xe7\\x95\\xa5\\xe6\\x96\\xb9',\n",
       "        b'\\xe6\\x96\\xb0\\xe5\\xbd\\xa2\\xe5\\x8a\\xbf\\xe4\\xb8\\x8b\\xe5\\x86\\x9b\\xe4\\xba\\x8b\\xe6\\x88\\x98\\xe7\\x95\\xa5\\xe6\\x96\\xb9\\xe9\\x92\\x88',\n",
       "        b'\\xe5\\xbd\\xa2\\xe5\\x8a\\xbf\\xe4\\xb8\\x8b\\xe5\\x86\\x9b\\xe4\\xba\\x8b\\xe6\\x88\\x98\\xe7\\x95\\xa5\\xe6\\x96\\xb9\\xe9\\x92\\x88\\xe5\\x85\\xa8',\n",
       "        b'\\xe5\\x8a\\xbf\\xe4\\xb8\\x8b\\xe5\\x86\\x9b\\xe4\\xba\\x8b\\xe6\\x88\\x98\\xe7\\x95\\xa5\\xe6\\x96\\xb9\\xe9\\x92\\x88\\xe5\\x85\\xa8\\xe9\\x9d\\xa2',\n",
       "        b'\\xe4\\xb8\\x8b\\xe5\\x86\\x9b\\xe4\\xba\\x8b\\xe6\\x88\\x98\\xe7\\x95\\xa5\\xe6\\x96\\xb9\\xe9\\x92\\x88\\xe5\\x85\\xa8\\xe9\\x9d\\xa2\\xe5\\xae\\x9e',\n",
       "        b'\\xe5\\x86\\x9b\\xe4\\xba\\x8b\\xe6\\x88\\x98\\xe7\\x95\\xa5\\xe6\\x96\\xb9\\xe9\\x92\\x88\\xe5\\x85\\xa8\\xe9\\x9d\\xa2\\xe5\\xae\\x9e\\xe6\\x96\\xbd',\n",
       "        b'\\xe4\\xba\\x8b\\xe6\\x88\\x98\\xe7\\x95\\xa5\\xe6\\x96\\xb9\\xe9\\x92\\x88\\xe5\\x85\\xa8\\xe9\\x9d\\xa2\\xe5\\xae\\x9e\\xe6\\x96\\xbd\\xe6\\x94\\xb9',\n",
       "        b'\\xe6\\x88\\x98\\xe7\\x95\\xa5\\xe6\\x96\\xb9\\xe9\\x92\\x88\\xe5\\x85\\xa8\\xe9\\x9d\\xa2\\xe5\\xae\\x9e\\xe6\\x96\\xbd\\xe6\\x94\\xb9\\xe9\\x9d\\xa9',\n",
       "        b'\\xe7\\x95\\xa5\\xe6\\x96\\xb9\\xe9\\x92\\x88\\xe5\\x85\\xa8\\xe9\\x9d\\xa2\\xe5\\xae\\x9e\\xe6\\x96\\xbd\\xe6\\x94\\xb9\\xe9\\x9d\\xa9\\xe5\\xbc\\xba',\n",
       "        b'\\xe6\\x96\\xb9\\xe9\\x92\\x88\\xe5\\x85\\xa8\\xe9\\x9d\\xa2\\xe5\\xae\\x9e\\xe6\\x96\\xbd\\xe6\\x94\\xb9\\xe9\\x9d\\xa9\\xe5\\xbc\\xba\\xe5\\x86\\x9b',\n",
       "        b'\\xe9\\x92\\x88\\xe5\\x85\\xa8\\xe9\\x9d\\xa2\\xe5\\xae\\x9e\\xe6\\x96\\xbd\\xe6\\x94\\xb9\\xe9\\x9d\\xa9\\xe5\\xbc\\xba\\xe5\\x86\\x9b\\xe6\\x88\\x98',\n",
       "        b'\\xe5\\x85\\xa8\\xe9\\x9d\\xa2\\xe5\\xae\\x9e\\xe6\\x96\\xbd\\xe6\\x94\\xb9\\xe9\\x9d\\xa9\\xe5\\xbc\\xba\\xe5\\x86\\x9b\\xe6\\x88\\x98\\xe7\\x95\\xa5',\n",
       "        b'\\xe9\\x9d\\xa2\\xe5\\xae\\x9e\\xe6\\x96\\xbd\\xe6\\x94\\xb9\\xe9\\x9d\\xa9\\xe5\\xbc\\xba\\xe5\\x86\\x9b\\xe6\\x88\\x98\\xe7\\x95\\xa5\\xe5\\x9d\\x9a',\n",
       "        b'\\xe5\\xae\\x9e\\xe6\\x96\\xbd\\xe6\\x94\\xb9\\xe9\\x9d\\xa9\\xe5\\xbc\\xba\\xe5\\x86\\x9b\\xe6\\x88\\x98\\xe7\\x95\\xa5\\xe5\\x9d\\x9a\\xe5\\xae\\x9a',\n",
       "        b'\\xe6\\x96\\xbd\\xe6\\x94\\xb9\\xe9\\x9d\\xa9\\xe5\\xbc\\xba\\xe5\\x86\\x9b\\xe6\\x88\\x98\\xe7\\x95\\xa5\\xe5\\x9d\\x9a\\xe5\\xae\\x9a\\xe4\\xb8\\x8d',\n",
       "        b'\\xe6\\x94\\xb9\\xe9\\x9d\\xa9\\xe5\\xbc\\xba\\xe5\\x86\\x9b\\xe6\\x88\\x98\\xe7\\x95\\xa5\\xe5\\x9d\\x9a\\xe5\\xae\\x9a\\xe4\\xb8\\x8d\\xe7\\xa7\\xbb',\n",
       "        b'\\xe9\\x9d\\xa9\\xe5\\xbc\\xba\\xe5\\x86\\x9b\\xe6\\x88\\x98\\xe7\\x95\\xa5\\xe5\\x9d\\x9a\\xe5\\xae\\x9a\\xe4\\xb8\\x8d\\xe7\\xa7\\xbb\\xe8\\xb5\\xb0',\n",
       "        b'\\xe5\\xbc\\xba\\xe5\\x86\\x9b\\xe6\\x88\\x98\\xe7\\x95\\xa5\\xe5\\x9d\\x9a\\xe5\\xae\\x9a\\xe4\\xb8\\x8d\\xe7\\xa7\\xbb\\xe8\\xb5\\xb0\\xe4\\xb8\\xad',\n",
       "        b'\\xe5\\x86\\x9b\\xe6\\x88\\x98\\xe7\\x95\\xa5\\xe5\\x9d\\x9a\\xe5\\xae\\x9a\\xe4\\xb8\\x8d\\xe7\\xa7\\xbb\\xe8\\xb5\\xb0\\xe4\\xb8\\xad\\xe5\\x9b\\xbd',\n",
       "        b'\\xe6\\x88\\x98\\xe7\\x95\\xa5\\xe5\\x9d\\x9a\\xe5\\xae\\x9a\\xe4\\xb8\\x8d\\xe7\\xa7\\xbb\\xe8\\xb5\\xb0\\xe4\\xb8\\xad\\xe5\\x9b\\xbd\\xe7\\x89\\xb9',\n",
       "        b'\\xe7\\x95\\xa5\\xe5\\x9d\\x9a\\xe5\\xae\\x9a\\xe4\\xb8\\x8d\\xe7\\xa7\\xbb\\xe8\\xb5\\xb0\\xe4\\xb8\\xad\\xe5\\x9b\\xbd\\xe7\\x89\\xb9\\xe8\\x89\\xb2',\n",
       "        b'\\xe5\\x9d\\x9a\\xe5\\xae\\x9a\\xe4\\xb8\\x8d\\xe7\\xa7\\xbb\\xe8\\xb5\\xb0\\xe4\\xb8\\xad\\xe5\\x9b\\xbd\\xe7\\x89\\xb9\\xe8\\x89\\xb2\\xe5\\xbc\\xba',\n",
       "        b'\\xe5\\xae\\x9a\\xe4\\xb8\\x8d\\xe7\\xa7\\xbb\\xe8\\xb5\\xb0\\xe4\\xb8\\xad\\xe5\\x9b\\xbd\\xe7\\x89\\xb9\\xe8\\x89\\xb2\\xe5\\xbc\\xba\\xe5\\x86\\x9b',\n",
       "        b'\\xe4\\xb8\\x8d\\xe7\\xa7\\xbb\\xe8\\xb5\\xb0\\xe4\\xb8\\xad\\xe5\\x9b\\xbd\\xe7\\x89\\xb9\\xe8\\x89\\xb2\\xe5\\xbc\\xba\\xe5\\x86\\x9b\\xe4\\xb9\\x8b',\n",
       "        b'\\xe7\\xa7\\xbb\\xe8\\xb5\\xb0\\xe4\\xb8\\xad\\xe5\\x9b\\xbd\\xe7\\x89\\xb9\\xe8\\x89\\xb2\\xe5\\xbc\\xba\\xe5\\x86\\x9b\\xe4\\xb9\\x8b\\xe8\\xb7\\xaf',\n",
       "        b'\\xe8\\xb5\\xb0\\xe4\\xb8\\xad\\xe5\\x9b\\xbd\\xe7\\x89\\xb9\\xe8\\x89\\xb2\\xe5\\xbc\\xba\\xe5\\x86\\x9b\\xe4\\xb9\\x8b\\xe8\\xb7\\xaf\\xe6\\x97\\xb6',\n",
       "        b'\\xe4\\xb8\\xad\\xe5\\x9b\\xbd\\xe7\\x89\\xb9\\xe8\\x89\\xb2\\xe5\\xbc\\xba\\xe5\\x86\\x9b\\xe4\\xb9\\x8b\\xe8\\xb7\\xaf\\xe6\\x97\\xb6\\xe5\\x88\\xbb',\n",
       "        b'\\xe5\\x9b\\xbd\\xe7\\x89\\xb9\\xe8\\x89\\xb2\\xe5\\xbc\\xba\\xe5\\x86\\x9b\\xe4\\xb9\\x8b\\xe8\\xb7\\xaf\\xe6\\x97\\xb6\\xe5\\x88\\xbb\\xe5\\x90\\xac',\n",
       "        b'\\xe7\\x89\\xb9\\xe8\\x89\\xb2\\xe5\\xbc\\xba\\xe5\\x86\\x9b\\xe4\\xb9\\x8b\\xe8\\xb7\\xaf\\xe6\\x97\\xb6\\xe5\\x88\\xbb\\xe5\\x90\\xac\\xe4\\xbb\\x8e',\n",
       "        b'\\xe8\\x89\\xb2\\xe5\\xbc\\xba\\xe5\\x86\\x9b\\xe4\\xb9\\x8b\\xe8\\xb7\\xaf\\xe6\\x97\\xb6\\xe5\\x88\\xbb\\xe5\\x90\\xac\\xe4\\xbb\\x8e\\xe5\\x85\\x9a',\n",
       "        b'\\xe5\\xbc\\xba\\xe5\\x86\\x9b\\xe4\\xb9\\x8b\\xe8\\xb7\\xaf\\xe6\\x97\\xb6\\xe5\\x88\\xbb\\xe5\\x90\\xac\\xe4\\xbb\\x8e\\xe5\\x85\\x9a\\xe5\\x92\\x8c',\n",
       "        b'\\xe5\\x86\\x9b\\xe4\\xb9\\x8b\\xe8\\xb7\\xaf\\xe6\\x97\\xb6\\xe5\\x88\\xbb\\xe5\\x90\\xac\\xe4\\xbb\\x8e\\xe5\\x85\\x9a\\xe5\\x92\\x8c\\xe4\\xba\\xba',\n",
       "        b'\\xe4\\xb9\\x8b\\xe8\\xb7\\xaf\\xe6\\x97\\xb6\\xe5\\x88\\xbb\\xe5\\x90\\xac\\xe4\\xbb\\x8e\\xe5\\x85\\x9a\\xe5\\x92\\x8c\\xe4\\xba\\xba\\xe6\\xb0\\x91',\n",
       "        b'\\xe8\\xb7\\xaf\\xe6\\x97\\xb6\\xe5\\x88\\xbb\\xe5\\x90\\xac\\xe4\\xbb\\x8e\\xe5\\x85\\x9a\\xe5\\x92\\x8c\\xe4\\xba\\xba\\xe6\\xb0\\x91\\xe5\\x8f\\xac',\n",
       "        b'\\xe6\\x97\\xb6\\xe5\\x88\\xbb\\xe5\\x90\\xac\\xe4\\xbb\\x8e\\xe5\\x85\\x9a\\xe5\\x92\\x8c\\xe4\\xba\\xba\\xe6\\xb0\\x91\\xe5\\x8f\\xac\\xe5\\x94\\xa4',\n",
       "        b'\\xe5\\x88\\xbb\\xe5\\x90\\xac\\xe4\\xbb\\x8e\\xe5\\x85\\x9a\\xe5\\x92\\x8c\\xe4\\xba\\xba\\xe6\\xb0\\x91\\xe5\\x8f\\xac\\xe5\\x94\\xa4\\xe5\\xbf\\xa0',\n",
       "        b'\\xe5\\x90\\xac\\xe4\\xbb\\x8e\\xe5\\x85\\x9a\\xe5\\x92\\x8c\\xe4\\xba\\xba\\xe6\\xb0\\x91\\xe5\\x8f\\xac\\xe5\\x94\\xa4\\xe5\\xbf\\xa0\\xe5\\xae\\x9e',\n",
       "        b'\\xe4\\xbb\\x8e\\xe5\\x85\\x9a\\xe5\\x92\\x8c\\xe4\\xba\\xba\\xe6\\xb0\\x91\\xe5\\x8f\\xac\\xe5\\x94\\xa4\\xe5\\xbf\\xa0\\xe5\\xae\\x9e\\xe5\\xb1\\xa5',\n",
       "        b'\\xe5\\x85\\x9a\\xe5\\x92\\x8c\\xe4\\xba\\xba\\xe6\\xb0\\x91\\xe5\\x8f\\xac\\xe5\\x94\\xa4\\xe5\\xbf\\xa0\\xe5\\xae\\x9e\\xe5\\xb1\\xa5\\xe8\\xa1\\x8c',\n",
       "        b'\\xe5\\x92\\x8c\\xe4\\xba\\xba\\xe6\\xb0\\x91\\xe5\\x8f\\xac\\xe5\\x94\\xa4\\xe5\\xbf\\xa0\\xe5\\xae\\x9e\\xe5\\xb1\\xa5\\xe8\\xa1\\x8c\\xe5\\x85\\x9a',\n",
       "        b'\\xe4\\xba\\xba\\xe6\\xb0\\x91\\xe5\\x8f\\xac\\xe5\\x94\\xa4\\xe5\\xbf\\xa0\\xe5\\xae\\x9e\\xe5\\xb1\\xa5\\xe8\\xa1\\x8c\\xe5\\x85\\x9a\\xe5\\x92\\x8c',\n",
       "        b'\\xe6\\xb0\\x91\\xe5\\x8f\\xac\\xe5\\x94\\xa4\\xe5\\xbf\\xa0\\xe5\\xae\\x9e\\xe5\\xb1\\xa5\\xe8\\xa1\\x8c\\xe5\\x85\\x9a\\xe5\\x92\\x8c\\xe4\\xba\\xba',\n",
       "        b'\\xe5\\x8f\\xac\\xe5\\x94\\xa4\\xe5\\xbf\\xa0\\xe5\\xae\\x9e\\xe5\\xb1\\xa5\\xe8\\xa1\\x8c\\xe5\\x85\\x9a\\xe5\\x92\\x8c\\xe4\\xba\\xba\\xe6\\xb0\\x91',\n",
       "        b'\\xe5\\x94\\xa4\\xe5\\xbf\\xa0\\xe5\\xae\\x9e\\xe5\\xb1\\xa5\\xe8\\xa1\\x8c\\xe5\\x85\\x9a\\xe5\\x92\\x8c\\xe4\\xba\\xba\\xe6\\xb0\\x91\\xe8\\xb5\\x8b',\n",
       "        b'\\xe5\\xbf\\xa0\\xe5\\xae\\x9e\\xe5\\xb1\\xa5\\xe8\\xa1\\x8c\\xe5\\x85\\x9a\\xe5\\x92\\x8c\\xe4\\xba\\xba\\xe6\\xb0\\x91\\xe8\\xb5\\x8b\\xe4\\xba\\x88',\n",
       "        b'\\xe5\\xae\\x9e\\xe5\\xb1\\xa5\\xe8\\xa1\\x8c\\xe5\\x85\\x9a\\xe5\\x92\\x8c\\xe4\\xba\\xba\\xe6\\xb0\\x91\\xe8\\xb5\\x8b\\xe4\\xba\\x88\\xe7\\x9a\\x84',\n",
       "        b'\\xe5\\xb1\\xa5\\xe8\\xa1\\x8c\\xe5\\x85\\x9a\\xe5\\x92\\x8c\\xe4\\xba\\xba\\xe6\\xb0\\x91\\xe8\\xb5\\x8b\\xe4\\xba\\x88\\xe7\\x9a\\x84\\xe7\\xa5\\x9e',\n",
       "        b'\\xe8\\xa1\\x8c\\xe5\\x85\\x9a\\xe5\\x92\\x8c\\xe4\\xba\\xba\\xe6\\xb0\\x91\\xe8\\xb5\\x8b\\xe4\\xba\\x88\\xe7\\x9a\\x84\\xe7\\xa5\\x9e\\xe5\\x9c\\xa3',\n",
       "        b'\\xe5\\x85\\x9a\\xe5\\x92\\x8c\\xe4\\xba\\xba\\xe6\\xb0\\x91\\xe8\\xb5\\x8b\\xe4\\xba\\x88\\xe7\\x9a\\x84\\xe7\\xa5\\x9e\\xe5\\x9c\\xa3\\xe4\\xbd\\xbf',\n",
       "        b'\\xe5\\x92\\x8c\\xe4\\xba\\xba\\xe6\\xb0\\x91\\xe8\\xb5\\x8b\\xe4\\xba\\x88\\xe7\\x9a\\x84\\xe7\\xa5\\x9e\\xe5\\x9c\\xa3\\xe4\\xbd\\xbf\\xe5\\x91\\xbd',\n",
       "        b'\\xe4\\xba\\xba\\xe6\\xb0\\x91\\xe8\\xb5\\x8b\\xe4\\xba\\x88\\xe7\\x9a\\x84\\xe7\\xa5\\x9e\\xe5\\x9c\\xa3\\xe4\\xbd\\xbf\\xe5\\x91\\xbd\\xe4\\xb8\\xba',\n",
       "        b'\\xe6\\xb0\\x91\\xe8\\xb5\\x8b\\xe4\\xba\\x88\\xe7\\x9a\\x84\\xe7\\xa5\\x9e\\xe5\\x9c\\xa3\\xe4\\xbd\\xbf\\xe5\\x91\\xbd\\xe4\\xb8\\xba\\xe5\\xae\\x9e',\n",
       "        b'\\xe8\\xb5\\x8b\\xe4\\xba\\x88\\xe7\\x9a\\x84\\xe7\\xa5\\x9e\\xe5\\x9c\\xa3\\xe4\\xbd\\xbf\\xe5\\x91\\xbd\\xe4\\xb8\\xba\\xe5\\xae\\x9e\\xe7\\x8e\\xb0',\n",
       "        b'\\xe4\\xba\\x88\\xe7\\x9a\\x84\\xe7\\xa5\\x9e\\xe5\\x9c\\xa3\\xe4\\xbd\\xbf\\xe5\\x91\\xbd\\xe4\\xb8\\xba\\xe5\\xae\\x9e\\xe7\\x8e\\xb0\\xe4\\xb8\\xad',\n",
       "        b'\\xe7\\x9a\\x84\\xe7\\xa5\\x9e\\xe5\\x9c\\xa3\\xe4\\xbd\\xbf\\xe5\\x91\\xbd\\xe4\\xb8\\xba\\xe5\\xae\\x9e\\xe7\\x8e\\xb0\\xe4\\xb8\\xad\\xe5\\x9b\\xbd',\n",
       "        b'\\xe7\\xa5\\x9e\\xe5\\x9c\\xa3\\xe4\\xbd\\xbf\\xe5\\x91\\xbd\\xe4\\xb8\\xba\\xe5\\xae\\x9e\\xe7\\x8e\\xb0\\xe4\\xb8\\xad\\xe5\\x9b\\xbd\\xe6\\xa2\\xa6',\n",
       "        b'\\xe5\\x9c\\xa3\\xe4\\xbd\\xbf\\xe5\\x91\\xbd\\xe4\\xb8\\xba\\xe5\\xae\\x9e\\xe7\\x8e\\xb0\\xe4\\xb8\\xad\\xe5\\x9b\\xbd\\xe6\\xa2\\xa6\\xe5\\xbc\\xba',\n",
       "        b'\\xe4\\xbd\\xbf\\xe5\\x91\\xbd\\xe4\\xb8\\xba\\xe5\\xae\\x9e\\xe7\\x8e\\xb0\\xe4\\xb8\\xad\\xe5\\x9b\\xbd\\xe6\\xa2\\xa6\\xe5\\xbc\\xba\\xe5\\x86\\x9b',\n",
       "        b'\\xe5\\x91\\xbd\\xe4\\xb8\\xba\\xe5\\xae\\x9e\\xe7\\x8e\\xb0\\xe4\\xb8\\xad\\xe5\\x9b\\xbd\\xe6\\xa2\\xa6\\xe5\\xbc\\xba\\xe5\\x86\\x9b\\xe6\\xa2\\xa6',\n",
       "        b'\\xe4\\xb8\\xba\\xe5\\xae\\x9e\\xe7\\x8e\\xb0\\xe4\\xb8\\xad\\xe5\\x9b\\xbd\\xe6\\xa2\\xa6\\xe5\\xbc\\xba\\xe5\\x86\\x9b\\xe6\\xa2\\xa6\\xe4\\xbd\\x9c',\n",
       "        b'\\xe5\\xae\\x9e\\xe7\\x8e\\xb0\\xe4\\xb8\\xad\\xe5\\x9b\\xbd\\xe6\\xa2\\xa6\\xe5\\xbc\\xba\\xe5\\x86\\x9b\\xe6\\xa2\\xa6\\xe4\\xbd\\x9c\\xe5\\x87\\xba',\n",
       "        b'\\xe7\\x8e\\xb0\\xe4\\xb8\\xad\\xe5\\x9b\\xbd\\xe6\\xa2\\xa6\\xe5\\xbc\\xba\\xe5\\x86\\x9b\\xe6\\xa2\\xa6\\xe4\\xbd\\x9c\\xe5\\x87\\xba\\xe6\\x96\\xb0',\n",
       "        b'\\xe4\\xb8\\xad\\xe5\\x9b\\xbd\\xe6\\xa2\\xa6\\xe5\\xbc\\xba\\xe5\\x86\\x9b\\xe6\\xa2\\xa6\\xe4\\xbd\\x9c\\xe5\\x87\\xba\\xe6\\x96\\xb0\\xe7\\x9a\\x84',\n",
       "        b'\\xe5\\x9b\\xbd\\xe6\\xa2\\xa6\\xe5\\xbc\\xba\\xe5\\x86\\x9b\\xe6\\xa2\\xa6\\xe4\\xbd\\x9c\\xe5\\x87\\xba\\xe6\\x96\\xb0\\xe7\\x9a\\x84\\xe6\\x9b\\xb4',\n",
       "        b'\\xe6\\xa2\\xa6\\xe5\\xbc\\xba\\xe5\\x86\\x9b\\xe6\\xa2\\xa6\\xe4\\xbd\\x9c\\xe5\\x87\\xba\\xe6\\x96\\xb0\\xe7\\x9a\\x84\\xe6\\x9b\\xb4\\xe5\\xa4\\xa7',\n",
       "        b'\\xe5\\xbc\\xba\\xe5\\x86\\x9b\\xe6\\xa2\\xa6\\xe4\\xbd\\x9c\\xe5\\x87\\xba\\xe6\\x96\\xb0\\xe7\\x9a\\x84\\xe6\\x9b\\xb4\\xe5\\xa4\\xa7\\xe7\\x9a\\x84',\n",
       "        b'\\xe5\\x86\\x9b\\xe6\\xa2\\xa6\\xe4\\xbd\\x9c\\xe5\\x87\\xba\\xe6\\x96\\xb0\\xe7\\x9a\\x84\\xe6\\x9b\\xb4\\xe5\\xa4\\xa7\\xe7\\x9a\\x84\\xe8\\xb4\\xa1',\n",
       "        b'\\xe6\\xa2\\xa6\\xe4\\xbd\\x9c\\xe5\\x87\\xba\\xe6\\x96\\xb0\\xe7\\x9a\\x84\\xe6\\x9b\\xb4\\xe5\\xa4\\xa7\\xe7\\x9a\\x84\\xe8\\xb4\\xa1\\xe7\\x8c\\xae',\n",
       "        b'\\xe4\\xbd\\x9c\\xe5\\x87\\xba\\xe6\\x96\\xb0\\xe7\\x9a\\x84\\xe6\\x9b\\xb4\\xe5\\xa4\\xa7\\xe7\\x9a\\x84\\xe8\\xb4\\xa1\\xe7\\x8c\\xae\\xe4\\xb8\\x8b',\n",
       "        b'\\xe5\\x87\\xba\\xe6\\x96\\xb0\\xe7\\x9a\\x84\\xe6\\x9b\\xb4\\xe5\\xa4\\xa7\\xe7\\x9a\\x84\\xe8\\xb4\\xa1\\xe7\\x8c\\xae\\xe4\\xb8\\x8b\\xe5\\x8d\\x88',\n",
       "        b'\\xe6\\x96\\xb0\\xe7\\x9a\\x84\\xe6\\x9b\\xb4\\xe5\\xa4\\xa7\\xe7\\x9a\\x84\\xe8\\xb4\\xa1\\xe7\\x8c\\xae\\xe4\\xb8\\x8b\\xe5\\x8d\\x88\\xe6\\x97\\xb6',\n",
       "        b'\\xe7\\x9a\\x84\\xe6\\x9b\\xb4\\xe5\\xa4\\xa7\\xe7\\x9a\\x84\\xe8\\xb4\\xa1\\xe7\\x8c\\xae\\xe4\\xb8\\x8b\\xe5\\x8d\\x88\\xe6\\x97\\xb6\\xe6\\x88\\x90',\n",
       "        b'\\xe6\\x9b\\xb4\\xe5\\xa4\\xa7\\xe7\\x9a\\x84\\xe8\\xb4\\xa1\\xe7\\x8c\\xae\\xe4\\xb8\\x8b\\xe5\\x8d\\x88\\xe6\\x97\\xb6\\xe6\\x88\\x90\\xe7\\xab\\x8b',\n",
       "        b'\\xe5\\xa4\\xa7\\xe7\\x9a\\x84\\xe8\\xb4\\xa1\\xe7\\x8c\\xae\\xe4\\xb8\\x8b\\xe5\\x8d\\x88\\xe6\\x97\\xb6\\xe6\\x88\\x90\\xe7\\xab\\x8b\\xe5\\xa4\\xa7',\n",
       "        b'\\xe7\\x9a\\x84\\xe8\\xb4\\xa1\\xe7\\x8c\\xae\\xe4\\xb8\\x8b\\xe5\\x8d\\x88\\xe6\\x97\\xb6\\xe6\\x88\\x90\\xe7\\xab\\x8b\\xe5\\xa4\\xa7\\xe4\\xbc\\x9a',\n",
       "        b'\\xe8\\xb4\\xa1\\xe7\\x8c\\xae\\xe4\\xb8\\x8b\\xe5\\x8d\\x88\\xe6\\x97\\xb6\\xe6\\x88\\x90\\xe7\\xab\\x8b\\xe5\\xa4\\xa7\\xe4\\xbc\\x9a\\xe5\\xbc\\x80',\n",
       "        b'\\xe7\\x8c\\xae\\xe4\\xb8\\x8b\\xe5\\x8d\\x88\\xe6\\x97\\xb6\\xe6\\x88\\x90\\xe7\\xab\\x8b\\xe5\\xa4\\xa7\\xe4\\xbc\\x9a\\xe5\\xbc\\x80\\xe5\\xa7\\x8b',\n",
       "        b'\\xe4\\xb8\\x8b\\xe5\\x8d\\x88\\xe6\\x97\\xb6\\xe6\\x88\\x90\\xe7\\xab\\x8b\\xe5\\xa4\\xa7\\xe4\\xbc\\x9a\\xe5\\xbc\\x80\\xe5\\xa7\\x8b\\xe5\\x85\\xa8',\n",
       "        b'\\xe5\\x8d\\x88\\xe6\\x97\\xb6\\xe6\\x88\\x90\\xe7\\xab\\x8b\\xe5\\xa4\\xa7\\xe4\\xbc\\x9a\\xe5\\xbc\\x80\\xe5\\xa7\\x8b\\xe5\\x85\\xa8\\xe5\\x9c\\xba',\n",
       "        b'\\xe6\\x97\\xb6\\xe6\\x88\\x90\\xe7\\xab\\x8b\\xe5\\xa4\\xa7\\xe4\\xbc\\x9a\\xe5\\xbc\\x80\\xe5\\xa7\\x8b\\xe5\\x85\\xa8\\xe5\\x9c\\xba\\xe9\\xab\\x98',\n",
       "        b'\\xe6\\x88\\x90\\xe7\\xab\\x8b\\xe5\\xa4\\xa7\\xe4\\xbc\\x9a\\xe5\\xbc\\x80\\xe5\\xa7\\x8b\\xe5\\x85\\xa8\\xe5\\x9c\\xba\\xe9\\xab\\x98\\xe5\\x94\\xb1',\n",
       "        b'\\xe7\\xab\\x8b\\xe5\\xa4\\xa7\\xe4\\xbc\\x9a\\xe5\\xbc\\x80\\xe5\\xa7\\x8b\\xe5\\x85\\xa8\\xe5\\x9c\\xba\\xe9\\xab\\x98\\xe5\\x94\\xb1\\xe5\\x9b\\xbd',\n",
       "        b'\\xe5\\xa4\\xa7\\xe4\\xbc\\x9a\\xe5\\xbc\\x80\\xe5\\xa7\\x8b\\xe5\\x85\\xa8\\xe5\\x9c\\xba\\xe9\\xab\\x98\\xe5\\x94\\xb1\\xe5\\x9b\\xbd\\xe6\\xad\\x8c',\n",
       "        b'\\xe4\\xbc\\x9a\\xe5\\xbc\\x80\\xe5\\xa7\\x8b\\xe5\\x85\\xa8\\xe5\\x9c\\xba\\xe9\\xab\\x98\\xe5\\x94\\xb1\\xe5\\x9b\\xbd\\xe6\\xad\\x8c\\xe4\\xbb\\xaa',\n",
       "        b'\\xe5\\xbc\\x80\\xe5\\xa7\\x8b\\xe5\\x85\\xa8\\xe5\\x9c\\xba\\xe9\\xab\\x98\\xe5\\x94\\xb1\\xe5\\x9b\\xbd\\xe6\\xad\\x8c\\xe4\\xbb\\xaa\\xe4\\xbb\\x97',\n",
       "        b'\\xe5\\xa7\\x8b\\xe5\\x85\\xa8\\xe5\\x9c\\xba\\xe9\\xab\\x98\\xe5\\x94\\xb1\\xe5\\x9b\\xbd\\xe6\\xad\\x8c\\xe4\\xbb\\xaa\\xe4\\xbb\\x97\\xe7\\xa4\\xbc',\n",
       "        b'\\xe5\\x85\\xa8\\xe5\\x9c\\xba\\xe9\\xab\\x98\\xe5\\x94\\xb1\\xe5\\x9b\\xbd\\xe6\\xad\\x8c\\xe4\\xbb\\xaa\\xe4\\xbb\\x97\\xe7\\xa4\\xbc\\xe5\\x85\\xb5',\n",
       "        b'\\xe5\\x9c\\xba\\xe9\\xab\\x98\\xe5\\x94\\xb1\\xe5\\x9b\\xbd\\xe6\\xad\\x8c\\xe4\\xbb\\xaa\\xe4\\xbb\\x97\\xe7\\xa4\\xbc\\xe5\\x85\\xb5\\xe6\\x8a\\xa4',\n",
       "        b'\\xe9\\xab\\x98\\xe5\\x94\\xb1\\xe5\\x9b\\xbd\\xe6\\xad\\x8c\\xe4\\xbb\\xaa\\xe4\\xbb\\x97\\xe7\\xa4\\xbc\\xe5\\x85\\xb5\\xe6\\x8a\\xa4\\xe5\\x8d\\xab',\n",
       "        b'\\xe5\\x94\\xb1\\xe5\\x9b\\xbd\\xe6\\xad\\x8c\\xe4\\xbb\\xaa\\xe4\\xbb\\x97\\xe7\\xa4\\xbc\\xe5\\x85\\xb5\\xe6\\x8a\\xa4\\xe5\\x8d\\xab\\xe7\\x9d\\x80',\n",
       "        b'\\xe5\\x9b\\xbd\\xe6\\xad\\x8c\\xe4\\xbb\\xaa\\xe4\\xbb\\x97\\xe7\\xa4\\xbc\\xe5\\x85\\xb5\\xe6\\x8a\\xa4\\xe5\\x8d\\xab\\xe7\\x9d\\x80\\xe9\\xb2\\x9c',\n",
       "        b'\\xe6\\xad\\x8c\\xe4\\xbb\\xaa\\xe4\\xbb\\x97\\xe7\\xa4\\xbc\\xe5\\x85\\xb5\\xe6\\x8a\\xa4\\xe5\\x8d\\xab\\xe7\\x9d\\x80\\xe9\\xb2\\x9c\\xe8\\x89\\xb3',\n",
       "        b'\\xe4\\xbb\\xaa\\xe4\\xbb\\x97\\xe7\\xa4\\xbc\\xe5\\x85\\xb5\\xe6\\x8a\\xa4\\xe5\\x8d\\xab\\xe7\\x9d\\x80\\xe9\\xb2\\x9c\\xe8\\x89\\xb3\\xe5\\x86\\x9b',\n",
       "        b'\\xe4\\xbb\\x97\\xe7\\xa4\\xbc\\xe5\\x85\\xb5\\xe6\\x8a\\xa4\\xe5\\x8d\\xab\\xe7\\x9d\\x80\\xe9\\xb2\\x9c\\xe8\\x89\\xb3\\xe5\\x86\\x9b\\xe6\\x97\\x97',\n",
       "        b'\\xe7\\xa4\\xbc\\xe5\\x85\\xb5\\xe6\\x8a\\xa4\\xe5\\x8d\\xab\\xe7\\x9d\\x80\\xe9\\xb2\\x9c\\xe8\\x89\\xb3\\xe5\\x86\\x9b\\xe6\\x97\\x97\\xe6\\xad\\xa3',\n",
       "        b'\\xe5\\x85\\xb5\\xe6\\x8a\\xa4\\xe5\\x8d\\xab\\xe7\\x9d\\x80\\xe9\\xb2\\x9c\\xe8\\x89\\xb3\\xe5\\x86\\x9b\\xe6\\x97\\x97\\xe6\\xad\\xa3\\xe6\\xad\\xa5',\n",
       "        b'\\xe6\\x8a\\xa4\\xe5\\x8d\\xab\\xe7\\x9d\\x80\\xe9\\xb2\\x9c\\xe8\\x89\\xb3\\xe5\\x86\\x9b\\xe6\\x97\\x97\\xe6\\xad\\xa3\\xe6\\xad\\xa5\\xe8\\xa1\\x8c',\n",
       "        b'\\xe5\\x8d\\xab\\xe7\\x9d\\x80\\xe9\\xb2\\x9c\\xe8\\x89\\xb3\\xe5\\x86\\x9b\\xe6\\x97\\x97\\xe6\\xad\\xa3\\xe6\\xad\\xa5\\xe8\\xa1\\x8c\\xe8\\xbf\\x9b',\n",
       "        b'\\xe7\\x9d\\x80\\xe9\\xb2\\x9c\\xe8\\x89\\xb3\\xe5\\x86\\x9b\\xe6\\x97\\x97\\xe6\\xad\\xa3\\xe6\\xad\\xa5\\xe8\\xa1\\x8c\\xe8\\xbf\\x9b\\xe5\\x88\\xb0',\n",
       "        b'\\xe9\\xb2\\x9c\\xe8\\x89\\xb3\\xe5\\x86\\x9b\\xe6\\x97\\x97\\xe6\\xad\\xa3\\xe6\\xad\\xa5\\xe8\\xa1\\x8c\\xe8\\xbf\\x9b\\xe5\\x88\\xb0\\xe4\\xb8\\xbb',\n",
       "        b'\\xe8\\x89\\xb3\\xe5\\x86\\x9b\\xe6\\x97\\x97\\xe6\\xad\\xa3\\xe6\\xad\\xa5\\xe8\\xa1\\x8c\\xe8\\xbf\\x9b\\xe5\\x88\\xb0\\xe4\\xb8\\xbb\\xe5\\xb8\\xad',\n",
       "        b'\\xe5\\x86\\x9b\\xe6\\x97\\x97\\xe6\\xad\\xa3\\xe6\\xad\\xa5\\xe8\\xa1\\x8c\\xe8\\xbf\\x9b\\xe5\\x88\\xb0\\xe4\\xb8\\xbb\\xe5\\xb8\\xad\\xe5\\x8f\\xb0',\n",
       "        b'\\xe6\\x97\\x97\\xe6\\xad\\xa3\\xe6\\xad\\xa5\\xe8\\xa1\\x8c\\xe8\\xbf\\x9b\\xe5\\x88\\xb0\\xe4\\xb8\\xbb\\xe5\\xb8\\xad\\xe5\\x8f\\xb0\\xe5\\x89\\x8d',\n",
       "        b'\\xe6\\xad\\xa3\\xe6\\xad\\xa5\\xe8\\xa1\\x8c\\xe8\\xbf\\x9b\\xe5\\x88\\xb0\\xe4\\xb8\\xbb\\xe5\\xb8\\xad\\xe5\\x8f\\xb0\\xe5\\x89\\x8d\\xe4\\xb9\\xa0',\n",
       "        b'\\xe6\\xad\\xa5\\xe8\\xa1\\x8c\\xe8\\xbf\\x9b\\xe5\\x88\\xb0\\xe4\\xb8\\xbb\\xe5\\xb8\\xad\\xe5\\x8f\\xb0\\xe5\\x89\\x8d\\xe4\\xb9\\xa0\\xe8\\xbf\\x91',\n",
       "        b'\\xe8\\xa1\\x8c\\xe8\\xbf\\x9b\\xe5\\x88\\xb0\\xe4\\xb8\\xbb\\xe5\\xb8\\xad\\xe5\\x8f\\xb0\\xe5\\x89\\x8d\\xe4\\xb9\\xa0\\xe8\\xbf\\x91\\xe5\\xb9\\xb3',\n",
       "        b'\\xe8\\xbf\\x9b\\xe5\\x88\\xb0\\xe4\\xb8\\xbb\\xe5\\xb8\\xad\\xe5\\x8f\\xb0\\xe5\\x89\\x8d\\xe4\\xb9\\xa0\\xe8\\xbf\\x91\\xe5\\xb9\\xb3\\xe5\\xb0\\x86'],\n",
       "       dtype=object)>,\n",
       " <tf.Tensor: shape=(256,), dtype=string, numpy=\n",
       " array([b'486 736 646 543 3264 586 58 586 5464 326',\n",
       "        b'736 646 543 3264 586 58 586 5464 326 54',\n",
       "        b'646 543 3264 586 58 586 5464 326 54 468',\n",
       "        b'543 3264 586 58 586 5464 326 54 468 94664',\n",
       "        b'3264 586 58 586 5464 326 54 468 94664 486',\n",
       "        b'586 58 586 5464 326 54 468 94664 486 736',\n",
       "        b'58 586 5464 326 54 468 94664 486 736 646',\n",
       "        b'586 5464 326 54 468 94664 486 736 646 543',\n",
       "        b'5464 326 54 468 94664 486 736 646 543 3264',\n",
       "        b'326 54 468 94664 486 736 646 543 3264 586',\n",
       "        b'54 468 94664 486 736 646 543 3264 586 486',\n",
       "        b'468 94664 486 736 646 543 3264 586 486 5426',\n",
       "        b'94664 486 736 646 543 3264 586 486 5426 586',\n",
       "        b'486 736 646 543 3264 586 486 5426 586 94664',\n",
       "        b'736 646 543 3264 586 486 5426 586 94664 486',\n",
       "        b'646 543 3264 586 486 5426 586 94664 486 736',\n",
       "        b'543 3264 586 486 5426 586 94664 486 736 646',\n",
       "        b'3264 586 486 5426 586 94664 486 736 646 543',\n",
       "        b'586 486 5426 586 94664 486 736 646 543 3264',\n",
       "        b'486 5426 586 94664 486 736 646 543 3264 586',\n",
       "        b'5426 586 94664 486 736 646 543 3264 586 9426',\n",
       "        b'586 94664 486 736 646 543 3264 586 9426 583',\n",
       "        b'94664 486 736 646 543 3264 586 9426 583 944',\n",
       "        b'486 736 646 543 3264 586 9426 583 944 9826',\n",
       "        b'736 646 543 3264 586 9426 583 944 9826 28',\n",
       "        b'646 543 3264 586 9426 583 944 9826 28 384',\n",
       "        b'543 3264 586 9426 583 944 9826 28 384 24364',\n",
       "        b'3264 586 9426 583 944 9826 28 384 24364 54',\n",
       "        b'586 9426 583 944 9826 28 384 24364 54 32',\n",
       "        b'9426 583 944 9826 28 384 24364 54 32 484',\n",
       "        b'583 944 9826 28 384 24364 54 32 484 6426',\n",
       "        b'944 9826 28 384 24364 54 32 484 6426 983',\n",
       "        b'9826 28 384 24364 54 32 484 6426 983 74',\n",
       "        b'28 384 24364 54 32 484 6426 983 74 924',\n",
       "        b'384 24364 54 32 484 6426 983 74 924 22',\n",
       "        b'24364 54 32 484 6426 983 74 924 22 94',\n",
       "        b'54 32 484 6426 983 74 924 22 94 32',\n",
       "        b'32 484 6426 983 74 924 22 94 32 568',\n",
       "        b'484 6426 983 74 924 22 94 32 568 5664',\n",
       "        b'6426 983 74 924 22 94 32 568 5664 94664',\n",
       "        b'983 74 924 22 94 32 568 5664 94664 58',\n",
       "        b'74 924 22 94 32 568 5664 94664 58 9464',\n",
       "        b'924 22 94 32 568 5664 94664 58 9464 94664',\n",
       "        b'22 94 32 568 5664 94664 58 9464 94664 4664',\n",
       "        b'94 32 568 5664 94664 58 9464 94664 4664 94664',\n",
       "        b'32 568 5664 94664 58 9464 94664 4664 94664 9264',\n",
       "        b'568 5664 94664 58 9464 94664 4664 94664 9264 9664',\n",
       "        b'5664 94664 58 9464 94664 4664 94664 9264 9664 748',\n",
       "        b'94664 58 9464 94664 4664 94664 9264 9664 748 54',\n",
       "        b'58 9464 94664 4664 94664 9264 9664 748 54 486',\n",
       "        b'9464 94664 4664 94664 9264 9664 748 54 486 542',\n",
       "        b'94664 4664 94664 9264 9664 748 54 486 542 948',\n",
       "        b'4664 94664 9264 9664 748 54 486 542 948 94',\n",
       "        b'94664 9264 9664 748 54 486 542 948 94 94664',\n",
       "        b'9264 9664 748 54 486 542 948 94 94664 9264',\n",
       "        b'9664 748 54 486 542 948 94 94664 9264 586',\n",
       "        b'748 54 486 542 948 94 94664 9264 586 934',\n",
       "        b'54 486 542 948 94 94664 9264 586 934 948',\n",
       "        b'486 542 948 94 94664 9264 586 934 948 94',\n",
       "        b'542 948 94 94664 9264 586 934 948 94 94',\n",
       "        b'948 94 94664 9264 586 934 948 94 94 546',\n",
       "        b'94 94664 9264 586 934 948 94 94 546 7464',\n",
       "        b'94664 9264 586 934 948 94 94 546 7464 94264',\n",
       "        b'9264 586 934 948 94 94 546 7464 94264 58',\n",
       "        b'586 934 948 94 94 546 7464 94264 58 586',\n",
       "        b'934 948 94 94 546 7464 94264 58 586 486',\n",
       "        b'948 94 94 546 7464 94264 58 586 486 5426',\n",
       "        b'94 94 546 7464 94264 58 586 486 5426 586',\n",
       "        b'94 546 7464 94264 58 586 486 5426 586 9426',\n",
       "        b'546 7464 94264 58 586 486 5426 586 9426 583',\n",
       "        b'7464 94264 58 586 486 5426 586 9426 583 944',\n",
       "        b'94264 58 586 486 5426 586 9426 583 944 9826',\n",
       "        b'58 586 486 5426 586 9426 583 944 9826 28',\n",
       "        b'586 486 5426 586 9426 583 944 9826 28 384',\n",
       "        b'486 5426 586 9426 583 944 9826 28 384 7468',\n",
       "        b'5426 586 9426 583 944 9826 28 384 7468 98',\n",
       "        b'586 9426 583 944 9826 28 384 7468 98 586',\n",
       "        b'9426 583 944 9826 28 384 7468 98 586 74',\n",
       "        b'583 944 9826 28 384 7468 98 586 74 2464',\n",
       "        b'944 9826 28 384 7468 98 586 74 2464 944',\n",
       "        b'9826 28 384 7468 98 586 74 2464 944 986',\n",
       "        b'28 384 7468 98 586 74 2464 944 986 24',\n",
       "        b'384 7468 98 586 74 2464 944 986 24 324',\n",
       "        b'7468 98 586 74 2464 944 986 24 324 2426',\n",
       "        b'98 586 74 2464 944 986 24 324 2426 3264',\n",
       "        b'586 74 2464 944 986 24 324 2426 3264 94664',\n",
       "        b'74 2464 944 986 24 324 2426 3264 94664 9264',\n",
       "        b'2464 944 986 24 324 2426 3264 94664 9264 43',\n",
       "        b'944 986 24 324 2426 3264 94664 9264 43 94664',\n",
       "        b'986 24 324 2426 3264 94664 9264 43 94664 9264',\n",
       "        b'24 324 2426 3264 94664 9264 43 94664 9264 586',\n",
       "        b'324 2426 3264 94664 9264 43 94664 9264 586 934',\n",
       "        b'2426 3264 94664 9264 43 94664 9264 586 934 94264',\n",
       "        b'3264 94664 9264 43 94664 9264 586 934 94264 8664',\n",
       "        b'94664 9264 43 94664 9264 586 934 94264 8664 944',\n",
       "        b'9264 43 94664 9264 586 934 94264 8664 944 636',\n",
       "        b'43 94664 9264 586 934 94264 8664 944 636 94264',\n",
       "        b'94664 9264 586 934 94264 8664 944 636 94264 7826',\n",
       "        b'9264 586 934 94264 8664 944 636 94264 7826 586',\n",
       "        b'586 934 94264 8664 944 636 94264 7826 586 28',\n",
       "        b'934 94264 8664 944 636 94264 7826 586 28 384',\n",
       "        b'94264 8664 944 636 94264 7826 586 28 384 944',\n",
       "        b'8664 944 636 94264 7826 586 28 384 944 94',\n",
       "        b'944 636 94264 7826 586 28 384 944 94 73',\n",
       "        b'636 94264 7826 586 28 384 944 94 73 543',\n",
       "        b'94264 7826 586 28 384 944 94 73 543 948',\n",
       "        b'7826 586 28 384 944 94 73 543 948 43',\n",
       "        b'586 28 384 944 94 73 543 948 43 74264',\n",
       "        b'28 384 944 94 73 543 948 43 74264 3426',\n",
       "        b'384 944 94 73 543 948 43 74264 3426 926',\n",
       "        b'944 94 73 543 948 43 74264 3426 926 5426',\n",
       "        b'94 73 543 948 43 74264 3426 926 5426 244',\n",
       "        b'73 543 948 43 74264 3426 926 5426 244 94',\n",
       "        b'543 948 43 74264 3426 926 5426 244 94 3264',\n",
       "        b'948 43 74264 3426 926 5426 244 94 3264 924',\n",
       "        b'43 74264 3426 926 5426 244 94 3264 924 946',\n",
       "        b'74264 3426 926 5426 244 94 3264 924 946 9464',\n",
       "        b'3426 926 5426 244 94 3264 924 946 9464 744',\n",
       "        b'926 5426 244 94 3264 924 946 9464 744 942',\n",
       "        b'5426 244 94 3264 924 946 9464 744 942 33',\n",
       "        b'244 94 3264 924 946 9464 744 942 33 74264',\n",
       "        b'94 3264 924 946 9464 744 942 33 74264 586',\n",
       "        b'3264 924 946 9464 744 942 33 74264 586 68',\n",
       "        b'924 946 9464 744 942 33 74264 586 68 2426',\n",
       "        b'946 9464 744 942 33 74264 586 68 2426 934',\n",
       "        b'9464 744 942 33 74264 586 68 2426 934 946',\n",
       "        b'744 942 33 74264 586 68 2426 934 946 5464',\n",
       "        b'942 33 74264 586 68 2426 934 946 5464 7436',\n",
       "        b'33 74264 586 68 2426 934 946 5464 7436 78',\n",
       "        b'74264 586 68 2426 934 946 5464 7436 78 4826',\n",
       "        b'586 68 2426 934 946 5464 7436 78 4826 243',\n",
       "        b'68 2426 934 946 5464 7436 78 4826 243 946',\n",
       "        b'2426 934 946 5464 7436 78 4826 243 946 9464',\n",
       "        b'934 946 5464 7436 78 4826 243 946 9464 744',\n",
       "        b'946 5464 7436 78 4826 243 946 9464 744 942',\n",
       "        b'5464 7436 78 4826 243 946 9464 744 942 586',\n",
       "        b'7436 78 4826 243 946 9464 744 942 586 744',\n",
       "        b'78 4826 243 946 9464 744 942 586 744 9426',\n",
       "        b'4826 243 946 9464 744 942 586 744 9426 583',\n",
       "        b'243 946 9464 744 942 586 744 9426 583 3264',\n",
       "        b'946 9464 744 942 586 744 9426 583 3264 9436',\n",
       "        b'9464 744 942 586 744 9426 583 3264 9436 7826',\n",
       "        b'744 942 586 744 9426 583 3264 9436 7826 6426',\n",
       "        b'942 586 744 9426 583 3264 9436 7826 6426 744',\n",
       "        b'586 744 9426 583 3264 9436 7826 6426 744 744',\n",
       "        b'744 9426 583 3264 9436 7826 6426 744 744 424',\n",
       "        b'9426 583 3264 9436 7826 6426 744 744 424 43',\n",
       "        b'583 3264 9436 7826 6426 744 744 424 43 74264',\n",
       "        b'3264 9436 7826 6426 744 744 424 43 74264 586',\n",
       "        b'9436 7826 6426 744 744 424 43 74264 586 9426',\n",
       "        b'7826 6426 744 744 424 43 74264 586 9426 583',\n",
       "        b'6426 744 744 424 43 74264 586 9426 583 5426',\n",
       "        b'744 744 424 43 74264 586 9426 583 5426 3464',\n",
       "        b'744 424 43 74264 586 9426 583 5426 3464 28',\n",
       "        b'424 43 74264 586 9426 583 5426 3464 28 94',\n",
       "        b'43 74264 586 9426 583 5426 3464 28 94 968',\n",
       "        b'74264 586 9426 583 5426 3464 28 94 968 94664',\n",
       "        b'586 9426 583 5426 3464 28 94 968 94664 486',\n",
       "        b'9426 583 5426 3464 28 94 968 94664 486 83',\n",
       "        b'583 5426 3464 28 94 968 94664 486 83 73',\n",
       "        b'5426 3464 28 94 968 94664 486 83 73 74264',\n",
       "        b'3464 28 94 968 94664 486 83 73 74264 586',\n",
       "        b'28 94 968 94664 486 83 73 74264 586 944',\n",
       "        b'94 968 94664 486 83 73 74264 586 944 58',\n",
       "        b'968 94664 486 83 73 74264 586 944 58 744',\n",
       "        b'94664 486 83 73 74264 586 944 58 744 53',\n",
       "        b'486 83 73 74264 586 944 58 744 53 8464',\n",
       "        b'83 73 74264 586 944 58 744 53 8464 2664',\n",
       "        b'73 74264 586 944 58 744 53 8464 2664 3264',\n",
       "        b'74264 586 944 58 744 53 8464 2664 3264 43',\n",
       "        b'586 944 58 744 53 8464 2664 3264 43 736',\n",
       "        b'944 58 744 53 8464 2664 3264 43 736 646',\n",
       "        b'58 744 53 8464 2664 3264 43 736 646 9426',\n",
       "        b'744 53 8464 2664 3264 43 736 646 9426 4826',\n",
       "        b'53 8464 2664 3264 43 736 646 9426 4826 94664',\n",
       "        b'8464 2664 3264 43 736 646 9426 4826 94664 744',\n",
       "        b'2664 3264 43 736 646 9426 4826 94664 744 58',\n",
       "        b'3264 43 736 646 9426 4826 94664 744 58 9464',\n",
       "        b'43 736 646 9426 4826 94664 744 58 9464 3264',\n",
       "        b'736 646 9426 4826 94664 744 58 9464 3264 43',\n",
       "        b'646 9426 4826 94664 744 58 9464 3264 43 736',\n",
       "        b'9426 4826 94664 744 58 9464 3264 43 736 646',\n",
       "        b'4826 94664 744 58 9464 3264 43 736 646 38',\n",
       "        b'94664 744 58 9464 3264 43 736 646 38 98',\n",
       "        b'744 58 9464 3264 43 736 646 38 98 33',\n",
       "        b'58 9464 3264 43 736 646 38 98 33 7436',\n",
       "        b'9464 3264 43 736 646 38 98 33 7436 74364',\n",
       "        b'3264 43 736 646 38 98 33 7436 74364 744',\n",
       "        b'43 736 646 38 98 33 7436 74364 744 6464',\n",
       "        b'736 646 38 98 33 7436 74364 744 6464 934',\n",
       "        b'646 38 98 33 7436 74364 744 6464 934 744',\n",
       "        b'38 98 33 7436 74364 744 6464 934 744 9426',\n",
       "        b'98 33 7436 74364 744 6464 934 744 9426 94664',\n",
       "        b'33 7436 74364 744 6464 934 744 9426 94664 486',\n",
       "        b'7436 74364 744 6464 934 744 9426 94664 486 6364',\n",
       "        b'74364 744 6464 934 744 9426 94664 486 6364 74264',\n",
       "        b'744 6464 934 744 9426 94664 486 6364 74264 586',\n",
       "        b'6464 934 744 9426 94664 486 6364 74264 586 6364',\n",
       "        b'934 744 9426 94664 486 6364 74264 586 6364 986',\n",
       "        b'744 9426 94664 486 6364 74264 586 6364 986 248',\n",
       "        b'9426 94664 486 6364 74264 586 6364 986 248 946',\n",
       "        b'94664 486 6364 74264 586 6364 986 248 946 33',\n",
       "        b'486 6364 74264 586 6364 986 248 946 33 4364',\n",
       "        b'6364 74264 586 6364 986 248 946 33 4364 32',\n",
       "        b'74264 586 6364 986 248 946 33 4364 32 33',\n",
       "        b'586 6364 986 248 946 33 4364 32 33 4664',\n",
       "        b'6364 986 248 946 33 4364 32 33 4664 9426',\n",
       "        b'986 248 946 33 4364 32 33 4664 9426 942',\n",
       "        b'248 946 33 4364 32 33 4664 9426 942 98',\n",
       "        b'946 33 4364 32 33 4664 9426 942 98 744',\n",
       "        b'33 4364 32 33 4664 9426 942 98 744 24364',\n",
       "        b'4364 32 33 4664 9426 942 98 744 24364 54',\n",
       "        b'32 33 4664 9426 942 98 744 24364 54 32',\n",
       "        b'33 4664 9426 942 98 744 24364 54 32 484',\n",
       "        b'4664 9426 942 98 744 24364 54 32 484 524',\n",
       "        b'9426 942 98 744 24364 54 32 484 524 744',\n",
       "        b'942 98 744 24364 54 32 484 524 744 7826',\n",
       "        b'98 744 24364 54 32 484 524 744 7826 24264',\n",
       "        b'744 24364 54 32 484 524 744 7826 24264 426',\n",
       "        b'24364 54 32 484 524 744 7826 24264 426 24264',\n",
       "        b'54 32 484 524 744 7826 24264 426 24264 486',\n",
       "        b'32 484 524 744 7826 24264 426 24264 486 43',\n",
       "        b'484 524 744 7826 24264 426 24264 486 43 94',\n",
       "        b'524 744 7826 24264 426 24264 486 43 94 94264',\n",
       "        b'744 7826 24264 426 24264 486 43 94 94264 54',\n",
       "        b'7826 24264 426 24264 486 43 94 94264 54 2464',\n",
       "        b'24264 426 24264 486 43 94 94264 54 2464 48',\n",
       "        b'426 24264 486 43 94 94264 54 2464 48 934',\n",
       "        b'24264 486 43 94 94264 54 2464 48 934 943',\n",
       "        b'486 43 94 94264 54 2464 48 934 943 9426',\n",
       "        b'43 94 94264 54 2464 48 934 943 9426 926',\n",
       "        b'94 94264 54 2464 48 934 943 9426 926 586',\n",
       "        b'94264 54 2464 48 934 943 9426 926 586 74',\n",
       "        b'54 2464 48 934 943 9426 926 586 74 94364',\n",
       "        b'2464 48 934 943 9426 926 586 74 94364 28',\n",
       "        b'48 934 943 9426 926 586 74 94364 28 9464',\n",
       "        b'934 943 9426 926 586 74 94364 28 9464 546',\n",
       "        b'943 9426 926 586 74 94364 28 9464 546 326',\n",
       "        b'9426 926 586 74 94364 28 9464 546 326 948',\n",
       "        b'926 586 74 94364 28 9464 546 326 948 94',\n",
       "        b'586 74 94364 28 9464 546 326 948 94 824',\n",
       "        b'74 94364 28 9464 546 326 948 94 824 7426',\n",
       "        b'94364 28 9464 546 326 948 94 824 7426 94',\n",
       "        b'28 9464 546 326 948 94 824 7426 94 546',\n",
       "        b'9464 546 326 948 94 824 7426 94 546 7464',\n",
       "        b'546 326 948 94 824 7426 94 546 7464 54264',\n",
       "        b'326 948 94 824 7426 94 546 7464 54264 586',\n",
       "        b'948 94 824 7426 94 546 7464 54264 586 74',\n",
       "        b'94 824 7426 94 546 7464 54264 586 74 94364',\n",
       "        b'824 7426 94 546 7464 54264 586 74 94364 94664',\n",
       "        b'7426 94 546 7464 54264 586 74 94364 94664 7468',\n",
       "        b'94 546 7464 54264 586 74 94364 94664 7468 98',\n",
       "        b'546 7464 54264 586 74 94364 94664 7468 98 58',\n",
       "        b'7464 54264 586 74 94364 94664 7468 98 58 586',\n",
       "        b'54264 586 74 94364 94664 7468 98 58 586 74',\n",
       "        b'586 74 94364 94664 7468 98 58 586 74 5464'], dtype=object)>,\n",
       " <tf.Tensor: shape=(256,), dtype=string, numpy=\n",
       " array([b'\\xe5\\x9b\\xbd\\xe4\\xba\\xba\\xe6\\xb0\\x91\\xe8\\xa7\\xa3\\xe6\\x94\\xbe\\xe5\\x86\\x9b\\xe9\\x99\\x86\\xe5\\x86\\x9b\\xe9\\xa2\\x86\\xe5\\xaf\\xbc',\n",
       "        b'\\xe4\\xba\\xba\\xe6\\xb0\\x91\\xe8\\xa7\\xa3\\xe6\\x94\\xbe\\xe5\\x86\\x9b\\xe9\\x99\\x86\\xe5\\x86\\x9b\\xe9\\xa2\\x86\\xe5\\xaf\\xbc\\xe6\\x9c\\xba',\n",
       "        b'\\xe6\\xb0\\x91\\xe8\\xa7\\xa3\\xe6\\x94\\xbe\\xe5\\x86\\x9b\\xe9\\x99\\x86\\xe5\\x86\\x9b\\xe9\\xa2\\x86\\xe5\\xaf\\xbc\\xe6\\x9c\\xba\\xe6\\x9e\\x84',\n",
       "        b'\\xe8\\xa7\\xa3\\xe6\\x94\\xbe\\xe5\\x86\\x9b\\xe9\\x99\\x86\\xe5\\x86\\x9b\\xe9\\xa2\\x86\\xe5\\xaf\\xbc\\xe6\\x9c\\xba\\xe6\\x9e\\x84\\xe4\\xb8\\xad',\n",
       "        b'\\xe6\\x94\\xbe\\xe5\\x86\\x9b\\xe9\\x99\\x86\\xe5\\x86\\x9b\\xe9\\xa2\\x86\\xe5\\xaf\\xbc\\xe6\\x9c\\xba\\xe6\\x9e\\x84\\xe4\\xb8\\xad\\xe5\\x9b\\xbd',\n",
       "        b'\\xe5\\x86\\x9b\\xe9\\x99\\x86\\xe5\\x86\\x9b\\xe9\\xa2\\x86\\xe5\\xaf\\xbc\\xe6\\x9c\\xba\\xe6\\x9e\\x84\\xe4\\xb8\\xad\\xe5\\x9b\\xbd\\xe4\\xba\\xba',\n",
       "        b'\\xe9\\x99\\x86\\xe5\\x86\\x9b\\xe9\\xa2\\x86\\xe5\\xaf\\xbc\\xe6\\x9c\\xba\\xe6\\x9e\\x84\\xe4\\xb8\\xad\\xe5\\x9b\\xbd\\xe4\\xba\\xba\\xe6\\xb0\\x91',\n",
       "        b'\\xe5\\x86\\x9b\\xe9\\xa2\\x86\\xe5\\xaf\\xbc\\xe6\\x9c\\xba\\xe6\\x9e\\x84\\xe4\\xb8\\xad\\xe5\\x9b\\xbd\\xe4\\xba\\xba\\xe6\\xb0\\x91\\xe8\\xa7\\xa3',\n",
       "        b'\\xe9\\xa2\\x86\\xe5\\xaf\\xbc\\xe6\\x9c\\xba\\xe6\\x9e\\x84\\xe4\\xb8\\xad\\xe5\\x9b\\xbd\\xe4\\xba\\xba\\xe6\\xb0\\x91\\xe8\\xa7\\xa3\\xe6\\x94\\xbe',\n",
       "        b'\\xe5\\xaf\\xbc\\xe6\\x9c\\xba\\xe6\\x9e\\x84\\xe4\\xb8\\xad\\xe5\\x9b\\xbd\\xe4\\xba\\xba\\xe6\\xb0\\x91\\xe8\\xa7\\xa3\\xe6\\x94\\xbe\\xe5\\x86\\x9b',\n",
       "        b'\\xe6\\x9c\\xba\\xe6\\x9e\\x84\\xe4\\xb8\\xad\\xe5\\x9b\\xbd\\xe4\\xba\\xba\\xe6\\xb0\\x91\\xe8\\xa7\\xa3\\xe6\\x94\\xbe\\xe5\\x86\\x9b\\xe7\\x81\\xab',\n",
       "        b'\\xe6\\x9e\\x84\\xe4\\xb8\\xad\\xe5\\x9b\\xbd\\xe4\\xba\\xba\\xe6\\xb0\\x91\\xe8\\xa7\\xa3\\xe6\\x94\\xbe\\xe5\\x86\\x9b\\xe7\\x81\\xab\\xe7\\xae\\xad',\n",
       "        b'\\xe4\\xb8\\xad\\xe5\\x9b\\xbd\\xe4\\xba\\xba\\xe6\\xb0\\x91\\xe8\\xa7\\xa3\\xe6\\x94\\xbe\\xe5\\x86\\x9b\\xe7\\x81\\xab\\xe7\\xae\\xad\\xe5\\x86\\x9b',\n",
       "        b'\\xe5\\x9b\\xbd\\xe4\\xba\\xba\\xe6\\xb0\\x91\\xe8\\xa7\\xa3\\xe6\\x94\\xbe\\xe5\\x86\\x9b\\xe7\\x81\\xab\\xe7\\xae\\xad\\xe5\\x86\\x9b\\xe4\\xb8\\xad',\n",
       "        b'\\xe4\\xba\\xba\\xe6\\xb0\\x91\\xe8\\xa7\\xa3\\xe6\\x94\\xbe\\xe5\\x86\\x9b\\xe7\\x81\\xab\\xe7\\xae\\xad\\xe5\\x86\\x9b\\xe4\\xb8\\xad\\xe5\\x9b\\xbd',\n",
       "        b'\\xe6\\xb0\\x91\\xe8\\xa7\\xa3\\xe6\\x94\\xbe\\xe5\\x86\\x9b\\xe7\\x81\\xab\\xe7\\xae\\xad\\xe5\\x86\\x9b\\xe4\\xb8\\xad\\xe5\\x9b\\xbd\\xe4\\xba\\xba',\n",
       "        b'\\xe8\\xa7\\xa3\\xe6\\x94\\xbe\\xe5\\x86\\x9b\\xe7\\x81\\xab\\xe7\\xae\\xad\\xe5\\x86\\x9b\\xe4\\xb8\\xad\\xe5\\x9b\\xbd\\xe4\\xba\\xba\\xe6\\xb0\\x91',\n",
       "        b'\\xe6\\x94\\xbe\\xe5\\x86\\x9b\\xe7\\x81\\xab\\xe7\\xae\\xad\\xe5\\x86\\x9b\\xe4\\xb8\\xad\\xe5\\x9b\\xbd\\xe4\\xba\\xba\\xe6\\xb0\\x91\\xe8\\xa7\\xa3',\n",
       "        b'\\xe5\\x86\\x9b\\xe7\\x81\\xab\\xe7\\xae\\xad\\xe5\\x86\\x9b\\xe4\\xb8\\xad\\xe5\\x9b\\xbd\\xe4\\xba\\xba\\xe6\\xb0\\x91\\xe8\\xa7\\xa3\\xe6\\x94\\xbe',\n",
       "        b'\\xe7\\x81\\xab\\xe7\\xae\\xad\\xe5\\x86\\x9b\\xe4\\xb8\\xad\\xe5\\x9b\\xbd\\xe4\\xba\\xba\\xe6\\xb0\\x91\\xe8\\xa7\\xa3\\xe6\\x94\\xbe\\xe5\\x86\\x9b',\n",
       "        b'\\xe7\\xae\\xad\\xe5\\x86\\x9b\\xe4\\xb8\\xad\\xe5\\x9b\\xbd\\xe4\\xba\\xba\\xe6\\xb0\\x91\\xe8\\xa7\\xa3\\xe6\\x94\\xbe\\xe5\\x86\\x9b\\xe6\\x88\\x98',\n",
       "        b'\\xe5\\x86\\x9b\\xe4\\xb8\\xad\\xe5\\x9b\\xbd\\xe4\\xba\\xba\\xe6\\xb0\\x91\\xe8\\xa7\\xa3\\xe6\\x94\\xbe\\xe5\\x86\\x9b\\xe6\\x88\\x98\\xe7\\x95\\xa5',\n",
       "        b'\\xe4\\xb8\\xad\\xe5\\x9b\\xbd\\xe4\\xba\\xba\\xe6\\xb0\\x91\\xe8\\xa7\\xa3\\xe6\\x94\\xbe\\xe5\\x86\\x9b\\xe6\\x88\\x98\\xe7\\x95\\xa5\\xe6\\x94\\xaf',\n",
       "        b'\\xe5\\x9b\\xbd\\xe4\\xba\\xba\\xe6\\xb0\\x91\\xe8\\xa7\\xa3\\xe6\\x94\\xbe\\xe5\\x86\\x9b\\xe6\\x88\\x98\\xe7\\x95\\xa5\\xe6\\x94\\xaf\\xe6\\x8f\\xb4',\n",
       "        b'\\xe4\\xba\\xba\\xe6\\xb0\\x91\\xe8\\xa7\\xa3\\xe6\\x94\\xbe\\xe5\\x86\\x9b\\xe6\\x88\\x98\\xe7\\x95\\xa5\\xe6\\x94\\xaf\\xe6\\x8f\\xb4\\xe9\\x83\\xa8',\n",
       "        b'\\xe6\\xb0\\x91\\xe8\\xa7\\xa3\\xe6\\x94\\xbe\\xe5\\x86\\x9b\\xe6\\x88\\x98\\xe7\\x95\\xa5\\xe6\\x94\\xaf\\xe6\\x8f\\xb4\\xe9\\x83\\xa8\\xe9\\x98\\x9f',\n",
       "        b'\\xe8\\xa7\\xa3\\xe6\\x94\\xbe\\xe5\\x86\\x9b\\xe6\\x88\\x98\\xe7\\x95\\xa5\\xe6\\x94\\xaf\\xe6\\x8f\\xb4\\xe9\\x83\\xa8\\xe9\\x98\\x9f\\xe6\\x88\\x90',\n",
       "        b'\\xe6\\x94\\xbe\\xe5\\x86\\x9b\\xe6\\x88\\x98\\xe7\\x95\\xa5\\xe6\\x94\\xaf\\xe6\\x8f\\xb4\\xe9\\x83\\xa8\\xe9\\x98\\x9f\\xe6\\x88\\x90\\xe7\\xab\\x8b',\n",
       "        b'\\xe5\\x86\\x9b\\xe6\\x88\\x98\\xe7\\x95\\xa5\\xe6\\x94\\xaf\\xe6\\x8f\\xb4\\xe9\\x83\\xa8\\xe9\\x98\\x9f\\xe6\\x88\\x90\\xe7\\xab\\x8b\\xe5\\xa4\\xa7',\n",
       "        b'\\xe6\\x88\\x98\\xe7\\x95\\xa5\\xe6\\x94\\xaf\\xe6\\x8f\\xb4\\xe9\\x83\\xa8\\xe9\\x98\\x9f\\xe6\\x88\\x90\\xe7\\xab\\x8b\\xe5\\xa4\\xa7\\xe4\\xbc\\x9a',\n",
       "        b'\\xe7\\x95\\xa5\\xe6\\x94\\xaf\\xe6\\x8f\\xb4\\xe9\\x83\\xa8\\xe9\\x98\\x9f\\xe6\\x88\\x90\\xe7\\xab\\x8b\\xe5\\xa4\\xa7\\xe4\\xbc\\x9a\\xe5\\xb9\\xb4',\n",
       "        b'\\xe6\\x94\\xaf\\xe6\\x8f\\xb4\\xe9\\x83\\xa8\\xe9\\x98\\x9f\\xe6\\x88\\x90\\xe7\\xab\\x8b\\xe5\\xa4\\xa7\\xe4\\xbc\\x9a\\xe5\\xb9\\xb4\\xe6\\x9c\\x88',\n",
       "        b'\\xe6\\x8f\\xb4\\xe9\\x83\\xa8\\xe9\\x98\\x9f\\xe6\\x88\\x90\\xe7\\xab\\x8b\\xe5\\xa4\\xa7\\xe4\\xbc\\x9a\\xe5\\xb9\\xb4\\xe6\\x9c\\x88\\xe6\\x97\\xa5',\n",
       "        b'\\xe9\\x83\\xa8\\xe9\\x98\\x9f\\xe6\\x88\\x90\\xe7\\xab\\x8b\\xe5\\xa4\\xa7\\xe4\\xbc\\x9a\\xe5\\xb9\\xb4\\xe6\\x9c\\x88\\xe6\\x97\\xa5\\xe5\\x9c\\xa8',\n",
       "        b'\\xe9\\x98\\x9f\\xe6\\x88\\x90\\xe7\\xab\\x8b\\xe5\\xa4\\xa7\\xe4\\xbc\\x9a\\xe5\\xb9\\xb4\\xe6\\x9c\\x88\\xe6\\x97\\xa5\\xe5\\x9c\\xa8\\xe5\\x85\\xab',\n",
       "        b'\\xe6\\x88\\x90\\xe7\\xab\\x8b\\xe5\\xa4\\xa7\\xe4\\xbc\\x9a\\xe5\\xb9\\xb4\\xe6\\x9c\\x88\\xe6\\x97\\xa5\\xe5\\x9c\\xa8\\xe5\\x85\\xab\\xe4\\xb8\\x80',\n",
       "        b'\\xe7\\xab\\x8b\\xe5\\xa4\\xa7\\xe4\\xbc\\x9a\\xe5\\xb9\\xb4\\xe6\\x9c\\x88\\xe6\\x97\\xa5\\xe5\\x9c\\xa8\\xe5\\x85\\xab\\xe4\\xb8\\x80\\xe5\\xa4\\xa7',\n",
       "        b'\\xe5\\xa4\\xa7\\xe4\\xbc\\x9a\\xe5\\xb9\\xb4\\xe6\\x9c\\x88\\xe6\\x97\\xa5\\xe5\\x9c\\xa8\\xe5\\x85\\xab\\xe4\\xb8\\x80\\xe5\\xa4\\xa7\\xe6\\xa5\\xbc',\n",
       "        b'\\xe4\\xbc\\x9a\\xe5\\xb9\\xb4\\xe6\\x9c\\x88\\xe6\\x97\\xa5\\xe5\\x9c\\xa8\\xe5\\x85\\xab\\xe4\\xb8\\x80\\xe5\\xa4\\xa7\\xe6\\xa5\\xbc\\xe9\\x9a\\x86',\n",
       "        b'\\xe5\\xb9\\xb4\\xe6\\x9c\\x88\\xe6\\x97\\xa5\\xe5\\x9c\\xa8\\xe5\\x85\\xab\\xe4\\xb8\\x80\\xe5\\xa4\\xa7\\xe6\\xa5\\xbc\\xe9\\x9a\\x86\\xe9\\x87\\x8d',\n",
       "        b'\\xe6\\x9c\\x88\\xe6\\x97\\xa5\\xe5\\x9c\\xa8\\xe5\\x85\\xab\\xe4\\xb8\\x80\\xe5\\xa4\\xa7\\xe6\\xa5\\xbc\\xe9\\x9a\\x86\\xe9\\x87\\x8d\\xe4\\xb8\\xbe',\n",
       "        b'\\xe6\\x97\\xa5\\xe5\\x9c\\xa8\\xe5\\x85\\xab\\xe4\\xb8\\x80\\xe5\\xa4\\xa7\\xe6\\xa5\\xbc\\xe9\\x9a\\x86\\xe9\\x87\\x8d\\xe4\\xb8\\xbe\\xe8\\xa1\\x8c',\n",
       "        b'\\xe5\\x9c\\xa8\\xe5\\x85\\xab\\xe4\\xb8\\x80\\xe5\\xa4\\xa7\\xe6\\xa5\\xbc\\xe9\\x9a\\x86\\xe9\\x87\\x8d\\xe4\\xb8\\xbe\\xe8\\xa1\\x8c\\xe4\\xb8\\xad',\n",
       "        b'\\xe5\\x85\\xab\\xe4\\xb8\\x80\\xe5\\xa4\\xa7\\xe6\\xa5\\xbc\\xe9\\x9a\\x86\\xe9\\x87\\x8d\\xe4\\xb8\\xbe\\xe8\\xa1\\x8c\\xe4\\xb8\\xad\\xe5\\x85\\xb1',\n",
       "        b'\\xe4\\xb8\\x80\\xe5\\xa4\\xa7\\xe6\\xa5\\xbc\\xe9\\x9a\\x86\\xe9\\x87\\x8d\\xe4\\xb8\\xbe\\xe8\\xa1\\x8c\\xe4\\xb8\\xad\\xe5\\x85\\xb1\\xe4\\xb8\\xad',\n",
       "        b'\\xe5\\xa4\\xa7\\xe6\\xa5\\xbc\\xe9\\x9a\\x86\\xe9\\x87\\x8d\\xe4\\xb8\\xbe\\xe8\\xa1\\x8c\\xe4\\xb8\\xad\\xe5\\x85\\xb1\\xe4\\xb8\\xad\\xe5\\xa4\\xae',\n",
       "        b'\\xe6\\xa5\\xbc\\xe9\\x9a\\x86\\xe9\\x87\\x8d\\xe4\\xb8\\xbe\\xe8\\xa1\\x8c\\xe4\\xb8\\xad\\xe5\\x85\\xb1\\xe4\\xb8\\xad\\xe5\\xa4\\xae\\xe6\\x80\\xbb',\n",
       "        b'\\xe9\\x9a\\x86\\xe9\\x87\\x8d\\xe4\\xb8\\xbe\\xe8\\xa1\\x8c\\xe4\\xb8\\xad\\xe5\\x85\\xb1\\xe4\\xb8\\xad\\xe5\\xa4\\xae\\xe6\\x80\\xbb\\xe4\\xb9\\xa6',\n",
       "        b'\\xe9\\x87\\x8d\\xe4\\xb8\\xbe\\xe8\\xa1\\x8c\\xe4\\xb8\\xad\\xe5\\x85\\xb1\\xe4\\xb8\\xad\\xe5\\xa4\\xae\\xe6\\x80\\xbb\\xe4\\xb9\\xa6\\xe8\\xae\\xb0',\n",
       "        b'\\xe4\\xb8\\xbe\\xe8\\xa1\\x8c\\xe4\\xb8\\xad\\xe5\\x85\\xb1\\xe4\\xb8\\xad\\xe5\\xa4\\xae\\xe6\\x80\\xbb\\xe4\\xb9\\xa6\\xe8\\xae\\xb0\\xe5\\x9b\\xbd',\n",
       "        b'\\xe8\\xa1\\x8c\\xe4\\xb8\\xad\\xe5\\x85\\xb1\\xe4\\xb8\\xad\\xe5\\xa4\\xae\\xe6\\x80\\xbb\\xe4\\xb9\\xa6\\xe8\\xae\\xb0\\xe5\\x9b\\xbd\\xe5\\xae\\xb6',\n",
       "        b'\\xe4\\xb8\\xad\\xe5\\x85\\xb1\\xe4\\xb8\\xad\\xe5\\xa4\\xae\\xe6\\x80\\xbb\\xe4\\xb9\\xa6\\xe8\\xae\\xb0\\xe5\\x9b\\xbd\\xe5\\xae\\xb6\\xe4\\xb8\\xbb',\n",
       "        b'\\xe5\\x85\\xb1\\xe4\\xb8\\xad\\xe5\\xa4\\xae\\xe6\\x80\\xbb\\xe4\\xb9\\xa6\\xe8\\xae\\xb0\\xe5\\x9b\\xbd\\xe5\\xae\\xb6\\xe4\\xb8\\xbb\\xe5\\xb8\\xad',\n",
       "        b'\\xe4\\xb8\\xad\\xe5\\xa4\\xae\\xe6\\x80\\xbb\\xe4\\xb9\\xa6\\xe8\\xae\\xb0\\xe5\\x9b\\xbd\\xe5\\xae\\xb6\\xe4\\xb8\\xbb\\xe5\\xb8\\xad\\xe4\\xb8\\xad',\n",
       "        b'\\xe5\\xa4\\xae\\xe6\\x80\\xbb\\xe4\\xb9\\xa6\\xe8\\xae\\xb0\\xe5\\x9b\\xbd\\xe5\\xae\\xb6\\xe4\\xb8\\xbb\\xe5\\xb8\\xad\\xe4\\xb8\\xad\\xe5\\xa4\\xae',\n",
       "        b'\\xe6\\x80\\xbb\\xe4\\xb9\\xa6\\xe8\\xae\\xb0\\xe5\\x9b\\xbd\\xe5\\xae\\xb6\\xe4\\xb8\\xbb\\xe5\\xb8\\xad\\xe4\\xb8\\xad\\xe5\\xa4\\xae\\xe5\\x86\\x9b',\n",
       "        b'\\xe4\\xb9\\xa6\\xe8\\xae\\xb0\\xe5\\x9b\\xbd\\xe5\\xae\\xb6\\xe4\\xb8\\xbb\\xe5\\xb8\\xad\\xe4\\xb8\\xad\\xe5\\xa4\\xae\\xe5\\x86\\x9b\\xe5\\xa7\\x94',\n",
       "        b'\\xe8\\xae\\xb0\\xe5\\x9b\\xbd\\xe5\\xae\\xb6\\xe4\\xb8\\xbb\\xe5\\xb8\\xad\\xe4\\xb8\\xad\\xe5\\xa4\\xae\\xe5\\x86\\x9b\\xe5\\xa7\\x94\\xe4\\xb8\\xbb',\n",
       "        b'\\xe5\\x9b\\xbd\\xe5\\xae\\xb6\\xe4\\xb8\\xbb\\xe5\\xb8\\xad\\xe4\\xb8\\xad\\xe5\\xa4\\xae\\xe5\\x86\\x9b\\xe5\\xa7\\x94\\xe4\\xb8\\xbb\\xe5\\xb8\\xad',\n",
       "        b'\\xe5\\xae\\xb6\\xe4\\xb8\\xbb\\xe5\\xb8\\xad\\xe4\\xb8\\xad\\xe5\\xa4\\xae\\xe5\\x86\\x9b\\xe5\\xa7\\x94\\xe4\\xb8\\xbb\\xe5\\xb8\\xad\\xe4\\xb9\\xa0',\n",
       "        b'\\xe4\\xb8\\xbb\\xe5\\xb8\\xad\\xe4\\xb8\\xad\\xe5\\xa4\\xae\\xe5\\x86\\x9b\\xe5\\xa7\\x94\\xe4\\xb8\\xbb\\xe5\\xb8\\xad\\xe4\\xb9\\xa0\\xe8\\xbf\\x91',\n",
       "        b'\\xe5\\xb8\\xad\\xe4\\xb8\\xad\\xe5\\xa4\\xae\\xe5\\x86\\x9b\\xe5\\xa7\\x94\\xe4\\xb8\\xbb\\xe5\\xb8\\xad\\xe4\\xb9\\xa0\\xe8\\xbf\\x91\\xe5\\xb9\\xb3',\n",
       "        b'\\xe4\\xb8\\xad\\xe5\\xa4\\xae\\xe5\\x86\\x9b\\xe5\\xa7\\x94\\xe4\\xb8\\xbb\\xe5\\xb8\\xad\\xe4\\xb9\\xa0\\xe8\\xbf\\x91\\xe5\\xb9\\xb3\\xe5\\x90\\x91',\n",
       "        b'\\xe5\\xa4\\xae\\xe5\\x86\\x9b\\xe5\\xa7\\x94\\xe4\\xb8\\xbb\\xe5\\xb8\\xad\\xe4\\xb9\\xa0\\xe8\\xbf\\x91\\xe5\\xb9\\xb3\\xe5\\x90\\x91\\xe9\\x99\\x86',\n",
       "        b'\\xe5\\x86\\x9b\\xe5\\xa7\\x94\\xe4\\xb8\\xbb\\xe5\\xb8\\xad\\xe4\\xb9\\xa0\\xe8\\xbf\\x91\\xe5\\xb9\\xb3\\xe5\\x90\\x91\\xe9\\x99\\x86\\xe5\\x86\\x9b',\n",
       "        b'\\xe5\\xa7\\x94\\xe4\\xb8\\xbb\\xe5\\xb8\\xad\\xe4\\xb9\\xa0\\xe8\\xbf\\x91\\xe5\\xb9\\xb3\\xe5\\x90\\x91\\xe9\\x99\\x86\\xe5\\x86\\x9b\\xe7\\x81\\xab',\n",
       "        b'\\xe4\\xb8\\xbb\\xe5\\xb8\\xad\\xe4\\xb9\\xa0\\xe8\\xbf\\x91\\xe5\\xb9\\xb3\\xe5\\x90\\x91\\xe9\\x99\\x86\\xe5\\x86\\x9b\\xe7\\x81\\xab\\xe7\\xae\\xad',\n",
       "        b'\\xe5\\xb8\\xad\\xe4\\xb9\\xa0\\xe8\\xbf\\x91\\xe5\\xb9\\xb3\\xe5\\x90\\x91\\xe9\\x99\\x86\\xe5\\x86\\x9b\\xe7\\x81\\xab\\xe7\\xae\\xad\\xe5\\x86\\x9b',\n",
       "        b'\\xe4\\xb9\\xa0\\xe8\\xbf\\x91\\xe5\\xb9\\xb3\\xe5\\x90\\x91\\xe9\\x99\\x86\\xe5\\x86\\x9b\\xe7\\x81\\xab\\xe7\\xae\\xad\\xe5\\x86\\x9b\\xe6\\x88\\x98',\n",
       "        b'\\xe8\\xbf\\x91\\xe5\\xb9\\xb3\\xe5\\x90\\x91\\xe9\\x99\\x86\\xe5\\x86\\x9b\\xe7\\x81\\xab\\xe7\\xae\\xad\\xe5\\x86\\x9b\\xe6\\x88\\x98\\xe7\\x95\\xa5',\n",
       "        b'\\xe5\\xb9\\xb3\\xe5\\x90\\x91\\xe9\\x99\\x86\\xe5\\x86\\x9b\\xe7\\x81\\xab\\xe7\\xae\\xad\\xe5\\x86\\x9b\\xe6\\x88\\x98\\xe7\\x95\\xa5\\xe6\\x94\\xaf',\n",
       "        b'\\xe5\\x90\\x91\\xe9\\x99\\x86\\xe5\\x86\\x9b\\xe7\\x81\\xab\\xe7\\xae\\xad\\xe5\\x86\\x9b\\xe6\\x88\\x98\\xe7\\x95\\xa5\\xe6\\x94\\xaf\\xe6\\x8f\\xb4',\n",
       "        b'\\xe9\\x99\\x86\\xe5\\x86\\x9b\\xe7\\x81\\xab\\xe7\\xae\\xad\\xe5\\x86\\x9b\\xe6\\x88\\x98\\xe7\\x95\\xa5\\xe6\\x94\\xaf\\xe6\\x8f\\xb4\\xe9\\x83\\xa8',\n",
       "        b'\\xe5\\x86\\x9b\\xe7\\x81\\xab\\xe7\\xae\\xad\\xe5\\x86\\x9b\\xe6\\x88\\x98\\xe7\\x95\\xa5\\xe6\\x94\\xaf\\xe6\\x8f\\xb4\\xe9\\x83\\xa8\\xe9\\x98\\x9f',\n",
       "        b'\\xe7\\x81\\xab\\xe7\\xae\\xad\\xe5\\x86\\x9b\\xe6\\x88\\x98\\xe7\\x95\\xa5\\xe6\\x94\\xaf\\xe6\\x8f\\xb4\\xe9\\x83\\xa8\\xe9\\x98\\x9f\\xe6\\x8e\\x88',\n",
       "        b'\\xe7\\xae\\xad\\xe5\\x86\\x9b\\xe6\\x88\\x98\\xe7\\x95\\xa5\\xe6\\x94\\xaf\\xe6\\x8f\\xb4\\xe9\\x83\\xa8\\xe9\\x98\\x9f\\xe6\\x8e\\x88\\xe4\\xba\\x88',\n",
       "        b'\\xe5\\x86\\x9b\\xe6\\x88\\x98\\xe7\\x95\\xa5\\xe6\\x94\\xaf\\xe6\\x8f\\xb4\\xe9\\x83\\xa8\\xe9\\x98\\x9f\\xe6\\x8e\\x88\\xe4\\xba\\x88\\xe5\\x86\\x9b',\n",
       "        b'\\xe6\\x88\\x98\\xe7\\x95\\xa5\\xe6\\x94\\xaf\\xe6\\x8f\\xb4\\xe9\\x83\\xa8\\xe9\\x98\\x9f\\xe6\\x8e\\x88\\xe4\\xba\\x88\\xe5\\x86\\x9b\\xe6\\x97\\x97',\n",
       "        b'\\xe7\\x95\\xa5\\xe6\\x94\\xaf\\xe6\\x8f\\xb4\\xe9\\x83\\xa8\\xe9\\x98\\x9f\\xe6\\x8e\\x88\\xe4\\xba\\x88\\xe5\\x86\\x9b\\xe6\\x97\\x97\\xe5\\xb9\\xb6',\n",
       "        b'\\xe6\\x94\\xaf\\xe6\\x8f\\xb4\\xe9\\x83\\xa8\\xe9\\x98\\x9f\\xe6\\x8e\\x88\\xe4\\xba\\x88\\xe5\\x86\\x9b\\xe6\\x97\\x97\\xe5\\xb9\\xb6\\xe8\\x87\\xb4',\n",
       "        b'\\xe6\\x8f\\xb4\\xe9\\x83\\xa8\\xe9\\x98\\x9f\\xe6\\x8e\\x88\\xe4\\xba\\x88\\xe5\\x86\\x9b\\xe6\\x97\\x97\\xe5\\xb9\\xb6\\xe8\\x87\\xb4\\xe8\\xae\\xad',\n",
       "        b'\\xe9\\x83\\xa8\\xe9\\x98\\x9f\\xe6\\x8e\\x88\\xe4\\xba\\x88\\xe5\\x86\\x9b\\xe6\\x97\\x97\\xe5\\xb9\\xb6\\xe8\\x87\\xb4\\xe8\\xae\\xad\\xe8\\xaf\\x8d',\n",
       "        b'\\xe9\\x98\\x9f\\xe6\\x8e\\x88\\xe4\\xba\\x88\\xe5\\x86\\x9b\\xe6\\x97\\x97\\xe5\\xb9\\xb6\\xe8\\x87\\xb4\\xe8\\xae\\xad\\xe8\\xaf\\x8d\\xe4\\xbb\\xa3',\n",
       "        b'\\xe6\\x8e\\x88\\xe4\\xba\\x88\\xe5\\x86\\x9b\\xe6\\x97\\x97\\xe5\\xb9\\xb6\\xe8\\x87\\xb4\\xe8\\xae\\xad\\xe8\\xaf\\x8d\\xe4\\xbb\\xa3\\xe8\\xa1\\xa8',\n",
       "        b'\\xe4\\xba\\x88\\xe5\\x86\\x9b\\xe6\\x97\\x97\\xe5\\xb9\\xb6\\xe8\\x87\\xb4\\xe8\\xae\\xad\\xe8\\xaf\\x8d\\xe4\\xbb\\xa3\\xe8\\xa1\\xa8\\xe5\\x85\\x9a',\n",
       "        b'\\xe5\\x86\\x9b\\xe6\\x97\\x97\\xe5\\xb9\\xb6\\xe8\\x87\\xb4\\xe8\\xae\\xad\\xe8\\xaf\\x8d\\xe4\\xbb\\xa3\\xe8\\xa1\\xa8\\xe5\\x85\\x9a\\xe4\\xb8\\xad',\n",
       "        b'\\xe6\\x97\\x97\\xe5\\xb9\\xb6\\xe8\\x87\\xb4\\xe8\\xae\\xad\\xe8\\xaf\\x8d\\xe4\\xbb\\xa3\\xe8\\xa1\\xa8\\xe5\\x85\\x9a\\xe4\\xb8\\xad\\xe5\\xa4\\xae',\n",
       "        b'\\xe5\\xb9\\xb6\\xe8\\x87\\xb4\\xe8\\xae\\xad\\xe8\\xaf\\x8d\\xe4\\xbb\\xa3\\xe8\\xa1\\xa8\\xe5\\x85\\x9a\\xe4\\xb8\\xad\\xe5\\xa4\\xae\\xe5\\x92\\x8c',\n",
       "        b'\\xe8\\x87\\xb4\\xe8\\xae\\xad\\xe8\\xaf\\x8d\\xe4\\xbb\\xa3\\xe8\\xa1\\xa8\\xe5\\x85\\x9a\\xe4\\xb8\\xad\\xe5\\xa4\\xae\\xe5\\x92\\x8c\\xe4\\xb8\\xad',\n",
       "        b'\\xe8\\xae\\xad\\xe8\\xaf\\x8d\\xe4\\xbb\\xa3\\xe8\\xa1\\xa8\\xe5\\x85\\x9a\\xe4\\xb8\\xad\\xe5\\xa4\\xae\\xe5\\x92\\x8c\\xe4\\xb8\\xad\\xe5\\xa4\\xae',\n",
       "        b'\\xe8\\xaf\\x8d\\xe4\\xbb\\xa3\\xe8\\xa1\\xa8\\xe5\\x85\\x9a\\xe4\\xb8\\xad\\xe5\\xa4\\xae\\xe5\\x92\\x8c\\xe4\\xb8\\xad\\xe5\\xa4\\xae\\xe5\\x86\\x9b',\n",
       "        b'\\xe4\\xbb\\xa3\\xe8\\xa1\\xa8\\xe5\\x85\\x9a\\xe4\\xb8\\xad\\xe5\\xa4\\xae\\xe5\\x92\\x8c\\xe4\\xb8\\xad\\xe5\\xa4\\xae\\xe5\\x86\\x9b\\xe5\\xa7\\x94',\n",
       "        b'\\xe8\\xa1\\xa8\\xe5\\x85\\x9a\\xe4\\xb8\\xad\\xe5\\xa4\\xae\\xe5\\x92\\x8c\\xe4\\xb8\\xad\\xe5\\xa4\\xae\\xe5\\x86\\x9b\\xe5\\xa7\\x94\\xe5\\x90\\x91',\n",
       "        b'\\xe5\\x85\\x9a\\xe4\\xb8\\xad\\xe5\\xa4\\xae\\xe5\\x92\\x8c\\xe4\\xb8\\xad\\xe5\\xa4\\xae\\xe5\\x86\\x9b\\xe5\\xa7\\x94\\xe5\\x90\\x91\\xe5\\x90\\x8c',\n",
       "        b'\\xe4\\xb8\\xad\\xe5\\xa4\\xae\\xe5\\x92\\x8c\\xe4\\xb8\\xad\\xe5\\xa4\\xae\\xe5\\x86\\x9b\\xe5\\xa7\\x94\\xe5\\x90\\x91\\xe5\\x90\\x8c\\xe5\\xbf\\x97',\n",
       "        b'\\xe5\\xa4\\xae\\xe5\\x92\\x8c\\xe4\\xb8\\xad\\xe5\\xa4\\xae\\xe5\\x86\\x9b\\xe5\\xa7\\x94\\xe5\\x90\\x91\\xe5\\x90\\x8c\\xe5\\xbf\\x97\\xe4\\xbb\\xac',\n",
       "        b'\\xe5\\x92\\x8c\\xe4\\xb8\\xad\\xe5\\xa4\\xae\\xe5\\x86\\x9b\\xe5\\xa7\\x94\\xe5\\x90\\x91\\xe5\\x90\\x8c\\xe5\\xbf\\x97\\xe4\\xbb\\xac\\xe5\\x90\\x91',\n",
       "        b'\\xe4\\xb8\\xad\\xe5\\xa4\\xae\\xe5\\x86\\x9b\\xe5\\xa7\\x94\\xe5\\x90\\x91\\xe5\\x90\\x8c\\xe5\\xbf\\x97\\xe4\\xbb\\xac\\xe5\\x90\\x91\\xe5\\x85\\xa8',\n",
       "        b'\\xe5\\xa4\\xae\\xe5\\x86\\x9b\\xe5\\xa7\\x94\\xe5\\x90\\x91\\xe5\\x90\\x8c\\xe5\\xbf\\x97\\xe4\\xbb\\xac\\xe5\\x90\\x91\\xe5\\x85\\xa8\\xe5\\x86\\x9b',\n",
       "        b'\\xe5\\x86\\x9b\\xe5\\xa7\\x94\\xe5\\x90\\x91\\xe5\\x90\\x8c\\xe5\\xbf\\x97\\xe4\\xbb\\xac\\xe5\\x90\\x91\\xe5\\x85\\xa8\\xe5\\x86\\x9b\\xe9\\x83\\xa8',\n",
       "        b'\\xe5\\xa7\\x94\\xe5\\x90\\x91\\xe5\\x90\\x8c\\xe5\\xbf\\x97\\xe4\\xbb\\xac\\xe5\\x90\\x91\\xe5\\x85\\xa8\\xe5\\x86\\x9b\\xe9\\x83\\xa8\\xe9\\x98\\x9f',\n",
       "        b'\\xe5\\x90\\x91\\xe5\\x90\\x8c\\xe5\\xbf\\x97\\xe4\\xbb\\xac\\xe5\\x90\\x91\\xe5\\x85\\xa8\\xe5\\x86\\x9b\\xe9\\x83\\xa8\\xe9\\x98\\x9f\\xe8\\x87\\xb4',\n",
       "        b'\\xe5\\x90\\x8c\\xe5\\xbf\\x97\\xe4\\xbb\\xac\\xe5\\x90\\x91\\xe5\\x85\\xa8\\xe5\\x86\\x9b\\xe9\\x83\\xa8\\xe9\\x98\\x9f\\xe8\\x87\\xb4\\xe4\\xbb\\xa5',\n",
       "        b'\\xe5\\xbf\\x97\\xe4\\xbb\\xac\\xe5\\x90\\x91\\xe5\\x85\\xa8\\xe5\\x86\\x9b\\xe9\\x83\\xa8\\xe9\\x98\\x9f\\xe8\\x87\\xb4\\xe4\\xbb\\xa5\\xe7\\x83\\xad',\n",
       "        b'\\xe4\\xbb\\xac\\xe5\\x90\\x91\\xe5\\x85\\xa8\\xe5\\x86\\x9b\\xe9\\x83\\xa8\\xe9\\x98\\x9f\\xe8\\x87\\xb4\\xe4\\xbb\\xa5\\xe7\\x83\\xad\\xe7\\x83\\x88',\n",
       "        b'\\xe5\\x90\\x91\\xe5\\x85\\xa8\\xe5\\x86\\x9b\\xe9\\x83\\xa8\\xe9\\x98\\x9f\\xe8\\x87\\xb4\\xe4\\xbb\\xa5\\xe7\\x83\\xad\\xe7\\x83\\x88\\xe7\\xa5\\x9d',\n",
       "        b'\\xe5\\x85\\xa8\\xe5\\x86\\x9b\\xe9\\x83\\xa8\\xe9\\x98\\x9f\\xe8\\x87\\xb4\\xe4\\xbb\\xa5\\xe7\\x83\\xad\\xe7\\x83\\x88\\xe7\\xa5\\x9d\\xe8\\xb4\\xba',\n",
       "        b'\\xe5\\x86\\x9b\\xe9\\x83\\xa8\\xe9\\x98\\x9f\\xe8\\x87\\xb4\\xe4\\xbb\\xa5\\xe7\\x83\\xad\\xe7\\x83\\x88\\xe7\\xa5\\x9d\\xe8\\xb4\\xba\\xe5\\xbc\\xba',\n",
       "        b'\\xe9\\x83\\xa8\\xe9\\x98\\x9f\\xe8\\x87\\xb4\\xe4\\xbb\\xa5\\xe7\\x83\\xad\\xe7\\x83\\x88\\xe7\\xa5\\x9d\\xe8\\xb4\\xba\\xe5\\xbc\\xba\\xe8\\xb0\\x83',\n",
       "        b'\\xe9\\x98\\x9f\\xe8\\x87\\xb4\\xe4\\xbb\\xa5\\xe7\\x83\\xad\\xe7\\x83\\x88\\xe7\\xa5\\x9d\\xe8\\xb4\\xba\\xe5\\xbc\\xba\\xe8\\xb0\\x83\\xe8\\xa6\\x81',\n",
       "        b'\\xe8\\x87\\xb4\\xe4\\xbb\\xa5\\xe7\\x83\\xad\\xe7\\x83\\x88\\xe7\\xa5\\x9d\\xe8\\xb4\\xba\\xe5\\xbc\\xba\\xe8\\xb0\\x83\\xe8\\xa6\\x81\\xe5\\x9d\\x9a',\n",
       "        b'\\xe4\\xbb\\xa5\\xe7\\x83\\xad\\xe7\\x83\\x88\\xe7\\xa5\\x9d\\xe8\\xb4\\xba\\xe5\\xbc\\xba\\xe8\\xb0\\x83\\xe8\\xa6\\x81\\xe5\\x9d\\x9a\\xe6\\x8c\\x81',\n",
       "        b'\\xe7\\x83\\xad\\xe7\\x83\\x88\\xe7\\xa5\\x9d\\xe8\\xb4\\xba\\xe5\\xbc\\xba\\xe8\\xb0\\x83\\xe8\\xa6\\x81\\xe5\\x9d\\x9a\\xe6\\x8c\\x81\\xe4\\xbb\\xa5',\n",
       "        b'\\xe7\\x83\\x88\\xe7\\xa5\\x9d\\xe8\\xb4\\xba\\xe5\\xbc\\xba\\xe8\\xb0\\x83\\xe8\\xa6\\x81\\xe5\\x9d\\x9a\\xe6\\x8c\\x81\\xe4\\xbb\\xa5\\xe5\\x85\\x9a',\n",
       "        b'\\xe7\\xa5\\x9d\\xe8\\xb4\\xba\\xe5\\xbc\\xba\\xe8\\xb0\\x83\\xe8\\xa6\\x81\\xe5\\x9d\\x9a\\xe6\\x8c\\x81\\xe4\\xbb\\xa5\\xe5\\x85\\x9a\\xe5\\x9c\\xa8',\n",
       "        b'\\xe8\\xb4\\xba\\xe5\\xbc\\xba\\xe8\\xb0\\x83\\xe8\\xa6\\x81\\xe5\\x9d\\x9a\\xe6\\x8c\\x81\\xe4\\xbb\\xa5\\xe5\\x85\\x9a\\xe5\\x9c\\xa8\\xe6\\x96\\xb0',\n",
       "        b'\\xe5\\xbc\\xba\\xe8\\xb0\\x83\\xe8\\xa6\\x81\\xe5\\x9d\\x9a\\xe6\\x8c\\x81\\xe4\\xbb\\xa5\\xe5\\x85\\x9a\\xe5\\x9c\\xa8\\xe6\\x96\\xb0\\xe5\\xbd\\xa2',\n",
       "        b'\\xe8\\xb0\\x83\\xe8\\xa6\\x81\\xe5\\x9d\\x9a\\xe6\\x8c\\x81\\xe4\\xbb\\xa5\\xe5\\x85\\x9a\\xe5\\x9c\\xa8\\xe6\\x96\\xb0\\xe5\\xbd\\xa2\\xe5\\x8a\\xbf',\n",
       "        b'\\xe8\\xa6\\x81\\xe5\\x9d\\x9a\\xe6\\x8c\\x81\\xe4\\xbb\\xa5\\xe5\\x85\\x9a\\xe5\\x9c\\xa8\\xe6\\x96\\xb0\\xe5\\xbd\\xa2\\xe5\\x8a\\xbf\\xe4\\xb8\\x8b',\n",
       "        b'\\xe5\\x9d\\x9a\\xe6\\x8c\\x81\\xe4\\xbb\\xa5\\xe5\\x85\\x9a\\xe5\\x9c\\xa8\\xe6\\x96\\xb0\\xe5\\xbd\\xa2\\xe5\\x8a\\xbf\\xe4\\xb8\\x8b\\xe7\\x9a\\x84',\n",
       "        b'\\xe6\\x8c\\x81\\xe4\\xbb\\xa5\\xe5\\x85\\x9a\\xe5\\x9c\\xa8\\xe6\\x96\\xb0\\xe5\\xbd\\xa2\\xe5\\x8a\\xbf\\xe4\\xb8\\x8b\\xe7\\x9a\\x84\\xe5\\xbc\\xba',\n",
       "        b'\\xe4\\xbb\\xa5\\xe5\\x85\\x9a\\xe5\\x9c\\xa8\\xe6\\x96\\xb0\\xe5\\xbd\\xa2\\xe5\\x8a\\xbf\\xe4\\xb8\\x8b\\xe7\\x9a\\x84\\xe5\\xbc\\xba\\xe5\\x86\\x9b',\n",
       "        b'\\xe5\\x85\\x9a\\xe5\\x9c\\xa8\\xe6\\x96\\xb0\\xe5\\xbd\\xa2\\xe5\\x8a\\xbf\\xe4\\xb8\\x8b\\xe7\\x9a\\x84\\xe5\\xbc\\xba\\xe5\\x86\\x9b\\xe7\\x9b\\xae',\n",
       "        b'\\xe5\\x9c\\xa8\\xe6\\x96\\xb0\\xe5\\xbd\\xa2\\xe5\\x8a\\xbf\\xe4\\xb8\\x8b\\xe7\\x9a\\x84\\xe5\\xbc\\xba\\xe5\\x86\\x9b\\xe7\\x9b\\xae\\xe6\\xa0\\x87',\n",
       "        b'\\xe6\\x96\\xb0\\xe5\\xbd\\xa2\\xe5\\x8a\\xbf\\xe4\\xb8\\x8b\\xe7\\x9a\\x84\\xe5\\xbc\\xba\\xe5\\x86\\x9b\\xe7\\x9b\\xae\\xe6\\xa0\\x87\\xe4\\xb8\\xba',\n",
       "        b'\\xe5\\xbd\\xa2\\xe5\\x8a\\xbf\\xe4\\xb8\\x8b\\xe7\\x9a\\x84\\xe5\\xbc\\xba\\xe5\\x86\\x9b\\xe7\\x9b\\xae\\xe6\\xa0\\x87\\xe4\\xb8\\xba\\xe5\\xbc\\x95',\n",
       "        b'\\xe5\\x8a\\xbf\\xe4\\xb8\\x8b\\xe7\\x9a\\x84\\xe5\\xbc\\xba\\xe5\\x86\\x9b\\xe7\\x9b\\xae\\xe6\\xa0\\x87\\xe4\\xb8\\xba\\xe5\\xbc\\x95\\xe9\\xa2\\x86',\n",
       "        b'\\xe4\\xb8\\x8b\\xe7\\x9a\\x84\\xe5\\xbc\\xba\\xe5\\x86\\x9b\\xe7\\x9b\\xae\\xe6\\xa0\\x87\\xe4\\xb8\\xba\\xe5\\xbc\\x95\\xe9\\xa2\\x86\\xe6\\xb7\\xb1',\n",
       "        b'\\xe7\\x9a\\x84\\xe5\\xbc\\xba\\xe5\\x86\\x9b\\xe7\\x9b\\xae\\xe6\\xa0\\x87\\xe4\\xb8\\xba\\xe5\\xbc\\x95\\xe9\\xa2\\x86\\xe6\\xb7\\xb1\\xe5\\x85\\xa5',\n",
       "        b'\\xe5\\xbc\\xba\\xe5\\x86\\x9b\\xe7\\x9b\\xae\\xe6\\xa0\\x87\\xe4\\xb8\\xba\\xe5\\xbc\\x95\\xe9\\xa2\\x86\\xe6\\xb7\\xb1\\xe5\\x85\\xa5\\xe8\\xb4\\xaf',\n",
       "        b'\\xe5\\x86\\x9b\\xe7\\x9b\\xae\\xe6\\xa0\\x87\\xe4\\xb8\\xba\\xe5\\xbc\\x95\\xe9\\xa2\\x86\\xe6\\xb7\\xb1\\xe5\\x85\\xa5\\xe8\\xb4\\xaf\\xe5\\xbd\\xbb',\n",
       "        b'\\xe7\\x9b\\xae\\xe6\\xa0\\x87\\xe4\\xb8\\xba\\xe5\\xbc\\x95\\xe9\\xa2\\x86\\xe6\\xb7\\xb1\\xe5\\x85\\xa5\\xe8\\xb4\\xaf\\xe5\\xbd\\xbb\\xe6\\x96\\xb0',\n",
       "        b'\\xe6\\xa0\\x87\\xe4\\xb8\\xba\\xe5\\xbc\\x95\\xe9\\xa2\\x86\\xe6\\xb7\\xb1\\xe5\\x85\\xa5\\xe8\\xb4\\xaf\\xe5\\xbd\\xbb\\xe6\\x96\\xb0\\xe5\\xbd\\xa2',\n",
       "        b'\\xe4\\xb8\\xba\\xe5\\xbc\\x95\\xe9\\xa2\\x86\\xe6\\xb7\\xb1\\xe5\\x85\\xa5\\xe8\\xb4\\xaf\\xe5\\xbd\\xbb\\xe6\\x96\\xb0\\xe5\\xbd\\xa2\\xe5\\x8a\\xbf',\n",
       "        b'\\xe5\\xbc\\x95\\xe9\\xa2\\x86\\xe6\\xb7\\xb1\\xe5\\x85\\xa5\\xe8\\xb4\\xaf\\xe5\\xbd\\xbb\\xe6\\x96\\xb0\\xe5\\xbd\\xa2\\xe5\\x8a\\xbf\\xe4\\xb8\\x8b',\n",
       "        b'\\xe9\\xa2\\x86\\xe6\\xb7\\xb1\\xe5\\x85\\xa5\\xe8\\xb4\\xaf\\xe5\\xbd\\xbb\\xe6\\x96\\xb0\\xe5\\xbd\\xa2\\xe5\\x8a\\xbf\\xe4\\xb8\\x8b\\xe5\\x86\\x9b',\n",
       "        b'\\xe6\\xb7\\xb1\\xe5\\x85\\xa5\\xe8\\xb4\\xaf\\xe5\\xbd\\xbb\\xe6\\x96\\xb0\\xe5\\xbd\\xa2\\xe5\\x8a\\xbf\\xe4\\xb8\\x8b\\xe5\\x86\\x9b\\xe4\\xba\\x8b',\n",
       "        b'\\xe5\\x85\\xa5\\xe8\\xb4\\xaf\\xe5\\xbd\\xbb\\xe6\\x96\\xb0\\xe5\\xbd\\xa2\\xe5\\x8a\\xbf\\xe4\\xb8\\x8b\\xe5\\x86\\x9b\\xe4\\xba\\x8b\\xe6\\x88\\x98',\n",
       "        b'\\xe8\\xb4\\xaf\\xe5\\xbd\\xbb\\xe6\\x96\\xb0\\xe5\\xbd\\xa2\\xe5\\x8a\\xbf\\xe4\\xb8\\x8b\\xe5\\x86\\x9b\\xe4\\xba\\x8b\\xe6\\x88\\x98\\xe7\\x95\\xa5',\n",
       "        b'\\xe5\\xbd\\xbb\\xe6\\x96\\xb0\\xe5\\xbd\\xa2\\xe5\\x8a\\xbf\\xe4\\xb8\\x8b\\xe5\\x86\\x9b\\xe4\\xba\\x8b\\xe6\\x88\\x98\\xe7\\x95\\xa5\\xe6\\x96\\xb9',\n",
       "        b'\\xe6\\x96\\xb0\\xe5\\xbd\\xa2\\xe5\\x8a\\xbf\\xe4\\xb8\\x8b\\xe5\\x86\\x9b\\xe4\\xba\\x8b\\xe6\\x88\\x98\\xe7\\x95\\xa5\\xe6\\x96\\xb9\\xe9\\x92\\x88',\n",
       "        b'\\xe5\\xbd\\xa2\\xe5\\x8a\\xbf\\xe4\\xb8\\x8b\\xe5\\x86\\x9b\\xe4\\xba\\x8b\\xe6\\x88\\x98\\xe7\\x95\\xa5\\xe6\\x96\\xb9\\xe9\\x92\\x88\\xe5\\x85\\xa8',\n",
       "        b'\\xe5\\x8a\\xbf\\xe4\\xb8\\x8b\\xe5\\x86\\x9b\\xe4\\xba\\x8b\\xe6\\x88\\x98\\xe7\\x95\\xa5\\xe6\\x96\\xb9\\xe9\\x92\\x88\\xe5\\x85\\xa8\\xe9\\x9d\\xa2',\n",
       "        b'\\xe4\\xb8\\x8b\\xe5\\x86\\x9b\\xe4\\xba\\x8b\\xe6\\x88\\x98\\xe7\\x95\\xa5\\xe6\\x96\\xb9\\xe9\\x92\\x88\\xe5\\x85\\xa8\\xe9\\x9d\\xa2\\xe5\\xae\\x9e',\n",
       "        b'\\xe5\\x86\\x9b\\xe4\\xba\\x8b\\xe6\\x88\\x98\\xe7\\x95\\xa5\\xe6\\x96\\xb9\\xe9\\x92\\x88\\xe5\\x85\\xa8\\xe9\\x9d\\xa2\\xe5\\xae\\x9e\\xe6\\x96\\xbd',\n",
       "        b'\\xe4\\xba\\x8b\\xe6\\x88\\x98\\xe7\\x95\\xa5\\xe6\\x96\\xb9\\xe9\\x92\\x88\\xe5\\x85\\xa8\\xe9\\x9d\\xa2\\xe5\\xae\\x9e\\xe6\\x96\\xbd\\xe6\\x94\\xb9',\n",
       "        b'\\xe6\\x88\\x98\\xe7\\x95\\xa5\\xe6\\x96\\xb9\\xe9\\x92\\x88\\xe5\\x85\\xa8\\xe9\\x9d\\xa2\\xe5\\xae\\x9e\\xe6\\x96\\xbd\\xe6\\x94\\xb9\\xe9\\x9d\\xa9',\n",
       "        b'\\xe7\\x95\\xa5\\xe6\\x96\\xb9\\xe9\\x92\\x88\\xe5\\x85\\xa8\\xe9\\x9d\\xa2\\xe5\\xae\\x9e\\xe6\\x96\\xbd\\xe6\\x94\\xb9\\xe9\\x9d\\xa9\\xe5\\xbc\\xba',\n",
       "        b'\\xe6\\x96\\xb9\\xe9\\x92\\x88\\xe5\\x85\\xa8\\xe9\\x9d\\xa2\\xe5\\xae\\x9e\\xe6\\x96\\xbd\\xe6\\x94\\xb9\\xe9\\x9d\\xa9\\xe5\\xbc\\xba\\xe5\\x86\\x9b',\n",
       "        b'\\xe9\\x92\\x88\\xe5\\x85\\xa8\\xe9\\x9d\\xa2\\xe5\\xae\\x9e\\xe6\\x96\\xbd\\xe6\\x94\\xb9\\xe9\\x9d\\xa9\\xe5\\xbc\\xba\\xe5\\x86\\x9b\\xe6\\x88\\x98',\n",
       "        b'\\xe5\\x85\\xa8\\xe9\\x9d\\xa2\\xe5\\xae\\x9e\\xe6\\x96\\xbd\\xe6\\x94\\xb9\\xe9\\x9d\\xa9\\xe5\\xbc\\xba\\xe5\\x86\\x9b\\xe6\\x88\\x98\\xe7\\x95\\xa5',\n",
       "        b'\\xe9\\x9d\\xa2\\xe5\\xae\\x9e\\xe6\\x96\\xbd\\xe6\\x94\\xb9\\xe9\\x9d\\xa9\\xe5\\xbc\\xba\\xe5\\x86\\x9b\\xe6\\x88\\x98\\xe7\\x95\\xa5\\xe5\\x9d\\x9a',\n",
       "        b'\\xe5\\xae\\x9e\\xe6\\x96\\xbd\\xe6\\x94\\xb9\\xe9\\x9d\\xa9\\xe5\\xbc\\xba\\xe5\\x86\\x9b\\xe6\\x88\\x98\\xe7\\x95\\xa5\\xe5\\x9d\\x9a\\xe5\\xae\\x9a',\n",
       "        b'\\xe6\\x96\\xbd\\xe6\\x94\\xb9\\xe9\\x9d\\xa9\\xe5\\xbc\\xba\\xe5\\x86\\x9b\\xe6\\x88\\x98\\xe7\\x95\\xa5\\xe5\\x9d\\x9a\\xe5\\xae\\x9a\\xe4\\xb8\\x8d',\n",
       "        b'\\xe6\\x94\\xb9\\xe9\\x9d\\xa9\\xe5\\xbc\\xba\\xe5\\x86\\x9b\\xe6\\x88\\x98\\xe7\\x95\\xa5\\xe5\\x9d\\x9a\\xe5\\xae\\x9a\\xe4\\xb8\\x8d\\xe7\\xa7\\xbb',\n",
       "        b'\\xe9\\x9d\\xa9\\xe5\\xbc\\xba\\xe5\\x86\\x9b\\xe6\\x88\\x98\\xe7\\x95\\xa5\\xe5\\x9d\\x9a\\xe5\\xae\\x9a\\xe4\\xb8\\x8d\\xe7\\xa7\\xbb\\xe8\\xb5\\xb0',\n",
       "        b'\\xe5\\xbc\\xba\\xe5\\x86\\x9b\\xe6\\x88\\x98\\xe7\\x95\\xa5\\xe5\\x9d\\x9a\\xe5\\xae\\x9a\\xe4\\xb8\\x8d\\xe7\\xa7\\xbb\\xe8\\xb5\\xb0\\xe4\\xb8\\xad',\n",
       "        b'\\xe5\\x86\\x9b\\xe6\\x88\\x98\\xe7\\x95\\xa5\\xe5\\x9d\\x9a\\xe5\\xae\\x9a\\xe4\\xb8\\x8d\\xe7\\xa7\\xbb\\xe8\\xb5\\xb0\\xe4\\xb8\\xad\\xe5\\x9b\\xbd',\n",
       "        b'\\xe6\\x88\\x98\\xe7\\x95\\xa5\\xe5\\x9d\\x9a\\xe5\\xae\\x9a\\xe4\\xb8\\x8d\\xe7\\xa7\\xbb\\xe8\\xb5\\xb0\\xe4\\xb8\\xad\\xe5\\x9b\\xbd\\xe7\\x89\\xb9',\n",
       "        b'\\xe7\\x95\\xa5\\xe5\\x9d\\x9a\\xe5\\xae\\x9a\\xe4\\xb8\\x8d\\xe7\\xa7\\xbb\\xe8\\xb5\\xb0\\xe4\\xb8\\xad\\xe5\\x9b\\xbd\\xe7\\x89\\xb9\\xe8\\x89\\xb2',\n",
       "        b'\\xe5\\x9d\\x9a\\xe5\\xae\\x9a\\xe4\\xb8\\x8d\\xe7\\xa7\\xbb\\xe8\\xb5\\xb0\\xe4\\xb8\\xad\\xe5\\x9b\\xbd\\xe7\\x89\\xb9\\xe8\\x89\\xb2\\xe5\\xbc\\xba',\n",
       "        b'\\xe5\\xae\\x9a\\xe4\\xb8\\x8d\\xe7\\xa7\\xbb\\xe8\\xb5\\xb0\\xe4\\xb8\\xad\\xe5\\x9b\\xbd\\xe7\\x89\\xb9\\xe8\\x89\\xb2\\xe5\\xbc\\xba\\xe5\\x86\\x9b',\n",
       "        b'\\xe4\\xb8\\x8d\\xe7\\xa7\\xbb\\xe8\\xb5\\xb0\\xe4\\xb8\\xad\\xe5\\x9b\\xbd\\xe7\\x89\\xb9\\xe8\\x89\\xb2\\xe5\\xbc\\xba\\xe5\\x86\\x9b\\xe4\\xb9\\x8b',\n",
       "        b'\\xe7\\xa7\\xbb\\xe8\\xb5\\xb0\\xe4\\xb8\\xad\\xe5\\x9b\\xbd\\xe7\\x89\\xb9\\xe8\\x89\\xb2\\xe5\\xbc\\xba\\xe5\\x86\\x9b\\xe4\\xb9\\x8b\\xe8\\xb7\\xaf',\n",
       "        b'\\xe8\\xb5\\xb0\\xe4\\xb8\\xad\\xe5\\x9b\\xbd\\xe7\\x89\\xb9\\xe8\\x89\\xb2\\xe5\\xbc\\xba\\xe5\\x86\\x9b\\xe4\\xb9\\x8b\\xe8\\xb7\\xaf\\xe6\\x97\\xb6',\n",
       "        b'\\xe4\\xb8\\xad\\xe5\\x9b\\xbd\\xe7\\x89\\xb9\\xe8\\x89\\xb2\\xe5\\xbc\\xba\\xe5\\x86\\x9b\\xe4\\xb9\\x8b\\xe8\\xb7\\xaf\\xe6\\x97\\xb6\\xe5\\x88\\xbb',\n",
       "        b'\\xe5\\x9b\\xbd\\xe7\\x89\\xb9\\xe8\\x89\\xb2\\xe5\\xbc\\xba\\xe5\\x86\\x9b\\xe4\\xb9\\x8b\\xe8\\xb7\\xaf\\xe6\\x97\\xb6\\xe5\\x88\\xbb\\xe5\\x90\\xac',\n",
       "        b'\\xe7\\x89\\xb9\\xe8\\x89\\xb2\\xe5\\xbc\\xba\\xe5\\x86\\x9b\\xe4\\xb9\\x8b\\xe8\\xb7\\xaf\\xe6\\x97\\xb6\\xe5\\x88\\xbb\\xe5\\x90\\xac\\xe4\\xbb\\x8e',\n",
       "        b'\\xe8\\x89\\xb2\\xe5\\xbc\\xba\\xe5\\x86\\x9b\\xe4\\xb9\\x8b\\xe8\\xb7\\xaf\\xe6\\x97\\xb6\\xe5\\x88\\xbb\\xe5\\x90\\xac\\xe4\\xbb\\x8e\\xe5\\x85\\x9a',\n",
       "        b'\\xe5\\xbc\\xba\\xe5\\x86\\x9b\\xe4\\xb9\\x8b\\xe8\\xb7\\xaf\\xe6\\x97\\xb6\\xe5\\x88\\xbb\\xe5\\x90\\xac\\xe4\\xbb\\x8e\\xe5\\x85\\x9a\\xe5\\x92\\x8c',\n",
       "        b'\\xe5\\x86\\x9b\\xe4\\xb9\\x8b\\xe8\\xb7\\xaf\\xe6\\x97\\xb6\\xe5\\x88\\xbb\\xe5\\x90\\xac\\xe4\\xbb\\x8e\\xe5\\x85\\x9a\\xe5\\x92\\x8c\\xe4\\xba\\xba',\n",
       "        b'\\xe4\\xb9\\x8b\\xe8\\xb7\\xaf\\xe6\\x97\\xb6\\xe5\\x88\\xbb\\xe5\\x90\\xac\\xe4\\xbb\\x8e\\xe5\\x85\\x9a\\xe5\\x92\\x8c\\xe4\\xba\\xba\\xe6\\xb0\\x91',\n",
       "        b'\\xe8\\xb7\\xaf\\xe6\\x97\\xb6\\xe5\\x88\\xbb\\xe5\\x90\\xac\\xe4\\xbb\\x8e\\xe5\\x85\\x9a\\xe5\\x92\\x8c\\xe4\\xba\\xba\\xe6\\xb0\\x91\\xe5\\x8f\\xac',\n",
       "        b'\\xe6\\x97\\xb6\\xe5\\x88\\xbb\\xe5\\x90\\xac\\xe4\\xbb\\x8e\\xe5\\x85\\x9a\\xe5\\x92\\x8c\\xe4\\xba\\xba\\xe6\\xb0\\x91\\xe5\\x8f\\xac\\xe5\\x94\\xa4',\n",
       "        b'\\xe5\\x88\\xbb\\xe5\\x90\\xac\\xe4\\xbb\\x8e\\xe5\\x85\\x9a\\xe5\\x92\\x8c\\xe4\\xba\\xba\\xe6\\xb0\\x91\\xe5\\x8f\\xac\\xe5\\x94\\xa4\\xe5\\xbf\\xa0',\n",
       "        b'\\xe5\\x90\\xac\\xe4\\xbb\\x8e\\xe5\\x85\\x9a\\xe5\\x92\\x8c\\xe4\\xba\\xba\\xe6\\xb0\\x91\\xe5\\x8f\\xac\\xe5\\x94\\xa4\\xe5\\xbf\\xa0\\xe5\\xae\\x9e',\n",
       "        b'\\xe4\\xbb\\x8e\\xe5\\x85\\x9a\\xe5\\x92\\x8c\\xe4\\xba\\xba\\xe6\\xb0\\x91\\xe5\\x8f\\xac\\xe5\\x94\\xa4\\xe5\\xbf\\xa0\\xe5\\xae\\x9e\\xe5\\xb1\\xa5',\n",
       "        b'\\xe5\\x85\\x9a\\xe5\\x92\\x8c\\xe4\\xba\\xba\\xe6\\xb0\\x91\\xe5\\x8f\\xac\\xe5\\x94\\xa4\\xe5\\xbf\\xa0\\xe5\\xae\\x9e\\xe5\\xb1\\xa5\\xe8\\xa1\\x8c',\n",
       "        b'\\xe5\\x92\\x8c\\xe4\\xba\\xba\\xe6\\xb0\\x91\\xe5\\x8f\\xac\\xe5\\x94\\xa4\\xe5\\xbf\\xa0\\xe5\\xae\\x9e\\xe5\\xb1\\xa5\\xe8\\xa1\\x8c\\xe5\\x85\\x9a',\n",
       "        b'\\xe4\\xba\\xba\\xe6\\xb0\\x91\\xe5\\x8f\\xac\\xe5\\x94\\xa4\\xe5\\xbf\\xa0\\xe5\\xae\\x9e\\xe5\\xb1\\xa5\\xe8\\xa1\\x8c\\xe5\\x85\\x9a\\xe5\\x92\\x8c',\n",
       "        b'\\xe6\\xb0\\x91\\xe5\\x8f\\xac\\xe5\\x94\\xa4\\xe5\\xbf\\xa0\\xe5\\xae\\x9e\\xe5\\xb1\\xa5\\xe8\\xa1\\x8c\\xe5\\x85\\x9a\\xe5\\x92\\x8c\\xe4\\xba\\xba',\n",
       "        b'\\xe5\\x8f\\xac\\xe5\\x94\\xa4\\xe5\\xbf\\xa0\\xe5\\xae\\x9e\\xe5\\xb1\\xa5\\xe8\\xa1\\x8c\\xe5\\x85\\x9a\\xe5\\x92\\x8c\\xe4\\xba\\xba\\xe6\\xb0\\x91',\n",
       "        b'\\xe5\\x94\\xa4\\xe5\\xbf\\xa0\\xe5\\xae\\x9e\\xe5\\xb1\\xa5\\xe8\\xa1\\x8c\\xe5\\x85\\x9a\\xe5\\x92\\x8c\\xe4\\xba\\xba\\xe6\\xb0\\x91\\xe8\\xb5\\x8b',\n",
       "        b'\\xe5\\xbf\\xa0\\xe5\\xae\\x9e\\xe5\\xb1\\xa5\\xe8\\xa1\\x8c\\xe5\\x85\\x9a\\xe5\\x92\\x8c\\xe4\\xba\\xba\\xe6\\xb0\\x91\\xe8\\xb5\\x8b\\xe4\\xba\\x88',\n",
       "        b'\\xe5\\xae\\x9e\\xe5\\xb1\\xa5\\xe8\\xa1\\x8c\\xe5\\x85\\x9a\\xe5\\x92\\x8c\\xe4\\xba\\xba\\xe6\\xb0\\x91\\xe8\\xb5\\x8b\\xe4\\xba\\x88\\xe7\\x9a\\x84',\n",
       "        b'\\xe5\\xb1\\xa5\\xe8\\xa1\\x8c\\xe5\\x85\\x9a\\xe5\\x92\\x8c\\xe4\\xba\\xba\\xe6\\xb0\\x91\\xe8\\xb5\\x8b\\xe4\\xba\\x88\\xe7\\x9a\\x84\\xe7\\xa5\\x9e',\n",
       "        b'\\xe8\\xa1\\x8c\\xe5\\x85\\x9a\\xe5\\x92\\x8c\\xe4\\xba\\xba\\xe6\\xb0\\x91\\xe8\\xb5\\x8b\\xe4\\xba\\x88\\xe7\\x9a\\x84\\xe7\\xa5\\x9e\\xe5\\x9c\\xa3',\n",
       "        b'\\xe5\\x85\\x9a\\xe5\\x92\\x8c\\xe4\\xba\\xba\\xe6\\xb0\\x91\\xe8\\xb5\\x8b\\xe4\\xba\\x88\\xe7\\x9a\\x84\\xe7\\xa5\\x9e\\xe5\\x9c\\xa3\\xe4\\xbd\\xbf',\n",
       "        b'\\xe5\\x92\\x8c\\xe4\\xba\\xba\\xe6\\xb0\\x91\\xe8\\xb5\\x8b\\xe4\\xba\\x88\\xe7\\x9a\\x84\\xe7\\xa5\\x9e\\xe5\\x9c\\xa3\\xe4\\xbd\\xbf\\xe5\\x91\\xbd',\n",
       "        b'\\xe4\\xba\\xba\\xe6\\xb0\\x91\\xe8\\xb5\\x8b\\xe4\\xba\\x88\\xe7\\x9a\\x84\\xe7\\xa5\\x9e\\xe5\\x9c\\xa3\\xe4\\xbd\\xbf\\xe5\\x91\\xbd\\xe4\\xb8\\xba',\n",
       "        b'\\xe6\\xb0\\x91\\xe8\\xb5\\x8b\\xe4\\xba\\x88\\xe7\\x9a\\x84\\xe7\\xa5\\x9e\\xe5\\x9c\\xa3\\xe4\\xbd\\xbf\\xe5\\x91\\xbd\\xe4\\xb8\\xba\\xe5\\xae\\x9e',\n",
       "        b'\\xe8\\xb5\\x8b\\xe4\\xba\\x88\\xe7\\x9a\\x84\\xe7\\xa5\\x9e\\xe5\\x9c\\xa3\\xe4\\xbd\\xbf\\xe5\\x91\\xbd\\xe4\\xb8\\xba\\xe5\\xae\\x9e\\xe7\\x8e\\xb0',\n",
       "        b'\\xe4\\xba\\x88\\xe7\\x9a\\x84\\xe7\\xa5\\x9e\\xe5\\x9c\\xa3\\xe4\\xbd\\xbf\\xe5\\x91\\xbd\\xe4\\xb8\\xba\\xe5\\xae\\x9e\\xe7\\x8e\\xb0\\xe4\\xb8\\xad',\n",
       "        b'\\xe7\\x9a\\x84\\xe7\\xa5\\x9e\\xe5\\x9c\\xa3\\xe4\\xbd\\xbf\\xe5\\x91\\xbd\\xe4\\xb8\\xba\\xe5\\xae\\x9e\\xe7\\x8e\\xb0\\xe4\\xb8\\xad\\xe5\\x9b\\xbd',\n",
       "        b'\\xe7\\xa5\\x9e\\xe5\\x9c\\xa3\\xe4\\xbd\\xbf\\xe5\\x91\\xbd\\xe4\\xb8\\xba\\xe5\\xae\\x9e\\xe7\\x8e\\xb0\\xe4\\xb8\\xad\\xe5\\x9b\\xbd\\xe6\\xa2\\xa6',\n",
       "        b'\\xe5\\x9c\\xa3\\xe4\\xbd\\xbf\\xe5\\x91\\xbd\\xe4\\xb8\\xba\\xe5\\xae\\x9e\\xe7\\x8e\\xb0\\xe4\\xb8\\xad\\xe5\\x9b\\xbd\\xe6\\xa2\\xa6\\xe5\\xbc\\xba',\n",
       "        b'\\xe4\\xbd\\xbf\\xe5\\x91\\xbd\\xe4\\xb8\\xba\\xe5\\xae\\x9e\\xe7\\x8e\\xb0\\xe4\\xb8\\xad\\xe5\\x9b\\xbd\\xe6\\xa2\\xa6\\xe5\\xbc\\xba\\xe5\\x86\\x9b',\n",
       "        b'\\xe5\\x91\\xbd\\xe4\\xb8\\xba\\xe5\\xae\\x9e\\xe7\\x8e\\xb0\\xe4\\xb8\\xad\\xe5\\x9b\\xbd\\xe6\\xa2\\xa6\\xe5\\xbc\\xba\\xe5\\x86\\x9b\\xe6\\xa2\\xa6',\n",
       "        b'\\xe4\\xb8\\xba\\xe5\\xae\\x9e\\xe7\\x8e\\xb0\\xe4\\xb8\\xad\\xe5\\x9b\\xbd\\xe6\\xa2\\xa6\\xe5\\xbc\\xba\\xe5\\x86\\x9b\\xe6\\xa2\\xa6\\xe4\\xbd\\x9c',\n",
       "        b'\\xe5\\xae\\x9e\\xe7\\x8e\\xb0\\xe4\\xb8\\xad\\xe5\\x9b\\xbd\\xe6\\xa2\\xa6\\xe5\\xbc\\xba\\xe5\\x86\\x9b\\xe6\\xa2\\xa6\\xe4\\xbd\\x9c\\xe5\\x87\\xba',\n",
       "        b'\\xe7\\x8e\\xb0\\xe4\\xb8\\xad\\xe5\\x9b\\xbd\\xe6\\xa2\\xa6\\xe5\\xbc\\xba\\xe5\\x86\\x9b\\xe6\\xa2\\xa6\\xe4\\xbd\\x9c\\xe5\\x87\\xba\\xe6\\x96\\xb0',\n",
       "        b'\\xe4\\xb8\\xad\\xe5\\x9b\\xbd\\xe6\\xa2\\xa6\\xe5\\xbc\\xba\\xe5\\x86\\x9b\\xe6\\xa2\\xa6\\xe4\\xbd\\x9c\\xe5\\x87\\xba\\xe6\\x96\\xb0\\xe7\\x9a\\x84',\n",
       "        b'\\xe5\\x9b\\xbd\\xe6\\xa2\\xa6\\xe5\\xbc\\xba\\xe5\\x86\\x9b\\xe6\\xa2\\xa6\\xe4\\xbd\\x9c\\xe5\\x87\\xba\\xe6\\x96\\xb0\\xe7\\x9a\\x84\\xe6\\x9b\\xb4',\n",
       "        b'\\xe6\\xa2\\xa6\\xe5\\xbc\\xba\\xe5\\x86\\x9b\\xe6\\xa2\\xa6\\xe4\\xbd\\x9c\\xe5\\x87\\xba\\xe6\\x96\\xb0\\xe7\\x9a\\x84\\xe6\\x9b\\xb4\\xe5\\xa4\\xa7',\n",
       "        b'\\xe5\\xbc\\xba\\xe5\\x86\\x9b\\xe6\\xa2\\xa6\\xe4\\xbd\\x9c\\xe5\\x87\\xba\\xe6\\x96\\xb0\\xe7\\x9a\\x84\\xe6\\x9b\\xb4\\xe5\\xa4\\xa7\\xe7\\x9a\\x84',\n",
       "        b'\\xe5\\x86\\x9b\\xe6\\xa2\\xa6\\xe4\\xbd\\x9c\\xe5\\x87\\xba\\xe6\\x96\\xb0\\xe7\\x9a\\x84\\xe6\\x9b\\xb4\\xe5\\xa4\\xa7\\xe7\\x9a\\x84\\xe8\\xb4\\xa1',\n",
       "        b'\\xe6\\xa2\\xa6\\xe4\\xbd\\x9c\\xe5\\x87\\xba\\xe6\\x96\\xb0\\xe7\\x9a\\x84\\xe6\\x9b\\xb4\\xe5\\xa4\\xa7\\xe7\\x9a\\x84\\xe8\\xb4\\xa1\\xe7\\x8c\\xae',\n",
       "        b'\\xe4\\xbd\\x9c\\xe5\\x87\\xba\\xe6\\x96\\xb0\\xe7\\x9a\\x84\\xe6\\x9b\\xb4\\xe5\\xa4\\xa7\\xe7\\x9a\\x84\\xe8\\xb4\\xa1\\xe7\\x8c\\xae\\xe4\\xb8\\x8b',\n",
       "        b'\\xe5\\x87\\xba\\xe6\\x96\\xb0\\xe7\\x9a\\x84\\xe6\\x9b\\xb4\\xe5\\xa4\\xa7\\xe7\\x9a\\x84\\xe8\\xb4\\xa1\\xe7\\x8c\\xae\\xe4\\xb8\\x8b\\xe5\\x8d\\x88',\n",
       "        b'\\xe6\\x96\\xb0\\xe7\\x9a\\x84\\xe6\\x9b\\xb4\\xe5\\xa4\\xa7\\xe7\\x9a\\x84\\xe8\\xb4\\xa1\\xe7\\x8c\\xae\\xe4\\xb8\\x8b\\xe5\\x8d\\x88\\xe6\\x97\\xb6',\n",
       "        b'\\xe7\\x9a\\x84\\xe6\\x9b\\xb4\\xe5\\xa4\\xa7\\xe7\\x9a\\x84\\xe8\\xb4\\xa1\\xe7\\x8c\\xae\\xe4\\xb8\\x8b\\xe5\\x8d\\x88\\xe6\\x97\\xb6\\xe6\\x88\\x90',\n",
       "        b'\\xe6\\x9b\\xb4\\xe5\\xa4\\xa7\\xe7\\x9a\\x84\\xe8\\xb4\\xa1\\xe7\\x8c\\xae\\xe4\\xb8\\x8b\\xe5\\x8d\\x88\\xe6\\x97\\xb6\\xe6\\x88\\x90\\xe7\\xab\\x8b',\n",
       "        b'\\xe5\\xa4\\xa7\\xe7\\x9a\\x84\\xe8\\xb4\\xa1\\xe7\\x8c\\xae\\xe4\\xb8\\x8b\\xe5\\x8d\\x88\\xe6\\x97\\xb6\\xe6\\x88\\x90\\xe7\\xab\\x8b\\xe5\\xa4\\xa7',\n",
       "        b'\\xe7\\x9a\\x84\\xe8\\xb4\\xa1\\xe7\\x8c\\xae\\xe4\\xb8\\x8b\\xe5\\x8d\\x88\\xe6\\x97\\xb6\\xe6\\x88\\x90\\xe7\\xab\\x8b\\xe5\\xa4\\xa7\\xe4\\xbc\\x9a',\n",
       "        b'\\xe8\\xb4\\xa1\\xe7\\x8c\\xae\\xe4\\xb8\\x8b\\xe5\\x8d\\x88\\xe6\\x97\\xb6\\xe6\\x88\\x90\\xe7\\xab\\x8b\\xe5\\xa4\\xa7\\xe4\\xbc\\x9a\\xe5\\xbc\\x80',\n",
       "        b'\\xe7\\x8c\\xae\\xe4\\xb8\\x8b\\xe5\\x8d\\x88\\xe6\\x97\\xb6\\xe6\\x88\\x90\\xe7\\xab\\x8b\\xe5\\xa4\\xa7\\xe4\\xbc\\x9a\\xe5\\xbc\\x80\\xe5\\xa7\\x8b',\n",
       "        b'\\xe4\\xb8\\x8b\\xe5\\x8d\\x88\\xe6\\x97\\xb6\\xe6\\x88\\x90\\xe7\\xab\\x8b\\xe5\\xa4\\xa7\\xe4\\xbc\\x9a\\xe5\\xbc\\x80\\xe5\\xa7\\x8b\\xe5\\x85\\xa8',\n",
       "        b'\\xe5\\x8d\\x88\\xe6\\x97\\xb6\\xe6\\x88\\x90\\xe7\\xab\\x8b\\xe5\\xa4\\xa7\\xe4\\xbc\\x9a\\xe5\\xbc\\x80\\xe5\\xa7\\x8b\\xe5\\x85\\xa8\\xe5\\x9c\\xba',\n",
       "        b'\\xe6\\x97\\xb6\\xe6\\x88\\x90\\xe7\\xab\\x8b\\xe5\\xa4\\xa7\\xe4\\xbc\\x9a\\xe5\\xbc\\x80\\xe5\\xa7\\x8b\\xe5\\x85\\xa8\\xe5\\x9c\\xba\\xe9\\xab\\x98',\n",
       "        b'\\xe6\\x88\\x90\\xe7\\xab\\x8b\\xe5\\xa4\\xa7\\xe4\\xbc\\x9a\\xe5\\xbc\\x80\\xe5\\xa7\\x8b\\xe5\\x85\\xa8\\xe5\\x9c\\xba\\xe9\\xab\\x98\\xe5\\x94\\xb1',\n",
       "        b'\\xe7\\xab\\x8b\\xe5\\xa4\\xa7\\xe4\\xbc\\x9a\\xe5\\xbc\\x80\\xe5\\xa7\\x8b\\xe5\\x85\\xa8\\xe5\\x9c\\xba\\xe9\\xab\\x98\\xe5\\x94\\xb1\\xe5\\x9b\\xbd',\n",
       "        b'\\xe5\\xa4\\xa7\\xe4\\xbc\\x9a\\xe5\\xbc\\x80\\xe5\\xa7\\x8b\\xe5\\x85\\xa8\\xe5\\x9c\\xba\\xe9\\xab\\x98\\xe5\\x94\\xb1\\xe5\\x9b\\xbd\\xe6\\xad\\x8c',\n",
       "        b'\\xe4\\xbc\\x9a\\xe5\\xbc\\x80\\xe5\\xa7\\x8b\\xe5\\x85\\xa8\\xe5\\x9c\\xba\\xe9\\xab\\x98\\xe5\\x94\\xb1\\xe5\\x9b\\xbd\\xe6\\xad\\x8c\\xe4\\xbb\\xaa',\n",
       "        b'\\xe5\\xbc\\x80\\xe5\\xa7\\x8b\\xe5\\x85\\xa8\\xe5\\x9c\\xba\\xe9\\xab\\x98\\xe5\\x94\\xb1\\xe5\\x9b\\xbd\\xe6\\xad\\x8c\\xe4\\xbb\\xaa\\xe4\\xbb\\x97',\n",
       "        b'\\xe5\\xa7\\x8b\\xe5\\x85\\xa8\\xe5\\x9c\\xba\\xe9\\xab\\x98\\xe5\\x94\\xb1\\xe5\\x9b\\xbd\\xe6\\xad\\x8c\\xe4\\xbb\\xaa\\xe4\\xbb\\x97\\xe7\\xa4\\xbc',\n",
       "        b'\\xe5\\x85\\xa8\\xe5\\x9c\\xba\\xe9\\xab\\x98\\xe5\\x94\\xb1\\xe5\\x9b\\xbd\\xe6\\xad\\x8c\\xe4\\xbb\\xaa\\xe4\\xbb\\x97\\xe7\\xa4\\xbc\\xe5\\x85\\xb5',\n",
       "        b'\\xe5\\x9c\\xba\\xe9\\xab\\x98\\xe5\\x94\\xb1\\xe5\\x9b\\xbd\\xe6\\xad\\x8c\\xe4\\xbb\\xaa\\xe4\\xbb\\x97\\xe7\\xa4\\xbc\\xe5\\x85\\xb5\\xe6\\x8a\\xa4',\n",
       "        b'\\xe9\\xab\\x98\\xe5\\x94\\xb1\\xe5\\x9b\\xbd\\xe6\\xad\\x8c\\xe4\\xbb\\xaa\\xe4\\xbb\\x97\\xe7\\xa4\\xbc\\xe5\\x85\\xb5\\xe6\\x8a\\xa4\\xe5\\x8d\\xab',\n",
       "        b'\\xe5\\x94\\xb1\\xe5\\x9b\\xbd\\xe6\\xad\\x8c\\xe4\\xbb\\xaa\\xe4\\xbb\\x97\\xe7\\xa4\\xbc\\xe5\\x85\\xb5\\xe6\\x8a\\xa4\\xe5\\x8d\\xab\\xe7\\x9d\\x80',\n",
       "        b'\\xe5\\x9b\\xbd\\xe6\\xad\\x8c\\xe4\\xbb\\xaa\\xe4\\xbb\\x97\\xe7\\xa4\\xbc\\xe5\\x85\\xb5\\xe6\\x8a\\xa4\\xe5\\x8d\\xab\\xe7\\x9d\\x80\\xe9\\xb2\\x9c',\n",
       "        b'\\xe6\\xad\\x8c\\xe4\\xbb\\xaa\\xe4\\xbb\\x97\\xe7\\xa4\\xbc\\xe5\\x85\\xb5\\xe6\\x8a\\xa4\\xe5\\x8d\\xab\\xe7\\x9d\\x80\\xe9\\xb2\\x9c\\xe8\\x89\\xb3',\n",
       "        b'\\xe4\\xbb\\xaa\\xe4\\xbb\\x97\\xe7\\xa4\\xbc\\xe5\\x85\\xb5\\xe6\\x8a\\xa4\\xe5\\x8d\\xab\\xe7\\x9d\\x80\\xe9\\xb2\\x9c\\xe8\\x89\\xb3\\xe5\\x86\\x9b',\n",
       "        b'\\xe4\\xbb\\x97\\xe7\\xa4\\xbc\\xe5\\x85\\xb5\\xe6\\x8a\\xa4\\xe5\\x8d\\xab\\xe7\\x9d\\x80\\xe9\\xb2\\x9c\\xe8\\x89\\xb3\\xe5\\x86\\x9b\\xe6\\x97\\x97',\n",
       "        b'\\xe7\\xa4\\xbc\\xe5\\x85\\xb5\\xe6\\x8a\\xa4\\xe5\\x8d\\xab\\xe7\\x9d\\x80\\xe9\\xb2\\x9c\\xe8\\x89\\xb3\\xe5\\x86\\x9b\\xe6\\x97\\x97\\xe6\\xad\\xa3',\n",
       "        b'\\xe5\\x85\\xb5\\xe6\\x8a\\xa4\\xe5\\x8d\\xab\\xe7\\x9d\\x80\\xe9\\xb2\\x9c\\xe8\\x89\\xb3\\xe5\\x86\\x9b\\xe6\\x97\\x97\\xe6\\xad\\xa3\\xe6\\xad\\xa5',\n",
       "        b'\\xe6\\x8a\\xa4\\xe5\\x8d\\xab\\xe7\\x9d\\x80\\xe9\\xb2\\x9c\\xe8\\x89\\xb3\\xe5\\x86\\x9b\\xe6\\x97\\x97\\xe6\\xad\\xa3\\xe6\\xad\\xa5\\xe8\\xa1\\x8c',\n",
       "        b'\\xe5\\x8d\\xab\\xe7\\x9d\\x80\\xe9\\xb2\\x9c\\xe8\\x89\\xb3\\xe5\\x86\\x9b\\xe6\\x97\\x97\\xe6\\xad\\xa3\\xe6\\xad\\xa5\\xe8\\xa1\\x8c\\xe8\\xbf\\x9b',\n",
       "        b'\\xe7\\x9d\\x80\\xe9\\xb2\\x9c\\xe8\\x89\\xb3\\xe5\\x86\\x9b\\xe6\\x97\\x97\\xe6\\xad\\xa3\\xe6\\xad\\xa5\\xe8\\xa1\\x8c\\xe8\\xbf\\x9b\\xe5\\x88\\xb0',\n",
       "        b'\\xe9\\xb2\\x9c\\xe8\\x89\\xb3\\xe5\\x86\\x9b\\xe6\\x97\\x97\\xe6\\xad\\xa3\\xe6\\xad\\xa5\\xe8\\xa1\\x8c\\xe8\\xbf\\x9b\\xe5\\x88\\xb0\\xe4\\xb8\\xbb',\n",
       "        b'\\xe8\\x89\\xb3\\xe5\\x86\\x9b\\xe6\\x97\\x97\\xe6\\xad\\xa3\\xe6\\xad\\xa5\\xe8\\xa1\\x8c\\xe8\\xbf\\x9b\\xe5\\x88\\xb0\\xe4\\xb8\\xbb\\xe5\\xb8\\xad',\n",
       "        b'\\xe5\\x86\\x9b\\xe6\\x97\\x97\\xe6\\xad\\xa3\\xe6\\xad\\xa5\\xe8\\xa1\\x8c\\xe8\\xbf\\x9b\\xe5\\x88\\xb0\\xe4\\xb8\\xbb\\xe5\\xb8\\xad\\xe5\\x8f\\xb0',\n",
       "        b'\\xe6\\x97\\x97\\xe6\\xad\\xa3\\xe6\\xad\\xa5\\xe8\\xa1\\x8c\\xe8\\xbf\\x9b\\xe5\\x88\\xb0\\xe4\\xb8\\xbb\\xe5\\xb8\\xad\\xe5\\x8f\\xb0\\xe5\\x89\\x8d',\n",
       "        b'\\xe6\\xad\\xa3\\xe6\\xad\\xa5\\xe8\\xa1\\x8c\\xe8\\xbf\\x9b\\xe5\\x88\\xb0\\xe4\\xb8\\xbb\\xe5\\xb8\\xad\\xe5\\x8f\\xb0\\xe5\\x89\\x8d\\xe4\\xb9\\xa0',\n",
       "        b'\\xe6\\xad\\xa5\\xe8\\xa1\\x8c\\xe8\\xbf\\x9b\\xe5\\x88\\xb0\\xe4\\xb8\\xbb\\xe5\\xb8\\xad\\xe5\\x8f\\xb0\\xe5\\x89\\x8d\\xe4\\xb9\\xa0\\xe8\\xbf\\x91',\n",
       "        b'\\xe8\\xa1\\x8c\\xe8\\xbf\\x9b\\xe5\\x88\\xb0\\xe4\\xb8\\xbb\\xe5\\xb8\\xad\\xe5\\x8f\\xb0\\xe5\\x89\\x8d\\xe4\\xb9\\xa0\\xe8\\xbf\\x91\\xe5\\xb9\\xb3',\n",
       "        b'\\xe8\\xbf\\x9b\\xe5\\x88\\xb0\\xe4\\xb8\\xbb\\xe5\\xb8\\xad\\xe5\\x8f\\xb0\\xe5\\x89\\x8d\\xe4\\xb9\\xa0\\xe8\\xbf\\x91\\xe5\\xb9\\xb3\\xe5\\xb0\\x86',\n",
       "        b'\\xe5\\x88\\xb0\\xe4\\xb8\\xbb\\xe5\\xb8\\xad\\xe5\\x8f\\xb0\\xe5\\x89\\x8d\\xe4\\xb9\\xa0\\xe8\\xbf\\x91\\xe5\\xb9\\xb3\\xe5\\xb0\\x86\\xe5\\x86\\x9b',\n",
       "        b'\\xe4\\xb8\\xbb\\xe5\\xb8\\xad\\xe5\\x8f\\xb0\\xe5\\x89\\x8d\\xe4\\xb9\\xa0\\xe8\\xbf\\x91\\xe5\\xb9\\xb3\\xe5\\xb0\\x86\\xe5\\x86\\x9b\\xe6\\x97\\x97',\n",
       "        b'\\xe5\\xb8\\xad\\xe5\\x8f\\xb0\\xe5\\x89\\x8d\\xe4\\xb9\\xa0\\xe8\\xbf\\x91\\xe5\\xb9\\xb3\\xe5\\xb0\\x86\\xe5\\x86\\x9b\\xe6\\x97\\x97\\xe9\\x83\\x91',\n",
       "        b'\\xe5\\x8f\\xb0\\xe5\\x89\\x8d\\xe4\\xb9\\xa0\\xe8\\xbf\\x91\\xe5\\xb9\\xb3\\xe5\\xb0\\x86\\xe5\\x86\\x9b\\xe6\\x97\\x97\\xe9\\x83\\x91\\xe9\\x87\\x8d',\n",
       "        b'\\xe5\\x89\\x8d\\xe4\\xb9\\xa0\\xe8\\xbf\\x91\\xe5\\xb9\\xb3\\xe5\\xb0\\x86\\xe5\\x86\\x9b\\xe6\\x97\\x97\\xe9\\x83\\x91\\xe9\\x87\\x8d\\xe6\\x8e\\x88',\n",
       "        b'\\xe4\\xb9\\xa0\\xe8\\xbf\\x91\\xe5\\xb9\\xb3\\xe5\\xb0\\x86\\xe5\\x86\\x9b\\xe6\\x97\\x97\\xe9\\x83\\x91\\xe9\\x87\\x8d\\xe6\\x8e\\x88\\xe4\\xba\\x88',\n",
       "        b'\\xe8\\xbf\\x91\\xe5\\xb9\\xb3\\xe5\\xb0\\x86\\xe5\\x86\\x9b\\xe6\\x97\\x97\\xe9\\x83\\x91\\xe9\\x87\\x8d\\xe6\\x8e\\x88\\xe4\\xba\\x88\\xe9\\x99\\x86',\n",
       "        b'\\xe5\\xb9\\xb3\\xe5\\xb0\\x86\\xe5\\x86\\x9b\\xe6\\x97\\x97\\xe9\\x83\\x91\\xe9\\x87\\x8d\\xe6\\x8e\\x88\\xe4\\xba\\x88\\xe9\\x99\\x86\\xe5\\x86\\x9b',\n",
       "        b'\\xe5\\xb0\\x86\\xe5\\x86\\x9b\\xe6\\x97\\x97\\xe9\\x83\\x91\\xe9\\x87\\x8d\\xe6\\x8e\\x88\\xe4\\xba\\x88\\xe9\\x99\\x86\\xe5\\x86\\x9b\\xe5\\x8f\\xb8',\n",
       "        b'\\xe5\\x86\\x9b\\xe6\\x97\\x97\\xe9\\x83\\x91\\xe9\\x87\\x8d\\xe6\\x8e\\x88\\xe4\\xba\\x88\\xe9\\x99\\x86\\xe5\\x86\\x9b\\xe5\\x8f\\xb8\\xe4\\xbb\\xa4'],\n",
       "       dtype=object)>)"
      ]
     },
     "execution_count": 17,
     "metadata": {},
     "output_type": "execute_result"
    }
   ],
   "source": [
    "tf_dataset = tf.data.Dataset.from_tensor_slices((\n",
    "    df_sequences[\"context_char_sequence\"].values,\n",
    "    df_sequences[\"input_t9_sequence\"].values,\n",
    "    df_sequences[\"target_char_sequence\"].values\n",
    ")).batch(256).prefetch(tf.data.AUTOTUNE)\n",
    "\n",
    "tf_dataset.take(1).get_single_element()"
   ]
  },
  {
   "cell_type": "markdown",
   "id": "d6434642",
   "metadata": {},
   "source": [
    "## Encoder les données pour Keras"
   ]
  },
  {
   "cell_type": "code",
   "execution_count": 18,
   "id": "02e326d9",
   "metadata": {},
   "outputs": [
    {
     "name": "stdout",
     "output_type": "stream",
     "text": [
      "Adapt context_tv: 75.70 seconds\n"
     ]
    },
    {
     "name": "stderr",
     "output_type": "stream",
     "text": [
      "2025-04-12 14:48:35.232272: I tensorflow/core/framework/local_rendezvous.cc:407] Local rendezvous is aborting with status: OUT_OF_RANGE: End of sequence\n"
     ]
    },
    {
     "name": "stdout",
     "output_type": "stream",
     "text": [
      "Adapt input_t9_tv: 100.41 seconds\n",
      "Adapt target_tv: 69.65 seconds\n",
      "Target vocab size: 4598\n",
      "<START> index: 2\n",
      "<END> index: 3\n"
     ]
    }
   ],
   "source": [
    "# TextVectorization pour le contexte, T9 et cible\n",
    "context_tv = keras.layers.TextVectorization(\n",
    "    output_mode='int',\n",
    "    split='character',\n",
    "    standardize=None,\n",
    "    ragged=True\n",
    ")\n",
    "\n",
    "input_t9_tv = keras.layers.TextVectorization(\n",
    "    output_mode='int',\n",
    "    split='whitespace',\n",
    "    standardize=None,\n",
    "    ragged=True\n",
    ")\n",
    "\n",
    "target_tv = keras.layers.TextVectorization(\n",
    "    output_mode='int',\n",
    "    split='character',\n",
    "    standardize=None,\n",
    "    ragged=True\n",
    ")\n",
    "\n",
    "\n",
    "# Adapter les vectoriseurs\n",
    "context_ds = tf_dataset.map(\n",
    "    lambda context, t9, target: context,\n",
    "    num_parallel_calls=tf.data.AUTOTUNE\n",
    ")\n",
    "t9_ds = tf_dataset.map(\n",
    "    lambda context, t9, target: t9,\n",
    "    num_parallel_calls=tf.data.AUTOTUNE\n",
    ")\n",
    "target_ds = tf_dataset.map(\n",
    "    lambda context, t9, target: target,\n",
    "    num_parallel_calls=tf.data.AUTOTUNE\n",
    ")\n",
    "\n",
    "# Adapter les TextVectorization layers\n",
    "start = time.time()\n",
    "context_tv.adapt(context_ds)\n",
    "print(f\"Adapt context_tv: {time.time() - start:.2f} seconds\")\n",
    "\n",
    "start = time.time()\n",
    "input_t9_tv.adapt(t9_ds)\n",
    "print(f\"Adapt input_t9_tv: {time.time() - start:.2f} seconds\")\n",
    "\n",
    "start = time.time()\n",
    "target_tv.adapt(target_ds)\n",
    "# Ajouter <START> et <END> au vocabulaire\n",
    "target_vocab = target_tv.get_vocabulary()\n",
    "if \"<START>\" not in target_vocab or \"<END>\" not in target_vocab:\n",
    "    updated_vocab = [\"<START>\", \"<END>\"] + [tok for tok in target_vocab if tok not in [\"\", \"[UNK]\"]]\n",
    "    target_tv.set_vocabulary(updated_vocab)\n",
    "print(f\"Adapt target_tv: {time.time() - start:.2f} seconds\")\n",
    "print(f\"Target vocab size: {target_tv.vocabulary_size()}\")\n",
    "\n",
    "# Vérification\n",
    "vocab = target_tv.get_vocabulary()\n",
    "print(f\"<START> index: {vocab.index('<START>')}\")\n",
    "print(f\"<END> index: {vocab.index('<END>')}\")"
   ]
  },
  {
   "cell_type": "code",
   "execution_count": 19,
   "id": "68d856e2",
   "metadata": {},
   "outputs": [
    {
     "name": "stdout",
     "output_type": "stream",
     "text": [
      "Context: [[  4   0   0 ...   0   0   0]\n",
      " [  4   3   0 ...   0   0   0]\n",
      " [  4   3   8 ...   0   0   0]\n",
      " ...\n",
      " [268  30  23 ...  86  65  48]\n",
      " [ 30  23  67 ...  65  48  33]\n",
      " [ 23  67  28 ...  48  33  83]]\n",
      "T9: [[ 7 30 76 ... 54 24 25]\n",
      " [30 76 43 ... 24 25  3]\n",
      " [76 43 17 ... 25  3 86]\n",
      " ...\n",
      " [52 36 54 ...  8 31 54]\n",
      " [36 54 14 ... 31 54 14]\n",
      " [54 14 46 ... 54 14 24]]\n",
      "Decoder input: [[   2    5   10 ...  673  103   87]\n",
      " [   2   10   23 ...  103   87  122]\n",
      " [   2   23  246 ...   87  122   92]\n",
      " ...\n",
      " [   2   37   85 ... 1053  774  673]\n",
      " [   2   85  103 ...  774  673  103]\n",
      " [   2  103  900 ...  673  103  504]]\n",
      "Target: [[   5   10   23 ...  103   87  122]\n",
      " [  10   23  246 ...   87  122   92]\n",
      " [  23  246  255 ...  122   92  262]\n",
      " ...\n",
      " [  37   85  103 ...  774  673  103]\n",
      " [  85  103  900 ...  673  103  504]\n",
      " [ 103  900 1254 ...  103  504  808]]\n"
     ]
    }
   ],
   "source": [
    "start_token_idx = target_tv.get_vocabulary().index(\"<START>\")\n",
    "\n",
    "# Transformer le dataset\n",
    "@tf.function\n",
    "def transform_ds(context, t9, target):\n",
    "    # Vectoriser le contexte, T9 et cible \n",
    "    vectorized_context = context_tv(context).to_tensor(default_value=0) # default_value=0 => padding\n",
    "    vectorized_t9 = input_t9_tv(t9).to_tensor(default_value=0)\n",
    "    vectorized_target = target_tv(target).to_tensor(default_value=0)\n",
    "    batch_size = tf.shape(vectorized_target)[0] # (1024,)\n",
    "    # Créer le décalage pour le décodeur\n",
    "    # On ajoute le token de début au début de la séquence cible et on décale la séquence cible\n",
    "    start_token = tf.fill([batch_size, 1], tf.cast(start_token_idx, tf.int32)) # (1024, 1)\n",
    "    # On concatène le token de début avec la séquence cible décalée\n",
    "    decoder_in = tf.concat([start_token, tf.cast(vectorized_target[:, :-1], tf.int32)], axis=1) # (1024, 10)\n",
    "    return (vectorized_context, vectorized_t9, decoder_in), vectorized_target\n",
    "\n",
    "transformed_tf_dataset = tf_dataset.map(transform_ds)\n",
    "for (context, t9, dec_in), target in transformed_tf_dataset.take(1):\n",
    "    print(f\"Context: {context}\")\n",
    "    print(f\"T9: {t9}\")\n",
    "    print(f\"Decoder input: {dec_in}\")\n",
    "    print(f\"Target: {target}\")"
   ]
  },
  {
   "cell_type": "code",
   "execution_count": 20,
   "id": "91e0aee9",
   "metadata": {},
   "outputs": [
    {
     "name": "stdout",
     "output_type": "stream",
     "text": [
      "Context shape: (256, 10)\n",
      "T9 shape: (256, 10)\n",
      "Decoder input shape: (256, 10)\n",
      "Target shape: (256, 10)\n"
     ]
    }
   ],
   "source": [
    "transformed_tf_dataset.take(1).get_single_element()\n",
    "\n",
    "# Shape du dataset\n",
    "for (context, t9, dec_in), target in transformed_tf_dataset.take(1):\n",
    "    print(f\"Context shape: {context.shape}\")\n",
    "    print(f\"T9 shape: {t9.shape}\")\n",
    "    print(f\"Decoder input shape: {dec_in.shape}\")\n",
    "    print(f\"Target shape: {target.shape}\")"
   ]
  },
  {
   "cell_type": "markdown",
   "id": "cf779c5f",
   "metadata": {},
   "source": [
    "## Split train-valid-test"
   ]
  },
  {
   "cell_type": "code",
   "execution_count": 21,
   "id": "ec477403",
   "metadata": {},
   "outputs": [
    {
     "name": "stderr",
     "output_type": "stream",
     "text": [
      "2025-04-12 14:49:45.760989: I tensorflow/core/grappler/optimizers/custom_graph_optimizer_registry.cc:117] Plugin optimizer for device_type GPU is enabled.\n"
     ]
    },
    {
     "name": "stdout",
     "output_type": "stream",
     "text": [
      "Taille du train : 18807\n",
      "Taille du validation : 2352\n",
      "Taille du test : 2350\n"
     ]
    }
   ],
   "source": [
    "c = transformed_tf_dataset.reduce(0, lambda x, _: x + 1).numpy()\n",
    "shuffled_ds = transformed_tf_dataset.shuffle(buffer_size=c, seed=42)\n",
    "\n",
    "train_size = c * 80 // 100\n",
    "test_size = c * 10 // 100\n",
    "val_size = c - train_size - test_size\n",
    "\n",
    "ds_train = shuffled_ds.take(train_size).prefetch(tf.data.AUTOTUNE)\n",
    "ds_val = shuffled_ds.skip(train_size).take(val_size).prefetch(tf.data.AUTOTUNE)\n",
    "ds_test = shuffled_ds.skip(train_size+val_size).take(test_size).prefetch(tf.data.AUTOTUNE)\n",
    "\n",
    "print(\"Taille du train :\", ds_train.cardinality().numpy())\n",
    "print(\"Taille du validation :\", ds_val.cardinality().numpy())\n",
    "print(\"Taille du test :\", ds_test.cardinality().numpy())"
   ]
  },
  {
   "cell_type": "code",
   "execution_count": 22,
   "id": "cb97d040",
   "metadata": {},
   "outputs": [
    {
     "name": "stdout",
     "output_type": "stream",
     "text": [
      "Exemple de données :\n"
     ]
    },
    {
     "name": "stderr",
     "output_type": "stream",
     "text": [
      "2025-04-12 14:50:15.498599: I tensorflow/core/kernels/data/shuffle_dataset_op.cc:452] ShuffleDatasetV3:35: Filling up shuffle buffer (this may take a while): 12790 of 23509\n",
      "2025-04-12 14:50:23.797327: I tensorflow/core/kernels/data/shuffle_dataset_op.cc:482] Shuffle buffer filled.\n"
     ]
    },
    {
     "name": "stdout",
     "output_type": "stream",
     "text": [
      "Context: [699  40 133  21 368 212   0   0   0   0]\n",
      "T9: [75 11  7 41 13  2 74 33 57 74]\n",
      "Decoder input: [  2  42   6   5 533 627 423 147 293 890]\n",
      "Target: [ 42   6   5 533 627 423 147 293 890 147]\n"
     ]
    },
    {
     "name": "stderr",
     "output_type": "stream",
     "text": [
      "2025-04-12 14:50:24.037177: I tensorflow/core/framework/local_rendezvous.cc:407] Local rendezvous is aborting with status: OUT_OF_RANGE: End of sequence\n"
     ]
    }
   ],
   "source": [
    "# Visualisation des données\n",
    "print(\"Exemple de données :\")\n",
    "for (context, t9, dec_in), target in ds_train.take(1):\n",
    "    print(f\"Context: {context[0]}\")\n",
    "    print(f\"T9: {t9[0]}\")\n",
    "    print(f\"Decoder input: {dec_in[0]}\")\n",
    "    print(f\"Target: {target[0]}\")"
   ]
  },
  {
   "cell_type": "code",
   "execution_count": 23,
   "id": "84604ecc",
   "metadata": {},
   "outputs": [
    {
     "name": "stderr",
     "output_type": "stream",
     "text": [
      "2025-04-12 14:50:34.162706: I tensorflow/core/kernels/data/shuffle_dataset_op.cc:452] ShuffleDatasetV3:35: Filling up shuffle buffer (this may take a while): 12747 of 23509\n",
      "2025-04-12 14:50:42.656724: I tensorflow/core/kernels/data/shuffle_dataset_op.cc:482] Shuffle buffer filled.\n",
      "2025-04-12 14:50:54.804981: I tensorflow/core/kernels/data/shuffle_dataset_op.cc:452] ShuffleDatasetV3:35: Filling up shuffle buffer (this may take a while): 12744 of 23509\n",
      "2025-04-12 14:51:25.283110: I tensorflow/core/kernels/data/shuffle_dataset_op.cc:452] ShuffleDatasetV3:35: Filling up shuffle buffer (this may take a while): 19767 of 23509\n",
      "2025-04-12 14:51:28.270465: I tensorflow/core/kernels/data/shuffle_dataset_op.cc:482] Shuffle buffer filled.\n",
      "2025-04-12 14:51:38.997676: I tensorflow/core/kernels/data/shuffle_dataset_op.cc:452] ShuffleDatasetV3:35: Filling up shuffle buffer (this may take a while): 11754 of 23509\n",
      "2025-04-12 14:51:48.125919: I tensorflow/core/kernels/data/shuffle_dataset_op.cc:482] Shuffle buffer filled.\n"
     ]
    }
   ],
   "source": [
    "# Sauvegarder les datasets d'entraînement\n",
    "ds_train.save(\"train_dataset\")\n",
    "ds_val.save(\"val_dataset\")\n",
    "ds_test.save(\"test_dataset\")"
   ]
  },
  {
   "cell_type": "markdown",
   "id": "870dabbe",
   "metadata": {},
   "source": [
    "# Modèle"
   ]
  },
  {
   "cell_type": "markdown",
   "id": "d38f6c70",
   "metadata": {},
   "source": [
    "Sogou T9 est une méthode d’entrée intelligente qui :\n",
    "\n",
    "- Prend des séquences numériques (ex. : \"94664 486\" pour \"zhong guo\").\n",
    "- Génère des séquences de caractères chinois (ex. : \"中国\").\n",
    "- Utilise le contexte (mots précédents) pour désambiguïser les prédictions.\n",
    "- Est optimisé pour la vitesse et la précision, souvent avec des modèles entraînés sur de vastes corpus.\n",
    "\n",
    "Pour reproduire cela, il faut utiliser un modèle seq2seq avec un encodeur-décodeur (2 entrées) :\n",
    "\n",
    "- Encodeur : Lit la séquence T9 et la compresse en une représentation contextuelle.\n",
    "- Décodeur : Génère la séquence de caractères chinois à partir de cette représentation.\n",
    "\n",
    "[Functional API](https://keras.io/guides/functional_api/)"
   ]
  },
  {
   "cell_type": "markdown",
   "id": "169fe750",
   "metadata": {},
   "source": [
    "Schéma conceptuel :\n",
    "\n",
    "[Contexte sinogrammes] -> [LSTM Encodeur Contexte] -> [Représentation contexte] </br>\n",
    "[T9 entrée]           -> [LSTM Encodeur T9]       -> [Représentation T9] </br>\n",
    "[Représentations contexte + T9] -> [Attention] -> [LSTM Décodeur] -> [Sortie caractères]"
   ]
  },
  {
   "cell_type": "code",
   "execution_count": null,
   "id": "767cb1c4",
   "metadata": {},
   "outputs": [
    {
     "name": "stdout",
     "output_type": "stream",
     "text": [
      "Context: [ 295   66  122 1126  235   66   77  980  267 1439]\n",
      "T9: [ 8 31  6 95 14  3  6 40  2 23]\n",
      "Decoder input: [   2  112  750 1208 1641  165  154    9  265   71]\n",
      "Target: [ 112  750 1208 1641  165  154    9  265   71   76]\n"
     ]
    },
    {
     "name": "stderr",
     "output_type": "stream",
     "text": [
      "2025-04-12 14:40:42.878108: I tensorflow/core/framework/local_rendezvous.cc:407] Local rendezvous is aborting with status: OUT_OF_RANGE: End of sequence\n"
     ]
    }
   ],
   "source": [
    "# Charger les datasets d'entraînement\n",
    "ds_train = tf.data.Dataset.load(\"train_dataset\")\n",
    "ds_val = tf.data.Dataset.load(\"val_dataset\")\n",
    "ds_test = tf.data.Dataset.load(\"test_dataset\")\n",
    "\n",
    "# Vérifier les datasets\n",
    "for (context, t9, dec_in), target in ds_train.take(1):\n",
    "    print(f\"Context: {context[0]}\")\n",
    "    print(f\"T9: {t9[0]}\")\n",
    "    print(f\"Decoder input: {dec_in[0]}\")\n",
    "    print(f\"Target: {target[0]}\")"
   ]
  },
  {
   "cell_type": "code",
   "execution_count": null,
   "id": "08373d1a",
   "metadata": {},
   "outputs": [],
   "source": [
    "# plot training history\n",
    "def plot_history(history):\n",
    "    # Plot training & validation accuracy values\n",
    "    plt.plot(history.history['accuracy'])\n",
    "    plt.plot(history.history['val_accuracy'])\n",
    "    plt.title('Model accuracy')\n",
    "    plt.ylabel('Accuracy')\n",
    "    plt.xlabel('Epoch')\n",
    "    plt.legend(['Train', 'Validation'], loc='upper left')\n",
    "    plt.show()\n",
    "\n",
    "    plt.plot(history.history['loss'])\n",
    "    plt.plot(history.history['val_loss'])\n",
    "    plt.title('Model loss')\n",
    "    plt.ylabel('Loss')\n",
    "    plt.xlabel('Epoch')\n",
    "    plt.legend(['Train', 'Validation'], loc='upper left')\n",
    "    plt.show()"
   ]
  },
  {
   "cell_type": "code",
   "execution_count": null,
   "id": "6f6f4a2f",
   "metadata": {},
   "outputs": [
    {
     "name": "stdout",
     "output_type": "stream",
     "text": [
      "You must install pydot (`pip install pydot`) for `plot_model` to work.\n"
     ]
    }
   ],
   "source": [
    "def build_simple_model(lstm_units=64, output_dim=32, dropout_rate=0.2):\n",
    "    \n",
    "    context_input = Input(shape=(50,), dtype=tf.int32, name=\"context_input\")\n",
    "    context_embedding = Embedding(input_dim=context_tv.vocabulary_size(), output_dim=output_dim)(context_input)\n",
    "    context_lstm = LSTM(lstm_units, return_sequences=True, return_state=True)\n",
    "    context_lstm_out, context_state_h, context_state_c = context_lstm(context_embedding)\n",
    "    \n",
    "    t9_input = Input(shape=(50,), dtype=tf.int32, name=\"t9_input\")\n",
    "    t9_embedding = Embedding(input_dim=input_t9_tv.vocabulary_size(), output_dim=output_dim)(t9_input)\n",
    "    t9_lstm = LSTM(lstm_units, return_sequences=True, return_state=True)\n",
    "    t9_lstm_out, t9_state_h, t9_state_c = t9_lstm(t9_embedding)\n",
    "    \n",
    "    combined_state_h = Dense(lstm_units, activation='tanh')(Concatenate()([context_state_h, t9_state_h]))\n",
    "    combined_state_c = Dense(lstm_units, activation='tanh')(Concatenate()([context_state_c, t9_state_c]))\n",
    "\n",
    "\n",
    "    decoder_input = Input(shape=(50,), dtype=tf.int32, name=\"decoder_input\")\n",
    "    decoder_embedding = Embedding(input_dim=target_tv.vocabulary_size(), output_dim=output_dim)(decoder_input)\n",
    "    decoder_lstm = LSTM(lstm_units, return_sequences=True)\n",
    "    decoder_lstm_out = decoder_lstm(decoder_embedding, initial_state=[combined_state_h, combined_state_c])\n",
    "    \n",
    "    output = Dense(target_tv.vocabulary_size(), activation='softmax')(decoder_lstm_out)\n",
    "    \n",
    "    model = Model(inputs=[context_input, t9_input, decoder_input], outputs=output)\n",
    "    model.compile(optimizer='adam', loss='sparse_categorical_crossentropy', metrics=['accuracy'])\n",
    "    return model\n",
    "\n",
    "model_simple = build_simple_model()\n",
    "keras.utils.plot_model(model_simple, show_shapes=True, show_layer_names=True, to_file='model_simple.png')"
   ]
  },
  {
   "cell_type": "code",
   "execution_count": null,
   "id": "63361fbc",
   "metadata": {},
   "outputs": [],
   "source": [
    "# Tuning\n",
    "tuner = keras_tuner.RandomSearch(\n",
    "    lambda hp: build_simple_model(\n",
    "        lstm_units=hp.Choice('lstm_units', [32, 64, 128, 256]),\n",
    "        output_dim=hp.Choice('output_dim', [32, 64, 128, 256]),\n",
    "        dropout_rate=hp.Float('dropout_rate', 0.0, 0.8, step=0.2),\n",
    "    ),\n",
    "    objective='val_accuracy',\n",
    "    max_trials=20,\n",
    "    directory='hyperparameter_tuning',\n",
    "    project_name='chinese_news_tuning_simple'\n",
    ")"
   ]
  },
  {
   "cell_type": "code",
   "execution_count": null,
   "id": "d16466f7",
   "metadata": {},
   "outputs": [],
   "source": [
    "early_stopping = keras.callbacks.EarlyStopping(\n",
    "    monitor='val_accuracy',\n",
    "    patience=3,\n",
    "    restore_best_weights=True\n",
    ")\n",
    "\n",
    "ds_train_small = ds_train.take(500)\n",
    "ds_val_small = ds_val.take(100)"
   ]
  },
  {
   "cell_type": "code",
   "execution_count": null,
   "id": "42043097",
   "metadata": {},
   "outputs": [],
   "source": [
    "start = time.time()\n",
    "tuner.search(ds_train_small, epochs=15, validation_data=ds_val_small, callbacks=[early_stopping])\n",
    "print(f\"Hyperparameter tuning time: {time.time() - start:.2f} seconds\")"
   ]
  },
  {
   "cell_type": "code",
   "execution_count": null,
   "id": "da54578d",
   "metadata": {},
   "outputs": [
    {
     "name": "stdout",
     "output_type": "stream",
     "text": [
      "Best hyperparameters:\n",
      "lstm_units: 256\n",
      "output_dim: 256\n",
      "dropout_rate: 0.4\n"
     ]
    }
   ],
   "source": [
    "# Afficher les meilleurs hyperparamètres\n",
    "best_hyperparameters = tuner.get_best_hyperparameters()[0]\n",
    "print(\"Best hyperparameters:\")\n",
    "print(f\"lstm_units: {best_hyperparameters.get('lstm_units')}\")\n",
    "print(f\"output_dim: {best_hyperparameters.get('output_dim')}\")\n",
    "print(f\"dropout_rate: {best_hyperparameters.get('dropout_rate')}\")"
   ]
  },
  {
   "cell_type": "code",
   "execution_count": null,
   "id": "baf1613e",
   "metadata": {},
   "outputs": [
    {
     "name": "stdout",
     "output_type": "stream",
     "text": [
      "Nombre d'échantillons d'entraînement : 4702\n",
      "Nombre d'échantillons de validation : 588\n"
     ]
    }
   ],
   "source": [
    "nb_train_samples = round(ds_train.cardinality().numpy()/4)\n",
    "nb_val_samples = round(ds_val.cardinality().numpy()/4)\n",
    "\n",
    "print(\"Nombre d'échantillons d'entraînement :\", nb_train_samples)\n",
    "print(\"Nombre d'échantillons de validation :\", nb_val_samples)"
   ]
  },
  {
   "cell_type": "code",
   "execution_count": null,
   "id": "bb07c7af",
   "metadata": {},
   "outputs": [
    {
     "name": "stdout",
     "output_type": "stream",
     "text": [
      "Epoch 1/10\n"
     ]
    },
    {
     "name": "stderr",
     "output_type": "stream",
     "text": [
      "2025-04-12 12:30:30.706312: I tensorflow/core/kernels/data/shuffle_dataset_op.cc:452] ShuffleDatasetV3:17: Filling up shuffle buffer (this may take a while): 11222 of 23509\n",
      "2025-04-12 12:30:40.706298: I tensorflow/core/kernels/data/shuffle_dataset_op.cc:452] ShuffleDatasetV3:17: Filling up shuffle buffer (this may take a while): 23152 of 23509\n",
      "2025-04-12 12:30:40.997487: I tensorflow/core/kernels/data/shuffle_dataset_op.cc:482] Shuffle buffer filled.\n"
     ]
    },
    {
     "name": "stdout",
     "output_type": "stream",
     "text": [
      "\u001b[1m4702/4702\u001b[0m \u001b[32m━━━━━━━━━━━━━━━━━━━━\u001b[0m\u001b[37m\u001b[0m \u001b[1m0s\u001b[0m 137ms/step - accuracy: 0.1295 - loss: 5.7727"
     ]
    },
    {
     "name": "stderr",
     "output_type": "stream",
     "text": [
      "2025-04-12 12:41:37.720124: I tensorflow/core/kernels/data/shuffle_dataset_op.cc:452] ShuffleDatasetV3:17: Filling up shuffle buffer (this may take a while): 12532 of 23509\n",
      "2025-04-12 12:41:46.410760: I tensorflow/core/kernels/data/shuffle_dataset_op.cc:482] Shuffle buffer filled.\n"
     ]
    },
    {
     "name": "stdout",
     "output_type": "stream",
     "text": [
      "\u001b[1m4702/4702\u001b[0m \u001b[32m━━━━━━━━━━━━━━━━━━━━\u001b[0m\u001b[37m\u001b[0m \u001b[1m711s\u001b[0m 146ms/step - accuracy: 0.1296 - loss: 5.7726 - val_accuracy: 0.2451 - val_loss: 4.5681\n",
      "Epoch 2/10\n"
     ]
    },
    {
     "name": "stderr",
     "output_type": "stream",
     "text": [
      "2025-04-12 12:42:19.934721: I tensorflow/core/kernels/data/shuffle_dataset_op.cc:452] ShuffleDatasetV3:17: Filling up shuffle buffer (this may take a while): 12620 of 23509\n",
      "2025-04-12 12:42:28.414602: I tensorflow/core/kernels/data/shuffle_dataset_op.cc:482] Shuffle buffer filled.\n"
     ]
    },
    {
     "name": "stdout",
     "output_type": "stream",
     "text": [
      "\u001b[1m4702/4702\u001b[0m \u001b[32m━━━━━━━━━━━━━━━━━━━━\u001b[0m\u001b[37m\u001b[0m \u001b[1m0s\u001b[0m 137ms/step - accuracy: 0.2470 - loss: 4.5559"
     ]
    },
    {
     "name": "stderr",
     "output_type": "stream",
     "text": [
      "2025-04-12 12:53:21.884214: I tensorflow/core/kernels/data/shuffle_dataset_op.cc:452] ShuffleDatasetV3:17: Filling up shuffle buffer (this may take a while): 12017 of 23509\n",
      "2025-04-12 12:53:31.063945: I tensorflow/core/kernels/data/shuffle_dataset_op.cc:482] Shuffle buffer filled.\n"
     ]
    },
    {
     "name": "stdout",
     "output_type": "stream",
     "text": [
      "\u001b[1m4702/4702\u001b[0m \u001b[32m━━━━━━━━━━━━━━━━━━━━\u001b[0m\u001b[37m\u001b[0m \u001b[1m705s\u001b[0m 146ms/step - accuracy: 0.2470 - loss: 4.5559 - val_accuracy: 0.2701 - val_loss: 4.3450\n",
      "Epoch 3/10\n"
     ]
    },
    {
     "name": "stderr",
     "output_type": "stream",
     "text": [
      "2025-04-12 12:54:04.758377: I tensorflow/core/kernels/data/shuffle_dataset_op.cc:452] ShuffleDatasetV3:17: Filling up shuffle buffer (this may take a while): 12357 of 23509\n",
      "2025-04-12 12:54:13.594794: I tensorflow/core/kernels/data/shuffle_dataset_op.cc:482] Shuffle buffer filled.\n"
     ]
    },
    {
     "name": "stdout",
     "output_type": "stream",
     "text": [
      "\u001b[1m4702/4702\u001b[0m \u001b[32m━━━━━━━━━━━━━━━━━━━━\u001b[0m\u001b[37m\u001b[0m \u001b[1m0s\u001b[0m 137ms/step - accuracy: 0.2705 - loss: 4.3469"
     ]
    },
    {
     "name": "stderr",
     "output_type": "stream",
     "text": [
      "2025-04-12 13:05:06.492650: I tensorflow/core/kernels/data/shuffle_dataset_op.cc:452] ShuffleDatasetV3:17: Filling up shuffle buffer (this may take a while): 12175 of 23509\n",
      "2025-04-12 13:05:15.548405: I tensorflow/core/kernels/data/shuffle_dataset_op.cc:482] Shuffle buffer filled.\n"
     ]
    },
    {
     "name": "stdout",
     "output_type": "stream",
     "text": [
      "\u001b[1m4702/4702\u001b[0m \u001b[32m━━━━━━━━━━━━━━━━━━━━\u001b[0m\u001b[37m\u001b[0m \u001b[1m705s\u001b[0m 146ms/step - accuracy: 0.2705 - loss: 4.3469 - val_accuracy: 0.2844 - val_loss: 4.2294\n",
      "Epoch 4/10\n"
     ]
    },
    {
     "name": "stderr",
     "output_type": "stream",
     "text": [
      "2025-04-12 13:05:49.628682: I tensorflow/core/kernels/data/shuffle_dataset_op.cc:452] ShuffleDatasetV3:17: Filling up shuffle buffer (this may take a while): 12491 of 23509\n",
      "2025-04-12 13:05:58.223371: I tensorflow/core/kernels/data/shuffle_dataset_op.cc:482] Shuffle buffer filled.\n"
     ]
    },
    {
     "name": "stdout",
     "output_type": "stream",
     "text": [
      "\u001b[1m4702/4702\u001b[0m \u001b[32m━━━━━━━━━━━━━━━━━━━━\u001b[0m\u001b[37m\u001b[0m \u001b[1m0s\u001b[0m 138ms/step - accuracy: 0.2895 - loss: 4.1892"
     ]
    },
    {
     "name": "stderr",
     "output_type": "stream",
     "text": [
      "2025-04-12 13:16:56.497905: I tensorflow/core/kernels/data/shuffle_dataset_op.cc:452] ShuffleDatasetV3:17: Filling up shuffle buffer (this may take a while): 12124 of 23509\n",
      "2025-04-12 13:17:05.599652: I tensorflow/core/kernels/data/shuffle_dataset_op.cc:482] Shuffle buffer filled.\n"
     ]
    },
    {
     "name": "stdout",
     "output_type": "stream",
     "text": [
      "\u001b[1m4702/4702\u001b[0m \u001b[32m━━━━━━━━━━━━━━━━━━━━\u001b[0m\u001b[37m\u001b[0m \u001b[1m710s\u001b[0m 147ms/step - accuracy: 0.2895 - loss: 4.1892 - val_accuracy: 0.2979 - val_loss: 4.1285\n",
      "Epoch 5/10\n"
     ]
    },
    {
     "name": "stderr",
     "output_type": "stream",
     "text": [
      "2025-04-12 13:17:39.258006: I tensorflow/core/kernels/data/shuffle_dataset_op.cc:452] ShuffleDatasetV3:17: Filling up shuffle buffer (this may take a while): 12451 of 23509\n",
      "2025-04-12 13:17:47.951357: I tensorflow/core/kernels/data/shuffle_dataset_op.cc:482] Shuffle buffer filled.\n"
     ]
    },
    {
     "name": "stdout",
     "output_type": "stream",
     "text": [
      "\u001b[1m4702/4702\u001b[0m \u001b[32m━━━━━━━━━━━━━━━━━━━━\u001b[0m\u001b[37m\u001b[0m \u001b[1m0s\u001b[0m 142ms/step - accuracy: 0.2962 - loss: 4.1334"
     ]
    },
    {
     "name": "stderr",
     "output_type": "stream",
     "text": [
      "2025-04-12 13:29:05.319595: I tensorflow/core/kernels/data/shuffle_dataset_op.cc:452] ShuffleDatasetV3:17: Filling up shuffle buffer (this may take a while): 12055 of 23509\n",
      "2025-04-12 13:29:14.402420: I tensorflow/core/kernels/data/shuffle_dataset_op.cc:482] Shuffle buffer filled.\n"
     ]
    },
    {
     "name": "stdout",
     "output_type": "stream",
     "text": [
      "\u001b[1m4702/4702\u001b[0m \u001b[32m━━━━━━━━━━━━━━━━━━━━\u001b[0m\u001b[37m\u001b[0m \u001b[1m730s\u001b[0m 151ms/step - accuracy: 0.2962 - loss: 4.1334 - val_accuracy: 0.3034 - val_loss: 4.0717\n",
      "Epoch 6/10\n"
     ]
    },
    {
     "name": "stderr",
     "output_type": "stream",
     "text": [
      "2025-04-12 13:29:49.020367: I tensorflow/core/kernels/data/shuffle_dataset_op.cc:452] ShuffleDatasetV3:17: Filling up shuffle buffer (this may take a while): 12098 of 23509\n",
      "2025-04-12 13:29:58.322816: I tensorflow/core/kernels/data/shuffle_dataset_op.cc:482] Shuffle buffer filled.\n"
     ]
    },
    {
     "name": "stdout",
     "output_type": "stream",
     "text": [
      "\u001b[1m4702/4702\u001b[0m \u001b[32m━━━━━━━━━━━━━━━━━━━━\u001b[0m\u001b[37m\u001b[0m \u001b[1m0s\u001b[0m 141ms/step - accuracy: 0.3040 - loss: 4.0777"
     ]
    },
    {
     "name": "stderr",
     "output_type": "stream",
     "text": [
      "2025-04-12 13:41:10.004521: I tensorflow/core/kernels/data/shuffle_dataset_op.cc:452] ShuffleDatasetV3:17: Filling up shuffle buffer (this may take a while): 12265 of 23509\n",
      "2025-04-12 13:41:19.383065: I tensorflow/core/kernels/data/shuffle_dataset_op.cc:482] Shuffle buffer filled.\n"
     ]
    },
    {
     "name": "stdout",
     "output_type": "stream",
     "text": [
      "\u001b[1m4702/4702\u001b[0m \u001b[32m━━━━━━━━━━━━━━━━━━━━\u001b[0m\u001b[37m\u001b[0m \u001b[1m724s\u001b[0m 150ms/step - accuracy: 0.3040 - loss: 4.0777 - val_accuracy: 0.3106 - val_loss: 4.0088\n",
      "Epoch 7/10\n"
     ]
    },
    {
     "name": "stderr",
     "output_type": "stream",
     "text": [
      "2025-04-12 13:41:52.877347: I tensorflow/core/kernels/data/shuffle_dataset_op.cc:452] ShuffleDatasetV3:17: Filling up shuffle buffer (this may take a while): 12643 of 23509\n",
      "2025-04-12 13:42:01.590225: I tensorflow/core/kernels/data/shuffle_dataset_op.cc:482] Shuffle buffer filled.\n"
     ]
    },
    {
     "name": "stdout",
     "output_type": "stream",
     "text": [
      "\u001b[1m4702/4702\u001b[0m \u001b[32m━━━━━━━━━━━━━━━━━━━━\u001b[0m\u001b[37m\u001b[0m \u001b[1m0s\u001b[0m 135ms/step - accuracy: 0.3065 - loss: 4.0470"
     ]
    },
    {
     "name": "stderr",
     "output_type": "stream",
     "text": [
      "2025-04-12 13:52:48.057093: I tensorflow/core/kernels/data/shuffle_dataset_op.cc:452] ShuffleDatasetV3:17: Filling up shuffle buffer (this may take a while): 12401 of 23509\n",
      "2025-04-12 13:52:56.963319: I tensorflow/core/kernels/data/shuffle_dataset_op.cc:482] Shuffle buffer filled.\n"
     ]
    },
    {
     "name": "stdout",
     "output_type": "stream",
     "text": [
      "\u001b[1m4702/4702\u001b[0m \u001b[32m━━━━━━━━━━━━━━━━━━━━\u001b[0m\u001b[37m\u001b[0m \u001b[1m697s\u001b[0m 144ms/step - accuracy: 0.3065 - loss: 4.0470 - val_accuracy: 0.3086 - val_loss: 4.0307\n",
      "Epoch 8/10\n"
     ]
    },
    {
     "name": "stderr",
     "output_type": "stream",
     "text": [
      "2025-04-12 13:53:30.377338: I tensorflow/core/kernels/data/shuffle_dataset_op.cc:452] ShuffleDatasetV3:17: Filling up shuffle buffer (this may take a while): 12537 of 23509\n",
      "2025-04-12 13:53:39.150392: I tensorflow/core/kernels/data/shuffle_dataset_op.cc:482] Shuffle buffer filled.\n"
     ]
    },
    {
     "name": "stdout",
     "output_type": "stream",
     "text": [
      "\u001b[1m4702/4702\u001b[0m \u001b[32m━━━━━━━━━━━━━━━━━━━━\u001b[0m\u001b[37m\u001b[0m \u001b[1m0s\u001b[0m 135ms/step - accuracy: 0.3143 - loss: 3.9899"
     ]
    },
    {
     "name": "stderr",
     "output_type": "stream",
     "text": [
      "2025-04-12 14:04:25.462879: I tensorflow/core/kernels/data/shuffle_dataset_op.cc:452] ShuffleDatasetV3:17: Filling up shuffle buffer (this may take a while): 12258 of 23509\n",
      "2025-04-12 14:04:34.540494: I tensorflow/core/kernels/data/shuffle_dataset_op.cc:482] Shuffle buffer filled.\n"
     ]
    },
    {
     "name": "stdout",
     "output_type": "stream",
     "text": [
      "\u001b[1m4702/4702\u001b[0m \u001b[32m━━━━━━━━━━━━━━━━━━━━\u001b[0m\u001b[37m\u001b[0m \u001b[1m698s\u001b[0m 144ms/step - accuracy: 0.3143 - loss: 3.9899 - val_accuracy: 0.3118 - val_loss: 3.9998\n",
      "Epoch 9/10\n"
     ]
    },
    {
     "name": "stderr",
     "output_type": "stream",
     "text": [
      "2025-04-12 14:05:08.082916: I tensorflow/core/kernels/data/shuffle_dataset_op.cc:452] ShuffleDatasetV3:17: Filling up shuffle buffer (this may take a while): 11981 of 23509\n",
      "2025-04-12 14:05:17.211158: I tensorflow/core/kernels/data/shuffle_dataset_op.cc:482] Shuffle buffer filled.\n"
     ]
    },
    {
     "name": "stdout",
     "output_type": "stream",
     "text": [
      "\u001b[1m4702/4702\u001b[0m \u001b[32m━━━━━━━━━━━━━━━━━━━━\u001b[0m\u001b[37m\u001b[0m \u001b[1m0s\u001b[0m 135ms/step - accuracy: 0.3143 - loss: 3.9916"
     ]
    },
    {
     "name": "stderr",
     "output_type": "stream",
     "text": [
      "2025-04-12 14:16:03.378199: I tensorflow/core/kernels/data/shuffle_dataset_op.cc:452] ShuffleDatasetV3:17: Filling up shuffle buffer (this may take a while): 12205 of 23509\n",
      "2025-04-12 14:16:12.478812: I tensorflow/core/kernels/data/shuffle_dataset_op.cc:482] Shuffle buffer filled.\n"
     ]
    },
    {
     "name": "stdout",
     "output_type": "stream",
     "text": [
      "\u001b[1m4702/4702\u001b[0m \u001b[32m━━━━━━━━━━━━━━━━━━━━\u001b[0m\u001b[37m\u001b[0m \u001b[1m698s\u001b[0m 144ms/step - accuracy: 0.3143 - loss: 3.9916 - val_accuracy: 0.3121 - val_loss: 4.0126\n",
      "Epoch 10/10\n"
     ]
    },
    {
     "name": "stderr",
     "output_type": "stream",
     "text": [
      "2025-04-12 14:16:45.959992: I tensorflow/core/kernels/data/shuffle_dataset_op.cc:452] ShuffleDatasetV3:17: Filling up shuffle buffer (this may take a while): 12393 of 23509\n",
      "2025-04-12 14:16:54.734289: I tensorflow/core/kernels/data/shuffle_dataset_op.cc:482] Shuffle buffer filled.\n"
     ]
    },
    {
     "name": "stdout",
     "output_type": "stream",
     "text": [
      "\u001b[1m4702/4702\u001b[0m \u001b[32m━━━━━━━━━━━━━━━━━━━━\u001b[0m\u001b[37m\u001b[0m \u001b[1m0s\u001b[0m 136ms/step - accuracy: 0.3188 - loss: 3.9528"
     ]
    },
    {
     "name": "stderr",
     "output_type": "stream",
     "text": [
      "2025-04-12 14:27:43.857869: I tensorflow/core/kernels/data/shuffle_dataset_op.cc:452] ShuffleDatasetV3:17: Filling up shuffle buffer (this may take a while): 12147 of 23509\n",
      "2025-04-12 14:27:53.044615: I tensorflow/core/kernels/data/shuffle_dataset_op.cc:482] Shuffle buffer filled.\n"
     ]
    },
    {
     "name": "stdout",
     "output_type": "stream",
     "text": [
      "\u001b[1m4702/4702\u001b[0m \u001b[32m━━━━━━━━━━━━━━━━━━━━\u001b[0m\u001b[37m\u001b[0m \u001b[1m701s\u001b[0m 145ms/step - accuracy: 0.3188 - loss: 3.9528 - val_accuracy: 0.3190 - val_loss: 3.9571\n"
     ]
    }
   ],
   "source": [
    "# Créer le modèle avec les meilleurs hyperparamètres\n",
    "model_simple = build_simple_model(\n",
    "    lstm_units=256,\n",
    "    output_dim=256,\n",
    "    dropout_rate=0.4\n",
    ")\n",
    "\n",
    "ds_sample_train = ds_train.take(nb_train_samples)\n",
    "ds_sample_val = ds_val.take(nb_val_samples)\n",
    "\n",
    "# Entraîner le modèle\n",
    "history_simple = model_simple.fit(\n",
    "    ds_sample_train,\n",
    "    epochs=10,\n",
    "    validation_data=ds_sample_val,\n",
    "    callbacks=[early_stopping],\n",
    "    verbose=1,\n",
    ")"
   ]
  },
  {
   "cell_type": "code",
   "execution_count": null,
   "id": "8124dd33",
   "metadata": {},
   "outputs": [
    {
     "data": {
      "image/png": "[encoded data removed]",
      "text/plain": [
       "<Figure size 640x480 with 1 Axes>"
      ]
     },
     "metadata": {},
     "output_type": "display_data"
    },
    {
     "data": {
      "image/png": "[encoded data removed]",
      "text/plain": [
       "<Figure size 640x480 with 1 Axes>"
      ]
     },
     "metadata": {},
     "output_type": "display_data"
    }
   ],
   "source": [
    "plot_history(history_simple)"
   ]
  },
  {
   "cell_type": "code",
   "execution_count": null,
   "id": "e252e198",
   "metadata": {},
   "outputs": [],
   "source": [
    "def build_model(lstm_units=256, output_dim=128, dropout_rate=0.2, dense_units_output=128):\n",
    "    context_input = Input(shape=(10,), dtype=tf.int32, name=\"context_input\")\n",
    "    context_embedding = Embedding(input_dim=context_tv.vocabulary_size(), output_dim=output_dim, mask_zero=False)(context_input)\n",
    "    context_lstm = LSTM(lstm_units, return_sequences=True, return_state=True)\n",
    "    context_lstm_out, context_state_h, context_state_c = context_lstm(context_embedding)\n",
    "    context_lstm_out = Dropout(dropout_rate)(context_lstm_out)\n",
    "\n",
    "    t9_input = Input(shape=(10,), dtype=tf.int32, name=\"t9_input\")\n",
    "    t9_embedding = Embedding(input_dim=input_t9_tv.vocabulary_size(), output_dim=output_dim, mask_zero=False)(t9_input)\n",
    "    t9_lstm = LSTM(lstm_units, return_sequences=True, return_state=True)\n",
    "    t9_lstm_out, t9_state_h, t9_state_c = t9_lstm(t9_embedding)\n",
    "    t9_lstm_out = Dropout(dropout_rate)(t9_lstm_out)\n",
    "\n",
    "    combined_state_h = Dense(lstm_units, activation='tanh')(Concatenate()([context_state_h, t9_state_h]))\n",
    "    combined_state_c = Dense(lstm_units, activation='tanh')(Concatenate()([context_state_c, t9_state_c]))\n",
    "\n",
    "    decoder_input = Input(shape=(10,), dtype=tf.int32, name=\"decoder_input\")\n",
    "    decoder_embedding = Embedding(input_dim=target_tv.vocabulary_size(), output_dim=output_dim, mask_zero=False)(decoder_input)\n",
    "    decoder_lstm = LSTM(lstm_units, return_sequences=True, return_state=True)\n",
    "    decoder_lstm_out, _, _ = decoder_lstm(decoder_embedding, initial_state=[combined_state_h, combined_state_c])\n",
    "    decoder_lstm_out = Dropout(dropout_rate)(decoder_lstm_out)\n",
    "\n",
    "    # Aligner les dimensions pour l'attention\n",
    "    encoder_combined = Concatenate()([context_lstm_out, t9_lstm_out])  # (batch_size, 10, 2 * lstm_units)\n",
    "    encoder_combined = Dense(lstm_units, activation='relu')(encoder_combined)  # Réduire à (batch_size, 10, lstm_units)\n",
    "    attention = Attention()([decoder_lstm_out, encoder_combined])\n",
    "    decoder_combined = Concatenate()([decoder_lstm_out, attention])\n",
    "\n",
    "    dense = Dense(dense_units_output, activation='relu')(decoder_combined)\n",
    "    dense = Dropout(dropout_rate)(dense)\n",
    "    output = Dense(target_tv.vocabulary_size(), activation='softmax')(dense)\n",
    "\n",
    "    model = Model(inputs=[context_input, t9_input, decoder_input], outputs=output)\n",
    "    model.compile(optimizer='adam', loss='sparse_categorical_crossentropy', metrics=['accuracy'], weighted_metrics=['sparse_categorical_accuracy'])\n",
    "    return model"
   ]
  },
  {
   "cell_type": "code",
   "execution_count": null,
   "id": "1e23f826",
   "metadata": {},
   "outputs": [
    {
     "ename": "NameError",
     "evalue": "name 'context_tv' is not defined",
     "output_type": "error",
     "traceback": [
      "\u001b[31m---------------------------------------------------------------------------\u001b[39m",
      "\u001b[31mNameError\u001b[39m                                 Traceback (most recent call last)",
      "\u001b[36mCell\u001b[39m\u001b[36m \u001b[39m\u001b[32mIn[7]\u001b[39m\u001b[32m, line 2\u001b[39m\n\u001b[32m      1\u001b[39m \u001b[38;5;66;03m# Visualiser le modèle\u001b[39;00m\n\u001b[32m----> \u001b[39m\u001b[32m2\u001b[39m model = \u001b[43mbuild_model\u001b[49m\u001b[43m(\u001b[49m\u001b[43m)\u001b[49m\n\u001b[32m      3\u001b[39m keras.utils.plot_model(model, show_shapes=\u001b[38;5;28;01mTrue\u001b[39;00m, show_layer_names=\u001b[38;5;28;01mTrue\u001b[39;00m, to_file=\u001b[33m'\u001b[39m\u001b[33mmodel.png\u001b[39m\u001b[33m'\u001b[39m)\n",
      "\u001b[36mCell\u001b[39m\u001b[36m \u001b[39m\u001b[32mIn[6]\u001b[39m\u001b[32m, line 3\u001b[39m, in \u001b[36mbuild_model\u001b[39m\u001b[34m(lstm_units, output_dim, dropout_rate, dense_units_output)\u001b[39m\n\u001b[32m      1\u001b[39m \u001b[38;5;28;01mdef\u001b[39;00m\u001b[38;5;250m \u001b[39m\u001b[34mbuild_model\u001b[39m(lstm_units=\u001b[32m256\u001b[39m, output_dim=\u001b[32m128\u001b[39m, dropout_rate=\u001b[32m0.2\u001b[39m, dense_units_output=\u001b[32m128\u001b[39m):\n\u001b[32m      2\u001b[39m     context_input = Input(shape=(\u001b[32m10\u001b[39m,), dtype=tf.int32, name=\u001b[33m\"\u001b[39m\u001b[33mcontext_input\u001b[39m\u001b[33m\"\u001b[39m)\n\u001b[32m----> \u001b[39m\u001b[32m3\u001b[39m     context_embedding = Embedding(input_dim=\u001b[43mcontext_tv\u001b[49m.vocabulary_size(), output_dim=output_dim, mask_zero=\u001b[38;5;28;01mFalse\u001b[39;00m)(context_input)\n\u001b[32m      4\u001b[39m     context_lstm = LSTM(lstm_units, return_sequences=\u001b[38;5;28;01mTrue\u001b[39;00m, return_state=\u001b[38;5;28;01mTrue\u001b[39;00m)\n\u001b[32m      5\u001b[39m     context_lstm_out, context_state_h, context_state_c = context_lstm(context_embedding)\n",
      "\u001b[31mNameError\u001b[39m: name 'context_tv' is not defined"
     ]
    }
   ],
   "source": [
    "# Visualiser le modèle\n",
    "model = build_model()\n",
    "keras.utils.plot_model(model, show_shapes=True, show_layer_names=True, to_file='model.png')"
   ]
  },
  {
   "cell_type": "code",
   "execution_count": null,
   "id": "03663220",
   "metadata": {},
   "outputs": [],
   "source": [
    "def build_hyper_model(hp):\n",
    "    lstm_units = hp.Choice('lstm_units', [64, 128])  # Réduit de [64, 128, 256, 512]\n",
    "    output_dim = hp.Choice('output_dim', [32, 64])   # Réduit de [32, 64, 128, 256]\n",
    "    dropout_rate = hp.Float('dropout_rate', 0.0, 0.5, step=0.1)  # Limite à 0.5\n",
    "    dense_units_output = hp.Choice('dense_units_output', [64, 128])\n",
    "    return build_model(lstm_units, output_dim, dropout_rate, dense_units_output)\n",
    "\n",
    "# Créer un objet tuner\n",
    "tuner = keras_tuner.RandomSearch(\n",
    "    build_hyper_model,\n",
    "    objective='val_accuracy',\n",
    "    max_trials=10,\n",
    "    executions_per_trial=1,\n",
    "    directory='hyperparameter_tuning',\n",
    "    project_name='chinese_news_tuning'\n",
    ")\n",
    "\n",
    "early_stopping = keras.callbacks.EarlyStopping(\n",
    "    monitor='val_accuracy',\n",
    "    patience=3,\n",
    "    restore_best_weights=True\n",
    ")\n",
    "\n",
    "\n",
    "# Réduire la taille des ensembles de données pour le tuning\n",
    "ds_train_small = round(ds_train.cardinality().numpy()/6)\n",
    "ds_val_small = round(ds_val.cardinality().numpy()/6)\n",
    "\n",
    "tuner.search(\n",
    "    ds_train_small,\n",
    "    epochs=15,\n",
    "    validation_data=ds_val_small,\n",
    "    callbacks=[early_stopping]\n",
    ")\n",
    "\n",
    "\n",
    "# Obtenir le meilleur modèle\n",
    "best_model = tuner.get_best_models(num_models=1)[0]"
   ]
  },
  {
   "cell_type": "code",
   "execution_count": null,
   "id": "61522b95",
   "metadata": {},
   "outputs": [
    {
     "name": "stdout",
     "output_type": "stream",
     "text": [
      "Epoch 1/50\n"
     ]
    },
    {
     "name": "stderr",
     "output_type": "stream",
     "text": [
      "2025-04-11 23:53:00.865058: I tensorflow/core/kernels/data/shuffle_dataset_op.cc:452] ShuffleDatasetV3:62: Filling up shuffle buffer (this may take a while): 46013 of 47017\n",
      "2025-04-11 23:53:01.103735: I tensorflow/core/kernels/data/shuffle_dataset_op.cc:482] Shuffle buffer filled.\n"
     ]
    },
    {
     "name": "stdout",
     "output_type": "stream",
     "text": [
      "\u001b[1m37613/37613\u001b[0m \u001b[32m━━━━━━━━━━━━━━━━━━━━\u001b[0m\u001b[37m\u001b[0m \u001b[1m3335s\u001b[0m 88ms/step - accuracy: 0.1380 - loss: 5.8630 - sparse_categorical_accuracy: 0.1380 - val_accuracy: 0.2157 - val_loss: 5.2112 - val_sparse_categorical_accuracy: 0.2157\n",
      "Epoch 2/50\n",
      "\u001b[1m37613/37613\u001b[0m \u001b[32m━━━━━━━━━━━━━━━━━━━━\u001b[0m\u001b[37m\u001b[0m \u001b[1m3326s\u001b[0m 88ms/step - accuracy: 0.1570 - loss: 6.3890 - sparse_categorical_accuracy: 0.1570 - val_accuracy: 0.1875 - val_loss: 6.8404 - val_sparse_categorical_accuracy: 0.1875\n",
      "Epoch 3/50\n",
      "\u001b[1m37613/37613\u001b[0m \u001b[32m━━━━━━━━━━━━━━━━━━━━\u001b[0m\u001b[37m\u001b[0m \u001b[1m3357s\u001b[0m 89ms/step - accuracy: 0.1247 - loss: 8.6450 - sparse_categorical_accuracy: 0.1247 - val_accuracy: 0.2038 - val_loss: 8.1157 - val_sparse_categorical_accuracy: 0.2038\n",
      "Epoch 4/50\n",
      "\u001b[1m37613/37613\u001b[0m \u001b[32m━━━━━━━━━━━━━━━━━━━━\u001b[0m\u001b[37m\u001b[0m \u001b[1m3396s\u001b[0m 90ms/step - accuracy: 0.1013 - loss: 11.9733 - sparse_categorical_accuracy: 0.1013 - val_accuracy: 0.1292 - val_loss: 11.0328 - val_sparse_categorical_accuracy: 0.1292\n"
     ]
    }
   ],
   "source": [
    "model = build_model(\n",
    "    lstm_units=best_hyperparameters.get('lstm_units'),\n",
    "    output_dim=best_hyperparameters.get('output_dim'),\n",
    "    dropout_rate=best_hyperparameters.get('dropout_rate'),\n",
    ")\n",
    "\n",
    "\n",
    "history = model.fit(\n",
    "    ds_train,\n",
    "    validation_data=ds_val,\n",
    "    epochs=50,\n",
    "    callbacks=[early_stopping],\n",
    "    verbose=1\n",
    ")"
   ]
  },
  {
   "cell_type": "code",
   "execution_count": null,
   "id": "b1705f37",
   "metadata": {},
   "outputs": [
    {
     "data": {
      "image/png": "[encoded data removed]",
      "text/plain": [
       "<Figure size 640x480 with 1 Axes>"
      ]
     },
     "metadata": {},
     "output_type": "display_data"
    },
    {
     "data": {
      "image/png": "[encoded data removed]",
      "text/plain": [
       "<Figure size 640x480 with 1 Axes>"
      ]
     },
     "metadata": {},
     "output_type": "display_data"
    }
   ],
   "source": [
    "plot_history(history)"
   ]
  },
  {
   "cell_type": "code",
   "execution_count": null,
   "id": "3587dd89",
   "metadata": {},
   "outputs": [],
   "source": [
    "# Evaluer le modèle sur le jeu de test\n",
    "test_loss, test_accuracy = model.evaluate(ds_test, verbose=1)\n",
    "print(f\"Test accuracy: {test_accuracy:.4f}\")"
   ]
  },
  {
   "cell_type": "markdown",
   "id": "ec78a4e4",
   "metadata": {},
   "source": [
    "# Génération"
   ]
  },
  {
   "cell_type": "code",
   "execution_count": null,
   "id": "007970b2",
   "metadata": {},
   "outputs": [],
   "source": [
    "def generate_text(context, t9_sequence, max_length=50):\n",
    "    # Vectoriser les entrées\n",
    "    context_vector = context_tv([context])\n",
    "    t9_vector = input_t9_tv([t9_sequence])\n",
    "    \n",
    "    # Initialiser la séquence générée\n",
    "    generated = [target_tv.get_vocabulary().index(\"<START>\")]\n",
    "    output = []\n",
    "    \n",
    "    for _ in range(max_length):\n",
    "        decoder_input = tf.constant([generated], dtype=tf.int32)\n",
    "        pred = model.predict([context_vector, t9_vector, decoder_input], verbose=0)\n",
    "        next_char_idx = tf.argmax(pred[0, -1, :]).numpy()\n",
    "        next_char = target_tv.get_vocabulary()[next_char_idx]\n",
    "        \n",
    "        if next_char == \"<END>\":\n",
    "            break\n",
    "        \n",
    "        output.append(next_char)\n",
    "        generated.append(next_char_idx)\n",
    "    \n",
    "    return \"\".join(output)\n",
    "\n",
    "# Exemple d'utilisation\n",
    "context = \"中国人民\"\n",
    "t9_input = \"543 3264\"  # Pour \"jie fang\"\n",
    "result = generate_text(context, t9_input)\n",
    "print(f\"Contexte: {context}, T9: {t9_input} -> Résultat: {result}\")"
   ]
  }
 ],
 "metadata": {
  "kernelspec": {
   "display_name": "tf_venv",
   "language": "python",
   "name": "python3"
  },
  "language_info": {
   "codemirror_mode": {
    "name": "ipython",
    "version": 3
   },
   "file_extension": ".py",
   "mimetype": "text/x-python",
   "name": "python",
   "nbconvert_exporter": "python",
   "pygments_lexer": "ipython3",
   "version": "3.12.10"
  }
 },
 "nbformat": 4,
 "nbformat_minor": 5
}
