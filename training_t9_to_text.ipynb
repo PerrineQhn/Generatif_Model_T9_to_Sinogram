{
 "cells": [
  {
   "cell_type": "code",
   "execution_count": 1,
   "id": "3de1c406",
   "metadata": {},
   "outputs": [
    {
     "name": "stdout",
     "output_type": "stream",
     "text": [
      "Downloading from https://www.kaggle.com/api/v1/datasets/download/noxmoon/chinese-official-daily-news-since-2016?dataset_version_number=1...\n"
     ]
    },
    {
     "name": "stderr",
     "output_type": "stream",
     "text": [
      "100%|██████████| 8.43M/8.43M [00:00<00:00, 11.7MB/s]"
     ]
    },
    {
     "name": "stdout",
     "output_type": "stream",
     "text": [
      "Extracting files...\n"
     ]
    },
    {
     "name": "stderr",
     "output_type": "stream",
     "text": [
      "\n"
     ]
    },
    {
     "name": "stdout",
     "output_type": "stream",
     "text": [
      "Path to dataset files: /Users/zhongjie/.cache/kagglehub/datasets/noxmoon/chinese-official-daily-news-since-2016/versions/1\n"
     ]
    }
   ],
   "source": [
    "import re\n",
    "\n",
    "import kagglehub\n",
    "import keras\n",
    "import keras_hub\n",
    "import keras_tuner\n",
    "import pandas as pd\n",
    "import pkuseg\n",
    "import tensorflow as tf\n",
    "from datasets import Dataset\n",
    "from pypinyin import lazy_pinyin\n",
    "from keras.layers import (\n",
    "    LSTM,\n",
    "    Dense,\n",
    "    Embedding,\n",
    "    Input,\n",
    "    StringLookup,\n",
    "    TextVectorization,\n",
    ")\n",
    "from keras.models import Model\n",
    "\n",
    "\n",
    "path = kagglehub.dataset_download(\"noxmoon/chinese-official-daily-news-since-2016\")\n",
    "\n",
    "print(\"Path to dataset files:\", path)"
   ]
  },
  {
   "cell_type": "markdown",
   "id": "c0b3e85f",
   "metadata": {},
   "source": [
    "# Création du corpus"
   ]
  },
  {
   "cell_type": "code",
   "execution_count": 2,
   "id": "c1de02ac",
   "metadata": {},
   "outputs": [
    {
     "name": "stdout",
     "output_type": "stream",
     "text": [
      "Dataset information:\n",
      "<class 'pandas.core.frame.DataFrame'>\n",
      "RangeIndex: 20738 entries, 0 to 20737\n",
      "Data columns (total 4 columns):\n",
      " #   Column    Non-Null Count  Dtype \n",
      "---  ------    --------------  ----- \n",
      " 0   date      20738 non-null  object\n",
      " 1   tag       20738 non-null  object\n",
      " 2   headline  20738 non-null  object\n",
      " 3   content   20631 non-null  object\n",
      "dtypes: object(4)\n",
      "memory usage: 648.2+ KB\n",
      "None\n",
      "Dataset head:\n",
      "         date   tag                                           headline  \\\n",
      "0  2016-01-01  详细全文  陆军领导机构火箭军战略支援部队成立大会在京举行 习近平向中国人民解放军陆军火箭军战略支援部队...   \n",
      "1  2016-01-01  详细全文                             中央军委印发《关于深化国防和军队改革的意见》   \n",
      "2  2016-01-01  详细全文                           《习近平关于严明党的纪律和规矩论述摘编》出版发行   \n",
      "3  2016-01-01  详细全文                                 以实际行动向党中央看齐 向高标准努力   \n",
      "4  2016-01-01  详细全文                                 【年终特稿】关键之年 改革挺进深水区   \n",
      "\n",
      "                                             content  \n",
      "0  中国人民解放军陆军领导机构、中国人民解放军火箭军、中国人民解放军战略支援部队成立大会2015...  \n",
      "1  经中央军委主席习近平批准，中央军委近日印发了《关于深化国防和军队改革的意见》。\\n《意见》强...  \n",
      "2  由中共中央纪律检查委员会、中共中央文献研究室编辑的《习近平关于严明党的纪律和规矩论述摘编》一...  \n",
      "3  广大党员干部正在积极学习习近平总书记在中央政治局专题民主生活会上的重要讲话。大家纷纷表示要把...  \n",
      "4  刚刚过去的2015年，是全面深化改革的关键之年。改革集中发力在制约经济社会发展的深层次矛盾，...  \n"
     ]
    }
   ],
   "source": [
    "dataset = pd.read_csv(path+\"/chinese_news.csv\")\n",
    "# Print dataset information\n",
    "print(\"Dataset information:\")\n",
    "print(dataset.info())\n",
    "# Print dataset head\n",
    "print(\"Dataset head:\")\n",
    "print(dataset.head())"
   ]
  },
  {
   "cell_type": "code",
   "execution_count": 3,
   "id": "cef64267",
   "metadata": {},
   "outputs": [
    {
     "name": "stdout",
     "output_type": "stream",
     "text": [
      "Dataset after preprocessing:\n",
      "                                             content  \\\n",
      "0  中国人民解放军陆军领导机构、中国人民解放军火箭军、中国人民解放军战略支援部队成立大会2015...   \n",
      "1  经中央军委主席习近平批准，中央军委近日印发了《关于深化国防和军队改革的意见》。\\n《意见》强...   \n",
      "2  由中共中央纪律检查委员会、中共中央文献研究室编辑的《习近平关于严明党的纪律和规矩论述摘编》一...   \n",
      "3  广大党员干部正在积极学习习近平总书记在中央政治局专题民主生活会上的重要讲话。大家纷纷表示要把...   \n",
      "4  刚刚过去的2015年，是全面深化改革的关键之年。改革集中发力在制约经济社会发展的深层次矛盾，...   \n",
      "\n",
      "                                     cleaned_content  \n",
      "0  中国人民解放军陆军领导机构、中国人民解放军火箭军、中国人民解放军战略支援部队成立大会年月日在...  \n",
      "1  经中央军委主席习近平批准，中央军委近日印发了《关于深化国防和军队改革的意见》。《意见》强调，...  \n",
      "2  由中共中央纪律检查委员会、中共中央文献研究室编辑的《习近平关于严明党的纪律和规矩论述摘编》一...  \n",
      "3  广大党员干部正在积极学习习近平总书记在中央政治局专题民主生活会上的重要讲话。大家纷纷表示要把...  \n",
      "4  刚刚过去的年，是全面深化改革的关键之年。改革集中发力在制约经济社会发展的深层次矛盾，集中发力...  \n",
      "0    [中国, 人民, 解放军, 陆军, 领导, 机构, 、, 中国, 人民, 解放军, 火箭军,...\n",
      "1    [经, 中央军委, 主席, 习近平, 批准, ，, 中央军委, 近日, 印发, 了, 《, ...\n",
      "2    [由, 中共中央, 纪律, 检查, 委员会, 、, 中共中央, 文献, 研究室, 编辑, 的...\n",
      "3    [广大, 党员, 干部, 正在, 积极, 学习, 习近平, 总书记, 在, 中央, 政治局,...\n",
      "4    [刚刚, 过去, 的, 年, ，, 是, 全面, 深化, 改革, 的, 关键, 之, 年, ...\n",
      "Name: tokens, dtype: object\n"
     ]
    }
   ],
   "source": [
    "# Prétraitement de content (suppression des caractères non chinois, normalisation des espaces)\n",
    "def clean_content(text):\n",
    "    if not isinstance(text, str):\n",
    "        return \"\"\n",
    "    \n",
    "    # Garder les caractères chinois et ponctuation chinoise\n",
    "    text = re.sub(r\"[^\\u4e00-\\u9fff\\u3000-\\u303F\\uff00-\\uffef]\", \"\", text)\n",
    "    \n",
    "    # Normaliser les espaces (rare, mais au cas où)\n",
    "    text = text.replace(\" \", \"\").strip()\n",
    "\n",
    "    return text\n",
    "\n",
    "# Appliquer le prétraitement à la colonne 'content'\n",
    "dataset['cleaned_content'] = dataset['content'].apply(clean_content)\n",
    "\n",
    "# Afficher les 5 premières lignes du DataFrame après le prétraitement\n",
    "print(\"Dataset after preprocessing:\")\n",
    "print(dataset[['content', 'cleaned_content']].head())\n",
    "\n",
    "seg = pkuseg.pkuseg()\n",
    "dataset[\"tokens\"] = dataset[\"cleaned_content\"].apply(lambda x: seg.cut(x))\n",
    "\n",
    "# Aperçu\n",
    "print(dataset[\"tokens\"].head())"
   ]
  },
  {
   "cell_type": "code",
   "execution_count": 4,
   "id": "add6bdee",
   "metadata": {},
   "outputs": [
    {
     "name": "stdout",
     "output_type": "stream",
     "text": [
      "Dataset after generating sequences:\n",
      "                                             content  \\\n",
      "0  中国人民解放军陆军领导机构、中国人民解放军火箭军、中国人民解放军战略支援部队成立大会2015...   \n",
      "1  经中央军委主席习近平批准，中央军委近日印发了《关于深化国防和军队改革的意见》。\\n《意见》强...   \n",
      "2  由中共中央纪律检查委员会、中共中央文献研究室编辑的《习近平关于严明党的纪律和规矩论述摘编》一...   \n",
      "3  广大党员干部正在积极学习习近平总书记在中央政治局专题民主生活会上的重要讲话。大家纷纷表示要把...   \n",
      "4  刚刚过去的2015年，是全面深化改革的关键之年。改革集中发力在制约经济社会发展的深层次矛盾，...   \n",
      "\n",
      "                             char_pinyin_t9_sequence  \n",
      "0  中|zhong|94664 国|guo|486 人|ren|736 民|min|646 解|...  \n",
      "1  经|jing|5464 中|zhong|94664 央|yang|9264 军|jun|58...  \n",
      "2  由|you|968 中|zhong|94664 共|gong|4664 中|zhong|94...  \n",
      "3  广|guang|48264 大|da|32 党|dang|3264 员|yuan|9826 ...  \n",
      "4  刚|gang|4264 刚|gang|4264 过|guo|486 去|qu|78 的|de...  \n"
     ]
    }
   ],
   "source": [
    "# convert the content column to pinyin\n",
    "t9_map = {\n",
    "    \"@\": \"1\", \".\": \"1\", \":\": \"1\",\n",
    "    \"a\": \"2\", \"b\": \"2\", \"c\": \"2\",\n",
    "    \"d\": \"3\", \"e\": \"3\", \"f\": \"3\",\n",
    "    \"g\": \"4\", \"h\": \"4\", \"i\": \"4\",\n",
    "    \"j\": \"5\", \"k\": \"5\", \"l\": \"5\",\n",
    "    \"m\": \"6\", \"n\": \"6\", \"o\": \"6\",\n",
    "    \"p\": \"7\", \"q\": \"7\", \"r\": \"7\", \"s\": \"7\",\n",
    "    \"t\": \"8\", \"u\": \"8\", \"v\": \"8\",\n",
    "    \"w\": \"9\", \"x\": \"9\", \"y\": \"9\", \"z\": \"9\",\n",
    "    \"1\": \"1\", \"2\": \"2\", \"3\": \"3\", \"4\": \"4\",\n",
    "    \"5\": \"5\", \"6\": \"6\", \"7\": \"7\", \"8\": \"8\",\n",
    "    \"9\": \"9\", \"0\": \"0\", \" \": \"0\",\n",
    "    \"。\":\"。\", \"，\":\"，\", \"？\":\"？\", \"！\":\"！\",\n",
    "}\n",
    "\n",
    "# Fonction pour convertir une chaîne de caractères en code T9\n",
    "def pinyin_to_t9(text):\n",
    "    t9_code = \"\"\n",
    "    # print(text)\n",
    "    if pd.isna(text):\n",
    "        return text\n",
    "    for char in text:\n",
    "        if char.lower() in t9_map:\n",
    "            t9_code += t9_map[char.lower()]\n",
    "        else:\n",
    "            t9_code += char  # Conserver les caractères non mappés tels quels\n",
    "    return t9_code\n",
    "\n",
    "def generer_sequence_contextuelle(row):\n",
    "    tokens = eval(row[\"tokens\"]) if isinstance(row[\"tokens\"], str) else row[\"tokens\"]\n",
    "    sequence = []\n",
    "    for token in tokens:\n",
    "        if not isinstance(token, str) or not re.search(r'[\\u4e00-\\u9fff]', token):\n",
    "            continue\n",
    "        for char, py in zip(token, lazy_pinyin(token)):\n",
    "            t9 = pinyin_to_t9(py)\n",
    "            sequence.append(f\"{char}|{py}|{t9}\")\n",
    "    return ' '.join(sequence)\n",
    "\n",
    "dataset[\"char_pinyin_t9_sequence\"] = dataset.apply(generer_sequence_contextuelle, axis=1)\n",
    "\n",
    "# Sauvegarder le fichier\n",
    "dataset[[\"char_pinyin_t9_sequence\"]].to_csv(\"sequences_char_pinyin_t9.csv\", index=False)\n",
    "\n",
    "# Afficher les 5 premières lignes du DataFrame après le prétraitement\n",
    "print(\"Dataset after generating sequences:\")\n",
    "print(dataset[['content', 'char_pinyin_t9_sequence']].head())"
   ]
  },
  {
   "cell_type": "markdown",
   "id": "fc41c160",
   "metadata": {},
   "source": [
    "# Création du dataset pour le modèle"
   ]
  },
  {
   "cell_type": "code",
   "execution_count": 5,
   "id": "9336abca",
   "metadata": {},
   "outputs": [],
   "source": [
    "# Transformer en séquences complètes\n",
    "input_t9_sequences = []\n",
    "target_char_sequences = []\n",
    "\n",
    "for seq in dataset[\"char_pinyin_t9_sequence\"]:\n",
    "    triplets = seq.strip().split(\" \")\n",
    "    t9_seq = []\n",
    "    char_seq = []\n",
    "    \n",
    "    # Extraire les paires char|T9 pour chaque phrase\n",
    "    for triplet in triplets:\n",
    "        parts = triplet.split(\"|\")\n",
    "        if len(parts) == 3:\n",
    "            char, _, t9 = parts\n",
    "            char_seq.append(char)\n",
    "            t9_seq.append(t9)\n",
    "    # Ajouter les séquences T9 et caractères\n",
    "    input_t9_sequences.append(\" \".join(t9_seq))\n",
    "    target_char_sequences.append(\"\".join(char_seq))\n",
    "\n",
    "# Créer un DataFrame\n",
    "df_sequences = pd.DataFrame({\n",
    "    \"input_t9_sequence\": input_t9_sequences,\n",
    "    \"target_char_sequence\": target_char_sequences\n",
    "})"
   ]
  },
  {
   "cell_type": "code",
   "execution_count": 6,
   "id": "f096bbf2",
   "metadata": {},
   "outputs": [
    {
     "name": "stdout",
     "output_type": "stream",
     "text": [
      "DataFrame sequences:\n",
      "                                   input_t9_sequence  \\\n",
      "0  94664 486 736 646 543 3264 586 58 586 5464 326...   \n",
      "1  5464 94664 9264 586 934 948 94 94 546 7464 74 ...   \n",
      "2  968 94664 4664 94664 9264 54 58 5426 242 934 9...   \n",
      "3  48264 32 3264 9826 426 28 94364 924 54 54 983 ...   \n",
      "4  4264 4264 486 78 33 6426 744 7826 6426 7436 48...   \n",
      "\n",
      "                                target_char_sequence  \n",
      "0  中国人民解放军陆军领导机构中国人民解放军火箭军中国人民解放军战略支援部队成立大会年月日在八一...  \n",
      "1  经中央军委主席习近平批准中央军委近日印发了关于深化国防和军队改革的意见意见强调党的十八大以来...  \n",
      "2  由中共中央纪律检查委员会中共中央文献研究室编辑的习近平关于严明党的纪律和规矩论述摘编一书近日...  \n",
      "3  广大党员干部正在积极学习习近平总书记在中央政治局专题民主生活会上的重要讲话大家纷纷表示要把践...  \n",
      "4  刚刚过去的年是全面深化改革的关键之年改革集中发力在制约经济社会发展的深层次矛盾集中发力在妨碍...  \n"
     ]
    }
   ],
   "source": [
    "print(\"DataFrame sequences:\")\n",
    "print(df_sequences.head())"
   ]
  },
  {
   "cell_type": "code",
   "execution_count": null,
   "id": "ca9ffcc1",
   "metadata": {},
   "outputs": [
    {
     "data": {
      "text/plain": [
       "(<tf.Tensor: shape=(), dtype=string, numpy=b'94664 486 736 646 543 3264 586 58 586 5464 326 54 468 94664 486 736 646 543 3264 586 486 5426 586 94664 486 736 646 543 3264 586 9426 583 944 9826 28 384 24364 54 32 484 6426 983 74 924 22 94 32 568 5664 94664 58 9464 94664 4664 94664 9264 9664 748 54 486 542 948 94 94664 9264 586 934 948 94 94 546 7464 94264 58 586 486 5426 586 9426 583 944 9826 28 384 7468 98 586 74 2464 944 986 24 324 2426 3264 94664 9264 43 94664 9264 586 934 94264 8664 944 636 94264 7826 586 28 384 944 94 73 543 948 43 74264 3426 926 5426 244 94 3264 924 946 9464 744 942 33 74264 586 68 2426 934 946 5464 7436 78 4826 243 946 9464 744 942 586 744 9426 583 3264 9436 7826 6426 744 744 424 43 74264 586 9426 583 5426 3464 28 94 968 94664 486 83 73 74264 586 944 58 744 53 8464 2664 3264 43 736 646 9426 4826 94664 744 58 9464 3264 43 736 646 38 98 33 7436 74364 744 6464 934 744 9426 94664 486 6364 74264 586 6364 986 248 946 33 4364 32 33 4664 9426 942 98 744 24364 54 32 484 524 744 7826 24264 426 24264 486 43 94 94264 54 2464 48 934 943 9426 926 586 74 94364 28 9464 546 326 948 94 824 7426 94 546 7464 54264 586 74 94364 94664 7468 98 58 586 74 5464 9826 54 986 24364 94364 944 934 9826 548 534 486 5426 586 74 5464 9826 934 3364 43 94364 944 934 9826 9264 542 74364 9426 583 944 9826 28 384 74 5464 9826 426 546 94364 944 934 9826 548 38 5426 58 586 486 5426 586 9426 583 944 9826 28 384 948 926 5464 326 586 7664 926 94364 5464 7436 368 768 94264 94 546 7464 5464 54 2664 94 546 7464 7468 94664 543 486 586 74 7826 24264 4826 2464 94264 586 74 5464 54 7468 74 94 744 468 94 546 7464 944 986 24 82 944 248 24364 54 58 586 5464 326 54 468 486 5426 586 9426 583 944 9826 28 384 744 3264 94664 9264 43 94664 9264 586 934 9486 926 744 9426 94664 486 6364 74264 586 6364 986 248 33 94664 32 583 23 744 468 5426 94664 486 83 73 9426 324 586 744 54 54264 84 94 33 9426 583 58 286 24 54264 24364 934 96 586 9426 324 482 5426 743 33 94 43 94664 926 54 24364 234 924 78 736 646 586 384 744 23 94 546 7464 74264 3426 58 586 744 3264 984 926 5426 54 43 5464 326 33 98 948264 54 54264 54 744 968 548 426 32 7426 9426 9426 4664 9486 948 934 3264 43 736 646 5426 54 53 28 948 4664 986 58 586 384 934 48 486 542 948 7826 26 7826 43 32 9426 54 94 58 968 28 53 84 324 33 986 9664 58 586 7826 84 4826 2464 926 4664 9264 58 586 48264 7664 24826 8664 43 968 54264 986 3364 744 9464 946 94 482 744 324 58 586 5426 743 66 744 43 986 9664 3264 744 33 7436 53 2426 482 826 786 58 586 32 9426 83 3426 43 484 58 26 9426 54 3664 986 9426 54 84 4664 3264 33 9426 583 926 748 542 74264 3464 2364 743 54 43 5464 326 4826 54 968 482 54 54264 543 468 43 28 384 2426 24364 542 5824 744 9426 78 98 3264 934 9464 94264 7826 98 986 9426 9464 94826 2426 68 54 5426 743 94 944 74264 32 33 9426 324 482 946 9464 58 586 94 546 7464 74264 3426 486 5426 586 744 96 486 9426 583 934 743 33 43 946 54 54264 744 96 486 32 486 34 934 33 9426 583 944 24364 744 934 48 486 542 26 7826 33 94664 926 54 744 486 5426 586 7826 84 4826 2464 926 22 96 486 5426 586 33 944 6364 3464 934 43 744 6464 736 98 26 9426 43 24264 5426 234 7826 98 743 9426 33 9426 583 926 748 9364 74264 53 946 53 526 33 43 934 743 43 43 326 54 6364 54 542 74264 94664 9826 24364 5464 783 32 54 54 54264 5426 743 9364 74264 9426 583 944 4364 6364 54 68 54 5426 743 94 944 74264 32 33 9426 324 482 486 5426 586 94 546 7464 74264 3426 9426 583 944 9826 28 384 744 934 48 486 542 26 7826 33 946 9464 986 9426 54 54264 744 96 586 946 944 986 9426 6364 54 33 94664 926 9364 94264 3426 9426 583 944 9826 28 384 7826 84 4826 2464 926 5426 244 84 94 7664 43 586 646 7664 43 68 54 924 4826 5426 5464 98 744 9426 582 983 32 9426 426 2426 9486 426 74 3426 884 546 946 9464 986 9426 54 54264 542 78 32 9426 94 84 32 9426 68 54 5426 743 94 944 74264 32 33 9426 324 482 9426 583 944 9826 28 384 94 546 7464 74264 3426 64 636 926 5426 244 94 3264 924 946 9464 744 942 33 74264 586 68 2426 934 946 5464 7436 78 4826 243 946 9464 744 942 586 744 9426 583 3264 9436 7826 6426 744 744 424 43 74264 586 9426 583 5426 3464 28 94 968 94664 486 83 73 74264 586 944 58 744 53 8464 2664 3264 43 736 646 33 9426 4826 94664 24364 58 9464 3264 43 736 646 38 98 33 7436 74364 744 6464 934 744 9426 94664 486 6364 74264 586 6364 986 248 946 33 4364 32 33 4664 9426 548 534 9264 542 74364 548 38 5426 336 243 324 2426 58 586 486 5426 586 9426 583 944 9826 28 384 32 926 94 944 2426 744 5426 583 4826 243 94 948 94 986 24 736 43 744 468 736 43 7464 58264 942 368 5426 583 8464 2664 3264 94664 9264 94664 9264 586 934 43 94 948 94 944 484 526 54 944 93 744 6464 94664 24364 58 944 546 93 324 5464 28 384 9826 626 926 24364 43 94264 736 98 24364 54 32 484 74264 94664 4664 94664 9264 94364 944 58 934 9826 94664 9264 586 934 38 948 94 326 24264 5664 9826 38 53 94 546 7464 948 94 7426 32 33 94664 9264 586 934 4826 98 98 5426 58 586 5464 326 54 468 486 5426 586 9426 583 944 9826 28 384 54 74 5464 326 226 94 24364 9826 736 944 6464 5464 43 583 3464 94664 4664 94664 9264 94364 944 58 934 9826 94664 9264 586 934 38 948 94 98 74 54264 948 244 32 484 32 484 924 5426 54264 33 586 43 74364 94664 543 748 944 468 94 546 7464 746 743 543 5426 53 58 586 486 5426 586 9426 583 944 9826 28 384 5464 326 226 94 24364 9826 2464 8664 32 542 43 9464 548 6426 94664 9264 586 934 934 9826 24264 926 7826 3264 3364 484 94264 9264 9426 53 744 94264 968 942 98 74364 54 62 9426 8426 248 94 32 484 74 9664 28 948 5464 43 32 326 934 43 586 934 226 4664 8464 5464 326 226 542 32 484'>,\n",
       " <tf.Tensor: shape=(), dtype=string, numpy=b'\\xe4\\xb8\\xad\\xe5\\x9b\\xbd\\xe4\\xba\\xba\\xe6\\xb0\\x91\\xe8\\xa7\\xa3\\xe6\\x94\\xbe\\xe5\\x86\\x9b\\xe9\\x99\\x86\\xe5\\x86\\x9b\\xe9\\xa2\\x86\\xe5\\xaf\\xbc\\xe6\\x9c\\xba\\xe6\\x9e\\x84\\xe4\\xb8\\xad\\xe5\\x9b\\xbd\\xe4\\xba\\xba\\xe6\\xb0\\x91\\xe8\\xa7\\xa3\\xe6\\x94\\xbe\\xe5\\x86\\x9b\\xe7\\x81\\xab\\xe7\\xae\\xad\\xe5\\x86\\x9b\\xe4\\xb8\\xad\\xe5\\x9b\\xbd\\xe4\\xba\\xba\\xe6\\xb0\\x91\\xe8\\xa7\\xa3\\xe6\\x94\\xbe\\xe5\\x86\\x9b\\xe6\\x88\\x98\\xe7\\x95\\xa5\\xe6\\x94\\xaf\\xe6\\x8f\\xb4\\xe9\\x83\\xa8\\xe9\\x98\\x9f\\xe6\\x88\\x90\\xe7\\xab\\x8b\\xe5\\xa4\\xa7\\xe4\\xbc\\x9a\\xe5\\xb9\\xb4\\xe6\\x9c\\x88\\xe6\\x97\\xa5\\xe5\\x9c\\xa8\\xe5\\x85\\xab\\xe4\\xb8\\x80\\xe5\\xa4\\xa7\\xe6\\xa5\\xbc\\xe9\\x9a\\x86\\xe9\\x87\\x8d\\xe4\\xb8\\xbe\\xe8\\xa1\\x8c\\xe4\\xb8\\xad\\xe5\\x85\\xb1\\xe4\\xb8\\xad\\xe5\\xa4\\xae\\xe6\\x80\\xbb\\xe4\\xb9\\xa6\\xe8\\xae\\xb0\\xe5\\x9b\\xbd\\xe5\\xae\\xb6\\xe4\\xb8\\xbb\\xe5\\xb8\\xad\\xe4\\xb8\\xad\\xe5\\xa4\\xae\\xe5\\x86\\x9b\\xe5\\xa7\\x94\\xe4\\xb8\\xbb\\xe5\\xb8\\xad\\xe4\\xb9\\xa0\\xe8\\xbf\\x91\\xe5\\xb9\\xb3\\xe5\\x90\\x91\\xe9\\x99\\x86\\xe5\\x86\\x9b\\xe7\\x81\\xab\\xe7\\xae\\xad\\xe5\\x86\\x9b\\xe6\\x88\\x98\\xe7\\x95\\xa5\\xe6\\x94\\xaf\\xe6\\x8f\\xb4\\xe9\\x83\\xa8\\xe9\\x98\\x9f\\xe6\\x8e\\x88\\xe4\\xba\\x88\\xe5\\x86\\x9b\\xe6\\x97\\x97\\xe5\\xb9\\xb6\\xe8\\x87\\xb4\\xe8\\xae\\xad\\xe8\\xaf\\x8d\\xe4\\xbb\\xa3\\xe8\\xa1\\xa8\\xe5\\x85\\x9a\\xe4\\xb8\\xad\\xe5\\xa4\\xae\\xe5\\x92\\x8c\\xe4\\xb8\\xad\\xe5\\xa4\\xae\\xe5\\x86\\x9b\\xe5\\xa7\\x94\\xe5\\x90\\x91\\xe5\\x90\\x8c\\xe5\\xbf\\x97\\xe4\\xbb\\xac\\xe5\\x90\\x91\\xe5\\x85\\xa8\\xe5\\x86\\x9b\\xe9\\x83\\xa8\\xe9\\x98\\x9f\\xe8\\x87\\xb4\\xe4\\xbb\\xa5\\xe7\\x83\\xad\\xe7\\x83\\x88\\xe7\\xa5\\x9d\\xe8\\xb4\\xba\\xe5\\xbc\\xba\\xe8\\xb0\\x83\\xe8\\xa6\\x81\\xe5\\x9d\\x9a\\xe6\\x8c\\x81\\xe4\\xbb\\xa5\\xe5\\x85\\x9a\\xe5\\x9c\\xa8\\xe6\\x96\\xb0\\xe5\\xbd\\xa2\\xe5\\x8a\\xbf\\xe4\\xb8\\x8b\\xe7\\x9a\\x84\\xe5\\xbc\\xba\\xe5\\x86\\x9b\\xe7\\x9b\\xae\\xe6\\xa0\\x87\\xe4\\xb8\\xba\\xe5\\xbc\\x95\\xe9\\xa2\\x86\\xe6\\xb7\\xb1\\xe5\\x85\\xa5\\xe8\\xb4\\xaf\\xe5\\xbd\\xbb\\xe6\\x96\\xb0\\xe5\\xbd\\xa2\\xe5\\x8a\\xbf\\xe4\\xb8\\x8b\\xe5\\x86\\x9b\\xe4\\xba\\x8b\\xe6\\x88\\x98\\xe7\\x95\\xa5\\xe6\\x96\\xb9\\xe9\\x92\\x88\\xe5\\x85\\xa8\\xe9\\x9d\\xa2\\xe5\\xae\\x9e\\xe6\\x96\\xbd\\xe6\\x94\\xb9\\xe9\\x9d\\xa9\\xe5\\xbc\\xba\\xe5\\x86\\x9b\\xe6\\x88\\x98\\xe7\\x95\\xa5\\xe5\\x9d\\x9a\\xe5\\xae\\x9a\\xe4\\xb8\\x8d\\xe7\\xa7\\xbb\\xe8\\xb5\\xb0\\xe4\\xb8\\xad\\xe5\\x9b\\xbd\\xe7\\x89\\xb9\\xe8\\x89\\xb2\\xe5\\xbc\\xba\\xe5\\x86\\x9b\\xe4\\xb9\\x8b\\xe8\\xb7\\xaf\\xe6\\x97\\xb6\\xe5\\x88\\xbb\\xe5\\x90\\xac\\xe4\\xbb\\x8e\\xe5\\x85\\x9a\\xe5\\x92\\x8c\\xe4\\xba\\xba\\xe6\\xb0\\x91\\xe5\\x8f\\xac\\xe5\\x94\\xa4\\xe5\\xbf\\xa0\\xe5\\xae\\x9e\\xe5\\xb1\\xa5\\xe8\\xa1\\x8c\\xe5\\x85\\x9a\\xe5\\x92\\x8c\\xe4\\xba\\xba\\xe6\\xb0\\x91\\xe8\\xb5\\x8b\\xe4\\xba\\x88\\xe7\\x9a\\x84\\xe7\\xa5\\x9e\\xe5\\x9c\\xa3\\xe4\\xbd\\xbf\\xe5\\x91\\xbd\\xe4\\xb8\\xba\\xe5\\xae\\x9e\\xe7\\x8e\\xb0\\xe4\\xb8\\xad\\xe5\\x9b\\xbd\\xe6\\xa2\\xa6\\xe5\\xbc\\xba\\xe5\\x86\\x9b\\xe6\\xa2\\xa6\\xe4\\xbd\\x9c\\xe5\\x87\\xba\\xe6\\x96\\xb0\\xe7\\x9a\\x84\\xe6\\x9b\\xb4\\xe5\\xa4\\xa7\\xe7\\x9a\\x84\\xe8\\xb4\\xa1\\xe7\\x8c\\xae\\xe4\\xb8\\x8b\\xe5\\x8d\\x88\\xe6\\x97\\xb6\\xe6\\x88\\x90\\xe7\\xab\\x8b\\xe5\\xa4\\xa7\\xe4\\xbc\\x9a\\xe5\\xbc\\x80\\xe5\\xa7\\x8b\\xe5\\x85\\xa8\\xe5\\x9c\\xba\\xe9\\xab\\x98\\xe5\\x94\\xb1\\xe5\\x9b\\xbd\\xe6\\xad\\x8c\\xe4\\xbb\\xaa\\xe4\\xbb\\x97\\xe7\\xa4\\xbc\\xe5\\x85\\xb5\\xe6\\x8a\\xa4\\xe5\\x8d\\xab\\xe7\\x9d\\x80\\xe9\\xb2\\x9c\\xe8\\x89\\xb3\\xe5\\x86\\x9b\\xe6\\x97\\x97\\xe6\\xad\\xa3\\xe6\\xad\\xa5\\xe8\\xa1\\x8c\\xe8\\xbf\\x9b\\xe5\\x88\\xb0\\xe4\\xb8\\xbb\\xe5\\xb8\\xad\\xe5\\x8f\\xb0\\xe5\\x89\\x8d\\xe4\\xb9\\xa0\\xe8\\xbf\\x91\\xe5\\xb9\\xb3\\xe5\\xb0\\x86\\xe5\\x86\\x9b\\xe6\\x97\\x97\\xe9\\x83\\x91\\xe9\\x87\\x8d\\xe6\\x8e\\x88\\xe4\\xba\\x88\\xe9\\x99\\x86\\xe5\\x86\\x9b\\xe5\\x8f\\xb8\\xe4\\xbb\\xa4\\xe5\\x91\\x98\\xe6\\x9d\\x8e\\xe4\\xbd\\x9c\\xe6\\x88\\x90\\xe6\\x94\\xbf\\xe6\\xb2\\xbb\\xe5\\xa7\\x94\\xe5\\x91\\x98\\xe5\\x88\\x98\\xe9\\x9b\\xb7\\xe7\\x81\\xab\\xe7\\xae\\xad\\xe5\\x86\\x9b\\xe5\\x8f\\xb8\\xe4\\xbb\\xa4\\xe5\\x91\\x98\\xe9\\xad\\x8f\\xe5\\x87\\xa4\\xe5\\x92\\x8c\\xe6\\x94\\xbf\\xe6\\xb2\\xbb\\xe5\\xa7\\x94\\xe5\\x91\\x98\\xe7\\x8e\\x8b\\xe5\\xae\\xb6\\xe8\\x83\\x9c\\xe6\\x88\\x98\\xe7\\x95\\xa5\\xe6\\x94\\xaf\\xe6\\x8f\\xb4\\xe9\\x83\\xa8\\xe9\\x98\\x9f\\xe5\\x8f\\xb8\\xe4\\xbb\\xa4\\xe5\\x91\\x98\\xe9\\xab\\x98\\xe6\\xb4\\xa5\\xe6\\x94\\xbf\\xe6\\xb2\\xbb\\xe5\\xa7\\x94\\xe5\\x91\\x98\\xe5\\x88\\x98\\xe7\\xa6\\x8f\\xe8\\xbf\\x9e\\xe9\\x99\\x86\\xe5\\x86\\x9b\\xe7\\x81\\xab\\xe7\\xae\\xad\\xe5\\x86\\x9b\\xe6\\x88\\x98\\xe7\\x95\\xa5\\xe6\\x94\\xaf\\xe6\\x8f\\xb4\\xe9\\x83\\xa8\\xe9\\x98\\x9f\\xe4\\xb8\\xbb\\xe8\\xa6\\x81\\xe9\\xa2\\x86\\xe5\\xaf\\xbc\\xe5\\x86\\x9b\\xe5\\xae\\xb9\\xe4\\xb8\\xa5\\xe6\\x95\\xb4\\xe7\\xb2\\xbe\\xe7\\xa5\\x9e\\xe6\\x8a\\x96\\xe6\\x93\\x9e\\xe5\\x90\\x91\\xe4\\xb9\\xa0\\xe8\\xbf\\x91\\xe5\\xb9\\xb3\\xe6\\x95\\xac\\xe7\\xa4\\xbc\\xe4\\xbb\\x8e\\xe4\\xb9\\xa0\\xe8\\xbf\\x91\\xe5\\xb9\\xb3\\xe6\\x89\\x8b\\xe4\\xb8\\xad\\xe6\\x8e\\xa5\\xe8\\xbf\\x87\\xe5\\x86\\x9b\\xe6\\x97\\x97\\xe5\\x85\\xa8\\xe5\\x9c\\xba\\xe5\\xae\\x98\\xe5\\x85\\xb5\\xe5\\x90\\x91\\xe5\\x86\\x9b\\xe6\\x97\\x97\\xe6\\x95\\xac\\xe7\\xa4\\xbc\\xe6\\x8e\\x88\\xe6\\x97\\x97\\xe4\\xbb\\xaa\\xe5\\xbc\\x8f\\xe5\\x90\\x8e\\xe4\\xb9\\xa0\\xe8\\xbf\\x91\\xe5\\xb9\\xb3\\xe8\\x87\\xb4\\xe8\\xae\\xad\\xe8\\xaf\\x8d\\xe4\\xbb\\x96\\xe6\\x8c\\x87\\xe5\\x87\\xba\\xe6\\x88\\x90\\xe7\\xab\\x8b\\xe9\\x99\\x86\\xe5\\x86\\x9b\\xe9\\xa2\\x86\\xe5\\xaf\\xbc\\xe6\\x9c\\xba\\xe6\\x9e\\x84\\xe7\\x81\\xab\\xe7\\xae\\xad\\xe5\\x86\\x9b\\xe6\\x88\\x98\\xe7\\x95\\xa5\\xe6\\x94\\xaf\\xe6\\x8f\\xb4\\xe9\\x83\\xa8\\xe9\\x98\\x9f\\xe6\\x98\\xaf\\xe5\\x85\\x9a\\xe4\\xb8\\xad\\xe5\\xa4\\xae\\xe5\\x92\\x8c\\xe4\\xb8\\xad\\xe5\\xa4\\xae\\xe5\\x86\\x9b\\xe5\\xa7\\x94\\xe7\\x9d\\x80\\xe7\\x9c\\xbc\\xe5\\xae\\x9e\\xe7\\x8e\\xb0\\xe4\\xb8\\xad\\xe5\\x9b\\xbd\\xe6\\xa2\\xa6\\xe5\\xbc\\xba\\xe5\\x86\\x9b\\xe6\\xa2\\xa6\\xe4\\xbd\\x9c\\xe5\\x87\\xba\\xe7\\x9a\\x84\\xe9\\x87\\x8d\\xe5\\xa4\\xa7\\xe5\\x86\\xb3\\xe7\\xad\\x96\\xe6\\x98\\xaf\\xe6\\x9e\\x84\\xe5\\xbb\\xba\\xe4\\xb8\\xad\\xe5\\x9b\\xbd\\xe7\\x89\\xb9\\xe8\\x89\\xb2\\xe7\\x8e\\xb0\\xe4\\xbb\\xa3\\xe5\\x86\\x9b\\xe4\\xba\\x8b\\xe5\\x8a\\x9b\\xe9\\x87\\x8f\\xe4\\xbd\\x93\\xe7\\xb3\\xbb\\xe7\\x9a\\x84\\xe6\\x88\\x98\\xe7\\x95\\xa5\\xe4\\xb8\\xbe\\xe6\\x8e\\xaa\\xe5\\xbf\\x85\\xe5\\xb0\\x86\\xe6\\x88\\x90\\xe4\\xb8\\xba\\xe6\\x88\\x91\\xe5\\x86\\x9b\\xe7\\x8e\\xb0\\xe4\\xbb\\xa3\\xe5\\x8c\\x96\\xe5\\xbb\\xba\\xe8\\xae\\xbe\\xe7\\x9a\\x84\\xe4\\xb8\\x80\\xe4\\xb8\\xaa\\xe9\\x87\\x8d\\xe8\\xa6\\x81\\xe9\\x87\\x8c\\xe7\\xa8\\x8b\\xe7\\xa2\\x91\\xe8\\xbd\\xbd\\xe5\\x85\\xa5\\xe4\\xba\\xba\\xe6\\xb0\\x91\\xe5\\x86\\x9b\\xe9\\x98\\x9f\\xe5\\x8f\\xb2\\xe5\\x86\\x8c\\xe4\\xb9\\xa0\\xe8\\xbf\\x91\\xe5\\xb9\\xb3\\xe5\\xbc\\xba\\xe8\\xb0\\x83\\xe9\\x99\\x86\\xe5\\x86\\x9b\\xe6\\x98\\xaf\\xe5\\x85\\x9a\\xe6\\x9c\\x80\\xe6\\x97\\xa9\\xe5\\xbb\\xba\\xe7\\xab\\x8b\\xe5\\x92\\x8c\\xe9\\xa2\\x86\\xe5\\xaf\\xbc\\xe7\\x9a\\x84\\xe6\\xad\\xa6\\xe8\\xa3\\x85\\xe5\\x8a\\x9b\\xe9\\x87\\x8f\\xe5\\x8e\\x86\\xe5\\x8f\\xb2\\xe6\\x82\\xa0\\xe4\\xb9\\x85\\xe6\\x95\\xa2\\xe6\\x89\\x93\\xe5\\x96\\x84\\xe6\\x88\\x98\\xe6\\x88\\x98\\xe5\\x8a\\x9f\\xe5\\x8d\\x93\\xe8\\x91\\x97\\xe4\\xb8\\xba\\xe5\\x85\\x9a\\xe5\\x92\\x8c\\xe4\\xba\\xba\\xe6\\xb0\\x91\\xe5\\xbb\\xba\\xe7\\xab\\x8b\\xe4\\xba\\x86\\xe4\\xb8\\x8d\\xe6\\x9c\\xbd\\xe5\\x8a\\x9f\\xe5\\x8b\\x8b\\xe9\\x99\\x86\\xe5\\x86\\x9b\\xe5\\xaf\\xb9\\xe7\\xbb\\xb4\\xe6\\x8a\\xa4\\xe5\\x9b\\xbd\\xe5\\xae\\xb6\\xe4\\xb8\\xbb\\xe6\\x9d\\x83\\xe5\\xae\\x89\\xe5\\x85\\xa8\\xe5\\x92\\x8c\\xe5\\x8f\\x91\\xe5\\xb1\\x95\\xe5\\x88\\xa9\\xe7\\x9b\\x8a\\xe5\\x85\\xb7\\xe6\\x9c\\x89\\xe4\\xb8\\x8d\\xe5\\x8f\\xaf\\xe6\\x9b\\xbf\\xe4\\xbb\\xa3\\xe7\\x9a\\x84\\xe4\\xbd\\x9c\\xe7\\x94\\xa8\\xe9\\x99\\x86\\xe5\\x86\\x9b\\xe5\\x85\\xa8\\xe4\\xbd\\x93\\xe5\\xae\\x98\\xe5\\x85\\xb5\\xe8\\xa6\\x81\\xe5\\xbc\\x98\\xe6\\x89\\xac\\xe9\\x99\\x86\\xe5\\x86\\x9b\\xe5\\x85\\x89\\xe8\\x8d\\xa3\\xe4\\xbc\\xa0\\xe7\\xbb\\x9f\\xe5\\x92\\x8c\\xe4\\xbc\\x98\\xe8\\x89\\xaf\\xe4\\xbd\\x9c\\xe9\\xa3\\x8e\\xe9\\x80\\x82\\xe5\\xba\\x94\\xe4\\xbf\\xa1\\xe6\\x81\\xaf\\xe5\\x8c\\x96\\xe6\\x97\\xb6\\xe4\\xbb\\xa3\\xe9\\x99\\x86\\xe5\\x86\\x9b\\xe5\\xbb\\xba\\xe8\\xae\\xbe\\xe6\\xa8\\xa1\\xe5\\xbc\\x8f\\xe5\\x92\\x8c\\xe8\\xbf\\x90\\xe7\\x94\\xa8\\xe6\\x96\\xb9\\xe5\\xbc\\x8f\\xe7\\x9a\\x84\\xe6\\xb7\\xb1\\xe5\\x88\\xbb\\xe5\\x8f\\x98\\xe5\\x8c\\x96\\xe6\\x8e\\xa2\\xe7\\xb4\\xa2\\xe9\\x99\\x86\\xe5\\x86\\x9b\\xe5\\x8f\\x91\\xe5\\xb1\\x95\\xe7\\x89\\xb9\\xe7\\x82\\xb9\\xe5\\x92\\x8c\\xe8\\xa7\\x84\\xe5\\xbe\\x8b\\xe6\\x8c\\x89\\xe7\\x85\\xa7\\xe6\\x9c\\xba\\xe5\\x8a\\xa8\\xe4\\xbd\\x9c\\xe6\\x88\\x98\\xe7\\xab\\x8b\\xe4\\xbd\\x93\\xe6\\x94\\xbb\\xe9\\x98\\xb2\\xe7\\x9a\\x84\\xe6\\x88\\x98\\xe7\\x95\\xa5\\xe8\\xa6\\x81\\xe6\\xb1\\x82\\xe5\\x8a\\xa0\\xe5\\xbc\\xba\\xe9\\xa1\\xb6\\xe5\\xb1\\x82\\xe8\\xae\\xbe\\xe8\\xae\\xa1\\xe5\\x92\\x8c\\xe9\\xa2\\x86\\xe5\\xaf\\xbc\\xe7\\xae\\xa1\\xe7\\x90\\x86\\xe4\\xbc\\x98\\xe5\\x8c\\x96\\xe5\\x8a\\x9b\\xe9\\x87\\x8f\\xe7\\xbb\\x93\\xe6\\x9e\\x84\\xe5\\x92\\x8c\\xe9\\x83\\xa8\\xe9\\x98\\x9f\\xe7\\xbc\\x96\\xe6\\x88\\x90\\xe5\\x8a\\xa0\\xe5\\xbf\\xab\\xe5\\xae\\x9e\\xe7\\x8e\\xb0\\xe5\\x8c\\xba\\xe5\\x9f\\x9f\\xe9\\x98\\xb2\\xe5\\x8d\\xab\\xe5\\x9e\\x8b\\xe5\\x90\\x91\\xe5\\x85\\xa8\\xe5\\x9f\\x9f\\xe4\\xbd\\x9c\\xe6\\x88\\x98\\xe5\\x9e\\x8b\\xe8\\xbd\\xac\\xe5\\x8f\\x98\\xe5\\x8a\\xaa\\xe5\\x8a\\x9b\\xe5\\xbb\\xba\\xe8\\xae\\xbe\\xe4\\xb8\\x80\\xe6\\x94\\xaf\\xe5\\xbc\\xba\\xe5\\xa4\\xa7\\xe7\\x9a\\x84\\xe7\\x8e\\xb0\\xe4\\xbb\\xa3\\xe5\\x8c\\x96\\xe6\\x96\\xb0\\xe5\\x9e\\x8b\\xe9\\x99\\x86\\xe5\\x86\\x9b\\xe4\\xb9\\xa0\\xe8\\xbf\\x91\\xe5\\xb9\\xb3\\xe5\\xbc\\xba\\xe8\\xb0\\x83\\xe7\\x81\\xab\\xe7\\xae\\xad\\xe5\\x86\\x9b\\xe6\\x98\\xaf\\xe6\\x88\\x91\\xe5\\x9b\\xbd\\xe6\\x88\\x98\\xe7\\x95\\xa5\\xe5\\xa8\\x81\\xe6\\x85\\x91\\xe7\\x9a\\x84\\xe6\\xa0\\xb8\\xe5\\xbf\\x83\\xe5\\x8a\\x9b\\xe9\\x87\\x8f\\xe6\\x98\\xaf\\xe6\\x88\\x91\\xe5\\x9b\\xbd\\xe5\\xa4\\xa7\\xe5\\x9b\\xbd\\xe5\\x9c\\xb0\\xe4\\xbd\\x8d\\xe7\\x9a\\x84\\xe6\\x88\\x98\\xe7\\x95\\xa5\\xe6\\x94\\xaf\\xe6\\x92\\x91\\xe6\\x98\\xaf\\xe7\\xbb\\xb4\\xe6\\x8a\\xa4\\xe5\\x9b\\xbd\\xe5\\xae\\xb6\\xe5\\xae\\x89\\xe5\\x85\\xa8\\xe7\\x9a\\x84\\xe9\\x87\\x8d\\xe8\\xa6\\x81\\xe5\\x9f\\xba\\xe7\\x9f\\xb3\\xe7\\x81\\xab\\xe7\\xae\\xad\\xe5\\x86\\x9b\\xe5\\x85\\xa8\\xe4\\xbd\\x93\\xe5\\xae\\x98\\xe5\\x85\\xb5\\xe8\\xa6\\x81\\xe6\\x8a\\x8a\\xe6\\x8f\\xa1\\xe7\\x81\\xab\\xe7\\xae\\xad\\xe5\\x86\\x9b\\xe7\\x9a\\x84\\xe8\\x81\\x8c\\xe8\\x83\\xbd\\xe5\\xae\\x9a\\xe4\\xbd\\x8d\\xe5\\x92\\x8c\\xe4\\xbd\\xbf\\xe5\\x91\\xbd\\xe4\\xbb\\xbb\\xe5\\x8a\\xa1\\xe6\\x8c\\x89\\xe7\\x85\\xa7\\xe6\\xa0\\xb8\\xe5\\xb8\\xb8\\xe5\\x85\\xbc\\xe5\\xa4\\x87\\xe5\\x85\\xa8\\xe5\\x9f\\x9f\\xe6\\x85\\x91\\xe6\\x88\\x98\\xe7\\x9a\\x84\\xe6\\x88\\x98\\xe7\\x95\\xa5\\xe8\\xa6\\x81\\xe6\\xb1\\x82\\xe5\\xa2\\x9e\\xe5\\xbc\\xba\\xe5\\x8f\\xaf\\xe4\\xbf\\xa1\\xe5\\x8f\\xaf\\xe9\\x9d\\xa0\\xe7\\x9a\\x84\\xe6\\xa0\\xb8\\xe5\\xa8\\x81\\xe6\\x85\\x91\\xe5\\x92\\x8c\\xe6\\xa0\\xb8\\xe5\\x8f\\x8d\\xe5\\x87\\xbb\\xe8\\x83\\xbd\\xe5\\x8a\\x9b\\xe5\\x8a\\xa0\\xe5\\xbc\\xba\\xe4\\xb8\\xad\\xe8\\xbf\\x9c\\xe7\\xa8\\x8b\\xe7\\xb2\\xbe\\xe7\\xa1\\xae\\xe6\\x89\\x93\\xe5\\x87\\xbb\\xe5\\x8a\\x9b\\xe9\\x87\\x8f\\xe5\\xbb\\xba\\xe8\\xae\\xbe\\xe5\\xa2\\x9e\\xe5\\xbc\\xba\\xe6\\x88\\x98\\xe7\\x95\\xa5\\xe5\\x88\\xb6\\xe8\\xa1\\xa1\\xe8\\x83\\xbd\\xe5\\x8a\\x9b\\xe5\\x8a\\xaa\\xe5\\x8a\\x9b\\xe5\\xbb\\xba\\xe8\\xae\\xbe\\xe4\\xb8\\x80\\xe6\\x94\\xaf\\xe5\\xbc\\xba\\xe5\\xa4\\xa7\\xe7\\x9a\\x84\\xe7\\x8e\\xb0\\xe4\\xbb\\xa3\\xe5\\x8c\\x96\\xe7\\x81\\xab\\xe7\\xae\\xad\\xe5\\x86\\x9b\\xe4\\xb9\\xa0\\xe8\\xbf\\x91\\xe5\\xb9\\xb3\\xe5\\xbc\\xba\\xe8\\xb0\\x83\\xe6\\x88\\x98\\xe7\\x95\\xa5\\xe6\\x94\\xaf\\xe6\\x8f\\xb4\\xe9\\x83\\xa8\\xe9\\x98\\x9f\\xe6\\x98\\xaf\\xe7\\xbb\\xb4\\xe6\\x8a\\xa4\\xe5\\x9b\\xbd\\xe5\\xae\\xb6\\xe5\\xae\\x89\\xe5\\x85\\xa8\\xe7\\x9a\\x84\\xe6\\x96\\xb0\\xe5\\x9e\\x8b\\xe4\\xbd\\x9c\\xe6\\x88\\x98\\xe5\\x8a\\x9b\\xe9\\x87\\x8f\\xe6\\x98\\xaf\\xe6\\x88\\x91\\xe5\\x86\\x9b\\xe6\\x96\\xb0\\xe8\\xb4\\xa8\\xe4\\xbd\\x9c\\xe6\\x88\\x98\\xe8\\x83\\xbd\\xe5\\x8a\\x9b\\xe7\\x9a\\x84\\xe9\\x87\\x8d\\xe8\\xa6\\x81\\xe5\\xa2\\x9e\\xe9\\x95\\xbf\\xe7\\x82\\xb9\\xe6\\x88\\x98\\xe7\\x95\\xa5\\xe6\\x94\\xaf\\xe6\\x8f\\xb4\\xe9\\x83\\xa8\\xe9\\x98\\x9f\\xe5\\x85\\xa8\\xe4\\xbd\\x93\\xe5\\xae\\x98\\xe5\\x85\\xb5\\xe8\\xa6\\x81\\xe5\\x9d\\x9a\\xe6\\x8c\\x81\\xe4\\xbd\\x93\\xe7\\xb3\\xbb\\xe8\\x9e\\x8d\\xe5\\x90\\x88\\xe5\\x86\\x9b\\xe6\\xb0\\x91\\xe8\\x9e\\x8d\\xe5\\x90\\x88\\xe5\\x8a\\xaa\\xe5\\x8a\\x9b\\xe5\\x9c\\xa8\\xe5\\x85\\xb3\\xe9\\x94\\xae\\xe9\\xa2\\x86\\xe5\\x9f\\x9f\\xe5\\xae\\x9e\\xe7\\x8e\\xb0\\xe8\\xb7\\xa8\\xe8\\xb6\\x8a\\xe5\\x8f\\x91\\xe5\\xb1\\x95\\xe9\\xab\\x98\\xe6\\xa0\\x87\\xe5\\x87\\x86\\xe9\\xab\\x98\\xe8\\xb5\\xb7\\xe7\\x82\\xb9\\xe6\\x8e\\xa8\\xe8\\xbf\\x9b\\xe6\\x96\\xb0\\xe5\\x9e\\x8b\\xe4\\xbd\\x9c\\xe6\\x88\\x98\\xe5\\x8a\\x9b\\xe9\\x87\\x8f\\xe5\\x8a\\xa0\\xe9\\x80\\x9f\\xe5\\x8f\\x91\\xe5\\xb1\\x95\\xe4\\xb8\\x80\\xe4\\xbd\\x93\\xe5\\x8f\\x91\\xe5\\xb1\\x95\\xe5\\x8a\\xaa\\xe5\\x8a\\x9b\\xe5\\xbb\\xba\\xe8\\xae\\xbe\\xe4\\xb8\\x80\\xe6\\x94\\xaf\\xe5\\xbc\\xba\\xe5\\xa4\\xa7\\xe7\\x9a\\x84\\xe7\\x8e\\xb0\\xe4\\xbb\\xa3\\xe5\\x8c\\x96\\xe6\\x88\\x98\\xe7\\x95\\xa5\\xe6\\x94\\xaf\\xe6\\x8f\\xb4\\xe9\\x83\\xa8\\xe9\\x98\\x9f\\xe4\\xb9\\xa0\\xe8\\xbf\\x91\\xe5\\xb9\\xb3\\xe5\\xbc\\xba\\xe8\\xb0\\x83\\xe4\\xbd\\xa0\\xe4\\xbb\\xac\\xe8\\xa6\\x81\\xe5\\x9d\\x9a\\xe6\\x8c\\x81\\xe4\\xbb\\xa5\\xe5\\x85\\x9a\\xe5\\x9c\\xa8\\xe6\\x96\\xb0\\xe5\\xbd\\xa2\\xe5\\x8a\\xbf\\xe4\\xb8\\x8b\\xe7\\x9a\\x84\\xe5\\xbc\\xba\\xe5\\x86\\x9b\\xe7\\x9b\\xae\\xe6\\xa0\\x87\\xe4\\xb8\\xba\\xe5\\xbc\\x95\\xe9\\xa2\\x86\\xe6\\xb7\\xb1\\xe5\\x85\\xa5\\xe8\\xb4\\xaf\\xe5\\xbd\\xbb\\xe6\\x96\\xb0\\xe5\\xbd\\xa2\\xe5\\x8a\\xbf\\xe4\\xb8\\x8b\\xe5\\x86\\x9b\\xe4\\xba\\x8b\\xe6\\x88\\x98\\xe7\\x95\\xa5\\xe6\\x96\\xb9\\xe9\\x92\\x88\\xe5\\x85\\xa8\\xe9\\x9d\\xa2\\xe5\\xae\\x9e\\xe6\\x96\\xbd\\xe6\\x94\\xb9\\xe9\\x9d\\xa9\\xe5\\xbc\\xba\\xe5\\x86\\x9b\\xe6\\x88\\x98\\xe7\\x95\\xa5\\xe5\\x9d\\x9a\\xe5\\xae\\x9a\\xe4\\xb8\\x8d\\xe7\\xa7\\xbb\\xe8\\xb5\\xb0\\xe4\\xb8\\xad\\xe5\\x9b\\xbd\\xe7\\x89\\xb9\\xe8\\x89\\xb2\\xe5\\xbc\\xba\\xe5\\x86\\x9b\\xe4\\xb9\\x8b\\xe8\\xb7\\xaf\\xe6\\x97\\xb6\\xe5\\x88\\xbb\\xe5\\x90\\xac\\xe4\\xbb\\x8e\\xe5\\x85\\x9a\\xe5\\x92\\x8c\\xe4\\xba\\xba\\xe6\\xb0\\x91\\xe7\\x9a\\x84\\xe5\\x8f\\xac\\xe5\\x94\\xa4\\xe5\\xbf\\xa0\\xe8\\xaf\\x9a\\xe5\\xb1\\xa5\\xe8\\xa1\\x8c\\xe5\\x85\\x9a\\xe5\\x92\\x8c\\xe4\\xba\\xba\\xe6\\xb0\\x91\\xe8\\xb5\\x8b\\xe4\\xba\\x88\\xe7\\x9a\\x84\\xe7\\xa5\\x9e\\xe5\\x9c\\xa3\\xe4\\xbd\\xbf\\xe5\\x91\\xbd\\xe4\\xb8\\xba\\xe5\\xae\\x9e\\xe7\\x8e\\xb0\\xe4\\xb8\\xad\\xe5\\x9b\\xbd\\xe6\\xa2\\xa6\\xe5\\xbc\\xba\\xe5\\x86\\x9b\\xe6\\xa2\\xa6\\xe4\\xbd\\x9c\\xe5\\x87\\xba\\xe6\\x96\\xb0\\xe7\\x9a\\x84\\xe6\\x9b\\xb4\\xe5\\xa4\\xa7\\xe7\\x9a\\x84\\xe8\\xb4\\xa1\\xe7\\x8c\\xae\\xe5\\x88\\x98\\xe9\\x9b\\xb7\\xe7\\x8e\\x8b\\xe5\\xae\\xb6\\xe8\\x83\\x9c\\xe5\\x88\\x98\\xe7\\xa6\\x8f\\xe8\\xbf\\x9e\\xe5\\x88\\x86\\xe5\\x88\\xab\\xe4\\xbb\\xa3\\xe8\\xa1\\xa8\\xe9\\x99\\x86\\xe5\\x86\\x9b\\xe7\\x81\\xab\\xe7\\xae\\xad\\xe5\\x86\\x9b\\xe6\\x88\\x98\\xe7\\x95\\xa5\\xe6\\x94\\xaf\\xe6\\x8f\\xb4\\xe9\\x83\\xa8\\xe9\\x98\\x9f\\xe5\\x8f\\x91\\xe8\\xa8\\x80\\xe4\\xb8\\x80\\xe8\\x87\\xb4\\xe8\\xa1\\xa8\\xe7\\xa4\\xba\\xe5\\x9d\\x9a\\xe5\\x86\\xb3\\xe8\\xb4\\xaf\\xe5\\xbd\\xbb\\xe4\\xb9\\xa0\\xe4\\xb8\\xbb\\xe5\\xb8\\xad\\xe8\\xae\\xad\\xe8\\xaf\\x8d\\xe4\\xbb\\xbb\\xe4\\xbd\\x95\\xe6\\x97\\xb6\\xe5\\x80\\x99\\xe4\\xbb\\xbb\\xe4\\xbd\\x95\\xe6\\x83\\x85\\xe5\\x86\\xb5\\xe4\\xb8\\x8b\\xe9\\x83\\xbd\\xe5\\x9d\\x9a\\xe5\\x86\\xb3\\xe5\\x90\\xac\\xe4\\xbb\\x8e\\xe5\\x85\\x9a\\xe4\\xb8\\xad\\xe5\\xa4\\xae\\xe4\\xb8\\xad\\xe5\\xa4\\xae\\xe5\\x86\\x9b\\xe5\\xa7\\x94\\xe5\\x92\\x8c\\xe4\\xb9\\xa0\\xe4\\xb8\\xbb\\xe5\\xb8\\xad\\xe6\\x8c\\x87\\xe6\\x8c\\xa5\\xe7\\x89\\xa2\\xe8\\xae\\xb0\\xe8\\x81\\x8c\\xe8\\xb4\\xa3\\xe4\\xbd\\xbf\\xe5\\x91\\xbd\\xe5\\xbf\\xa0\\xe8\\xaf\\x9a\\xe5\\xb1\\xa5\\xe8\\x81\\x8c\\xe5\\xb0\\xbd\\xe8\\xb4\\xa3\\xe5\\xb8\\xa6\\xe9\\xa2\\x86\\xe9\\x83\\xa8\\xe9\\x98\\x9f\\xe5\\x9c\\x86\\xe6\\xbb\\xa1\\xe5\\xae\\x8c\\xe6\\x88\\x90\\xe5\\x90\\x84\\xe9\\xa1\\xb9\\xe4\\xbb\\xbb\\xe5\\x8a\\xa1\\xe6\\x88\\x90\\xe7\\xab\\x8b\\xe5\\xa4\\xa7\\xe4\\xbc\\x9a\\xe4\\xb8\\x8a\\xe4\\xb8\\xad\\xe5\\x85\\xb1\\xe4\\xb8\\xad\\xe5\\xa4\\xae\\xe6\\x94\\xbf\\xe6\\xb2\\xbb\\xe5\\xb1\\x80\\xe5\\xa7\\x94\\xe5\\x91\\x98\\xe4\\xb8\\xad\\xe5\\xa4\\xae\\xe5\\x86\\x9b\\xe5\\xa7\\x94\\xe5\\x89\\xaf\\xe4\\xb8\\xbb\\xe5\\xb8\\xad\\xe8\\x8c\\x83\\xe9\\x95\\xbf\\xe9\\xbe\\x99\\xe5\\xae\\xa3\\xe8\\xaf\\xbb\\xe4\\xba\\x86\\xe4\\xb9\\xa0\\xe8\\xbf\\x91\\xe5\\xb9\\xb3\\xe4\\xb8\\xbb\\xe5\\xb8\\xad\\xe7\\xad\\xbe\\xe5\\x8f\\x91\\xe7\\x9a\\x84\\xe4\\xb8\\xad\\xe5\\xa4\\xae\\xe5\\x86\\x9b\\xe5\\xa7\\x94\\xe5\\x85\\xb3\\xe4\\xba\\x8e\\xe7\\xbb\\x84\\xe5\\xbb\\xba\\xe9\\x99\\x86\\xe5\\x86\\x9b\\xe9\\xa2\\x86\\xe5\\xaf\\xbc\\xe6\\x9c\\xba\\xe6\\x9e\\x84\\xe7\\x81\\xab\\xe7\\xae\\xad\\xe5\\x86\\x9b\\xe6\\x88\\x98\\xe7\\x95\\xa5\\xe6\\x94\\xaf\\xe6\\x8f\\xb4\\xe9\\x83\\xa8\\xe9\\x98\\x9f\\xe5\\x8f\\x8a\\xe5\\x85\\xb6\\xe9\\xa2\\x86\\xe5\\xaf\\xbc\\xe7\\x8f\\xad\\xe5\\xad\\x90\\xe6\\x88\\x90\\xe5\\x91\\x98\\xe4\\xbb\\xbb\\xe8\\x81\\x8c\\xe5\\x91\\xbd\\xe4\\xbb\\xa4\\xe5\\x92\\x8c\\xe5\\x86\\xb3\\xe5\\xae\\x9a\\xe4\\xb8\\xad\\xe5\\x85\\xb1\\xe4\\xb8\\xad\\xe5\\xa4\\xae\\xe6\\x94\\xbf\\xe6\\xb2\\xbb\\xe5\\xb1\\x80\\xe5\\xa7\\x94\\xe5\\x91\\x98\\xe4\\xb8\\xad\\xe5\\xa4\\xae\\xe5\\x86\\x9b\\xe5\\xa7\\x94\\xe5\\x89\\xaf\\xe4\\xb8\\xbb\\xe5\\xb8\\xad\\xe8\\xae\\xb8\\xe5\\x85\\xb6\\xe4\\xba\\xae\\xe4\\xb8\\xbb\\xe6\\x8c\\x81\\xe5\\xa4\\xa7\\xe4\\xbc\\x9a\\xe5\\xa4\\xa7\\xe4\\xbc\\x9a\\xe5\\x9c\\xa8\\xe5\\x98\\xb9\\xe4\\xba\\xae\\xe7\\x9a\\x84\\xe5\\x86\\x9b\\xe6\\xad\\x8c\\xe5\\xa3\\xb0\\xe4\\xb8\\xad\\xe7\\xbb\\x93\\xe6\\x9d\\x9f\\xe4\\xb9\\x8b\\xe5\\x90\\x8e\\xe4\\xb9\\xa0\\xe8\\xbf\\x91\\xe5\\xb9\\xb3\\xe4\\xba\\xb2\\xe5\\x88\\x87\\xe6\\x8e\\xa5\\xe8\\xa7\\x81\\xe4\\xba\\x86\\xe9\\x99\\x86\\xe5\\x86\\x9b\\xe7\\x81\\xab\\xe7\\xae\\xad\\xe5\\x86\\x9b\\xe6\\x88\\x98\\xe7\\x95\\xa5\\xe6\\x94\\xaf\\xe6\\x8f\\xb4\\xe9\\x83\\xa8\\xe9\\x98\\x9f\\xe9\\xa2\\x86\\xe5\\xaf\\xbc\\xe7\\x8f\\xad\\xe5\\xad\\x90\\xe6\\x88\\x90\\xe5\\x91\\x98\\xe5\\xb9\\xb6\\xe5\\x90\\x8c\\xe5\\xa4\\xa7\\xe5\\xae\\xb6\\xe5\\x90\\x88\\xe5\\xbd\\xb1\\xe7\\x95\\x99\\xe5\\xbf\\xb5\\xe4\\xb8\\xad\\xe5\\xa4\\xae\\xe5\\x86\\x9b\\xe5\\xa7\\x94\\xe5\\xa7\\x94\\xe5\\x91\\x98\\xe5\\xb8\\xb8\\xe4\\xb8\\x87\\xe5\\x85\\xa8\\xe6\\x88\\xbf\\xe5\\xb3\\xb0\\xe8\\xbe\\x89\\xe5\\xbc\\xa0\\xe9\\x98\\xb3\\xe8\\xb5\\xb5\\xe5\\x85\\x8b\\xe7\\x9f\\xb3\\xe5\\xbc\\xa0\\xe5\\x8f\\x88\\xe4\\xbe\\xa0\\xe5\\x90\\xb4\\xe8\\x83\\x9c\\xe5\\x88\\xa9\\xe9\\xa9\\xac\\xe6\\x99\\x93\\xe5\\xa4\\xa9\\xe5\\x87\\xba\\xe5\\xb8\\xad\\xe5\\xa4\\xa7\\xe4\\xbc\\x9a\\xe5\\x9b\\x9b\\xe6\\x80\\xbb\\xe9\\x83\\xa8\\xe9\\xa9\\xbb\\xe4\\xba\\xac\\xe5\\x90\\x84\\xe5\\xa4\\xa7\\xe5\\x8d\\x95\\xe4\\xbd\\x8d\\xe5\\x92\\x8c\\xe5\\x86\\x9b\\xe5\\xa7\\x94\\xe5\\x8a\\x9e\\xe5\\x85\\xac\\xe5\\x8e\\x85\\xe9\\xa2\\x86\\xe5\\xaf\\xbc\\xe5\\x8f\\x82\\xe5\\x8a\\xa0\\xe5\\xa4\\xa7\\xe4\\xbc\\x9a'>)"
      ]
     },
     "execution_count": 13,
     "metadata": {},
     "output_type": "execute_result"
    }
   ],
   "source": [
    "# Utiliser tf.data.Dataset\n",
    "tf_dataset = tf.data.Dataset.from_tensor_slices((input_t9_sequences, target_char_sequences)).prefetch(tf.data.AUTOTUNE)\n",
    "tf_dataset.take(1).get_single_element()"
   ]
  },
  {
   "cell_type": "markdown",
   "id": "d6434642",
   "metadata": {},
   "source": [
    "## Encoder les données pour Keras"
   ]
  },
  {
   "cell_type": "code",
   "execution_count": null,
   "id": "02e326d9",
   "metadata": {},
   "outputs": [
    {
     "name": "stderr",
     "output_type": "stream",
     "text": [
      "2025-04-10 23:20:10.388463: I tensorflow/core/framework/local_rendezvous.cc:407] Local rendezvous is aborting with status: OUT_OF_RANGE: End of sequence\n",
      "2025-04-10 23:20:30.618885: I tensorflow/core/framework/local_rendezvous.cc:407] Local rendezvous is aborting with status: OUT_OF_RANGE: End of sequence\n"
     ]
    }
   ],
   "source": [
    "# TextVectorization\n",
    "input_tv = keras.layers.TextVectorization(output_mode='int',\n",
    "                                          split='whitespace',\n",
    "                                          standardize=None,\n",
    "                                          ragged=True,)\n",
    "\n",
    "target_tv = keras.layers.TextVectorization(output_mode='int',\n",
    "                                           split='character',\n",
    "                                           standardize=None,\n",
    "                                           ragged=True,)\n",
    "t9_ds = tf_dataset.map(lambda t9, target: t9)\n",
    "target_ds = tf_dataset.map(lambda t9, target: target)\n",
    "input_tv.adapt(t9_ds)\n",
    "target_tv.adapt(target_ds)"
   ]
  },
  {
   "cell_type": "code",
   "execution_count": 16,
   "id": "68d856e2",
   "metadata": {},
   "outputs": [],
   "source": [
    "@tf.function\n",
    "def transform_ds(t9, target):\n",
    "    vectorized_t9 = input_tv(t9)\n",
    "    vectorized_target = target_tv(target)\n",
    "    return (vectorized_t9, vectorized_target)\n",
    "\n",
    "transformed_tf_dataset = tf_dataset.map(transform_ds, num_parallel_calls=20)"
   ]
  },
  {
   "cell_type": "code",
   "execution_count": 18,
   "id": "91e0aee9",
   "metadata": {},
   "outputs": [
    {
     "data": {
      "text/plain": [
       "(<tf.Tensor: shape=(3, 1293), dtype=int64, numpy=\n",
       " array([[10,  7, 30, ..., 41,  9, 20],\n",
       "        [23, 10, 50, ...,  0,  0,  0],\n",
       "        [43, 10, 19, ...,  0,  0,  0]])>,\n",
       " <tf.Tensor: shape=(3, 1293), dtype=int64, numpy=\n",
       " array([[  4,   3,   8, ...,  47,   9,  10],\n",
       "        [ 53,   4,  84, ...,   0,   0,   0],\n",
       "        [339,   4,  48, ...,   0,   0,   0]])>)"
      ]
     },
     "execution_count": 18,
     "metadata": {},
     "output_type": "execute_result"
    }
   ],
   "source": [
    "transformed_tf_dataset.padded_batch(3).take(1).get_single_element()"
   ]
  },
  {
   "cell_type": "markdown",
   "id": "cf779c5f",
   "metadata": {},
   "source": [
    "## Split train-valid-test"
   ]
  },
  {
   "cell_type": "code",
   "execution_count": 25,
   "id": "ec477403",
   "metadata": {},
   "outputs": [
    {
     "name": "stdout",
     "output_type": "stream",
     "text": [
      "Taille du train : 16590\n",
      "Taille du validation : 2075\n",
      "Taille du test : 2073\n"
     ]
    }
   ],
   "source": [
    "c = transformed_tf_dataset.reduce(0, lambda x,_:x+1).numpy()\n",
    "\n",
    "shuffled_ds = transformed_tf_dataset.shuffle(buffer_size=c, seed=42)\n",
    "\n",
    "train_size = c * 80 // 100\n",
    "test_size = c * 10 // 100\n",
    "val_size = c - train_size - test_size\n",
    "\n",
    "ds_train = shuffled_ds.take(train_size).prefetch(tf.data.AUTOTUNE)\n",
    "ds_val = shuffled_ds.skip(train_size).take(val_size).prefetch(tf.data.AUTOTUNE)\n",
    "ds_test = shuffled_ds.skip(train_size+val_size).take(test_size).prefetch(tf.data.AUTOTUNE)\n",
    "\n",
    "print(\"Taille du train :\", ds_train.cardinality().numpy())\n",
    "print(\"Taille du validation :\", ds_val.cardinality().numpy())\n",
    "print(\"Taille du test :\", ds_test.cardinality().numpy())"
   ]
  },
  {
   "cell_type": "markdown",
   "id": "870dabbe",
   "metadata": {},
   "source": [
    "# Modèle"
   ]
  },
  {
   "cell_type": "markdown",
   "id": "d38f6c70",
   "metadata": {},
   "source": [
    "Sogou T9 est une méthode d’entrée intelligente qui :\n",
    "\n",
    "- Prend des séquences numériques (ex. : \"94664 486\" pour \"zhong guo\").\n",
    "- Génère des séquences de caractères chinois (ex. : \"中国\").\n",
    "- Utilise le contexte (mots précédents) pour désambiguïser les prédictions.\n",
    "- Est optimisé pour la vitesse et la précision, souvent avec des modèles entraînés sur de vastes corpus.\n",
    "\n",
    "Pour reproduire cela, il faut utiliser un modèle seq2seq avec un encodeur-décodeur (2 entrées) :\n",
    "\n",
    "- Encodeur : Lit la séquence T9 et la compresse en une représentation contextuelle.\n",
    "- Décodeur : Génère la séquence de caractères chinois à partir de cette représentation.\n",
    "\n",
    "[Functional API](https://keras.io/guides/functional_api/)"
   ]
  },
  {
   "cell_type": "code",
   "execution_count": null,
   "id": "e252e198",
   "metadata": {},
   "outputs": [],
   "source": []
  },
  {
   "cell_type": "code",
   "execution_count": null,
   "id": "03663220",
   "metadata": {},
   "outputs": [],
   "source": []
  },
  {
   "cell_type": "markdown",
   "id": "ec78a4e4",
   "metadata": {},
   "source": [
    "# Génération"
   ]
  },
  {
   "cell_type": "code",
   "execution_count": null,
   "id": "007970b2",
   "metadata": {},
   "outputs": [],
   "source": []
  }
 ],
 "metadata": {
  "kernelspec": {
   "display_name": "MAA",
   "language": "python",
   "name": "python3"
  },
  "language_info": {
   "codemirror_mode": {
    "name": "ipython",
    "version": 3
   },
   "file_extension": ".py",
   "mimetype": "text/x-python",
   "name": "python",
   "nbconvert_exporter": "python",
   "pygments_lexer": "ipython3",
   "version": "3.11.11"
  }
 },
 "nbformat": 4,
 "nbformat_minor": 5
}
